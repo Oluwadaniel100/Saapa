{
 "cells": [
  {
   "cell_type": "code",
   "execution_count": 14,
   "id": "5d8109a6-a6d7-4fb7-84bb-91ee5b727727",
   "metadata": {},
   "outputs": [
    {
     "data": {
      "text/plain": [
       "5"
      ]
     },
     "execution_count": 14,
     "metadata": {},
     "output_type": "execute_result"
    }
   ],
   "source": [
    "add = lambda a,b : a+b\n",
    "add(2,3)"
   ]
  },
  {
   "cell_type": "code",
   "execution_count": 16,
   "id": "78d20519-1975-459f-89a5-febbbafc07f0",
   "metadata": {},
   "outputs": [
    {
     "data": {
      "text/plain": [
       "23"
      ]
     },
     "execution_count": 16,
     "metadata": {},
     "output_type": "execute_result"
    }
   ],
   "source": [
    "add(10,13)"
   ]
  },
  {
   "cell_type": "code",
   "execution_count": 24,
   "id": "b515be76-a333-42db-9535-508777b5dd88",
   "metadata": {},
   "outputs": [],
   "source": [
    "add = lambda x : x + 100"
   ]
  },
  {
   "cell_type": "code",
   "execution_count": 26,
   "id": "5ba5ca69-0d05-463e-9652-637671202bdd",
   "metadata": {},
   "outputs": [
    {
     "name": "stdout",
     "output_type": "stream",
     "text": [
      "113\n"
     ]
    }
   ],
   "source": [
    "print(add(13))"
   ]
  },
  {
   "cell_type": "code",
   "execution_count": 34,
   "id": "89adcbaa-741e-4942-8264-1ea97e16531d",
   "metadata": {},
   "outputs": [],
   "source": [
    "square = lambda a : a**2"
   ]
  },
  {
   "cell_type": "code",
   "execution_count": 36,
   "id": "b51bdb9c-1cab-4239-9d96-a7e9d8c551b4",
   "metadata": {},
   "outputs": [
    {
     "data": {
      "text/plain": [
       "16"
      ]
     },
     "execution_count": 36,
     "metadata": {},
     "output_type": "execute_result"
    }
   ],
   "source": [
    "square(4)"
   ]
  },
  {
   "cell_type": "code",
   "execution_count": 44,
   "id": "cc6859b1-9a06-43f6-8972-87b3fd24645b",
   "metadata": {},
   "outputs": [],
   "source": [
    "multiply = lambda a,b,c : a*b*c"
   ]
  },
  {
   "cell_type": "code",
   "execution_count": 48,
   "id": "33445625-1dd5-4524-80ce-53d42b829529",
   "metadata": {},
   "outputs": [
    {
     "data": {
      "text/plain": [
       "120"
      ]
     },
     "execution_count": 48,
     "metadata": {},
     "output_type": "execute_result"
    }
   ],
   "source": [
    "multiply(2,5,12)"
   ]
  },
  {
   "cell_type": "code",
   "execution_count": 50,
   "id": "0bb45a0e-4c2a-49f9-b13a-b9bc51e84503",
   "metadata": {},
   "outputs": [],
   "source": [
    "add = lambda a,b=20,c=35 : a+b+c"
   ]
  },
  {
   "cell_type": "code",
   "execution_count": 58,
   "id": "4950d3f2-1a8f-4321-a3bf-30aa46ebd0cc",
   "metadata": {},
   "outputs": [
    {
     "data": {
      "text/plain": [
       "50"
      ]
     },
     "execution_count": 58,
     "metadata": {},
     "output_type": "execute_result"
    }
   ],
   "source": [
    "add(10,5)"
   ]
  },
  {
   "cell_type": "code",
   "execution_count": 62,
   "id": "23a438cc-5244-4d86-8831-8b8cf0d52a85",
   "metadata": {},
   "outputs": [],
   "source": [
    "addition = lambda *args : sum(args)"
   ]
  },
  {
   "cell_type": "code",
   "execution_count": 64,
   "id": "4b33e78d-80f4-4bf8-8aee-ac0cac9376c0",
   "metadata": {},
   "outputs": [
    {
     "data": {
      "text/plain": [
       "178"
      ]
     },
     "execution_count": 64,
     "metadata": {},
     "output_type": "execute_result"
    }
   ],
   "source": [
    "addition(12,34,65,34,33)"
   ]
  },
  {
   "cell_type": "code",
   "execution_count": 74,
   "id": "1d878436-1fc8-4950-b1af-f5274c45f0b1",
   "metadata": {},
   "outputs": [
    {
     "data": {
      "text/plain": [
       "6"
      ]
     },
     "execution_count": 74,
     "metadata": {},
     "output_type": "execute_result"
    }
   ],
   "source": [
    "higher_funct = lambda x, funct : x + funct(x)\n",
    "higher_funct(2, lambda x: x*x)"
   ]
  },
  {
   "cell_type": "code",
   "execution_count": 113,
   "id": "9fdbe405-bdfc-4dd2-a2b0-993f2f0993fe",
   "metadata": {},
   "outputs": [],
   "source": [
    "odd_even = (lambda x : (x % 2 and 'odd' or 'even'))"
   ]
  },
  {
   "cell_type": "code",
   "execution_count": 117,
   "id": "df837cae-d523-4f74-9233-6ef78aa9a420",
   "metadata": {},
   "outputs": [
    {
     "data": {
      "text/plain": [
       "'even'"
      ]
     },
     "execution_count": 117,
     "metadata": {},
     "output_type": "execute_result"
    }
   ],
   "source": [
    "odd_even(2)"
   ]
  },
  {
   "cell_type": "code",
   "execution_count": 125,
   "id": "a31f749c-9707-4087-992f-52c7980b61e0",
   "metadata": {},
   "outputs": [],
   "source": [
    "sub_string = lambda string : string in 'Welcome to Python functions tutorial'"
   ]
  },
  {
   "cell_type": "code",
   "execution_count": 127,
   "id": "c0e831a4-3793-44d8-98cc-4b1a9673b729",
   "metadata": {},
   "outputs": [
    {
     "name": "stdout",
     "output_type": "stream",
     "text": [
      "False\n"
     ]
    }
   ],
   "source": [
    "print(sub_string('python'))"
   ]
  },
  {
   "cell_type": "code",
   "execution_count": 129,
   "id": "dc40eade-9d62-4976-bf26-358069aa8eb6",
   "metadata": {},
   "outputs": [
    {
     "name": "stdout",
     "output_type": "stream",
     "text": [
      "True\n"
     ]
    }
   ],
   "source": [
    "print(sub_string('Python'))"
   ]
  },
  {
   "cell_type": "code",
   "execution_count": 170,
   "id": "6e1c8446-65fb-46cf-ad88-1fae2bcf98ba",
   "metadata": {},
   "outputs": [],
   "source": [
    "num = [10,33,43,40,23,12,8,88]\n",
    "greater = list(filter(lambda num: num>30,num))"
   ]
  },
  {
   "cell_type": "code",
   "execution_count": 172,
   "id": "99a317b4-a6db-468f-ba30-a5711fdfd2f5",
   "metadata": {},
   "outputs": [
    {
     "name": "stdout",
     "output_type": "stream",
     "text": [
      "[33, 43, 40, 88]\n"
     ]
    }
   ],
   "source": [
    "print(greater)"
   ]
  },
  {
   "cell_type": "code",
   "execution_count": 158,
   "id": "9ef9b6d6-8bf8-437f-9946-81f2a083444d",
   "metadata": {},
   "outputs": [],
   "source": [
    "numb = [10,33,43,40,23,12,88,8]\n",
    "lesser = list(filter(lambda numb: numb<30,num))"
   ]
  },
  {
   "cell_type": "code",
   "execution_count": 204,
   "id": "3a575b3f-0fa1-4687-b15b-fc14bc0aa277",
   "metadata": {},
   "outputs": [
    {
     "name": "stdout",
     "output_type": "stream",
     "text": [
      "[10, 23, 12, 8]\n"
     ]
    }
   ],
   "source": [
    "print(lesser)"
   ]
  },
  {
   "cell_type": "code",
   "execution_count": 198,
   "id": "89e17ca9-bffe-4eb3-a72e-cf73d1e3414e",
   "metadata": {},
   "outputs": [],
   "source": [
    "list1 = [10,33,43,40,23,12,8,88]\n",
    "divide = list(filter(lambda x : (x%4==0), list1))"
   ]
  },
  {
   "cell_type": "code",
   "execution_count": 200,
   "id": "fcf151bf-67e1-4268-8592-37c678c457a7",
   "metadata": {},
   "outputs": [
    {
     "name": "stdout",
     "output_type": "stream",
     "text": [
      "[40, 12, 8, 88]\n"
     ]
    }
   ],
   "source": [
    "print(divide)"
   ]
  },
  {
   "cell_type": "code",
   "execution_count": null,
   "id": "3edf4100-e1a9-4932-b724-5cfc4cbd815d",
   "metadata": {},
   "outputs": [],
   "source": []
  }
 ],
 "metadata": {
  "kernelspec": {
   "display_name": "Python 3 (ipykernel)",
   "language": "python",
   "name": "python3"
  },
  "language_info": {
   "codemirror_mode": {
    "name": "ipython",
    "version": 3
   },
   "file_extension": ".py",
   "mimetype": "text/x-python",
   "name": "python",
   "nbconvert_exporter": "python",
   "pygments_lexer": "ipython3",
   "version": "3.12.4"
  }
 },
 "nbformat": 4,
 "nbformat_minor": 5
}
