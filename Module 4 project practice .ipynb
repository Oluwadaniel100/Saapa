{
 "cells": [
  {
   "cell_type": "code",
   "execution_count": null,
   "id": "4be38fb0-627f-4567-90c8-62644c4df18f",
   "metadata": {},
   "outputs": [],
   "source": [
    "def display_board(board):\n",
    "    # The function accepts one parameter containing the board's current status\n",
    "    # and prints it out to the console.\n",
    "\n",
    "\n",
    "def enter_move(board):\n",
    "    # The function accepts the board's current status, asks the user about their move, \n",
    "    # checks the input, and updates the board according to the user's decision.\n",
    "\n",
    "\n",
    "def make_list_of_free_fields(board):\n",
    "    # The function browses the board and builds a list of all the free squares; \n",
    "    # the list consists of tuples, while each tuple is a pair of row and column numbers.\n",
    "\n",
    "\n",
    "def victory_for(board, sign):\n",
    "    # The function analyzes the board's status in order to check if \n",
    "    # the player using 'O's or 'X's has won the game\n",
    "\n",
    "\n",
    "def draw_move(board):\n",
    "    # The function draws the computer's move and updates the board."
   ]
  },
  {
   "cell_type": "code",
   "execution_count": null,
   "id": "ac917df8-7ca4-40fd-9362-0c76c56db381",
   "metadata": {},
   "outputs": [],
   "source": [
    "def display_board(board):\n",
    "    board = []"
   ]
  },
  {
   "cell_type": "code",
   "execution_count": 9,
   "id": "69dde150-0ba5-4a9a-b018-a2ed7463ad9c",
   "metadata": {},
   "outputs": [
    {
     "name": "stdout",
     "output_type": "stream",
     "text": [
      "+-------+\n",
      "|       |\n",
      "|       |\n",
      "|       |\n",
      "+-------+\n"
     ]
    }
   ],
   "source": [
    "print(\"+\" + 7 * \"-\" + \"+\")\n",
    "print((\"|\" + \" \" * 7 + \"|\\n\")*3, end= \"\")\n",
    "print(\"+\" + 7 * \"-\" + \"+\")"
   ]
  },
  {
   "cell_type": "code",
   "execution_count": 65,
   "id": "8efc5e5a-1e55-4bac-86d9-97cce7e027c1",
   "metadata": {},
   "outputs": [
    {
     "name": "stdout",
     "output_type": "stream",
     "text": [
      "+-------+-------+-------+\n",
      "|       |       |       |\n",
      "|   1   |   2   |   3   |\n",
      "|       |       |       |\n",
      "+-------+-------+-------+\n",
      "|       |       |       |\n",
      "|   4   |   5   |   6   |\n",
      "|       |       |       |\n",
      "+-------+-------+-------+\n",
      "|       |       |       |\n",
      "|   7   |   8   |   9   |\n",
      "|       |       |       |\n",
      "+-------+-------+-------+\n"
     ]
    }
   ],
   "source": [
    "def display_board(board):\n",
    "    print(\"+-------+-------+-------+\")\n",
    "    print(\"|       \"*3 + \"|\")\n",
    "    print(f\"|   {board[0][0]}   |   {board[0][1]}   |   {board[0][2]}   |\")\n",
    "    print(\"|       \"*3 + \"|\")\n",
    "    print(\"+-------+-------+-------+\")\n",
    "    print(\"|       \"*3 + \"|\")\n",
    "    print(f\"|   {board[1][0]}   |   {board[1][1]}   |   {board[1][2]}   |\")\n",
    "    print(\"|       \"*3 + \"|\")\n",
    "    print(\"+-------+-------+-------+\")\n",
    "    print(\"|       \"*3 + \"|\")\n",
    "    print(f\"|   {board[2][0]}   |   {board[2][1]}   |   {board[2][2]}   |\")\n",
    "    print(\"|       \"*3 + \"|\")\n",
    "    print(\"+-------+-------+-------+\")\n",
    "my_board = [[1,2,3], [4,5,6], [7,8,9]]\n",
    "display_board(my_board)"
   ]
  },
  {
   "cell_type": "code",
   "execution_count": 67,
   "id": "6714a752-5fa5-4481-b191-25c8aac0c3c9",
   "metadata": {},
   "outputs": [
    {
     "name": "stdout",
     "output_type": "stream",
     "text": [
      "+-------+-------+-------+\n",
      "|       |       |       |\n",
      "|   0   |   1   |   2   |\n",
      "|       |       |       |\n",
      "+-------+-------+-------+\n",
      "|       |       |       |\n",
      "|   3   |   4   |   5   |\n",
      "|       |       |       |\n",
      "+-------+-------+-------+\n",
      "|       |       |       |\n",
      "|   6   |   7   |   8   |\n",
      "|       |       |       |\n",
      "+-------+-------+-------+\n"
     ]
    }
   ],
   "source": [
    "loc_board = [[0,1,2], [3,4,5], [6,7,8]]\n",
    "display_board(loc_board)"
   ]
  },
  {
   "cell_type": "code",
   "execution_count": 35,
   "id": "2fd68de2-6dce-439f-8b76-4d04796aec56",
   "metadata": {},
   "outputs": [],
   "source": [
    "def display_board(board):\n",
    "    print((\"+\" + \"-\"*7)*3 + \"+\")\n",
    "    print((\"|\" + \" \" * 7)*4)\n",
    "    print((\"|\" + \" \" * 7)*4)\n",
    "    print((\"|\" + \" \" * 7)*4)\n",
    "    print((\"+\" + \"-\"*7)*3 + \"+\")\n",
    "    print((\"|\" + \" \" * 7)*4)\n",
    "    print((\"|\" + \" \" * 7)*4)\n",
    "    print((\"|\" + \" \" * 7)*4)\n",
    "    print((\"+\" + \"-\"*7)*3 + \"+\")\n",
    "    print((\"|\" + \" \" * 7)*4)\n",
    "    print((\"|\" + \" \" * 7)*4)\n",
    "    print((\"|\" + \" \" * 7)*4)\n",
    "    print((\"+\" + \"-\"*7)*3 + \"+\")\n",
    "\n",
    "loc_board = [[0,1,2], [3,4,5], [6,7,8]]"
   ]
  },
  {
   "cell_type": "code",
   "execution_count": 37,
   "id": "3d2e9fd1-38e6-45d8-92aa-19f26c9064ef",
   "metadata": {},
   "outputs": [
    {
     "name": "stdout",
     "output_type": "stream",
     "text": [
      "+-------+-------+-------+\n",
      "|       |       |       |       \n",
      "|       |       |       |       \n",
      "|       |       |       |       \n",
      "+-------+-------+-------+\n",
      "|       |       |       |       \n",
      "|       |       |       |       \n",
      "|       |       |       |       \n",
      "+-------+-------+-------+\n",
      "|       |       |       |       \n",
      "|       |       |       |       \n",
      "|       |       |       |       \n",
      "+-------+-------+-------+\n"
     ]
    }
   ],
   "source": [
    "display_board(loc_board)"
   ]
  },
  {
   "cell_type": "code",
   "execution_count": null,
   "id": "85ba2195-336e-4d8f-93cb-5ca63c6ba3a7",
   "metadata": {},
   "outputs": [],
   "source": []
  },
  {
   "cell_type": "code",
   "execution_count": null,
   "id": "9d60e94e-6bb8-4b20-93f0-9eb11dc4e40c",
   "metadata": {},
   "outputs": [],
   "source": []
  },
  {
   "cell_type": "code",
   "execution_count": 119,
   "id": "bf420e5f-468c-49be-9f0b-4e6bbe956789",
   "metadata": {},
   "outputs": [
    {
     "name": "stdout",
     "output_type": "stream",
     "text": [
      "+-------+-------+-------+\n",
      "|       |       |       |\n",
      "|   1   |   2   |   3   |\n",
      "|       |       |       |\n",
      "+-------+-------+-------+\n",
      "|       |       |       |\n",
      "|   4   |   5   |   6   |\n",
      "|       |       |       |\n",
      "+-------+-------+-------+\n",
      "|       |       |       |\n",
      "|   7   |   8   |   9   |\n",
      "|       |       |       |\n",
      "+-------+-------+-------+\n"
     ]
    }
   ],
   "source": [
    "def display_board(board):\n",
    "\tprint(\"+-------\" * 3,\"+\", sep=\"\")\n",
    "\tfor row in range(3):\n",
    "\t\tprint(\"|       \" * 3,\"|\", sep=\"\")\n",
    "\t\tfor col in range(3):\n",
    "\t\t\tprint(\"|   \" + str(board[row][col]) + \"   \", end=\"\")\n",
    "\t\tprint(\"|\")\n",
    "\t\tprint(\"|       \" * 3,\"|\",sep=\"\")\n",
    "\t\tprint(\"+-------\" * 3,\"+\",sep=\"\")\n",
    "my_board = [[1,2,3], [4,5,6], [7,8,9]]\n",
    "display_board(my_board)"
   ]
  },
  {
   "cell_type": "code",
   "execution_count": null,
   "id": "e4356db0-cc9e-4424-ae81-3c8771043e0d",
   "metadata": {},
   "outputs": [],
   "source": [
    "my_board = [[1,2,3], [4,5,6], [7,8,9]]\n",
    "display_board(my_board)\n"
   ]
  },
  {
   "cell_type": "code",
   "execution_count": null,
   "id": "370756a7-ced0-44af-95cb-55552de5d59b",
   "metadata": {},
   "outputs": [],
   "source": [
    "my_board[0][2]"
   ]
  },
  {
   "cell_type": "code",
   "execution_count": null,
   "id": "98f0f379-fd97-416e-bef4-70c444ddd553",
   "metadata": {},
   "outputs": [],
   "source": [
    "for row in range(3):\n",
    "    print(\"|       \" * 3,\"|\", sep=\"\")"
   ]
  },
  {
   "cell_type": "code",
   "execution_count": 1,
   "id": "99d8a6f2-6926-48e1-b866-eddf4369a57a",
   "metadata": {},
   "outputs": [
    {
     "name": "stdout",
     "output_type": "stream",
     "text": [
      "+-------+-------+-------+\n",
      "|       |       |       |\n",
      "|   1   |   2   |   3   |\n",
      "|       |       |       |\n",
      "+-------+-------+-------+\n",
      "|       |       |       |\n",
      "|   4   |   X   |   6   |\n",
      "|       |       |       |\n",
      "+-------+-------+-------+\n",
      "|       |       |       |\n",
      "|   7   |   8   |   9   |\n",
      "|       |       |       |\n",
      "+-------+-------+-------+\n"
     ]
    }
   ],
   "source": [
    "def display_board(board):\n",
    "\tprint(\"+-------\" * 3,\"+\", sep=\"\")\n",
    "\tfor row in range(3):\n",
    "\t\tprint(\"|       \" * 3,\"|\", sep=\"\")\n",
    "\t\tfor col in range(3):\n",
    "\t\t\tprint(\"|   \" + str(board[row][col]) + \"   \", end=\"\")\n",
    "\t\tprint(\"|\")\n",
    "\t\tprint(\"|       \" * 3,\"|\",sep=\"\")\n",
    "\t\tprint(\"+-------\" * 3,\"+\",sep=\"\")\n",
    "my_board = [[1,2,3], [4,5,6], [7,8,9]]\n",
    "my_board[1][1] = \"X\"\n",
    "display_board(my_board)"
   ]
  },
  {
   "cell_type": "code",
   "execution_count": 3,
   "id": "159b3901-77e4-4a62-925b-0f79a6dfc93d",
   "metadata": {},
   "outputs": [
    {
     "name": "stdout",
     "output_type": "stream",
     "text": [
      "+-------+-------+-------+\n",
      "|       |       |       |\n",
      "|   1   |   2   |   3   |\n",
      "|       |       |       |\n",
      "+-------+-------+-------+\n",
      "|       |       |       |\n",
      "|   4   |   X   |   6   |\n",
      "|       |       |       |\n",
      "+-------+-------+-------+\n",
      "|       |       |       |\n",
      "|   7   |   8   |   9   |\n",
      "|       |       |       |\n",
      "+-------+-------+-------+\n"
     ]
    },
    {
     "name": "stdin",
     "output_type": "stream",
     "text": [
      "Enter your move:  1\n"
     ]
    },
    {
     "name": "stdout",
     "output_type": "stream",
     "text": [
      "+-------+-------+-------+\n",
      "|       |       |       |\n",
      "|   O   |   2   |   3   |\n",
      "|       |       |       |\n",
      "+-------+-------+-------+\n",
      "|       |       |       |\n",
      "|   4   |   X   |   6   |\n",
      "|       |       |       |\n",
      "+-------+-------+-------+\n",
      "|       |       |       |\n",
      "|   7   |   8   |   9   |\n",
      "|       |       |       |\n",
      "+-------+-------+-------+\n",
      "+-------+-------+-------+\n",
      "|       |       |       |\n",
      "|   O   |   2   |   X   |\n",
      "|       |       |       |\n",
      "+-------+-------+-------+\n",
      "|       |       |       |\n",
      "|   4   |   X   |   6   |\n",
      "|       |       |       |\n",
      "+-------+-------+-------+\n",
      "|       |       |       |\n",
      "|   7   |   8   |   9   |\n",
      "|       |       |       |\n",
      "+-------+-------+-------+\n"
     ]
    },
    {
     "name": "stdin",
     "output_type": "stream",
     "text": [
      "Enter your move:  6\n"
     ]
    },
    {
     "name": "stdout",
     "output_type": "stream",
     "text": [
      "+-------+-------+-------+\n",
      "|       |       |       |\n",
      "|   O   |   2   |   X   |\n",
      "|       |       |       |\n",
      "+-------+-------+-------+\n",
      "|       |       |       |\n",
      "|   4   |   X   |   O   |\n",
      "|       |       |       |\n",
      "+-------+-------+-------+\n",
      "|       |       |       |\n",
      "|   7   |   8   |   9   |\n",
      "|       |       |       |\n",
      "+-------+-------+-------+\n",
      "+-------+-------+-------+\n",
      "|       |       |       |\n",
      "|   O   |   2   |   X   |\n",
      "|       |       |       |\n",
      "+-------+-------+-------+\n",
      "|       |       |       |\n",
      "|   4   |   X   |   O   |\n",
      "|       |       |       |\n",
      "+-------+-------+-------+\n",
      "|       |       |       |\n",
      "|   X   |   8   |   9   |\n",
      "|       |       |       |\n",
      "+-------+-------+-------+\n"
     ]
    },
    {
     "name": "stdin",
     "output_type": "stream",
     "text": [
      "Enter your move:  2\n"
     ]
    },
    {
     "name": "stdout",
     "output_type": "stream",
     "text": [
      "+-------+-------+-------+\n",
      "|       |       |       |\n",
      "|   O   |   O   |   X   |\n",
      "|       |       |       |\n",
      "+-------+-------+-------+\n",
      "|       |       |       |\n",
      "|   4   |   X   |   O   |\n",
      "|       |       |       |\n",
      "+-------+-------+-------+\n",
      "|       |       |       |\n",
      "|   X   |   8   |   9   |\n",
      "|       |       |       |\n",
      "+-------+-------+-------+\n",
      "+-------+-------+-------+\n",
      "|       |       |       |\n",
      "|   O   |   O   |   X   |\n",
      "|       |       |       |\n",
      "+-------+-------+-------+\n",
      "|       |       |       |\n",
      "|   4   |   X   |   O   |\n",
      "|       |       |       |\n",
      "+-------+-------+-------+\n",
      "|       |       |       |\n",
      "|   X   |   X   |   9   |\n",
      "|       |       |       |\n",
      "+-------+-------+-------+\n"
     ]
    },
    {
     "name": "stdin",
     "output_type": "stream",
     "text": [
      "Enter your move:  9\n"
     ]
    },
    {
     "name": "stdout",
     "output_type": "stream",
     "text": [
      "+-------+-------+-------+\n",
      "|       |       |       |\n",
      "|   O   |   O   |   X   |\n",
      "|       |       |       |\n",
      "+-------+-------+-------+\n",
      "|       |       |       |\n",
      "|   4   |   X   |   O   |\n",
      "|       |       |       |\n",
      "+-------+-------+-------+\n",
      "|       |       |       |\n",
      "|   X   |   X   |   O   |\n",
      "|       |       |       |\n",
      "+-------+-------+-------+\n",
      "+-------+-------+-------+\n",
      "|       |       |       |\n",
      "|   O   |   O   |   X   |\n",
      "|       |       |       |\n",
      "+-------+-------+-------+\n",
      "|       |       |       |\n",
      "|   X   |   X   |   O   |\n",
      "|       |       |       |\n",
      "+-------+-------+-------+\n",
      "|       |       |       |\n",
      "|   X   |   X   |   O   |\n",
      "|       |       |       |\n",
      "+-------+-------+-------+\n",
      "Tie!\n"
     ]
    }
   ],
   "source": [
    "from random import randrange\n",
    "\n",
    "\n",
    "def display_board(board):\n",
    "\tprint(\"+-------\" * 3,\"+\", sep=\"\")\n",
    "\tfor row in range(3):\n",
    "\t\tprint(\"|       \" * 3,\"|\", sep=\"\")\n",
    "\t\tfor col in range(3):\n",
    "\t\t\tprint(\"|   \" + str(board[row][col]) + \"   \", end=\"\")\n",
    "\t\tprint(\"|\")\n",
    "\t\tprint(\"|       \" * 3,\"|\",sep=\"\")\n",
    "\t\tprint(\"+-------\" * 3,\"+\",sep=\"\")\n",
    "\n",
    "\n",
    "def enter_move(board):\n",
    "\tok = False\t# fake assumption - we need it to enter the loop\n",
    "\twhile not ok:\n",
    "\t\tmove = input(\"Enter your move: \") \n",
    "\t\tok = len(move) == 1 and move >= '1' and move <= '9' # is user's input valid?\n",
    "\t\tif not ok:\n",
    "\t\t\tprint(\"Bad move - repeat your input!\") # no, it isn't - do the input again\n",
    "\t\t\tcontinue\n",
    "\t\tmove = int(move) - 1 \t# cell's number from 0 to 8\n",
    "\t\trow = move // 3 \t# cell's row\n",
    "\t\tcol = move % 3\t\t# cell's column\n",
    "\t\tsign = board[row][col]\t# check the selected square\n",
    "\t\tok = sign not in ['O','X'] \n",
    "\t\tif not ok:\t# it's occupied - to the input again\n",
    "\t\t\tprint(\"Field already occupied - repeat your input!\")\n",
    "\t\t\tcontinue\n",
    "\tboard[row][col] = 'O' \t# set '0' at the selected square\n",
    "\n",
    "\n",
    "def make_list_of_free_fields(board):\n",
    "\tfree = []\t# the list is empty initially\n",
    "\tfor row in range(3): # iterate through rows\n",
    "\t\tfor col in range(3): # iterate through columns\n",
    "\t\t\tif board[row][col] not in ['O','X']: # is the cell free?\n",
    "\t\t\t\tfree.append((row,col)) # yes, it is - append new tuple to the list\n",
    "\treturn free\n",
    "\n",
    "\n",
    "def victory_for(board,sgn):\n",
    "\tif sgn == \"X\":\t# are we looking for X?\n",
    "\t\twho = 'me'\t# yes - it's computer's side\n",
    "\telif sgn == \"O\": # ... or for O?\n",
    "\t\twho = 'you'\t# yes - it's our side\n",
    "\telse:\n",
    "\t\twho = None\t# we should not fall here!\n",
    "\tcross1 = cross2 = True  # for diagonals\n",
    "\tfor rc in range(3):\n",
    "\t\tif board[rc][0] == sgn and board[rc][1] == sgn and board[rc][2] == sgn:\t# check row rc\n",
    "\t\t\treturn who\n",
    "\t\tif board[0][rc] == sgn and board[1][rc] == sgn and board[2][rc] == sgn: # check column rc\n",
    "\t\t\treturn who\n",
    "\t\tif board[rc][rc] != sgn: # check 1st diagonal\n",
    "\t\t\tcross1 = False\n",
    "\t\tif board[2 - rc][2 - rc] != sgn: # check 2nd diagonal\n",
    "\t\t\tcross2 = False\n",
    "\tif cross1 or cross2:\n",
    "\t\treturn who\n",
    "\treturn None\n",
    "\n",
    "\n",
    "def draw_move(board):\n",
    "\tfree = make_list_of_free_fields(board) # make a list of free fields\n",
    "\tcnt = len(free)\n",
    "\tif cnt > 0:\t# if the list is not empty, choose a place for 'X' and set it\n",
    "\t\tthis = randrange(cnt)\n",
    "\t\trow, col = free[this]\n",
    "\t\tboard[row][col] = 'X'\n",
    "\n",
    "\n",
    "board = [ [3 * j + i + 1 for i in range(3)] for j in range(3) ] # make an empty board\n",
    "board[1][1] = 'X' # set first 'X' in the middle\n",
    "free = make_list_of_free_fields(board)\n",
    "human_turn = True # which turn is it now?\n",
    "while len(free):\n",
    "\tdisplay_board(board)\n",
    "\tif human_turn:\n",
    "\t\tenter_move(board)\n",
    "\t\tvictor = victory_for(board,'O')\n",
    "\telse:\t\n",
    "\t\tdraw_move(board)\n",
    "\t\tvictor = victory_for(board,'X')\n",
    "\tif victor != None:\n",
    "\t\tbreak\n",
    "\thuman_turn = not human_turn\t\t\n",
    "\tfree = make_list_of_free_fields(board)\n",
    "\n",
    "display_board(board)\n",
    "if victor == 'you':\n",
    "\tprint(\"You won!\")\n",
    "elif victor == 'me':\n",
    "\tprint(\"I won\")\n",
    "else:\n",
    "\tprint(\"Tie!\")\n"
   ]
  },
  {
   "cell_type": "code",
   "execution_count": 15,
   "id": "6de1d680-4011-4993-9d8d-fbc450feca7d",
   "metadata": {},
   "outputs": [
    {
     "name": "stdout",
     "output_type": "stream",
     "text": [
      "|       |       |       |\n",
      "|   1   |   2   |   3   |       |       |       |\n",
      "|   4   |   5   |   6   |       |       |       |\n",
      "|   7   |   8   |   9   "
     ]
    }
   ],
   "source": [
    "board = [[1,2,3], [4,5,6], [7,8,9]]\n",
    "for row in range(3):\n",
    "    print(\"|       \" * 3,\"|\", sep=\"\")\n",
    "    for col in range(3):\n",
    "        print(\"|   \" + str(board[row][col]) + \"   \", end=\"\")"
   ]
  },
  {
   "cell_type": "code",
   "execution_count": 7,
   "id": "45a4502f-2637-448d-b742-ed266771fa4d",
   "metadata": {},
   "outputs": [
    {
     "name": "stdout",
     "output_type": "stream",
     "text": [
      "|   1   "
     ]
    }
   ],
   "source": [
    " print(\"|   \" + str(1) + \"   \", end=\"\")"
   ]
  },
  {
   "cell_type": "code",
   "execution_count": 20,
   "id": "cbd0ba89-6325-4cd0-a91d-50261335e166",
   "metadata": {},
   "outputs": [],
   "source": [
    "import math"
   ]
  },
  {
   "cell_type": "code",
   "execution_count": 24,
   "id": "266d2cdb-5925-40d1-9b4d-8ad969920d0e",
   "metadata": {},
   "outputs": [
    {
     "data": {
      "text/plain": [
       "3.141592653589793"
      ]
     },
     "execution_count": 24,
     "metadata": {},
     "output_type": "execute_result"
    }
   ],
   "source": [
    "math.pi"
   ]
  },
  {
   "cell_type": "code",
   "execution_count": 26,
   "id": "77788c16-4042-4c24-bbcd-cb66418095c0",
   "metadata": {},
   "outputs": [
    {
     "data": {
      "text/plain": [
       "3.141592653589793"
      ]
     },
     "execution_count": 26,
     "metadata": {},
     "output_type": "execute_result"
    }
   ],
   "source": [
    "from math import pi\n",
    "pi"
   ]
  },
  {
   "cell_type": "code",
   "execution_count": 9,
   "id": "ce9ad4fe-78c5-4efc-81ab-953640e20e25",
   "metadata": {},
   "outputs": [
    {
     "name": "stdin",
     "output_type": "stream",
     "text": [
      "Enter your move:  4\n"
     ]
    }
   ],
   "source": [
    "ok = False\t\n",
    "while not ok:\n",
    "    move = input(\"Enter your move: \")\n",
    "    ok = len(move) == 1 and move >= '1' and move <= '9'\n",
    "    \n",
    "    if not ok:\n",
    "        print(\"Bad move - repeat your input!\")\n",
    "        continue\n",
    "        "
   ]
  },
  {
   "cell_type": "code",
   "execution_count": 19,
   "id": "e2e7b417-95f9-492e-852c-2e623f364db4",
   "metadata": {},
   "outputs": [
    {
     "data": {
      "text/plain": [
       "1"
      ]
     },
     "execution_count": 19,
     "metadata": {},
     "output_type": "execute_result"
    }
   ],
   "source": [
    "1 #(1-1)\n",
    "5//3 #row"
   ]
  },
  {
   "cell_type": "code",
   "execution_count": 21,
   "id": "5c2f3052-30cb-4f7e-9f29-5ce441924827",
   "metadata": {},
   "outputs": [
    {
     "data": {
      "text/plain": [
       "2"
      ]
     },
     "execution_count": 21,
     "metadata": {},
     "output_type": "execute_result"
    }
   ],
   "source": [
    "5%3"
   ]
  },
  {
   "cell_type": "code",
   "execution_count": 17,
   "id": "3801b088-1931-4b53-8895-ec6d24b4afde",
   "metadata": {},
   "outputs": [
    {
     "data": {
      "text/plain": [
       "7"
      ]
     },
     "execution_count": 17,
     "metadata": {},
     "output_type": "execute_result"
    }
   ],
   "source": [
    "board[2][0]"
   ]
  },
  {
   "cell_type": "code",
   "execution_count": 27,
   "id": "a26101d3-6a24-413e-8c84-c8aed5ccd95d",
   "metadata": {},
   "outputs": [
    {
     "name": "stdout",
     "output_type": "stream",
     "text": [
      "3\n",
      "2\n",
      "3\n",
      "2\n",
      "3\n"
     ]
    }
   ],
   "source": [
    "from random import randrange\n",
    "for i in range(5):\n",
    "    print(randrange(4))"
   ]
  },
  {
   "cell_type": "code",
   "execution_count": 29,
   "id": "9369cd14-3619-4c3f-bf05-7e38cb414d90",
   "metadata": {},
   "outputs": [
    {
     "name": "stdout",
     "output_type": "stream",
     "text": [
      " | | \n",
      "-----\n",
      " | | \n",
      "-----\n",
      " | | \n",
      "-----\n"
     ]
    }
   ],
   "source": [
    "def print_board(board):\n",
    "    for row in board:\n",
    "        print(\"|\".join(row))\n",
    "        print(\"-\" * 5)\n",
    "\n",
    "board = [[\" \" for _ in range(3)] for _ in range(3)]\n",
    "print_board(board)"
   ]
  },
  {
   "cell_type": "code",
   "execution_count": 7,
   "id": "fd11d105-7009-40b9-a98d-2a73f5002368",
   "metadata": {},
   "outputs": [],
   "source": [
    "def print_board(board):\n",
    "    for row in board:\n",
    "        print(\" | \".join(row))\n",
    "        print(\"-\" * 5)\n",
    "\n",
    "def check_winner(board, mark):\n",
    "    # Check rows\n",
    "    for row in board:\n",
    "        if all(cell == mark for cell in row):\n",
    "            return True\n",
    "\n",
    "    # Check columns\n",
    "    for col in range(3):\n",
    "        if all(board[row][col] == mark for row in range(3)):\n",
    "            return True\n",
    "\n",
    "    # Check diagonals\n",
    "    if all(board[i][i] == mark for i in range(3)):\n",
    "        return True\n",
    "    if all(board[i][2 - i] == mark for i in range(3)):\n",
    "        return True\n",
    "\n",
    "    return False\n",
    "\n",
    "def check_draw(board):\n",
    "    return all(cell in ['X', 'O'] for row in board for cell in row)\n",
    "\n",
    "def make_move(board, row, col, mark):\n",
    "    if board[row][col] == ' ':\n",
    "        board[row][col] = mark\n",
    "        return True\n",
    "    return False\n",
    "\n",
    "def main():\n",
    "    board = [[' ' for _ in range(3)] for _ in range(3)]\n",
    "    current_player = 'X'\n",
    "\n",
    "    while True:\n",
    "        print_board(board)\n",
    "        print(f\"Player {current_player}'s turn\")\n",
    "        \n",
    "        try:\n",
    "            row = int(input(\"Enter row (0, 1, 2): \"))\n",
    "            col = int(input(\"Enter column (0, 1, 2): \"))\n",
    "        except ValueError:\n",
    "            print(\"Invalid input. Please enter numbers between 0 and 2.\")\n",
    "            continue\n",
    "        \n",
    "        if not (0 <= row <= 2 and 0 <= col <= 2):\n",
    "            print(\"Invalid move. Row and column must be between 0 and 2.\")\n",
    "            continue\n",
    "        \n",
    "        if make_move(board, row, col, current_player):\n",
    "            if check_winner(board, current_player):\n",
    "                print_board(board)\n",
    "                print(f\"Player {current_player} wins!\")\n",
    "                break\n",
    "            elif check_draw(board):\n",
    "                print_board(board)\n",
    "                print(\"It's a draw!\")\n",
    "                break\n",
    "            else:\n",
    "                current_player = 'O' if current_player == 'X' else 'X'\n",
    "        else:\n",
    "            print(\"Invalid move. Cell is already taken.\")"
   ]
  },
  {
   "cell_type": "code",
   "execution_count": 15,
   "id": "c730f1c3-ac55-4b4d-a851-f4bb062ffb3c",
   "metadata": {},
   "outputs": [
    {
     "ename": "NameError",
     "evalue": "name 'board' is not defined",
     "output_type": "error",
     "traceback": [
      "\u001b[1;31m---------------------------------------------------------------------------\u001b[0m",
      "\u001b[1;31mNameError\u001b[0m                                 Traceback (most recent call last)",
      "Cell \u001b[1;32mIn[15], line 5\u001b[0m\n\u001b[0;32m      3\u001b[0m         \u001b[38;5;28mprint\u001b[39m(\u001b[38;5;124m\"\u001b[39m\u001b[38;5;124m | \u001b[39m\u001b[38;5;124m\"\u001b[39m\u001b[38;5;241m.\u001b[39mjoin(row))\n\u001b[0;32m      4\u001b[0m         \u001b[38;5;28mprint\u001b[39m(\u001b[38;5;124m\"\u001b[39m\u001b[38;5;124m-\u001b[39m\u001b[38;5;124m\"\u001b[39m \u001b[38;5;241m*\u001b[39m \u001b[38;5;241m5\u001b[39m)\n\u001b[1;32m----> 5\u001b[0m print_board()\n",
      "Cell \u001b[1;32mIn[15], line 2\u001b[0m, in \u001b[0;36mprint_board\u001b[1;34m()\u001b[0m\n\u001b[0;32m      1\u001b[0m \u001b[38;5;28;01mdef\u001b[39;00m \u001b[38;5;21mprint_board\u001b[39m():\n\u001b[1;32m----> 2\u001b[0m     \u001b[38;5;28;01mfor\u001b[39;00m row \u001b[38;5;129;01min\u001b[39;00m board:\n\u001b[0;32m      3\u001b[0m         \u001b[38;5;28mprint\u001b[39m(\u001b[38;5;124m\"\u001b[39m\u001b[38;5;124m | \u001b[39m\u001b[38;5;124m\"\u001b[39m\u001b[38;5;241m.\u001b[39mjoin(row))\n\u001b[0;32m      4\u001b[0m         \u001b[38;5;28mprint\u001b[39m(\u001b[38;5;124m\"\u001b[39m\u001b[38;5;124m-\u001b[39m\u001b[38;5;124m\"\u001b[39m \u001b[38;5;241m*\u001b[39m \u001b[38;5;241m5\u001b[39m)\n",
      "\u001b[1;31mNameError\u001b[0m: name 'board' is not defined"
     ]
    }
   ],
   "source": [
    "def print_board():\n",
    "    for row in board:\n",
    "        print(\" | \".join(row))\n"
   ]
  },
  {
   "cell_type": "code",
   "execution_count": 25,
   "id": "b7525579-1a29-4e54-901e-98daef87f240",
   "metadata": {},
   "outputs": [
    {
     "name": "stdout",
     "output_type": "stream",
     "text": [
      "Help on built-in function all in module builtins:\n",
      "\n",
      "all(iterable, /)\n",
      "    Return True if bool(x) is True for all values x in the iterable.\n",
      "\n",
      "    If the iterable is empty, return True.\n",
      "\n"
     ]
    }
   ],
   "source": [
    "help(all)"
   ]
  },
  {
   "cell_type": "code",
   "execution_count": null,
   "id": "2dfaaeb3-e7c2-42de-8eb1-395d543edf84",
   "metadata": {},
   "outputs": [],
   "source": []
  },
  {
   "cell_type": "code",
   "execution_count": 13,
   "id": "376ebeb1-a66b-4c1b-abff-7888f7e963e3",
   "metadata": {},
   "outputs": [
    {
     "name": "stdout",
     "output_type": "stream",
     "text": [
      "+-------+-------+-------+\n",
      "|       |       |       |\n",
      "|   1   |   2   |   3   |\n",
      "|       |       |       |\n",
      "+-------+-------+-------+\n",
      "|       |       |       |\n",
      "|   4   |   5   |   6   |\n",
      "|       |       |       |\n",
      "+-------+-------+-------+\n",
      "|       |       |       |\n",
      "|   7   |   8   |   9   |\n",
      "|       |       |       |\n",
      "+-------+-------+-------+\n",
      "+-------+-------+-------+\n",
      "|       |       |       |\n"
     ]
    },
    {
     "ename": "TypeError",
     "evalue": "'int' object is not subscriptable",
     "output_type": "error",
     "traceback": [
      "\u001b[1;31m---------------------------------------------------------------------------\u001b[0m",
      "\u001b[1;31mTypeError\u001b[0m                                 Traceback (most recent call last)",
      "Cell \u001b[1;32mIn[13], line 36\u001b[0m\n\u001b[0;32m     34\u001b[0m             \u001b[38;5;28;01mcontinue\u001b[39;00m\n\u001b[0;32m     35\u001b[0m board \u001b[38;5;241m=\u001b[39m [\u001b[38;5;241m0\u001b[39m][\u001b[38;5;241m0\u001b[39m]\n\u001b[1;32m---> 36\u001b[0m display_board(board)\n",
      "Cell \u001b[1;32mIn[13], line 4\u001b[0m, in \u001b[0;36mdisplay_board\u001b[1;34m(board)\u001b[0m\n\u001b[0;32m      2\u001b[0m \u001b[38;5;28mprint\u001b[39m(\u001b[38;5;124m\"\u001b[39m\u001b[38;5;124m+-------+-------+-------+\u001b[39m\u001b[38;5;124m\"\u001b[39m)\n\u001b[0;32m      3\u001b[0m \u001b[38;5;28mprint\u001b[39m(\u001b[38;5;124m\"\u001b[39m\u001b[38;5;124m|       \u001b[39m\u001b[38;5;124m\"\u001b[39m\u001b[38;5;241m*\u001b[39m\u001b[38;5;241m3\u001b[39m \u001b[38;5;241m+\u001b[39m \u001b[38;5;124m\"\u001b[39m\u001b[38;5;124m|\u001b[39m\u001b[38;5;124m\"\u001b[39m)\n\u001b[1;32m----> 4\u001b[0m \u001b[38;5;28mprint\u001b[39m(\u001b[38;5;124mf\u001b[39m\u001b[38;5;124m\"\u001b[39m\u001b[38;5;124m|   \u001b[39m\u001b[38;5;132;01m{\u001b[39;00mboard[\u001b[38;5;241m0\u001b[39m][\u001b[38;5;241m0\u001b[39m]\u001b[38;5;132;01m}\u001b[39;00m\u001b[38;5;124m   |   \u001b[39m\u001b[38;5;132;01m{\u001b[39;00mboard[\u001b[38;5;241m0\u001b[39m][\u001b[38;5;241m1\u001b[39m]\u001b[38;5;132;01m}\u001b[39;00m\u001b[38;5;124m   |   \u001b[39m\u001b[38;5;132;01m{\u001b[39;00mboard[\u001b[38;5;241m0\u001b[39m][\u001b[38;5;241m2\u001b[39m]\u001b[38;5;132;01m}\u001b[39;00m\u001b[38;5;124m   |\u001b[39m\u001b[38;5;124m\"\u001b[39m)\n\u001b[0;32m      5\u001b[0m \u001b[38;5;28mprint\u001b[39m(\u001b[38;5;124m\"\u001b[39m\u001b[38;5;124m|       \u001b[39m\u001b[38;5;124m\"\u001b[39m\u001b[38;5;241m*\u001b[39m\u001b[38;5;241m3\u001b[39m \u001b[38;5;241m+\u001b[39m \u001b[38;5;124m\"\u001b[39m\u001b[38;5;124m|\u001b[39m\u001b[38;5;124m\"\u001b[39m)\n\u001b[0;32m      6\u001b[0m \u001b[38;5;28mprint\u001b[39m(\u001b[38;5;124m\"\u001b[39m\u001b[38;5;124m+-------+-------+-------+\u001b[39m\u001b[38;5;124m\"\u001b[39m)\n",
      "\u001b[1;31mTypeError\u001b[0m: 'int' object is not subscriptable"
     ]
    }
   ],
   "source": [
    "def display_board(board):\n",
    "    print(\"+-------+-------+-------+\")\n",
    "    print(\"|       \"*3 + \"|\")\n",
    "    print(f\"|   {board[0][0]}   |   {board[0][1]}   |   {board[0][2]}   |\")\n",
    "    print(\"|       \"*3 + \"|\")\n",
    "    print(\"+-------+-------+-------+\")\n",
    "    print(\"|       \"*3 + \"|\")\n",
    "    print(f\"|   {board[1][0]}   |   {board[1][1]}   |   {board[1][2]}   |\")\n",
    "    print(\"|       \"*3 + \"|\")\n",
    "    print(\"+-------+-------+-------+\")\n",
    "    print(\"|       \"*3 + \"|\")\n",
    "    print(f\"|   {board[2][0]}   |   {board[2][1]}   |   {board[2][2]}   |\")\n",
    "    print(\"|       \"*3 + \"|\")\n",
    "    print(\"+-------+-------+-------+\")\n",
    "\n",
    "my_board = [[1,2,3], [4,5,6], [7,8,9]]\n",
    "display_board(my_board)\n",
    "\n",
    "def player_input(board):\n",
    "    while True:\n",
    "        try:\n",
    "            playermove = int(input(\"Enter a move between 1-9: \"))\n",
    "            for i in row:\n",
    "                for j in col:\n",
    "                    if playermove >= 1 and playermove <= 9 and board[i][j] in ['X', 'O']:\n",
    "                        return True\n",
    "                    else:\n",
    "                        print(\"Enter another number\")\n",
    "                        continue\n",
    "        except:\n",
    "            print(\"Invalid input..Enter another number\")\n",
    "            continue"
   ]
  },
  {
   "cell_type": "code",
   "execution_count": 5,
   "id": "9699b607-5fb4-46e2-9559-e08a6dce01bf",
   "metadata": {},
   "outputs": [
    {
     "name": "stdout",
     "output_type": "stream",
     "text": [
      "+-------+-------+-------+\n",
      "|       |       |       |\n",
      "|   1   |   2   |   3   |\n",
      "|       |       |       |\n",
      "+-------+-------+-------+\n",
      "|       |       |       |\n",
      "|   4   |   X   |   6   |\n",
      "|       |       |       |\n",
      "+-------+-------+-------+\n",
      "|       |       |       |\n",
      "|   7   |   8   |   9   |\n",
      "|       |       |       |\n",
      "+-------+-------+-------+\n"
     ]
    },
    {
     "name": "stdin",
     "output_type": "stream",
     "text": [
      "Enter a move between 1-9:  5\n"
     ]
    },
    {
     "name": "stdout",
     "output_type": "stream",
     "text": [
      "spot already taken\n"
     ]
    },
    {
     "name": "stdin",
     "output_type": "stream",
     "text": [
      "Enter a move between 1-9:  5\n"
     ]
    },
    {
     "name": "stdout",
     "output_type": "stream",
     "text": [
      "spot already taken\n"
     ]
    },
    {
     "name": "stdin",
     "output_type": "stream",
     "text": [
      "Enter a move between 1-9:  1\n"
     ]
    },
    {
     "name": "stdout",
     "output_type": "stream",
     "text": [
      "+-------+-------+-------+\n",
      "|       |       |       |\n",
      "|   O   |   2   |   3   |\n",
      "|       |       |       |\n",
      "+-------+-------+-------+\n",
      "|       |       |       |\n",
      "|   4   |   X   |   6   |\n",
      "|       |       |       |\n",
      "+-------+-------+-------+\n",
      "|       |       |       |\n",
      "|   7   |   8   |   9   |\n",
      "|       |       |       |\n",
      "+-------+-------+-------+\n"
     ]
    }
   ],
   "source": [
    "def display_board(board):\n",
    "    print(\"+-------+-------+-------+\")\n",
    "    print(\"|       \"*3 + \"|\")\n",
    "    print(f\"|   {board[0][0]}   |   {board[0][1]}   |   {board[0][2]}   |\")\n",
    "    print(\"|       \"*3 + \"|\")\n",
    "    print(\"+-------+-------+-------+\")\n",
    "    print(\"|       \"*3 + \"|\")\n",
    "    print(f\"|   {board[1][0]}   |   {board[1][1]}   |   {board[1][2]}   |\")\n",
    "    print(\"|       \"*3 + \"|\")\n",
    "    print(\"+-------+-------+-------+\")\n",
    "    print(\"|       \"*3 + \"|\")\n",
    "    print(f\"|   {board[2][0]}   |   {board[2][1]}   |   {board[2][2]}   |\")\n",
    "    print(\"|       \"*3 + \"|\")\n",
    "    print(\"+-------+-------+-------+\")\n",
    "\n",
    "board = [[1,2,3], \n",
    "         [4,5,6], \n",
    "         [7,8,9]\n",
    "        ]\n",
    "board[1][1] = \"X\"\n",
    "def player_input(board):\n",
    "    while True:\n",
    "        try:\n",
    "            playermove = int(input(\"Enter a move between 1-9: \"))\n",
    "            move = playermove-1\n",
    "            row = move//3\n",
    "            col = move%3\n",
    "            if playermove >= 1 and playermove <= 9 and board[row][col] not in [\"x\", \"O\"] and board[row][col] != board[1][1]:\n",
    "                board[row][col] = \"O\"\n",
    "                board[1][1] = \"X\"\n",
    "                break\n",
    "            elif board[row][col] in [\"x\", \"O\"]:\n",
    "                print(\"spot already taken\")\n",
    "                continue\n",
    "            elif board[row][col] == board[1][1]:\n",
    "                print(\"spot already taken\")\n",
    "            else:\n",
    "                print(\"invalid input..Enter another number\")\n",
    "                continue\n",
    "        except:\n",
    "            print(\"invalid...Enter another number\")\n",
    "\n",
    "\n",
    "display_board(board)\n",
    "player_input(board)\n",
    "display_board(board)"
   ]
  },
  {
   "cell_type": "code",
   "execution_count": 17,
   "id": "cffae105-1180-4786-be5a-1738dc14ebec",
   "metadata": {},
   "outputs": [],
   "source": [
    "def player_input(board):\n",
    "    playermove = int(input(\"Enter a move between 1-9: \"))\n",
    "    if playermove >= 1 and playermove <= 9 and board[playermove-1] in [\"O\", \"X\"]:\n",
    "        board[playermove-1] = \"X\"\n",
    "    else:\n",
    "        print(\"spot taken already\")\n"
   ]
  },
  {
   "cell_type": "code",
   "execution_count": 19,
   "id": "a2ab82ee-835a-4502-ae3d-b7b631c5f852",
   "metadata": {},
   "outputs": [
    {
     "name": "stdin",
     "output_type": "stream",
     "text": [
      "Enter a move between 1-9:  5\n"
     ]
    },
    {
     "ename": "IndexError",
     "evalue": "list index out of range",
     "output_type": "error",
     "traceback": [
      "\u001b[1;31m---------------------------------------------------------------------------\u001b[0m",
      "\u001b[1;31mIndexError\u001b[0m                                Traceback (most recent call last)",
      "Cell \u001b[1;32mIn[19], line 1\u001b[0m\n\u001b[1;32m----> 1\u001b[0m player_input(board)\n",
      "Cell \u001b[1;32mIn[17], line 3\u001b[0m, in \u001b[0;36mplayer_input\u001b[1;34m(board)\u001b[0m\n\u001b[0;32m      1\u001b[0m \u001b[38;5;28;01mdef\u001b[39;00m \u001b[38;5;21mplayer_input\u001b[39m(board):\n\u001b[0;32m      2\u001b[0m     playermove \u001b[38;5;241m=\u001b[39m \u001b[38;5;28mint\u001b[39m(\u001b[38;5;28minput\u001b[39m(\u001b[38;5;124m\"\u001b[39m\u001b[38;5;124mEnter a move between 1-9: \u001b[39m\u001b[38;5;124m\"\u001b[39m))\n\u001b[1;32m----> 3\u001b[0m     \u001b[38;5;28;01mif\u001b[39;00m playermove \u001b[38;5;241m>\u001b[39m\u001b[38;5;241m=\u001b[39m \u001b[38;5;241m1\u001b[39m \u001b[38;5;129;01mand\u001b[39;00m playermove \u001b[38;5;241m<\u001b[39m\u001b[38;5;241m=\u001b[39m \u001b[38;5;241m9\u001b[39m \u001b[38;5;129;01mand\u001b[39;00m board[playermove\u001b[38;5;241m-\u001b[39m\u001b[38;5;241m1\u001b[39m] \u001b[38;5;129;01min\u001b[39;00m [\u001b[38;5;124m\"\u001b[39m\u001b[38;5;124mO\u001b[39m\u001b[38;5;124m\"\u001b[39m, \u001b[38;5;124m\"\u001b[39m\u001b[38;5;124mX\u001b[39m\u001b[38;5;124m\"\u001b[39m]:\n\u001b[0;32m      4\u001b[0m         board[playermove\u001b[38;5;241m-\u001b[39m\u001b[38;5;241m1\u001b[39m] \u001b[38;5;241m=\u001b[39m \u001b[38;5;124m\"\u001b[39m\u001b[38;5;124mX\u001b[39m\u001b[38;5;124m\"\u001b[39m\n\u001b[0;32m      5\u001b[0m     \u001b[38;5;28;01melse\u001b[39;00m:\n",
      "\u001b[1;31mIndexError\u001b[0m: list index out of range"
     ]
    }
   ],
   "source": [
    "player_input(board)"
   ]
  },
  {
   "cell_type": "code",
   "execution_count": 51,
   "id": "362b67c9-acd9-4e42-9ed9-c6b53194fdd6",
   "metadata": {},
   "outputs": [
    {
     "name": "stdout",
     "output_type": "stream",
     "text": [
      "+-------+-------+-------+\n",
      "|       |       |       |\n",
      "|   *   |   *   |   *   |\n",
      "|       |       |       |\n",
      "+-------+-------+-------+\n",
      "|       |       |       |\n",
      "|   *   |   *   |   *   |\n",
      "|       |       |       |\n",
      "+-------+-------+-------+\n",
      "|       |       |       |\n",
      "|   *   |   *   |   *   |\n",
      "|       |       |       |\n",
      "+-------+-------+-------+\n"
     ]
    },
    {
     "name": "stdin",
     "output_type": "stream",
     "text": [
      "Enter a move between 1-9:  67\n"
     ]
    },
    {
     "ename": "IndexError",
     "evalue": "list index out of range",
     "output_type": "error",
     "traceback": [
      "\u001b[1;31m---------------------------------------------------------------------------\u001b[0m",
      "\u001b[1;31mIndexError\u001b[0m                                Traceback (most recent call last)",
      "Cell \u001b[1;32mIn[51], line 33\u001b[0m\n\u001b[0;32m     31\u001b[0m \u001b[38;5;28;01mwhile\u001b[39;00m gamerunning:\n\u001b[0;32m     32\u001b[0m     display_board(board)\n\u001b[1;32m---> 33\u001b[0m     player_input(board)\n",
      "Cell \u001b[1;32mIn[51], line 26\u001b[0m, in \u001b[0;36mplayer_input\u001b[1;34m(board)\u001b[0m\n\u001b[0;32m     24\u001b[0m \u001b[38;5;28;01mif\u001b[39;00m playermove \u001b[38;5;241m>\u001b[39m\u001b[38;5;241m=\u001b[39m \u001b[38;5;241m1\u001b[39m \u001b[38;5;129;01mand\u001b[39;00m playermove \u001b[38;5;241m<\u001b[39m\u001b[38;5;241m=\u001b[39m \u001b[38;5;241m9\u001b[39m \u001b[38;5;129;01mand\u001b[39;00m board[playermove\u001b[38;5;241m-\u001b[39m\u001b[38;5;241m1\u001b[39m] \u001b[38;5;241m==\u001b[39m \u001b[38;5;124m\"\u001b[39m\u001b[38;5;124m*\u001b[39m\u001b[38;5;124m\"\u001b[39m:\n\u001b[0;32m     25\u001b[0m     board[playermove\u001b[38;5;241m-\u001b[39m\u001b[38;5;241m1\u001b[39m] \u001b[38;5;241m=\u001b[39m currentplayer\n\u001b[1;32m---> 26\u001b[0m \u001b[38;5;28;01melif\u001b[39;00m board[playermove\u001b[38;5;241m-\u001b[39m\u001b[38;5;241m1\u001b[39m] \u001b[38;5;241m==\u001b[39m \u001b[38;5;124m\"\u001b[39m\u001b[38;5;124m*\u001b[39m\u001b[38;5;124m\"\u001b[39m:\n\u001b[0;32m     27\u001b[0m     \u001b[38;5;28mprint\u001b[39m(\u001b[38;5;124m\"\u001b[39m\u001b[38;5;124mspot taken already\u001b[39m\u001b[38;5;124m\"\u001b[39m)\n\u001b[0;32m     28\u001b[0m \u001b[38;5;28;01melse\u001b[39;00m:\n",
      "\u001b[1;31mIndexError\u001b[0m: list index out of range"
     ]
    }
   ],
   "source": [
    "board = [['*','*','*'],\n",
    "         ['*','*','*'],\n",
    "         ['*','*','*']]\n",
    "gamerunning = True\n",
    "winner = None\n",
    "currentplayer = 'X'\n",
    "def display_board(board):\n",
    "    print(\"+-------+-------+-------+\")\n",
    "    print(\"|       \"*3 + \"|\")\n",
    "    print(f\"|   {board[0][0]}   |   {board[0][1]}   |   {board[0][2]}   |\")\n",
    "    print(\"|       \"*3 + \"|\")\n",
    "    print(\"+-------+-------+-------+\")\n",
    "    print(\"|       \"*3 + \"|\")\n",
    "    print(f\"|   {board[1][0]}   |   {board[1][1]}   |   {board[1][2]}   |\")\n",
    "    print(\"|       \"*3 + \"|\")\n",
    "    print(\"+-------+-------+-------+\")\n",
    "    print(\"|       \"*3 + \"|\")\n",
    "    print(f\"|   {board[2][0]}   |   {board[2][1]}   |   {board[2][2]}   |\")\n",
    "    print(\"|       \"*3 + \"|\")\n",
    "    print(\"+-------+-------+-------+\")\n",
    "\n",
    "def player_input(board):\n",
    "    playermove = int(input(\"Enter a move between 1-9: \"))\n",
    "    if playermove >= 1 and playermove <= 9 and board[playermove-1] == \"*\":\n",
    "        board[playermove-1] = currentplayer\n",
    "    elif board[playermove-1] == \"*\":\n",
    "        print(\"spot taken already\")\n",
    "    else:\n",
    "        print(\"Invalid input..Enter another number\")\n",
    "\n",
    "while gamerunning:\n",
    "    display_board(board)\n",
    "    player_input(board)\n"
   ]
  },
  {
   "cell_type": "code",
   "execution_count": 1,
   "id": "588debef-0e6c-4820-84c2-f09597a50145",
   "metadata": {},
   "outputs": [
    {
     "ename": "NameError",
     "evalue": "name 'board' is not defined",
     "output_type": "error",
     "traceback": [
      "\u001b[1;31m---------------------------------------------------------------------------\u001b[0m",
      "\u001b[1;31mNameError\u001b[0m                                 Traceback (most recent call last)",
      "Cell \u001b[1;32mIn[1], line 29\u001b[0m\n\u001b[0;32m     27\u001b[0m \t\t\t\u001b[38;5;28;01mcontinue\u001b[39;00m\n\u001b[0;32m     28\u001b[0m \tboard[row][col] \u001b[38;5;241m=\u001b[39m \u001b[38;5;124m'\u001b[39m\u001b[38;5;124mO\u001b[39m\u001b[38;5;124m'\u001b[39m \t\u001b[38;5;66;03m# set '0' at the selected square\u001b[39;00m\n\u001b[1;32m---> 29\u001b[0m display_board(board)\n",
      "\u001b[1;31mNameError\u001b[0m: name 'board' is not defined"
     ]
    }
   ],
   "source": [
    "def display_board(board):\n",
    "\tprint(\"+-------\" * 3,\"+\", sep=\"\")\n",
    "\tfor row in range(3):\n",
    "\t\tprint(\"|       \" * 3,\"|\", sep=\"\")\n",
    "\t\tfor col in range(3):\n",
    "\t\t\tprint(\"|   \" + str(board[row][col]) + \"   \", end=\"\")\n",
    "\t\tprint(\"|\")\n",
    "\t\tprint(\"|       \" * 3,\"|\",sep=\"\")\n",
    "\t\tprint(\"+-------\" * 3,\"+\",sep=\"\")\n",
    "\n",
    "\n",
    "def enter_move(board):\n",
    "\tok = False\t# fake assumption - we need it to enter the loop\n",
    "\twhile not ok:\n",
    "\t\tmove = input(\"Enter your move: \") \n",
    "\t\tok = len(move) == 1 and move >= '1' and move <= '9' # is user's input valid?\n",
    "\t\tif not ok:\n",
    "\t\t\tprint(\"Bad move - repeat your input!\") # no, it isn't - do the input again\n",
    "\t\t\tcontinue\n",
    "\t\tmove = int(move) - 1 \t# cell's number from 0 to 8\n",
    "\t\trow = move // 3 \t# cell's row\n",
    "\t\tcol = move % 3\t\t# cell's column\n",
    "\t\tsign = board[row][col]\t# check the selected square\n",
    "\t\tok = sign not in ['O','X'] \n",
    "\t\tif not ok:\t# it's occupied - to the input again\n",
    "\t\t\tprint(\"Field already occupied - repeat your input!\")\n",
    "\t\t\tcontinue\n",
    "\tboard[row][col] = 'O' \t#  set '0' at the selected square\n",
    "display_board(board)"
   ]
  },
  {
   "cell_type": "code",
   "execution_count": 3,
   "id": "5333228c-4a05-4e4f-83b2-012469bad52e",
   "metadata": {},
   "outputs": [
    {
     "name": "stdout",
     "output_type": "stream",
     "text": [
      "+-------+-------+-------+\n",
      "|       |       |       |\n",
      "|   1   |   2   |   3   |\n",
      "|       |       |       |\n",
      "+-------+-------+-------+\n",
      "|       |       |       |\n",
      "|   4   |   5   |   6   |\n",
      "|       |       |       |\n",
      "+-------+-------+-------+\n",
      "|       |       |       |\n",
      "|   7   |   8   |   9   |\n",
      "|       |       |       |\n",
      "+-------+-------+-------+\n"
     ]
    },
    {
     "name": "stdin",
     "output_type": "stream",
     "text": [
      "Enter your move:  5\n"
     ]
    },
    {
     "name": "stdout",
     "output_type": "stream",
     "text": [
      "+-------+-------+-------+\n",
      "|       |       |       |\n",
      "|   1   |   2   |   3   |\n",
      "|       |       |       |\n",
      "+-------+-------+-------+\n",
      "|       |       |       |\n",
      "|   4   |   O   |   6   |\n",
      "|       |       |       |\n",
      "+-------+-------+-------+\n",
      "|       |       |       |\n",
      "|   7   |   8   |   9   |\n",
      "|       |       |       |\n",
      "+-------+-------+-------+\n"
     ]
    }
   ],
   "source": [
    "board = [[1,2,3], \n",
    "         [4,5,6], \n",
    "         [7,8,9]\n",
    "        ]\n",
    "display_board(board)        \n",
    "enter_move(board)\n",
    "display_board(board)        \n",
    "\n"
   ]
  },
  {
   "cell_type": "code",
   "execution_count": 13,
   "id": "dc606dae-4f91-40d6-adbd-f98db35123ec",
   "metadata": {},
   "outputs": [
    {
     "name": "stdout",
     "output_type": "stream",
     "text": [
      "+-------+-------+-------+\n",
      "|       |       |       |\n",
      "|   1   |   2   |   3   |\n",
      "|       |       |       |\n",
      "+-------+-------+-------+\n",
      "|       |       |       |\n",
      "|   4   |   X   |   6   |\n",
      "|       |       |       |\n",
      "+-------+-------+-------+\n",
      "|       |       |       |\n",
      "|   7   |   8   |   9   |\n",
      "|       |       |       |\n",
      "+-------+-------+-------+\n"
     ]
    },
    {
     "name": "stdin",
     "output_type": "stream",
     "text": [
      "Enter a move between 1-9:  2\n"
     ]
    },
    {
     "name": "stdout",
     "output_type": "stream",
     "text": [
      "+-------+-------+-------+\n",
      "|       |       |       |\n",
      "|   1   |   O   |   3   |\n",
      "|       |       |       |\n",
      "+-------+-------+-------+\n",
      "|       |       |       |\n",
      "|   4   |   X   |   6   |\n",
      "|       |       |       |\n",
      "+-------+-------+-------+\n",
      "|       |       |       |\n",
      "|   X   |   8   |   9   |\n",
      "|       |       |       |\n",
      "+-------+-------+-------+\n"
     ]
    },
    {
     "name": "stdin",
     "output_type": "stream",
     "text": [
      "Enter a move between 1-9:  6\n"
     ]
    },
    {
     "name": "stdout",
     "output_type": "stream",
     "text": [
      "+-------+-------+-------+\n",
      "|       |       |       |\n",
      "|   1   |   O   |   3   |\n",
      "|       |       |       |\n",
      "+-------+-------+-------+\n",
      "|       |       |       |\n",
      "|   4   |   X   |   O   |\n",
      "|       |       |       |\n",
      "+-------+-------+-------+\n",
      "|       |       |       |\n",
      "|   X   |   8   |   X   |\n",
      "|       |       |       |\n",
      "+-------+-------+-------+\n"
     ]
    },
    {
     "name": "stdin",
     "output_type": "stream",
     "text": [
      "Enter a move between 1-9:  3\n"
     ]
    },
    {
     "name": "stdout",
     "output_type": "stream",
     "text": [
      "+-------+-------+-------+\n",
      "|       |       |       |\n",
      "|   X   |   O   |   O   |\n",
      "|       |       |       |\n",
      "+-------+-------+-------+\n",
      "|       |       |       |\n",
      "|   4   |   X   |   O   |\n",
      "|       |       |       |\n",
      "+-------+-------+-------+\n",
      "|       |       |       |\n",
      "|   X   |   8   |   X   |\n",
      "|       |       |       |\n",
      "+-------+-------+-------+\n",
      "Computer wins!\n"
     ]
    }
   ],
   "source": [
    "import random\n",
    "\n",
    "def display_board(board):\n",
    "    print(\"+-------+-------+-------+\")\n",
    "    print(\"|       \"*3 + \"|\")\n",
    "    print(f\"|   {board[0][0]}   |   {board[0][1]}   |   {board[0][2]}   |\")\n",
    "    print(\"|       \"*3 + \"|\")\n",
    "    print(\"+-------+-------+-------+\")\n",
    "    print(\"|       \"*3 + \"|\")\n",
    "    print(f\"|   {board[1][0]}   |   {board[1][1]}   |   {board[1][2]}   |\")\n",
    "    print(\"|       \"*3 + \"|\")\n",
    "    print(\"+-------+-------+-------+\")\n",
    "    print(\"|       \"*3 + \"|\")\n",
    "    print(f\"|   {board[2][0]}   |   {board[2][1]}   |   {board[2][2]}   |\")\n",
    "    print(\"|       \"*3 + \"|\")\n",
    "    print(\"+-------+-------+-------+\")\n",
    "\n",
    "board = [[1,2,3], \n",
    "         [4,5,6], \n",
    "         [7,8,9]\n",
    "        ]\n",
    "board[1][1] = \"X\"\n",
    "def player_input(board):\n",
    "    while True:\n",
    "        try:\n",
    "            playermove = int(input(\"Enter a move between 1-9: \"))\n",
    "            move = playermove-1\n",
    "            row = move//3\n",
    "            col = move%3\n",
    "            if playermove >= 1 and playermove <= 9 and board[row][col] not in [\"x\", \"O\"] and board[row][col] != board[1][1]:\n",
    "                board[row][col] = \"O\"\n",
    "                board[1][1] = \"X\"\n",
    "                return  \n",
    "            elif board[row][col] in [\"x\", \"O\"]:\n",
    "                print(\"spot already taken\")\n",
    "                continue\n",
    "            elif board[row][col] == board[1][1]:\n",
    "                print(\"spot already taken..Enter another number\")\n",
    "            else:\n",
    "                print(\"invalid input..Enter another number\")\n",
    "                continue\n",
    "        except ValueError:\n",
    "            print(\"invalid...Enter another number\")\n",
    "\n",
    "\n",
    "def make_list_of_free_fields(board):\n",
    "    free = []\n",
    "    for row in range(3):\n",
    "        for col in range(3):\n",
    "            if board[row][col] not in ['O', 'X']:\n",
    "                free.append((row,col))\n",
    "    return free\n",
    "\n",
    "\n",
    "def victory_for(board,sign):\n",
    "    if sign == 'X':\n",
    "        player = 'computer'\n",
    "    elif sign == 'O':\n",
    "        player = 'You'\n",
    "    else:\n",
    "        return None\n",
    "    for i in range(3):\n",
    "        if board[i][0] == board[i][1] == board[i][2] and board[i][0] == sign:\n",
    "            return player\n",
    "        if board[0][i] == board[1][i] == board[2][i] and board[0][i] == sign:\n",
    "            return player\n",
    "    if board[0][0] == board[1][1] == board[2][2] == sign:\n",
    "        return player\n",
    "    if board[0][2] == board[1][1] == board[2][0] == sign:\n",
    "        return player\n",
    "    return None\n",
    "\n",
    "def draw_move(board):\n",
    "    free_fields = make_list_of_free_fields(board)\n",
    "    if free_fields:\n",
    "        row, col = random.choice(free_fields)\n",
    "        board[row][col] = \"X\" \n",
    "\n",
    "while True:\n",
    "    display_board(board)\n",
    "    player_input(board)\n",
    "    if victory_for(board, \"O\"):\n",
    "        display_board(board)\n",
    "        print(\"You win!\")\n",
    "        break\n",
    "    if not make_list_of_free_fields(board):\n",
    "        display_board(board)\n",
    "        print(\"It's a Tie\")\n",
    "        break\n",
    "    draw_move(board)\n",
    "    if victory_for(board, \"X\"):\n",
    "        display_board(board)\n",
    "        print(\"Computer wins!\")\n",
    "        break\n",
    "    if not make_list_of_free_fields(board):\n",
    "        display_board(board)\n",
    "        print(\"It's a Tie\")\n",
    "        break\n"
   ]
  },
  {
   "cell_type": "code",
   "execution_count": 5,
   "id": "3bc7e9bf-54b7-4168-9928-0c2dd5a15592",
   "metadata": {},
   "outputs": [],
   "source": [
    "def display_board(board):\n",
    "\tprint(\"+-------\" * 3,\"+\", sep=\"\")\n",
    "\tfor row in range(3):\n",
    "\t\tprint(\"|       \" * 3,\"|\", sep=\"\")\n",
    "\t\tfor col in range(3):\n",
    "\t\t\tprint(\"|   \" + str(board[row][col]) + \"   \", end=\"\")\n",
    "\t\tprint(\"|\")\n",
    "\t\tprint(\"|       \" * 3,\"|\",sep=\"\")\n",
    "\t\tprint(\"+-------\" * 3,\"+\",sep=\"\")\n",
    "\n",
    "\n",
    "def enter_move(board):\n",
    "\tok = False\t# fake assumption - we need it to enter the loop\n",
    "\twhile not ok:\n",
    "\t\tmove = input(\"Enter your move: \") \n",
    "\t\tok = len(move) == 1 and move >= '1' and move <= '9' # is user's input valid?\n",
    "\t\tif not ok:\n",
    "\t\t\tprint(\"Bad move - repeat your input!\") # no, it isn't - do the input again\n",
    "\t\t\tcontinue\n",
    "\t\tmove = int(move) - 1 \t# cell's number from 0 to 8\n",
    "\t\trow = move // 3 \t# cell's row\n",
    "\t\tcol = move % 3\t\t# cell's column\n",
    "\t\tsign = board[row][col]\t# check the selected square\n",
    "\t\tok = sign not in ['O','X'] \n",
    "\t\tif not ok:\t# it's occupied - to the input again\n",
    "\t\t\tprint(\"Field already occupied - repeat your input!\")\n",
    "\t\t\tcontinue\n",
    "\tboard[row][col] = 'O' \t# set '0' at the selected square\n",
    "\n",
    "\n",
    "def make_list_of_free_fields(board):\n",
    "\tfree = []\t# the list is empty initially\n",
    "\tfor row in range(3): # iterate through rows\n",
    "\t\tfor col in range(3): # iterate through columns\n",
    "\t\t\tif board[row][col] not in ['O','X']: # is the cell free?\n",
    "\t\t\t\tfree.append((row,col)) # yes, it is - append new tuple to the list\n",
    "\treturn free\n",
    "\n",
    "board = [[1,2,3], \n",
    "         [4,5,6], \n",
    "         [7,8,9]\n",
    "        ]"
   ]
  },
  {
   "cell_type": "code",
   "execution_count": 7,
   "id": "7528ecfd-0c64-451c-9aa7-0c30da44702e",
   "metadata": {},
   "outputs": [
    {
     "name": "stdout",
     "output_type": "stream",
     "text": [
      "+-------+-------+-------+\n",
      "|       |       |       |\n",
      "|   1   |   2   |   3   |\n",
      "|       |       |       |\n",
      "+-------+-------+-------+\n",
      "|       |       |       |\n",
      "|   4   |   5   |   6   |\n",
      "|       |       |       |\n",
      "+-------+-------+-------+\n",
      "|       |       |       |\n",
      "|   7   |   8   |   9   |\n",
      "|       |       |       |\n",
      "+-------+-------+-------+\n"
     ]
    },
    {
     "name": "stdin",
     "output_type": "stream",
     "text": [
      "Enter your move:  1\n"
     ]
    },
    {
     "name": "stdout",
     "output_type": "stream",
     "text": [
      "+-------+-------+-------+\n",
      "|       |       |       |\n",
      "|   O   |   2   |   3   |\n",
      "|       |       |       |\n",
      "+-------+-------+-------+\n",
      "|       |       |       |\n",
      "|   4   |   5   |   6   |\n",
      "|       |       |       |\n",
      "+-------+-------+-------+\n",
      "|       |       |       |\n",
      "|   7   |   8   |   9   |\n",
      "|       |       |       |\n",
      "+-------+-------+-------+\n"
     ]
    }
   ],
   "source": [
    "display_board(board)\n",
    "enter_move(board)\n",
    "make_list_of_free_fields(board)\n",
    "display_board(board)\n"
   ]
  },
  {
   "cell_type": "code",
   "execution_count": 11,
   "id": "a457639f-3aa4-447f-932d-9d936e9a7272",
   "metadata": {},
   "outputs": [
    {
     "name": "stdout",
     "output_type": "stream",
     "text": [
      "0\n",
      "0\n",
      "0\n",
      "1\n",
      "1\n",
      "1\n",
      "2\n",
      "2\n",
      "2\n"
     ]
    }
   ],
   "source": [
    "for row in range(3):\n",
    "    for col in range(3):\n",
    "        print(row)"
   ]
  },
  {
   "cell_type": "code",
   "execution_count": null,
   "id": "00722d02-422d-43c2-8312-97a75c8410ce",
   "metadata": {},
   "outputs": [],
   "source": [
    "    display_board(board)\n",
    "    player_input(board)\n",
    "    draw_move(board)\n",
    "    if victory_for(board, \"O\"):\n",
    "        display_board(board)\n",
    "        print(\"You win!\")\n",
    "        break"
   ]
  }
 ],
 "metadata": {
  "kernelspec": {
   "display_name": "Python 3 (ipykernel)",
   "language": "python",
   "name": "python3"
  },
  "language_info": {
   "codemirror_mode": {
    "name": "ipython",
    "version": 3
   },
   "file_extension": ".py",
   "mimetype": "text/x-python",
   "name": "python",
   "nbconvert_exporter": "python",
   "pygments_lexer": "ipython3",
   "version": "3.12.4"
  }
 },
 "nbformat": 4,
 "nbformat_minor": 5
}
