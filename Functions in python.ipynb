{
 "cells": [
  {
   "cell_type": "code",
   "execution_count": null,
   "id": "91793282-fd8b-495b-b01d-d65c7d1e6883",
   "metadata": {},
   "outputs": [],
   "source": [
    "x = abs(-12.34)\n",
    "x"
   ]
  },
  {
   "cell_type": "code",
   "execution_count": null,
   "id": "529ed1a3-e46f-4b44-ad4a-8c253e98d91c",
   "metadata": {},
   "outputs": [],
   "source": [
    "list1 = [2,4,6,8,10]\n",
    "print(sum(list1))"
   ]
  },
  {
   "cell_type": "code",
   "execution_count": null,
   "id": "0aae7668-7e2d-437e-bb9f-4278164dbbe2",
   "metadata": {},
   "outputs": [],
   "source": [
    "list1 = sum([2,4,6,8,10])\n",
    "list1"
   ]
  },
  {
   "cell_type": "code",
   "execution_count": null,
   "id": "6146de16-e165-4bd8-a2a0-6e3af7b32864",
   "metadata": {},
   "outputs": [],
   "source": [
    "s8 = max(23,45,89)\n",
    "s8"
   ]
  },
  {
   "cell_type": "code",
   "execution_count": null,
   "id": "6da9176d-0bda-4343-acc6-93f4dc3e1852",
   "metadata": {},
   "outputs": [],
   "source": [
    "a1 = pow(3,6)\n",
    "print(a1)"
   ]
  },
  {
   "cell_type": "code",
   "execution_count": null,
   "id": "20e641ef-956c-4383-aee1-85f533e5d1d2",
   "metadata": {},
   "outputs": [],
   "source": [
    "help(min)"
   ]
  },
  {
   "cell_type": "code",
   "execution_count": null,
   "id": "64e11b73-4dd6-4d88-9875-4a0e33a989da",
   "metadata": {},
   "outputs": [],
   "source": [
    "x = range(5)\n",
    "for n in x:\n",
    "    print(n)\n",
    "    print(\"#\")"
   ]
  },
  {
   "cell_type": "code",
   "execution_count": null,
   "id": "81a6953f-fba2-451f-a0e3-08c9c48fda0f",
   "metadata": {},
   "outputs": [],
   "source": [
    "p = round(4.543678,4)\n",
    "print(p)"
   ]
  },
  {
   "cell_type": "code",
   "execution_count": null,
   "id": "98edd2b7-ad82-46a9-8cb4-7107e4023983",
   "metadata": {},
   "outputs": [],
   "source": [
    "p = round(4.543678,1)\n",
    "print(p)"
   ]
  },
  {
   "cell_type": "code",
   "execution_count": null,
   "id": "b1ddb10c-0511-4d65-8405-8923ad6ebcf6",
   "metadata": {},
   "outputs": [],
   "source": [
    "p = round(4.543678)\n",
    "print(p)"
   ]
  },
  {
   "cell_type": "code",
   "execution_count": null,
   "id": "7e0c9f47-f9d8-4a2a-802f-035102b7927f",
   "metadata": {},
   "outputs": [],
   "source": [
    "a = [23,45,37]\n",
    "b = sorted(a,reverse=False)\n",
    "print(b)"
   ]
  },
  {
   "cell_type": "code",
   "execution_count": null,
   "id": "7d596f3b-a374-4ef8-9535-8cc403a53c45",
   "metadata": {},
   "outputs": [],
   "source": [
    "a = [23,45,37]\n",
    "b = sorted(a,reverse=True)\n",
    "print(b)"
   ]
  },
  {
   "cell_type": "code",
   "execution_count": null,
   "id": "473fec2c-aaab-4172-b4a2-f2e5adcc0f50",
   "metadata": {},
   "outputs": [],
   "source": [
    "a = [23,45,37]\n",
    "b = sorted(a)\n",
    "print(b)"
   ]
  },
  {
   "cell_type": "code",
   "execution_count": null,
   "id": "4ede3a90-497c-4cbd-8c55-f0f83bed262f",
   "metadata": {},
   "outputs": [],
   "source": [
    "a = [23,45,37]\n",
    "a.sort()\n",
    "print(a)"
   ]
  },
  {
   "cell_type": "code",
   "execution_count": 44,
   "id": "e056ac7b-abe3-4afe-83e5-0e5637042c64",
   "metadata": {},
   "outputs": [
    {
     "name": "stdout",
     "output_type": "stream",
     "text": [
      "('s', 'i', 'm', 'p', 'l')\n"
     ]
    }
   ],
   "source": [
    "a = ('s', 'i', 'm', 'p', 'l', 'i', 'f', 'y')\n",
    "x = slice(5)\n",
    "print(a[x])"
   ]
  },
  {
   "cell_type": "code",
   "execution_count": 46,
   "id": "f4a1903b-517c-4c4d-830e-9263e1b8a29c",
   "metadata": {},
   "outputs": [
    {
     "name": "stdout",
     "output_type": "stream",
     "text": [
      "1 7 2\n"
     ]
    }
   ],
   "source": [
    "def my_function(a, b, c):\n",
    "    print(a, b, c)\n",
    "\n",
    "my_function(1, 7, 2)"
   ]
  },
  {
   "cell_type": "code",
   "execution_count": 50,
   "id": "d0180647-d93a-46c4-b6fd-be86466ad616",
   "metadata": {},
   "outputs": [
    {
     "name": "stdout",
     "output_type": "stream",
     "text": [
      "Hello, my name is Luke Skywalker\n",
      "Hello, my name is Jesse paul\n",
      "Hello, my name is Clark Kent\n"
     ]
    }
   ],
   "source": [
    "def introduction(first_name, last_name = 'paul'):\n",
    "    print(\"Hello, my name is\", first_name, last_name)\n",
    "\n",
    "introduction(\"Luke\", \"Skywalker\")\n",
    "introduction(\"Jesse\")\n",
    "introduction(\"Clark\", \"Kent\")"
   ]
  },
  {
   "cell_type": "code",
   "execution_count": 54,
   "id": "179c3100-443e-4a2d-b556-ce66018a282f",
   "metadata": {},
   "outputs": [
    {
     "name": "stdout",
     "output_type": "stream",
     "text": [
      "9 + 2 = 11\n"
     ]
    }
   ],
   "source": [
    "def adding(a, b):\n",
    "    print(a, \"+\", b, \"=\", a + b)\n",
    "adding(a = 9, b = 2)"
   ]
  },
  {
   "cell_type": "code",
   "execution_count": 56,
   "id": "331eb964-a82e-4cf8-8b7c-30da5d150467",
   "metadata": {},
   "outputs": [
    {
     "name": "stdout",
     "output_type": "stream",
     "text": [
      "1 + 2 + 3 = 6\n"
     ]
    }
   ],
   "source": [
    "def adding(a, b, c):\n",
    "    print(a, \"+\", b, \"+\", c, \"=\", a + b + c)\n",
    "adding(1,2,3)"
   ]
  },
  {
   "cell_type": "code",
   "execution_count": 62,
   "id": "6c0c7ed4-5913-43a3-85de-4d9f0d745811",
   "metadata": {},
   "outputs": [
    {
     "name": "stdout",
     "output_type": "stream",
     "text": [
      "Hello, my name is willian Smith\n"
     ]
    }
   ],
   "source": [
    "def introduction(first_name, last_name=\"Smith\"):\n",
    "    print(\"Hello, my name is\", first_name, last_name)\n",
    "introduction(\"willian\")"
   ]
  },
  {
   "cell_type": "code",
   "execution_count": 66,
   "id": "3a1f95ae-aca8-4e4f-b2cc-6a385c78e91c",
   "metadata": {},
   "outputs": [
    {
     "name": "stdout",
     "output_type": "stream",
     "text": [
      "Hello, my name is John Smith\n"
     ]
    }
   ],
   "source": [
    "def introduction(first_name=\"John\", last_name=\"Smith\"):\n",
    "    print(\"Hello, my name is\", first_name, last_name)\n",
    "introduction()"
   ]
  },
  {
   "cell_type": "code",
   "execution_count": 68,
   "id": "c68e227f-4842-474c-8daa-9cbf1ee00f5c",
   "metadata": {},
   "outputs": [
    {
     "name": "stdout",
     "output_type": "stream",
     "text": [
      "Hi, Konrad\n",
      "Hi, Sebastian\n"
     ]
    }
   ],
   "source": [
    "def hi_all(name_1, name_2):\n",
    "    print(\"Hi,\", name_2)\n",
    "    print(\"Hi,\", name_1)\n",
    "\n",
    "hi_all(\"Sebastian\", \"Konrad\")"
   ]
  },
  {
   "cell_type": "code",
   "execution_count": null,
   "id": "eb5ecdf2-44b2-4953-8726-124d378e78bd",
   "metadata": {},
   "outputs": [],
   "source": [
    "def introduction(first_name=\"John\", last_name=\"Smith\"):\n",
    "    print(\"Hello, my name is\", first_name, last_name)\n",
    "introduction(last_name='sammy')"
   ]
  },
  {
   "cell_type": "code",
   "execution_count": 80,
   "id": "8e82934f-a172-4439-8d4f-996c3ce7cad2",
   "metadata": {},
   "outputs": [
    {
     "name": "stdout",
     "output_type": "stream",
     "text": [
      "1\n"
     ]
    }
   ],
   "source": [
    "def subtra(a, b):\n",
    "    print(a - b)\n",
    "\n",
    "subtra(5,4)"
   ]
  },
  {
   "cell_type": "code",
   "execution_count": null,
   "id": "8fcfb5c9-d567-4152-9838-750448f9e312",
   "metadata": {},
   "outputs": [],
   "source": [
    "def add_numbers(a, b=2, c):\n",
    "    print(a + b + c)\n",
    "\n",
    "add_numbers(a=1, c=3)"
   ]
  },
  {
   "cell_type": "code",
   "execution_count": null,
   "id": "a0395e61-c0fe-4f68-a9ad-a1cebc57dc96",
   "metadata": {},
   "outputs": [],
   "source": [
    "def add_numbers(a, c, b=2):\n",
    "    print(a + b + c)\n",
    "\n",
    "add_numbers(a=1, c=3)"
   ]
  },
  {
   "cell_type": "code",
   "execution_count": 94,
   "id": "ef30a56e-fa1e-40d5-a573-5f607e7d9961",
   "metadata": {},
   "outputs": [
    {
     "name": "stdout",
     "output_type": "stream",
     "text": [
      "Three...\n",
      "Two...\n",
      "One...\n",
      "Happy New Year!\n"
     ]
    }
   ],
   "source": [
    "def happy_new_year(wishes = True):\n",
    "    print(\"Three...\")\n",
    "    print(\"Two...\")\n",
    "    print(\"One...\")\n",
    "    if not wishes:\n",
    "        return 123\n",
    "happy_new_year()   \n",
    "print(\"Happy New Year!\")"
   ]
  },
  {
   "cell_type": "code",
   "execution_count": 88,
   "id": "5383ccee-e6cb-4b4a-b69c-8a807533743b",
   "metadata": {},
   "outputs": [
    {
     "name": "stdout",
     "output_type": "stream",
     "text": [
      "Three...\n",
      "Two...\n",
      "One...\n"
     ]
    }
   ],
   "source": [
    "happy_new_year(wishes = True)"
   ]
  },
  {
   "cell_type": "code",
   "execution_count": 110,
   "id": "1f1526ae-f712-4243-b506-9f72a059c259",
   "metadata": {},
   "outputs": [
    {
     "name": "stdout",
     "output_type": "stream",
     "text": [
      "Happy New Year!\n"
     ]
    }
   ],
   "source": [
    "def happy_new_year(wishes = False):\n",
    "    print(\"Three...\")\n",
    "    print(\"Two...\")\n",
    "    print(\"One...\")\n",
    "    if not wishes:\n",
    "        return 'hippy'\n",
    "    \n",
    "print(\"Happy New Year!\")"
   ]
  },
  {
   "cell_type": "code",
   "execution_count": 112,
   "id": "0d52213f-8a61-4616-b464-e0ef2e8b2531",
   "metadata": {},
   "outputs": [
    {
     "name": "stdout",
     "output_type": "stream",
     "text": [
      "Three...\n",
      "Two...\n",
      "One...\n"
     ]
    },
    {
     "data": {
      "text/plain": [
       "'hippy'"
      ]
     },
     "execution_count": 112,
     "metadata": {},
     "output_type": "execute_result"
    }
   ],
   "source": [
    "happy_new_year(wishes = False)"
   ]
  },
  {
   "cell_type": "code",
   "execution_count": 114,
   "id": "6e231f98-b8f3-4a63-904f-d7769450ab1e",
   "metadata": {},
   "outputs": [
    {
     "name": "stdout",
     "output_type": "stream",
     "text": [
      "Sorry, you don't carry any value\n"
     ]
    }
   ],
   "source": [
    "value = None\n",
    "if value is None:\n",
    "    print(\"Sorry, you don't carry any value\")\n",
    "    "
   ]
  },
  {
   "cell_type": "code",
   "execution_count": null,
   "id": "600965d9-226a-4ae6-b34a-a9923e5b101d",
   "metadata": {},
   "outputs": [],
   "source": [
    "def list_sum(lst):\n",
    "    s = 0\n",
    "    \n",
    "    for elem in lst:\n",
    "        s += elem\n",
    "    \n",
    "    return s\n",
    "print(list_sum([3,5,7]))"
   ]
  },
  {
   "cell_type": "code",
   "execution_count": null,
   "id": "02bb258b-3dd7-45b9-9453-a8b9c1e94af1",
   "metadata": {},
   "outputs": [],
   "source": [
    "def list_sum(lst):\n",
    "    s = 0\n",
    "    \n",
    "    for elem in lst:\n",
    "        s += elem\n",
    "print(list_sum([3,5,7]))"
   ]
  },
  {
   "cell_type": "code",
   "execution_count": null,
   "id": "bb98a8b5-97aa-4781-9cd9-f557a6a1d305",
   "metadata": {},
   "outputs": [],
   "source": [
    "def num_list(p):\n",
    "    num = []\n",
    "    for i in range(0,p):\n",
    "        num.append(i)\n",
    "    return num\n",
    "print(num_list(5))"
   ]
  },
  {
   "cell_type": "code",
   "execution_count": null,
   "id": "28ceb67d-1e98-4e60-ab02-c45851fb4df6",
   "metadata": {},
   "outputs": [],
   "source": [
    "def num_list(p):\n",
    "    num = []\n",
    "    for i in range(0,p):\n",
    "        num.insert(0,i)\n",
    "    return num\n",
    "print(num_list(5))"
   ]
  },
  {
   "cell_type": "code",
   "execution_count": 116,
   "id": "7d98bd60-b400-43c8-9bea-ef945589f84f",
   "metadata": {},
   "outputs": [
    {
     "ename": "NameError",
     "evalue": "name 'test_data' is not defined",
     "output_type": "error",
     "traceback": [
      "\u001b[1;31m---------------------------------------------------------------------------\u001b[0m",
      "\u001b[1;31mNameError\u001b[0m                                 Traceback (most recent call last)",
      "Cell \u001b[1;32mIn[116], line 4\u001b[0m\n\u001b[0;32m      2\u001b[0m     test_data \u001b[38;5;241m=\u001b[39m [\u001b[38;5;241m1900\u001b[39m, \u001b[38;5;241m2000\u001b[39m, \u001b[38;5;241m2016\u001b[39m, \u001b[38;5;241m1987\u001b[39m]\n\u001b[0;32m      3\u001b[0m     test_results \u001b[38;5;241m=\u001b[39m [\u001b[38;5;28;01mFalse\u001b[39;00m, \u001b[38;5;28;01mTrue\u001b[39;00m, \u001b[38;5;28;01mTrue\u001b[39;00m, \u001b[38;5;28;01mFalse\u001b[39;00m]\n\u001b[1;32m----> 4\u001b[0m \u001b[38;5;28;01mfor\u001b[39;00m i \u001b[38;5;129;01min\u001b[39;00m \u001b[38;5;28mrange\u001b[39m(\u001b[38;5;28mlen\u001b[39m(test_data)):\n\u001b[0;32m      5\u001b[0m         yr \u001b[38;5;241m=\u001b[39m test_data[i]\n\u001b[0;32m      6\u001b[0m         \u001b[38;5;28mprint\u001b[39m(yr,\u001b[38;5;124m\"\u001b[39m\u001b[38;5;124m->\u001b[39m\u001b[38;5;124m\"\u001b[39m,end\u001b[38;5;241m=\u001b[39m\u001b[38;5;124m\"\u001b[39m\u001b[38;5;124m\"\u001b[39m)\n",
      "\u001b[1;31mNameError\u001b[0m: name 'test_data' is not defined"
     ]
    }
   ],
   "source": [
    "def is_year_leap(year):\n",
    "    test_data = [1900, 2000, 2016, 1987]\n",
    "    test_results = [False, True, True, False]\n",
    "for i in range(len(test_data)):\n",
    "        yr = test_data[i]\n",
    "        print(yr,\"->\",end=\"\")\n",
    "        result = is_year_leap(yr)\n",
    "        if result == test_results[i]:\n",
    "            print(\"OK\")\n",
    "        else:\n",
    "            print(\"Failed\")"
   ]
  },
  {
   "cell_type": "code",
   "execution_count": null,
   "id": "4d286717-b271-490b-8418-a94e84da08af",
   "metadata": {},
   "outputs": [],
   "source": [
    "def is_year_leap(year):\n",
    "test_data = [1900, 2000, 2016, 1987]\n",
    "test_results = [False, True, True, False]\n",
    "for i in range(len(test_data)):\n",
    "\tyr = test_data[i]\n",
    "\tprint(yr,\"->\",end=\"\")\n",
    "\tresult = is_year_leap(yr)\n",
    "\tif result == test_results[i]:\n",
    "\t\tprint(\"OK\")\n",
    "\telse:\n",
    "\t\tprint(\"Failed\")"
   ]
  },
  {
   "cell_type": "code",
   "execution_count": null,
   "id": "b3e2e137-7566-4703-a654-24e4d5f15527",
   "metadata": {},
   "outputs": [],
   "source": [
    "def my_function():\n",
    "    var = 2\n",
    "    print(\"Do I know that variable?\", var)\n",
    "var = 1\n",
    "my_function()\n",
    "print(var)"
   ]
  },
  {
   "cell_type": "code",
   "execution_count": null,
   "id": "07c08526-360c-477d-92f0-26390e0d6738",
   "metadata": {},
   "outputs": [],
   "source": [
    "def my_name():\n",
    "    nam = input(\"Enter your name: \")\n",
    "    print(\"Your name is \" + nam)"
   ]
  },
  {
   "cell_type": "code",
   "execution_count": null,
   "id": "c28592be-f8a8-4c7b-9e10-0af1ccb71afb",
   "metadata": {},
   "outputs": [],
   "source": [
    "my_name()"
   ]
  },
  {
   "cell_type": "code",
   "execution_count": null,
   "id": "138b57cb-fe90-44ec-b0f3-35e6ce9f7723",
   "metadata": {},
   "outputs": [],
   "source": [
    "def m_to_cm(m):\n",
    "    centimeter = m * 100\n",
    "    return centimeter"
   ]
  },
  {
   "cell_type": "code",
   "execution_count": null,
   "id": "f61e945c-0e51-4d8c-b969-68faaa3327fb",
   "metadata": {},
   "outputs": [],
   "source": [
    "m_to_cm(1.08)"
   ]
  },
  {
   "cell_type": "code",
   "execution_count": null,
   "id": "807b4935-cdc6-4e74-b0d9-d6ec3c2d7bf3",
   "metadata": {},
   "outputs": [],
   "source": [
    "def ft_to_cm(ft):\n",
    "    centimeter = ft * 30.48\n",
    "    return centimeter\n",
    "ft_to_cm(6)"
   ]
  },
  {
   "cell_type": "code",
   "execution_count": null,
   "id": "43508e16-ff75-468a-a6eb-3378972ecaec",
   "metadata": {},
   "outputs": [],
   "source": []
  },
  {
   "cell_type": "code",
   "execution_count": null,
   "id": "1d6a03e0-1bcd-4a65-8909-48d15c111f9e",
   "metadata": {},
   "outputs": [],
   "source": [
    "def names(fname, lname, sex='M'):\n",
    "    print('sex is', M, 'name is', fname, lname)\n",
    "people_in_school = names()\n",
    "people_in_school = ('james', 'esther', 'male')"
   ]
  },
  {
   "cell_type": "code",
   "execution_count": null,
   "id": "f66c73be-3a7e-478d-9f0e-51fd344af034",
   "metadata": {},
   "outputs": [],
   "source": [
    "def create_list(n):\n",
    "    my_list = []\n",
    "    for i in range(n):\n",
    "        my_list.append(i)\n",
    "    return my_list\n",
    "\n",
    "print(create_list(5))"
   ]
  },
  {
   "cell_type": "code",
   "execution_count": null,
   "id": "c50ec06d-9c89-49c6-9eba-f81b0889670f",
   "metadata": {},
   "outputs": [],
   "source": [
    "def create_list(n):\n",
    "    my_list = []\n",
    "    for i in range(n):\n",
    "        my_list.append(i)\n",
    "    return my_list\n",
    "print(create_list(5))"
   ]
  },
  {
   "cell_type": "code",
   "execution_count": null,
   "id": "b49b32aa-490e-4f51-bbac-c8f55eba75ca",
   "metadata": {},
   "outputs": [],
   "source": [
    "def hi_everybody(my_list):\n",
    "    for name in my_list:\n",
    "        print(\"Hi,\", name)\n",
    "\n",
    "hi_everybody([\"Adam\", \"John\", \"Lucy\"])"
   ]
  },
  {
   "cell_type": "code",
   "execution_count": null,
   "id": "5fb09c98-915a-4c3a-ba3e-b45e2083a30a",
   "metadata": {},
   "outputs": [],
   "source": [
    "def hi():\n",
    "    print(\"Hi!\")\n",
    "    return\n",
    "hi()"
   ]
  },
  {
   "cell_type": "code",
   "execution_count": null,
   "id": "115367ae-1c6e-42fe-ab4e-7fbae5727c25",
   "metadata": {},
   "outputs": [],
   "source": [
    "def hi():\n",
    "    return\n",
    "    print(\"Hi!\")\n",
    "\n",
    "hi()"
   ]
  },
  {
   "cell_type": "code",
   "execution_count": null,
   "id": "e524ecc1-c062-4f40-bf16-7f42f7513d87",
   "metadata": {},
   "outputs": [],
   "source": [
    "def my_function():\n",
    "    global var\n",
    "    var = 8\n",
    "    print(\"Do I know that variable?\", var)\n",
    "\n",
    "\n",
    "var = 1\n",
    "my_function()\n",
    "print(var)"
   ]
  },
  {
   "cell_type": "code",
   "execution_count": null,
   "id": "0e010b52-c06f-4275-bc28-df798b4d6588",
   "metadata": {},
   "outputs": [],
   "source": [
    "def my_function(my_list_1):\n",
    "    print(\"Print #1:\", my_list_1)\n",
    "    print(\"Print #2:\", my_list_2)\n",
    "    my_list_1 = [0, 1]\n",
    "    print(\"Print #3:\", my_list_1)\n",
    "    print(\"Print #4:\", my_list_2)\n",
    "\n",
    "\n",
    "my_list_2 = [2, 3]\n",
    "my_function(my_list_2)\n",
    "print(\"Print #5:\", my_list_2)"
   ]
  },
  {
   "cell_type": "code",
   "execution_count": null,
   "id": "38bf395b-3a13-42a4-a00f-18e1282a0138",
   "metadata": {},
   "outputs": [],
   "source": [
    "def my_function(my_list_1):\n",
    "    print(\"Print #1:\", my_list_1)\n",
    "    print(\"Print #2:\", my_list_2)\n",
    "    del my_list_2[0]  # Pay attention to this line.\n",
    "    print(\"Print #3:\", my_list_1)\n",
    "    print(\"Print #4:\", my_list_2)\n",
    "\n",
    "\n",
    "my_list_2 = [2, 3]\n",
    "my_function(my_list_2)\n",
    "print(\"Print #5:\", my_list_2)\n"
   ]
  },
  {
   "cell_type": "code",
   "execution_count": null,
   "id": "098ceb60-84cd-4264-889a-a728014aeed2",
   "metadata": {},
   "outputs": [],
   "source": [
    "def my_function(n):\n",
    "    print(\"I got\", n)\n",
    "    n += 1\n",
    "    print(\"I have\", n)\n",
    "    n += 1\n",
    "    print(\"I want\", n)\n",
    "pop = 2\n",
    "var = 1\n",
    "my_function(pop)\n",
    "print(var)"
   ]
  },
  {
   "cell_type": "code",
   "execution_count": null,
   "id": "9b2dae86-7599-4ad2-abcd-15ac3b0f5ff5",
   "metadata": {},
   "outputs": [],
   "source": [
    "var = 2\n",
    "\n",
    "\n",
    "def mult_by_var(x):\n",
    "    return x * var\n",
    "\n",
    "\n",
    "print(mult_by_var(7))    # outputs: 14"
   ]
  },
  {
   "cell_type": "code",
   "execution_count": null,
   "id": "bf0809f4-6aa5-4fba-a1af-036a221d65af",
   "metadata": {},
   "outputs": [],
   "source": [
    "a = 1\n",
    "\n",
    "\n",
    "def fun():\n",
    "    global a\n",
    "    a = 2\n",
    "    print(a)\n",
    "\n",
    "\n",
    "fun()\n",
    "a = 6\n",
    "print(a)"
   ]
  },
  {
   "cell_type": "code",
   "execution_count": null,
   "id": "c8626be2-fd32-48ca-9a8a-381eac90c0fc",
   "metadata": {},
   "outputs": [],
   "source": [
    "def kg_to_g(kg):\n",
    "    return kg * 1000\n",
    "kg = int(input())\n",
    "print(int(kg_to_g(kg)))"
   ]
  },
  {
   "cell_type": "code",
   "execution_count": 118,
   "id": "e2d7437a-ad95-4014-8aed-a1d82bd1e3d3",
   "metadata": {},
   "outputs": [
    {
     "name": "stdout",
     "output_type": "stream",
     "text": [
      "27.565214082533313\n"
     ]
    }
   ],
   "source": [
    "def ft_and_inch_to_m(ft, inch = 0.0):\n",
    "    return ft * 0.3048 + inch * 0.0254\n",
    "\n",
    "\n",
    "def lb_to_kg(lb):\n",
    "    return lb * 0.45359237\n",
    "\n",
    "\n",
    "def bmi(weight, height):\n",
    "    if height < 1.0 or height > 2.5 or weight < 20 or weight > 200:\n",
    "        return None\n",
    "    \n",
    "    return weight / height ** 2\n",
    "\n",
    "\n",
    "print(bmi(weight = lb_to_kg(176), height = ft_and_inch_to_m(5, 7)))"
   ]
  },
  {
   "cell_type": "code",
   "execution_count": null,
   "id": "021d35c6-cf73-46bc-a975-ee7932d61606",
   "metadata": {},
   "outputs": [],
   "source": [
    "def is_a_triangle(a, b, c):\n",
    "    if a + b <= c or b + c <= a or c + a <= b:\n",
    "        return False\n",
    "    \n",
    "    return True\n",
    "print(is_a_triangle(1, 1, 1))\n",
    "print(is_a_triangle(1, 1, 3))"
   ]
  },
  {
   "cell_type": "code",
   "execution_count": null,
   "id": "e48985e8-328a-411a-9a23-64bb3e9fad57",
   "metadata": {},
   "outputs": [],
   "source": [
    "def is_a_triangle(a, b, c):\n",
    "    return a + b > c and b + c > a and c + a > b\n",
    "\n",
    "\n",
    "print(is_a_triangle(1, 1, 1))\n",
    "print(is_a_triangle(1, 1, 3))\n",
    "print(is_a_right_triangle(5, 3, 4))"
   ]
  },
  {
   "cell_type": "code",
   "execution_count": null,
   "id": "5de7b1d2-857c-417d-81e7-c75c3bb714cf",
   "metadata": {},
   "outputs": [],
   "source": [
    "def is_a_triangle(a, b, c):\n",
    "    return a + b > c and b + c > a and c + a > b\n",
    "\n",
    "\n",
    "def is_a_right_triangle(a, b, c):\n",
    "    if not is_a_triangle(a, b, c):\n",
    "        return False\n",
    "    if c > a and c > b:\n",
    "        return c ** 2 == a ** 2 + b ** 2\n",
    "    if a > b and a > c:\n",
    "        return a ** 2 == b ** 2 + c ** 2\n",
    "\n",
    "\n",
    "print(is_a_right_triangle(5, 3, 4))\n",
    "print(is_a_right_triangle(1, 3, 4))\n",
    "\n"
   ]
  },
  {
   "cell_type": "code",
   "execution_count": 68,
   "id": "7c96da95-27bf-401a-9c4d-a7d855891891",
   "metadata": {},
   "outputs": [
    {
     "name": "stdin",
     "output_type": "stream",
     "text": [
      "Enter the first side's length:  5\n",
      "Enter the second side's length:  3\n",
      "Enter the third side's length:  4\n"
     ]
    },
    {
     "name": "stdout",
     "output_type": "stream",
     "text": [
      "Yes, it can be a triangle.\n"
     ]
    }
   ],
   "source": [
    "def is_a_triangle(a, b, c):\n",
    "    return a + b > c and b + c > a and c + a > b\n",
    "\n",
    "\n",
    "a = float(input('Enter the first side\\'s length: '))\n",
    "b = float(input('Enter the second side\\'s length: '))\n",
    "c = float(input('Enter the third side\\'s length: '))\n",
    "\n",
    "if is_a_triangle(a, b, c):\n",
    "    print('Yes, it can be a triangle.')\n",
    "else:\n",
    "    print('No, it can\\'t be a triangle.')"
   ]
  },
  {
   "cell_type": "code",
   "execution_count": null,
   "id": "84af5a80-181b-4968-ad73-ec2a419915d2",
   "metadata": {},
   "outputs": [],
   "source": [
    "def is_a_triangle(a, b, c):\n",
    "    return a + b > c and b + c > a and c + a > b\n",
    "\n",
    "\n",
    "def heron(a, b, c):\n",
    "    p = (a + b + c) / 2\n",
    "    return (p * (p - a) * (p - b) * (p - c)) ** 0.5\n",
    "\n",
    "\n",
    "def area_of_triangle(a, b, c):\n",
    "    if not is_a_triangle(a, b, c):\n",
    "        return None\n",
    "    return heron(a, b, c)\n",
    "a = float(input('Enter the first side\\'s length: '))\n",
    "b = float(input('Enter the second side\\'s length: '))\n",
    "c = float(input('Enter the third side\\'s length: '))\n",
    "print(area_of_triangle(a, b, c))"
   ]
  },
  {
   "cell_type": "code",
   "execution_count": null,
   "id": "d9edcebf-a551-4b46-9bc7-45e405517dfc",
   "metadata": {},
   "outputs": [],
   "source": [
    "def factorial_function(n):\n",
    "    if n < 0:\n",
    "        return None\n",
    "    if n < 2:\n",
    "        return 1\n",
    "    \n",
    "    product = 1\n",
    "    for i in range(2, n + 1):\n",
    "        product *= i\n",
    "    return product\n",
    "\n",
    "for n in range(1, 6):  # testing\n",
    "    print(n, factorial_function(n))"
   ]
  },
  {
   "cell_type": "code",
   "execution_count": null,
   "id": "31123e02-b17f-4cd5-bfee-77939737dd68",
   "metadata": {},
   "outputs": [],
   "source": [
    "def fib(n):\n",
    "    if n < 1:\n",
    "        return None\n",
    "    if n < 3:\n",
    "        return 1\n",
    "\n",
    "    elem_1 = elem_2 = 1\n",
    "    the_sum = 0\n",
    "    for i in range(3, n + 1):\n",
    "        the_sum = elem_1 + elem_2\n",
    "        elem_1, elem_2 = elem_2, the_sum\n",
    "    return the_sum\n",
    "\n",
    "\n",
    "for n in range(1, 10):  # testing\n",
    "    print(n, \"->\", fib(n))"
   ]
  },
  {
   "cell_type": "code",
   "execution_count": null,
   "id": "e95e3e45-285c-411b-a4f5-3164efe8de2f",
   "metadata": {},
   "outputs": [],
   "source": [
    "def fib(n):\n",
    "    if n < 1:\n",
    "        return None\n",
    "    if n < 3:\n",
    "        return 1\n",
    "    return fib(n - 1) + fib(n - 2)\n",
    "\n",
    "for n in range(1, 10):  # testing\n",
    "    print(n, \"=>\", fib(n))"
   ]
  },
  {
   "cell_type": "code",
   "execution_count": 122,
   "id": "d3594880-8211-4bb5-9c15-083696f87a3b",
   "metadata": {},
   "outputs": [
    {
     "name": "stdout",
     "output_type": "stream",
     "text": [
      "1 1\n",
      "2 2\n",
      "3 6\n",
      "4 24\n",
      "5 120\n",
      "6 720\n",
      "7 5040\n",
      "8 40320\n",
      "9 362880\n",
      "10 3628800\n",
      "11 39916800\n",
      "12 479001600\n",
      "13 6227020800\n",
      "14 87178291200\n",
      "15 1307674368000\n",
      "16 20922789888000\n",
      "17 355687428096000\n",
      "18 6402373705728000\n",
      "19 121645100408832000\n",
      "20 2432902008176640000\n"
     ]
    }
   ],
   "source": [
    "def factorial_function(n):\n",
    "    if n < 0:\n",
    "        return None\n",
    "    if n < 2:\n",
    "        return 1\n",
    "    return n * factorial_function(n - 1)\n",
    "\n",
    "for n in range(1, 21):  # testing\n",
    "    print(n, factorial_function(n))"
   ]
  },
  {
   "cell_type": "code",
   "execution_count": null,
   "id": "47582153-a33e-43f6-b47f-fd2f0b4015d4",
   "metadata": {},
   "outputs": [],
   "source": [
    "def fun(a):\n",
    "    if a > 30:\n",
    "        return 3\n",
    "    else:\n",
    "        return a + fun(a + 3)\n",
    "\n",
    "\n",
    "print(fun(25))"
   ]
  },
  {
   "cell_type": "code",
   "execution_count": 124,
   "id": "0986779c-c5e6-4455-9b32-c6d24294c893",
   "metadata": {},
   "outputs": [
    {
     "name": "stdout",
     "output_type": "stream",
     "text": [
      "[1]\n"
     ]
    }
   ],
   "source": [
    "list1 = []\n",
    "list1.append(1)\n",
    "print(list1)"
   ]
  },
  {
   "cell_type": "code",
   "execution_count": null,
   "id": "f39e43f5-1595-4799-8091-afae31cdca9d",
   "metadata": {},
   "outputs": [],
   "source": [
    "list_1 = [1,2]\n",
    "list_1.append(3)\n",
    "print(list_1)"
   ]
  },
  {
   "cell_type": "code",
   "execution_count": null,
   "id": "05b10fb3-75d4-4bb6-a367-84d4196287c6",
   "metadata": {},
   "outputs": [],
   "source": [
    "list = (1,)\n",
    "print(list)"
   ]
  },
  {
   "cell_type": "code",
   "execution_count": null,
   "id": "f609b4b1-0c43-40cd-be88-7064c7c5ff23",
   "metadata": {},
   "outputs": [],
   "source": [
    "my_tuple = (1, 10, 100, 1000)\n",
    "\n",
    "print(my_tuple[0])\n",
    "print(my_tuple[-1])\n",
    "print(my_tuple[1:])\n",
    "print(my_tuple[:-2])\n",
    "\n",
    "for elem in my_tuple:\n",
    "    print(elem)"
   ]
  },
  {
   "cell_type": "code",
   "execution_count": 126,
   "id": "69ac0e86-1393-4983-b733-e6efddb5ef57",
   "metadata": {},
   "outputs": [
    {
     "ename": "TypeError",
     "evalue": "'tuple' object doesn't support item deletion",
     "output_type": "error",
     "traceback": [
      "\u001b[1;31m---------------------------------------------------------------------------\u001b[0m",
      "\u001b[1;31mTypeError\u001b[0m                                 Traceback (most recent call last)",
      "Cell \u001b[1;32mIn[126], line 2\u001b[0m\n\u001b[0;32m      1\u001b[0m my_tuple \u001b[38;5;241m=\u001b[39m (\u001b[38;5;241m1\u001b[39m, \u001b[38;5;241m10\u001b[39m, \u001b[38;5;241m100\u001b[39m, \u001b[38;5;241m1000\u001b[39m)\n\u001b[1;32m----> 2\u001b[0m \u001b[38;5;28;01mdel\u001b[39;00m my_tuple[\u001b[38;5;241m0\u001b[39m]\n\u001b[0;32m      3\u001b[0m \u001b[38;5;28mprint\u001b[39m(my_tuple)\n",
      "\u001b[1;31mTypeError\u001b[0m: 'tuple' object doesn't support item deletion"
     ]
    }
   ],
   "source": [
    "my_tuple = (1, 10, 100, 1000)\n",
    "del my_tuple[0]\n",
    "print(my_tuple)"
   ]
  },
  {
   "cell_type": "code",
   "execution_count": null,
   "id": "83870bec-7915-4b3e-9d9e-53f2535f8a3f",
   "metadata": {},
   "outputs": [],
   "source": [
    "my_tuple = (1, 10, 100)\n",
    "\n",
    "t1 = my_tuple + (1000, 10000)\n",
    "t2 = my_tuple * 3\n",
    "\n",
    "print(len(t2))\n",
    "print(t1)\n",
    "print(t2)\n",
    "print(100 in t1)\n",
    "print(-10 not in my_tuple)\n"
   ]
  },
  {
   "cell_type": "code",
   "execution_count": null,
   "id": "daa033ae-1991-48cb-a329-88c86f4ae073",
   "metadata": {},
   "outputs": [],
   "source": [
    "t2"
   ]
  },
  {
   "cell_type": "code",
   "execution_count": null,
   "id": "718e9df2-1eec-424a-8b5d-5a7377a30b21",
   "metadata": {},
   "outputs": [],
   "source": [
    "var = 123\n",
    "\n",
    "t1 = (1, )\n",
    "t2 = (2, )\n",
    "t3 = (3, var)\n",
    "\n",
    "t1, t2, t3 = t2, t3, t1\n",
    "\n",
    "print(t1, t2, t3)"
   ]
  },
  {
   "cell_type": "code",
   "execution_count": 72,
   "id": "8d699000-ac23-413a-814d-b10bb472be57",
   "metadata": {},
   "outputs": [
    {
     "name": "stdout",
     "output_type": "stream",
     "text": [
      "{'cat': 'chat', 'dog': 'chien', 'horse': 'cheval'}\n",
      "{'boss': 5551234567, 'suzy': 22657854310}\n",
      "{2: 36}\n"
     ]
    }
   ],
   "source": [
    "dictionary = {\"cat\": \"chat\", \"dog\": \"chien\", \"horse\": \"cheval\"}\n",
    "phone_numbers = {'boss': 5551234567, 'suzy': 22657854310}\n",
    "empty_dictionary = {2:36}\n",
    "\n",
    "print(dictionary)\n",
    "print(phone_numbers)\n",
    "print(empty_dictionary)"
   ]
  },
  {
   "cell_type": "code",
   "execution_count": 98,
   "id": "11b60ece-5957-4368-af71-0c07fd311f38",
   "metadata": {},
   "outputs": [
    {
     "name": "stdout",
     "output_type": "stream",
     "text": [
      "cat\n",
      "dog\n",
      "horse\n"
     ]
    }
   ],
   "source": [
    "dictionary = {\"cat\": \"chat\", \"dog\": \"chien\", \"horse\": \"cheval\"}\n",
    "phone_numbers = {'boss': 5551234567, 'suzy': 22657854310}\n",
    "empty_dictionary = {2:36}\n",
    "\n",
    "for key in sorted(dictionary.keys()):\n",
    "    print(key)"
   ]
  },
  {
   "cell_type": "code",
   "execution_count": 92,
   "id": "ec48a081-662b-4c3f-b1ab-40ead0b5b632",
   "metadata": {},
   "outputs": [
    {
     "data": {
      "text/plain": [
       "dict_values([36])"
      ]
     },
     "execution_count": 92,
     "metadata": {},
     "output_type": "execute_result"
    }
   ],
   "source": [
    "empty_dictionary.values()"
   ]
  },
  {
   "cell_type": "code",
   "execution_count": 7,
   "id": "b5fb1b9b-1000-49a2-b14c-7309d2fe8d46",
   "metadata": {},
   "outputs": [
    {
     "data": {
      "text/plain": [
       "1"
      ]
     },
     "execution_count": 7,
     "metadata": {},
     "output_type": "execute_result"
    }
   ],
   "source": [
    "def subtra(a,b):\n",
    "    return a - b\n",
    "subtra(5,4) "
   ]
  },
  {
   "cell_type": "code",
   "execution_count": 19,
   "id": "f00396a2-b82c-47c7-a010-a9220074041e",
   "metadata": {},
   "outputs": [
    {
     "data": {
      "text/plain": [
       "3"
      ]
     },
     "execution_count": 19,
     "metadata": {},
     "output_type": "execute_result"
    }
   ],
   "source": [
    "subtra(7,4)"
   ]
  },
  {
   "cell_type": "code",
   "execution_count": 25,
   "id": "d8310f69-11b2-41f1-8033-54c5399d0a0a",
   "metadata": {},
   "outputs": [
    {
     "name": "stdout",
     "output_type": "stream",
     "text": [
      "1\n"
     ]
    }
   ],
   "source": [
    "def subtra(a,b):\n",
    "    print(a - b)\n",
    "subtra(5,4) "
   ]
  },
  {
   "cell_type": "code",
   "execution_count": 130,
   "id": "03ddbc79-2cea-4277-ab83-1894cbc0f0d4",
   "metadata": {},
   "outputs": [],
   "source": [
    "def subtra(a,b):\n",
    "    return a-b"
   ]
  },
  {
   "cell_type": "code",
   "execution_count": 132,
   "id": "32c43c10-83db-45b4-b0e6-2e35d995defd",
   "metadata": {},
   "outputs": [
    {
     "name": "stdout",
     "output_type": "stream",
     "text": [
      "14\n"
     ]
    }
   ],
   "source": [
    "ret_res = subtra(19,5)\n",
    "print(ret_res)"
   ]
  },
  {
   "cell_type": "code",
   "execution_count": 134,
   "id": "2f471e62-31f6-4b24-a97e-bea4f85f1884",
   "metadata": {},
   "outputs": [
    {
     "data": {
      "text/plain": [
       "196"
      ]
     },
     "execution_count": 134,
     "metadata": {},
     "output_type": "execute_result"
    }
   ],
   "source": [
    "ret_res**2"
   ]
  },
  {
   "cell_type": "code",
   "execution_count": 77,
   "id": "5a974339-380f-4a91-a4cc-89587ef91655",
   "metadata": {},
   "outputs": [
    {
     "name": "stdout",
     "output_type": "stream",
     "text": [
      "20\n"
     ]
    }
   ],
   "source": [
    "def mul(x,y):\n",
    "    print(x*y)\n",
    "\n",
    "mul(4,5)"
   ]
  },
  {
   "cell_type": "code",
   "execution_count": 88,
   "id": "1e94eef6-5ab5-448e-b047-dce12ecc58c6",
   "metadata": {},
   "outputs": [
    {
     "name": "stdout",
     "output_type": "stream",
     "text": [
      "15\n"
     ]
    }
   ],
   "source": [
    "sub = mul(5,3)"
   ]
  },
  {
   "cell_type": "code",
   "execution_count": 90,
   "id": "76070425-4c42-4bd1-94eb-044b6ba21899",
   "metadata": {},
   "outputs": [],
   "source": [
    "sub"
   ]
  },
  {
   "cell_type": "code",
   "execution_count": 94,
   "id": "42840349-fbe9-46de-b300-5a18b4040779",
   "metadata": {},
   "outputs": [
    {
     "data": {
      "text/plain": [
       "20"
      ]
     },
     "execution_count": 94,
     "metadata": {},
     "output_type": "execute_result"
    }
   ],
   "source": [
    "def mul(x,y):\n",
    "    return x*y\n",
    "\n",
    "mul(4,5)"
   ]
  },
  {
   "cell_type": "code",
   "execution_count": 98,
   "id": "7596389d-948e-4e62-b324-99386bdb39d0",
   "metadata": {},
   "outputs": [],
   "source": [
    "sub = mul(5,3)"
   ]
  },
  {
   "cell_type": "code",
   "execution_count": 100,
   "id": "3f054021-593d-4e0d-b8b8-835a13d8bcca",
   "metadata": {},
   "outputs": [
    {
     "data": {
      "text/plain": [
       "15"
      ]
     },
     "execution_count": 100,
     "metadata": {},
     "output_type": "execute_result"
    }
   ],
   "source": [
    "sub"
   ]
  },
  {
   "cell_type": "code",
   "execution_count": 102,
   "id": "5d8db61b-ead1-4ed7-b788-af952650e810",
   "metadata": {},
   "outputs": [],
   "source": [
    "def absolute(p):\n",
    "    if p >= 0:\n",
    "        return p\n",
    "    else:\n",
    "        return -p"
   ]
  },
  {
   "cell_type": "code",
   "execution_count": 106,
   "id": "04919cbf-7dd2-438e-bb06-58c0382f5bb7",
   "metadata": {},
   "outputs": [
    {
     "data": {
      "text/plain": [
       "4"
      ]
     },
     "execution_count": 106,
     "metadata": {},
     "output_type": "execute_result"
    }
   ],
   "source": [
    "absolute(-4)"
   ]
  },
  {
   "cell_type": "code",
   "execution_count": 136,
   "id": "8154c744-fbde-4882-a92a-3b1a4871eb96",
   "metadata": {},
   "outputs": [
    {
     "name": "stdin",
     "output_type": "stream",
     "text": [
      " 12\n"
     ]
    },
    {
     "data": {
      "text/plain": [
       "479001600"
      ]
     },
     "execution_count": 136,
     "metadata": {},
     "output_type": "execute_result"
    }
   ],
   "source": [
    "def fac(z):\n",
    "    if z < 0:\n",
    "        return None\n",
    "    if z < 2:\n",
    "        return 1\n",
    "    return z * fac(z-1)\n",
    "z = int(input())\n",
    "fac(z)"
   ]
  },
  {
   "cell_type": "code",
   "execution_count": 154,
   "id": "2958a34d-d9d4-4b69-a627-8a7049fb2a62",
   "metadata": {},
   "outputs": [
    {
     "data": {
      "text/plain": [
       "120"
      ]
     },
     "execution_count": 154,
     "metadata": {},
     "output_type": "execute_result"
    }
   ],
   "source": [
    "fac(5)"
   ]
  },
  {
   "cell_type": "code",
   "execution_count": 138,
   "id": "ccbdf40e-7213-4c6e-94d5-e9cd24861cd5",
   "metadata": {},
   "outputs": [
    {
     "name": "stdin",
     "output_type": "stream",
     "text": [
      " Ibu\n"
     ]
    },
    {
     "name": "stdout",
     "output_type": "stream",
     "text": [
      "Hello Ibu\n"
     ]
    }
   ],
   "source": [
    "def wlc(name):\n",
    "    print(\"Hello\", name)\n",
    "name = str(input())\n",
    "wlc(name)"
   ]
  },
  {
   "cell_type": "code",
   "execution_count": 188,
   "id": "02cce273-e096-472c-a1b9-ad1a93de12e5",
   "metadata": {},
   "outputs": [
    {
     "name": "stdout",
     "output_type": "stream",
     "text": [
      "Hello joe\n"
     ]
    }
   ],
   "source": [
    "wlc('joe')"
   ]
  },
  {
   "cell_type": "code",
   "execution_count": 190,
   "id": "d8ea89c5-8289-418f-be74-8dcf04d8498e",
   "metadata": {},
   "outputs": [],
   "source": [
    "def fnc():\n",
    "    a = 83\n",
    "    print(a)"
   ]
  },
  {
   "cell_type": "code",
   "execution_count": 231,
   "id": "5d3be378-5602-4572-bc97-cbf8255e1685",
   "metadata": {},
   "outputs": [
    {
     "name": "stdout",
     "output_type": "stream",
     "text": [
      "83\n"
     ]
    }
   ],
   "source": [
    "fnc()"
   ]
  },
  {
   "cell_type": "code",
   "execution_count": 164,
   "id": "0be1ceb2-3aa4-4e65-a738-7ab9307ff56e",
   "metadata": {},
   "outputs": [],
   "source": [
    "z = 5\n",
    "def my_function():\n",
    "    global z\n",
    "    z = 8\n",
    "    print(z)"
   ]
  },
  {
   "cell_type": "code",
   "execution_count": 166,
   "id": "04c6203f-a23d-4afa-b8b3-a288fcf46afb",
   "metadata": {},
   "outputs": [
    {
     "name": "stdout",
     "output_type": "stream",
     "text": [
      "8\n"
     ]
    }
   ],
   "source": [
    "my_function()"
   ]
  },
  {
   "cell_type": "code",
   "execution_count": 168,
   "id": "5ecc2f15-ec80-493d-8a0f-5ac92c1e051e",
   "metadata": {},
   "outputs": [
    {
     "data": {
      "text/plain": [
       "8"
      ]
     },
     "execution_count": 168,
     "metadata": {},
     "output_type": "execute_result"
    }
   ],
   "source": [
    "z"
   ]
  },
  {
   "cell_type": "code",
   "execution_count": 237,
   "id": "b8928206-07a1-49ac-8f9a-01ad1f9bcfcf",
   "metadata": {},
   "outputs": [],
   "source": [
    "z = 5\n",
    "def my_function1():\n",
    "    global z\n",
    "    z+=9\n",
    "    print(z)"
   ]
  },
  {
   "cell_type": "code",
   "execution_count": 239,
   "id": "2b3d3b2a-cd92-4c16-afed-a912c2795635",
   "metadata": {},
   "outputs": [
    {
     "name": "stdout",
     "output_type": "stream",
     "text": [
      "14\n"
     ]
    }
   ],
   "source": [
    "my_function1()"
   ]
  },
  {
   "cell_type": "code",
   "execution_count": 176,
   "id": "b9f03f97-4f41-4f4c-9767-4ed78cfea265",
   "metadata": {},
   "outputs": [],
   "source": [
    "z = 5\n",
    "def my_function1():\n",
    "    global z\n",
    "    z+=9\n",
    "    print(z)"
   ]
  },
  {
   "cell_type": "code",
   "execution_count": 178,
   "id": "da67d116-861e-470c-a4c7-2593268932ff",
   "metadata": {},
   "outputs": [
    {
     "name": "stdout",
     "output_type": "stream",
     "text": [
      "14\n"
     ]
    }
   ],
   "source": [
    "my_function1()"
   ]
  },
  {
   "cell_type": "code",
   "execution_count": 7,
   "id": "2659d1e9-69e7-44a5-a00b-92b5582cb0df",
   "metadata": {},
   "outputs": [],
   "source": [
    "pi = 22/7\n",
    "def peri_of_a_circle(r):\n",
    "    return 2 * pi * r "
   ]
  },
  {
   "cell_type": "code",
   "execution_count": 9,
   "id": "d6bd59d3-3b57-4bde-bec2-7e2c60389341",
   "metadata": {},
   "outputs": [
    {
     "data": {
      "text/plain": [
       "44.0"
      ]
     },
     "execution_count": 9,
     "metadata": {},
     "output_type": "execute_result"
    }
   ],
   "source": [
    "peri_of_a_circle(7)"
   ]
  },
  {
   "cell_type": "code",
   "execution_count": 25,
   "id": "dada46ab-abd4-4c28-b12c-7ff1729db3c8",
   "metadata": {},
   "outputs": [
    {
     "name": "stdin",
     "output_type": "stream",
     "text": [
      "Enter the value of the radius:  7\n"
     ]
    },
    {
     "data": {
      "text/plain": [
       "43.96"
      ]
     },
     "execution_count": 25,
     "metadata": {},
     "output_type": "execute_result"
    }
   ],
   "source": [
    "pi = 22/7\n",
    "def peri_of_a_circle(r):\n",
    "    return 2 * pi * r \n",
    "r = int(input(\"Enter the value of the radius: \"))\n",
    "peri_of_a_circle(r)"
   ]
  },
  {
   "cell_type": "code",
   "execution_count": 33,
   "id": "75b16232-176a-415a-8ecc-a6bc81a69c8b",
   "metadata": {},
   "outputs": [
    {
     "name": "stdin",
     "output_type": "stream",
     "text": [
      "Enter the value of the radius:  20\n"
     ]
    },
    {
     "data": {
      "text/plain": [
       "1256.0"
      ]
     },
     "execution_count": 33,
     "metadata": {},
     "output_type": "execute_result"
    }
   ],
   "source": [
    "pi = 3.14\n",
    "def area_of_a_circle(r):\n",
    "    return pi * r**2\n",
    "r = int(input(\"Enter the value of the radius: \"))\n",
    "area_of_a_circle(r)"
   ]
  },
  {
   "cell_type": "code",
   "execution_count": 31,
   "id": "b6baf8a4-b844-47f8-bfcb-6df76b0f72bb",
   "metadata": {},
   "outputs": [
    {
     "data": {
      "text/plain": [
       "1256.0"
      ]
     },
     "execution_count": 31,
     "metadata": {},
     "output_type": "execute_result"
    }
   ],
   "source": [
    "area_of_a_circle(20)"
   ]
  },
  {
   "cell_type": "code",
   "execution_count": 37,
   "id": "6ebe0500-a968-471f-973f-cead5cf16695",
   "metadata": {},
   "outputs": [
    {
     "name": "stdin",
     "output_type": "stream",
     "text": [
      "Enter the value of the radius:  4\n"
     ]
    },
    {
     "data": {
      "text/plain": [
       "200.96"
      ]
     },
     "execution_count": 37,
     "metadata": {},
     "output_type": "execute_result"
    }
   ],
   "source": [
    "pi = 3.14\n",
    "def area_of_a_sphere(r):\n",
    "    return 4 * pi * r**2\n",
    "r = int(input(\"Enter the value of the radius: \"))\n",
    "area_of_a_sphere(r)"
   ]
  },
  {
   "cell_type": "code",
   "execution_count": 39,
   "id": "6eb9a6ab-34a3-41b9-851d-9c64214dae18",
   "metadata": {},
   "outputs": [
    {
     "name": "stdin",
     "output_type": "stream",
     "text": [
      "Enter the value of the radius:  4\n"
     ]
    },
    {
     "data": {
      "text/plain": [
       "267.94666666666666"
      ]
     },
     "execution_count": 39,
     "metadata": {},
     "output_type": "execute_result"
    }
   ],
   "source": [
    "pi = 3.14\n",
    "def volume_of_a_sphere(r):\n",
    "    return 4/3 * pi * r**3\n",
    "r = int(input(\"Enter the value of the radius: \"))\n",
    "volume_of_a_sphere(r)"
   ]
  },
  {
   "cell_type": "code",
   "execution_count": 41,
   "id": "6423fe71-4b62-457c-93a8-48b52a79dee2",
   "metadata": {},
   "outputs": [
    {
     "data": {
      "text/plain": [
       "38772.72"
      ]
     },
     "execution_count": 41,
     "metadata": {},
     "output_type": "execute_result"
    }
   ],
   "source": [
    "volume_of_a_sphere(21)"
   ]
  },
  {
   "cell_type": "code",
   "execution_count": 49,
   "id": "ffe1a753-e930-48a7-95e8-39e702cf47c3",
   "metadata": {},
   "outputs": [
    {
     "name": "stdin",
     "output_type": "stream",
     "text": [
      " 55\n"
     ]
    },
    {
     "name": "stdout",
     "output_type": "stream",
     "text": [
      "Odd number\n"
     ]
    }
   ],
   "source": [
    "def even_number(z):\n",
    "    if z % 2 == 0:\n",
    "        print(\"Even number\")\n",
    "    if z % 2 != 0:\n",
    "        print(\"Odd number\")\n",
    "z = int(input())\n",
    "even_number(z)"
   ]
  },
  {
   "cell_type": "code",
   "execution_count": 51,
   "id": "adf17b22-4172-4d3a-8f27-3542b1bbf9f2",
   "metadata": {},
   "outputs": [],
   "source": [
    "def even_number(z):\n",
    "    return z % 2 == 0"
   ]
  },
  {
   "cell_type": "code",
   "execution_count": 59,
   "id": "4053ef9f-6984-4d62-9977-b4052bb851f4",
   "metadata": {},
   "outputs": [
    {
     "data": {
      "text/plain": [
       "False"
      ]
     },
     "execution_count": 59,
     "metadata": {},
     "output_type": "execute_result"
    }
   ],
   "source": [
    "even_number(243)"
   ]
  },
  {
   "cell_type": "code",
   "execution_count": 67,
   "id": "9752e03d-acff-4546-991c-9a1e5257f27a",
   "metadata": {},
   "outputs": [],
   "source": [
    "def odd_number(z):\n",
    "    return z % 2 != 0"
   ]
  },
  {
   "cell_type": "code",
   "execution_count": 69,
   "id": "030b497d-b493-4223-ad82-fce3e89fe165",
   "metadata": {},
   "outputs": [
    {
     "data": {
      "text/plain": [
       "False"
      ]
     },
     "execution_count": 69,
     "metadata": {},
     "output_type": "execute_result"
    }
   ],
   "source": [
    "odd_number(12)"
   ]
  },
  {
   "cell_type": "code",
   "execution_count": 30,
   "id": "72929200-89da-49c2-b07e-ad0bf44d5fb4",
   "metadata": {},
   "outputs": [],
   "source": [
    "def check_even_list(num_list):\n",
    "    for i in num_list:\n",
    "        if i % 2 == 0:\n",
    "            return True\n",
    "        else:\n",
    "            pass\n",
    "    return False"
   ]
  },
  {
   "cell_type": "code",
   "execution_count": 40,
   "id": "37536ce3-8296-439c-aa23-583cc518a928",
   "metadata": {},
   "outputs": [
    {
     "data": {
      "text/plain": [
       "True"
      ]
     },
     "execution_count": 40,
     "metadata": {},
     "output_type": "execute_result"
    }
   ],
   "source": [
    "check_even_list([11,13,14,15,19])"
   ]
  },
  {
   "cell_type": "code",
   "execution_count": 35,
   "id": "012918d5-3a39-479c-a122-28f7875e5ca4",
   "metadata": {},
   "outputs": [],
   "source": [
    "def check_even_list(num_list):\n",
    "    even_num = []\n",
    "    for i in num_list:\n",
    "        if i % 2 == 0:\n",
    "            even_num.append(i)\n",
    "        else:\n",
    "            pass\n",
    "    return even_num"
   ]
  },
  {
   "cell_type": "code",
   "execution_count": 180,
   "id": "82104911-1906-4c93-9cec-83d391442e9c",
   "metadata": {},
   "outputs": [
    {
     "data": {
      "text/plain": [
       "[12, 14, 16, 24, 78]"
      ]
     },
     "execution_count": 180,
     "metadata": {},
     "output_type": "execute_result"
    }
   ],
   "source": [
    "check_even_list([12,13,14,15,16,24,78])"
   ]
  },
  {
   "cell_type": "code",
   "execution_count": 39,
   "id": "5535631b-fe36-4060-911e-05f7ee80a0f8",
   "metadata": {},
   "outputs": [
    {
     "data": {
      "text/plain": [
       "[]"
      ]
     },
     "execution_count": 39,
     "metadata": {},
     "output_type": "execute_result"
    }
   ],
   "source": [
    "check_even_list([13,23,43,47,17])"
   ]
  },
  {
   "cell_type": "code",
   "execution_count": 11,
   "id": "014c21f6-b9a5-458c-95c1-62bcd50c9f9e",
   "metadata": {},
   "outputs": [
    {
     "name": "stdout",
     "output_type": "stream",
     "text": [
      "cat -> chat\n",
      "dog -> chien\n",
      "horse -> cheval\n"
     ]
    }
   ],
   "source": [
    "dictionary = {\"cat\": \"chat\", \"dog\": \"chien\", \"horse\": \"cheval\"}\n",
    "\n",
    "for key in dictionary:\n",
    "    print(key, \"->\", dictionary[key])"
   ]
  },
  {
   "cell_type": "code",
   "execution_count": 19,
   "id": "3104ec97-c023-4edd-a043-ecaee7a451a8",
   "metadata": {},
   "outputs": [
    {
     "name": "stdout",
     "output_type": "stream",
     "text": [
      "2\n",
      "3\n",
      "6\n",
      "7\n"
     ]
    }
   ],
   "source": [
    "dic = {2:4, 3:5, 6:8, 7:9}\n",
    "for i in dic.keys():\n",
    "    print(i)"
   ]
  },
  {
   "cell_type": "code",
   "execution_count": 35,
   "id": "24a9b9b5-89b5-4f1e-bc09-cb0ada63bee6",
   "metadata": {},
   "outputs": [
    {
     "name": "stdout",
     "output_type": "stream",
     "text": [
      "chat\n",
      "chien\n",
      "cheval\n"
     ]
    }
   ],
   "source": [
    "dictionary = {\"cat\": \"chat\", \"dog\": \"chien\", \"horse\": \"cheval\"}\n",
    "\n",
    "for values in (dictionary.values()):\n",
    "    print(values)\n",
    "    "
   ]
  },
  {
   "cell_type": "code",
   "execution_count": 37,
   "id": "298bfbd2-e9e3-472c-ba27-8999594b392a",
   "metadata": {},
   "outputs": [
    {
     "name": "stdout",
     "output_type": "stream",
     "text": [
      "cat => chat\n",
      "dog => chien\n",
      "horse => cheval\n"
     ]
    }
   ],
   "source": [
    "dictionary = {\"cat\": \"chat\", \"dog\": \"chien\", \"horse\": \"cheval\"}\n",
    "for i, a in dictionary.items():\n",
    "    print(i, \"=>\", a)"
   ]
  },
  {
   "cell_type": "code",
   "execution_count": 39,
   "id": "683e7715-ec70-4d4c-992b-302c489d89ea",
   "metadata": {},
   "outputs": [
    {
     "name": "stdout",
     "output_type": "stream",
     "text": [
      "{'cat': 'chat', 'dog': 'chien', 'horse': 'cheval'}\n"
     ]
    }
   ],
   "source": [
    "print(dictionary)"
   ]
  },
  {
   "cell_type": "code",
   "execution_count": 41,
   "id": "d9b72947-2929-46f7-8cbb-d65418fba5b4",
   "metadata": {},
   "outputs": [
    {
     "name": "stdout",
     "output_type": "stream",
     "text": [
      "{'cat': 'chat', 'dog': 'chirp', 'horse': 'cheval'}\n"
     ]
    }
   ],
   "source": [
    "dictionary[\"dog\"] = \"chirp\"\n",
    "print(dictionary)"
   ]
  },
  {
   "cell_type": "code",
   "execution_count": 49,
   "id": "14b7cc51-bbf4-4144-9058-5e9d752ad172",
   "metadata": {},
   "outputs": [
    {
     "name": "stdout",
     "output_type": "stream",
     "text": [
      "{'cat': 'chat', 'dog': 'chirp', 'horse': 'cheval', 'void': 'chip'}\n"
     ]
    }
   ],
   "source": [
    "dictionary[\"void\"] = \"chip\"\n",
    "print(dictionary)"
   ]
  },
  {
   "cell_type": "code",
   "execution_count": 51,
   "id": "37ddf1f4-3f55-40b8-8fd4-06327f24ec91",
   "metadata": {},
   "outputs": [
    {
     "name": "stdout",
     "output_type": "stream",
     "text": [
      "{'cat': 'chat', 'dog': 'chirp', 'horse': 'cheval', 'void': 'chip', 'duck': 'canard'}\n"
     ]
    }
   ],
   "source": [
    "dictionary.update({\"duck\": \"canard\"})\n",
    "print(dictionary)"
   ]
  },
  {
   "cell_type": "code",
   "execution_count": 53,
   "id": "2fca373f-3f4f-4540-9f57-07515bdf8fc0",
   "metadata": {},
   "outputs": [
    {
     "name": "stdout",
     "output_type": "stream",
     "text": [
      "{'cat': 'chat', 'dog': 'chirp', 'horse': 'cheval', 'void': 'chip', 'duck': 'canard'}\n"
     ]
    }
   ],
   "source": [
    "print(dictionary)"
   ]
  },
  {
   "cell_type": "code",
   "execution_count": 65,
   "id": "99eb0849-2175-49ac-b930-98f006ebd2ae",
   "metadata": {},
   "outputs": [
    {
     "ename": "KeyError",
     "evalue": "'void'",
     "output_type": "error",
     "traceback": [
      "\u001b[1;31m---------------------------------------------------------------------------\u001b[0m",
      "\u001b[1;31mKeyError\u001b[0m                                  Traceback (most recent call last)",
      "Cell \u001b[1;32mIn[65], line 1\u001b[0m\n\u001b[1;32m----> 1\u001b[0m \u001b[38;5;28;01mdel\u001b[39;00m dictionary[\u001b[38;5;124m\"\u001b[39m\u001b[38;5;124mvoid\u001b[39m\u001b[38;5;124m\"\u001b[39m]\n\u001b[0;32m      2\u001b[0m \u001b[38;5;28mprint\u001b[39m(dictionary)\n",
      "\u001b[1;31mKeyError\u001b[0m: 'void'"
     ]
    }
   ],
   "source": [
    "del dictionary[\"void\"]\n",
    "print(dictionary)"
   ]
  },
  {
   "cell_type": "code",
   "execution_count": 69,
   "id": "41b9b70e-b76c-4a27-87d4-9171f75f3eb1",
   "metadata": {},
   "outputs": [
    {
     "name": "stdout",
     "output_type": "stream",
     "text": [
      "{'cat': 'chat', 'dog': 'chirp', 'duck': 'canard'}\n"
     ]
    }
   ],
   "source": [
    "print(dictionary)"
   ]
  },
  {
   "cell_type": "code",
   "execution_count": 71,
   "id": "b29913e1-dc65-4b8a-9554-7ff7ee9b813c",
   "metadata": {},
   "outputs": [
    {
     "name": "stdout",
     "output_type": "stream",
     "text": [
      "{'cat': 'chat', 'dog': 'chirp'}\n"
     ]
    }
   ],
   "source": [
    "dictionary.popitem()\n",
    "print(dictionary)"
   ]
  },
  {
   "cell_type": "code",
   "execution_count": 75,
   "id": "9732ed53-e8eb-415d-b196-b5dd48a0baef",
   "metadata": {},
   "outputs": [
    {
     "name": "stdin",
     "output_type": "stream",
     "text": [
      "Enter the student's name:  John\n",
      "Enter the student's score (0-10):  9\n",
      "Enter the student's name:  John\n",
      "Enter the student's score (0-10):  8\n",
      "Enter the student's name:  Sam\n",
      "Enter the student's score (0-10):  7\n",
      "Enter the student's name:  Babs\n",
      "Enter the student's score (0-10):  9\n",
      "Enter the student's name:  Sam\n",
      "Enter the student's score (0-10):  10\n",
      "Enter the student's name:  Babs\n",
      "Enter the student's score (0-10):  9\n",
      "Enter the student's name:  Vic\n",
      "Enter the student's score (0-10):  12\n"
     ]
    },
    {
     "name": "stdout",
     "output_type": "stream",
     "text": [
      "Babs : 9.0\n",
      "John : 8.5\n",
      "Sam : 8.5\n"
     ]
    }
   ],
   "source": [
    "school_class = {}\n",
    "\n",
    "while True:\n",
    "    name = input(\"Enter the student's name: \")\n",
    "    if name == '':\n",
    "        break\n",
    "    \n",
    "    score = int(input(\"Enter the student's score (0-10): \"))\n",
    "    if score not in range(0, 11):\n",
    "\t    break\n",
    "    \n",
    "    if name in school_class:\n",
    "        school_class[name] += (score,)\n",
    "    else:\n",
    "        school_class[name] = (score,)\n",
    "        \n",
    "for name in sorted(school_class.keys()):\n",
    "    adding = 0\n",
    "    counter = 0\n",
    "    for score in school_class[name]:\n",
    "        adding += score\n",
    "        counter += 1\n",
    "    print(name, \":\", adding / counter)\n",
    "    "
   ]
  },
  {
   "cell_type": "code",
   "execution_count": 77,
   "id": "1bf410c1-c957-4ec5-bbb6-ac169ac571fa",
   "metadata": {},
   "outputs": [
    {
     "name": "stdout",
     "output_type": "stream",
     "text": [
      "1\n",
      "2\n",
      "3\n",
      "False\n",
      "True\n",
      "4\n",
      "(1, 2, 3, 1, 2, 3, 4)\n",
      "(1, 2, 3, 5, 1, 2, 3, 5)\n"
     ]
    }
   ],
   "source": [
    "# Example 1\n",
    "tuple_1 = (1, 2, 3)\n",
    "for elem in tuple_1:\n",
    "    print(elem)\n",
    "\n",
    "# Example 2\n",
    "tuple_2 = (1, 2, 3, 4)\n",
    "print(5 in tuple_2)\n",
    "print(5 not in tuple_2)\n",
    "\n",
    "# Example 3\n",
    "tuple_3 = (1, 2, 3, 5)\n",
    "print(len(tuple_3))\n",
    "\n",
    "# Example 4\n",
    "tuple_4 = tuple_1 + tuple_2\n",
    "tuple_5 = tuple_3 * 2\n",
    "\n",
    "print(tuple_4)\n",
    "print(tuple_5)\n",
    "\n"
   ]
  },
  {
   "cell_type": "code",
   "execution_count": 79,
   "id": "d2341d97-5641-4481-b3b9-11a3de11a63b",
   "metadata": {},
   "outputs": [
    {
     "name": "stdout",
     "output_type": "stream",
     "text": [
      "(1, 2, 'string')\n",
      "[2, 4, 6]\n",
      "<class 'list'>\n",
      "(2, 4, 6)\n",
      "<class 'tuple'>\n"
     ]
    }
   ],
   "source": [
    "my_tuple = tuple((1, 2, \"string\"))\n",
    "print(my_tuple)\n",
    "\n",
    "my_list = [2, 4, 6]\n",
    "print(my_list) 56   # outputs: [2, 4, 6]\n",
    "print(type(my_list))    # outputs: <class 'list'>\n",
    "tup = tuple(my_list)\n",
    "print(tup)    # outputs: (2, 4, 6)\n",
    "print(type(tup))    # outputs: <class 'tuple'>"
   ]
  },
  {
   "cell_type": "code",
   "execution_count": 81,
   "id": "2c6d556a-aa16-41bc-80fe-e339b821f2dc",
   "metadata": {},
   "outputs": [
    {
     "name": "stdout",
     "output_type": "stream",
     "text": [
      "('cat', 'dog', 'horse')\n"
     ]
    }
   ],
   "source": [
    "dictionary = {\"cat\": \"chat\", \"dog\": \"chien\", \"horse\": \"cheval\"}\n",
    "tup = tuple(dictionary)\n",
    "print(tup)"
   ]
  },
  {
   "cell_type": "code",
   "execution_count": 83,
   "id": "c8126f44-2f1c-43f1-821d-dac6fd54d465",
   "metadata": {},
   "outputs": [
    {
     "name": "stdout",
     "output_type": "stream",
     "text": [
      "['cat', 'dog', 'horse']\n"
     ]
    }
   ],
   "source": [
    "my_list = list(tup)\n",
    "print(my_list)"
   ]
  },
  {
   "cell_type": "code",
   "execution_count": 85,
   "id": "b9c2a7bd-0719-4518-8136-cc40c4d000c4",
   "metadata": {},
   "outputs": [
    {
     "name": "stdout",
     "output_type": "stream",
     "text": [
      "soil\n",
      "water\n"
     ]
    }
   ],
   "source": [
    "pol_eng_dictionary = {\"kwiat\": \"flower\",\"woda\": \"water\",\"gleba\": \"soil\"}\n",
    "\n",
    "item_1 = pol_eng_dictionary[\"gleba\"]    # ex. 1\n",
    "print(item_1)    # outputs: soil\n",
    "\n",
    "item_2 = pol_eng_dictionary.get(\"woda\")\n",
    "print(item_2)    # outputs: water"
   ]
  },
  {
   "cell_type": "code",
   "execution_count": 87,
   "id": "2078c1aa-86ec-46ff-bf0c-de3aa769f32e",
   "metadata": {},
   "outputs": [
    {
     "name": "stdout",
     "output_type": "stream",
     "text": [
      "{'Adam': 3456783958}\n",
      "{}\n"
     ]
    }
   ],
   "source": [
    "phonebook = {}    # an empty dictionary\n",
    "\n",
    "phonebook[\"Adam\"] = 3456783958    # create/add a key-value pair\n",
    "print(phonebook)    # outputs: {'Adam': 3456783958}\n",
    "\n",
    "del phonebook[\"Adam\"]\n",
    "print(phonebook)    # outputs: {}"
   ]
  },
  {
   "cell_type": "code",
   "execution_count": 89,
   "id": "a919b72b-7405-4397-950a-377cbd0b3fa4",
   "metadata": {},
   "outputs": [
    {
     "name": "stdout",
     "output_type": "stream",
     "text": [
      "Pol/Eng -> zamek : castle\n",
      "Pol/Eng -> woda : water\n",
      "Pol/Eng -> gleba : soil\n"
     ]
    }
   ],
   "source": [
    "pol_eng_dictionary = {\n",
    "    \"zamek\": \"castle\",\n",
    "    \"woda\": \"water\",\n",
    "    \"gleba\": \"soil\"\n",
    "    }\n",
    "\n",
    "for key, value in pol_eng_dictionary.items():\n",
    "    print(\"Pol/Eng ->\", key, \":\", value)"
   ]
  },
  {
   "cell_type": "code",
   "execution_count": 95,
   "id": "50f888fa-5a6d-400d-a759-c48be0446667",
   "metadata": {},
   "outputs": [
    {
     "name": "stdin",
     "output_type": "stream",
     "text": [
      " camel\n"
     ]
    },
    {
     "name": "stdout",
     "output_type": "stream",
     "text": [
      "No\n"
     ]
    }
   ],
   "source": [
    "pol_eng_dictionary = {\n",
    "    \"zamek\": \"castle\",\n",
    "    \"woda\": \"water\",\n",
    "    \"gleba\": \"soil\"\n",
    "    }\n",
    "name = input()\n",
    "if name in pol_eng_dictionary:\n",
    "    print(\"Yes\")\n",
    "else:\n",
    "    print(\"No\")"
   ]
  },
  {
   "cell_type": "code",
   "execution_count": 101,
   "id": "b5b5db03-4fd0-4e86-bd29-883b7863b9f6",
   "metadata": {},
   "outputs": [
    {
     "name": "stdout",
     "output_type": "stream",
     "text": [
      "{}\n"
     ]
    }
   ],
   "source": [
    "pol_eng_dictionary.clear()\n",
    "print(pol_eng_dictionary)"
   ]
  },
  {
   "cell_type": "code",
   "execution_count": 103,
   "id": "2228aa63-8ca1-4493-a9fa-56461e1ef056",
   "metadata": {},
   "outputs": [],
   "source": [
    "pol_eng_dictionary = {\n",
    "    \"zamek\": \"castle\",\n",
    "    \"woda\": \"water\",\n",
    "    \"gleba\": \"soil\"\n",
    "    }\n",
    "\n",
    "copy_dictionary = pol_eng_dictionary.copy()"
   ]
  },
  {
   "cell_type": "code",
   "execution_count": 105,
   "id": "93b092af-22a4-421c-877a-4c5d3d51086b",
   "metadata": {},
   "outputs": [
    {
     "name": "stdout",
     "output_type": "stream",
     "text": [
      "{'zamek': 'castle', 'woda': 'water', 'gleba': 'soil'}\n"
     ]
    }
   ],
   "source": [
    "print(copy_dictionary)"
   ]
  },
  {
   "cell_type": "code",
   "execution_count": 107,
   "id": "85b70441-80de-4b38-ba13-1d94070535dd",
   "metadata": {},
   "outputs": [
    {
     "name": "stdout",
     "output_type": "stream",
     "text": [
      "3\n"
     ]
    }
   ],
   "source": [
    "tup = 1, 2, 3\n",
    "a, b, c = tup\n",
    "\n",
    "print(a * c)"
   ]
  },
  {
   "cell_type": "code",
   "execution_count": 115,
   "id": "aa414492-9d3c-4994-a08f-b46b19fea8ec",
   "metadata": {},
   "outputs": [
    {
     "name": "stdout",
     "output_type": "stream",
     "text": [
      "4\n"
     ]
    }
   ],
   "source": [
    "tup = 1, 2, 3, 2, 4, 5, 6, 2, 7, 2, 8, 9\n",
    "duplicates = tup.count(2)\n",
    "\n",
    "print(duplicates)"
   ]
  },
  {
   "cell_type": "code",
   "execution_count": 123,
   "id": "78b22ced-101e-4391-93f4-475ce1db5008",
   "metadata": {},
   "outputs": [
    {
     "name": "stdout",
     "output_type": "stream",
     "text": [
      "{'Adam Smith': 'A', 'Judy Paxton': 'B+', 'Mary Louis': 'A', 'Patrick White': 'C'}\n"
     ]
    }
   ],
   "source": [
    "d1 = {'Adam Smith': 'A', 'Judy Paxton': 'B+'}\n",
    "d2 = {'Mary Louis': 'A', 'Patrick White': 'C'}\n",
    "d3 = {}\n",
    "\n",
    "for item in (d1, d2):\n",
    "    d3.update(item)\n",
    "print(d3)"
   ]
  },
  {
   "cell_type": "code",
   "execution_count": 127,
   "id": "a95a7104-da0e-4cd6-a3af-cbd2c836fff2",
   "metadata": {},
   "outputs": [
    {
     "name": "stdout",
     "output_type": "stream",
     "text": [
      "('car', 'Ford', 'flower', 'Tulip')\n"
     ]
    }
   ],
   "source": [
    "my_list = [\"car\", \"Ford\", \"flower\", \"Tulip\"]\n",
    "t = tuple(my_list)\n",
    "print(t)"
   ]
  },
  {
   "cell_type": "code",
   "execution_count": 129,
   "id": "617e6797-7f19-408e-a97f-a2fd4e4fe0ad",
   "metadata": {},
   "outputs": [
    {
     "name": "stdout",
     "output_type": "stream",
     "text": [
      "{'green': '#008000', 'blue': '#0000FF'}\n"
     ]
    }
   ],
   "source": [
    "colors = ((\"green\", \"#008000\"), (\"blue\", \"#0000FF\"))\n",
    "colors_dictionary = dict(colors)\n",
    "print(colors_dictionary)"
   ]
  },
  {
   "cell_type": "code",
   "execution_count": 131,
   "id": "2f59e4af-489f-4d96-b9db-8856d17af8e3",
   "metadata": {},
   "outputs": [
    {
     "name": "stdout",
     "output_type": "stream",
     "text": [
      "(255, 255, 255) : white\n",
      "(128, 128, 128) : grey\n",
      "(255, 0, 0) : red\n",
      "(0, 128, 0) : green\n"
     ]
    }
   ],
   "source": [
    "colors = {\n",
    "    \"white\": (255, 255, 255),\n",
    "    \"grey\": (128, 128, 128),\n",
    "    \"red\": (255, 0, 0),\n",
    "    \"green\": (0, 128, 0)\n",
    "    }\n",
    "\n",
    "for col, rgb in colors.items():\n",
    "    print(rgb, \":\", col)\n"
   ]
  },
  {
   "cell_type": "code",
   "execution_count": 133,
   "id": "aefba57f-c7fd-4881-969b-d3e839d4197b",
   "metadata": {},
   "outputs": [
    {
     "name": "stdout",
     "output_type": "stream",
     "text": [
      "white : (255, 255, 255)\n",
      "grey : (128, 128, 128)\n",
      "red : (255, 0, 0)\n",
      "green : (0, 128, 0)\n"
     ]
    }
   ],
   "source": [
    "colors = {\n",
    "    \"white\": (255, 255, 255),\n",
    "    \"grey\": (128, 128, 128),\n",
    "    \"red\": (255, 0, 0),\n",
    "    \"green\": (0, 128, 0)\n",
    "    }\n",
    "\n",
    "for col, rgb in colors.items():\n",
    "    print(col, \":\", rgb)"
   ]
  },
  {
   "cell_type": "code",
   "execution_count": 1,
   "id": "124f60f3-2363-43c5-88eb-ba7d3fabb0aa",
   "metadata": {},
   "outputs": [
    {
     "name": "stdout",
     "output_type": "stream",
     "text": [
      "Help on NoneType object:\n",
      "\n",
      "class NoneType(object)\n",
      " |  Methods defined here:\n",
      " |\n",
      " |  __bool__(self, /)\n",
      " |      True if self else False\n",
      " |\n",
      " |  __eq__(self, value, /)\n",
      " |      Return self==value.\n",
      " |\n",
      " |  __ge__(self, value, /)\n",
      " |      Return self>=value.\n",
      " |\n",
      " |  __gt__(self, value, /)\n",
      " |      Return self>value.\n",
      " |\n",
      " |  __hash__(self, /)\n",
      " |      Return hash(self).\n",
      " |\n",
      " |  __le__(self, value, /)\n",
      " |      Return self<=value.\n",
      " |\n",
      " |  __lt__(self, value, /)\n",
      " |      Return self<value.\n",
      " |\n",
      " |  __ne__(self, value, /)\n",
      " |      Return self!=value.\n",
      " |\n",
      " |  __repr__(self, /)\n",
      " |      Return repr(self).\n",
      " |\n",
      " |  ----------------------------------------------------------------------\n",
      " |  Static methods defined here:\n",
      " |\n",
      " |  __new__(*args, **kwargs)\n",
      " |      Create and return a new object.  See help(type) for accurate signature.\n",
      "\n"
     ]
    }
   ],
   "source": [
    "help(None)"
   ]
  },
  {
   "cell_type": "code",
   "execution_count": null,
   "id": "d98b8f0a-2289-438e-95af-6d9216a3146f",
   "metadata": {},
   "outputs": [],
   "source": []
  }
 ],
 "metadata": {
  "kernelspec": {
   "display_name": "Python 3 (ipykernel)",
   "language": "python",
   "name": "python3"
  },
  "language_info": {
   "codemirror_mode": {
    "name": "ipython",
    "version": 3
   },
   "file_extension": ".py",
   "mimetype": "text/x-python",
   "name": "python",
   "nbconvert_exporter": "python",
   "pygments_lexer": "ipython3",
   "version": "3.12.4"
  }
 },
 "nbformat": 4,
 "nbformat_minor": 5
}
