{
 "cells": [
  {
   "cell_type": "code",
   "execution_count": 1,
   "id": "cd95e0cc-3794-43de-97a3-f8f8627fffc0",
   "metadata": {},
   "outputs": [
    {
     "name": "stdout",
     "output_type": "stream",
     "text": [
      "1.0\n"
     ]
    }
   ],
   "source": [
    "from math import sin, pi\n",
    "\n",
    "print(sin(pi/2))"
   ]
  },
  {
   "cell_type": "code",
   "execution_count": 5,
   "id": "07f679ee-9394-4332-8078-80e083514c95",
   "metadata": {},
   "outputs": [
    {
     "name": "stdout",
     "output_type": "stream",
     "text": [
      "2.718281828459045\n"
     ]
    }
   ],
   "source": [
    "print(math.e)"
   ]
  },
  {
   "cell_type": "code",
   "execution_count": 3,
   "id": "d114987a-20c4-4572-9443-6bf858c5d53f",
   "metadata": {},
   "outputs": [
    {
     "data": {
      "text/plain": [
       "1.0"
      ]
     },
     "execution_count": 3,
     "metadata": {},
     "output_type": "execute_result"
    }
   ],
   "source": [
    "import math\n",
    "math.sin(math.pi/2)"
   ]
  },
  {
   "cell_type": "code",
   "execution_count": 19,
   "id": "dc86d7ae-eb36-4980-aef9-1c0accf67331",
   "metadata": {},
   "outputs": [
    {
     "name": "stdout",
     "output_type": "stream",
     "text": [
      "1.0\n"
     ]
    }
   ],
   "source": [
    "import math\n",
    "print(math.sin(math.pi/2))"
   ]
  },
  {
   "cell_type": "code",
   "execution_count": 5,
   "id": "6dc5ff0b-f2cd-46e6-9db0-f351913cbc82",
   "metadata": {},
   "outputs": [
    {
     "name": "stdout",
     "output_type": "stream",
     "text": [
      "0.99999999\n",
      "1.0\n"
     ]
    }
   ],
   "source": [
    "import math\n",
    "\n",
    "\n",
    "def sin(x):\n",
    "    if 2 * x == pi:\n",
    "        return 0.99999999\n",
    "    else:\n",
    "        return None\n",
    "\n",
    "\n",
    "pi = 3.14\n",
    "\n",
    "print(sin(pi/2))\n",
    "print(math.sin(math.pi/2))"
   ]
  },
  {
   "cell_type": "code",
   "execution_count": 43,
   "id": "d13b9ae6-7498-4c2a-bf23-7c6b4cc9f43b",
   "metadata": {},
   "outputs": [
    {
     "name": "stdout",
     "output_type": "stream",
     "text": [
      "2.718281828459045\n"
     ]
    }
   ],
   "source": [
    "print(math.e)"
   ]
  },
  {
   "cell_type": "code",
   "execution_count": 6,
   "id": "f78aa3f4-e2f1-44a7-ad68-a45faea45dc4",
   "metadata": {
    "scrolled": true
   },
   "outputs": [
    {
     "name": "stdout",
     "output_type": "stream",
     "text": [
      "1.0\n",
      "0.99999999\n"
     ]
    }
   ],
   "source": [
    "from math import sin, pi\n",
    "\n",
    "print(sin(pi / 2))\n",
    "\n",
    "pi = 3.14\n",
    "\n",
    "\n",
    "def sin(x):\n",
    "    if 2 * x == pi:\n",
    "        return 0.99999999\n",
    "    else:\n",
    "        return None\n",
    "\n",
    "\n",
    "print(sin(pi / 2))"
   ]
  },
  {
   "cell_type": "code",
   "execution_count": 5,
   "id": "d72a2a68-2ec4-48f0-a287-8814558c9249",
   "metadata": {},
   "outputs": [
    {
     "name": "stdout",
     "output_type": "stream",
     "text": [
      "0.99999999\n",
      "1.0\n"
     ]
    }
   ],
   "source": [
    "pi = 3.14\n",
    "\n",
    "\n",
    "def sin(x):\n",
    "    if 2 * x == pi:\n",
    "        return 0.99999999\n",
    "    else:\n",
    "        return None\n",
    "\n",
    "\n",
    "print(sin(pi / 2))\n",
    "\n",
    "from math import sin, pi\n",
    "\n",
    "print(sin(pi / 2))"
   ]
  },
  {
   "cell_type": "code",
   "execution_count": 3,
   "id": "f37da86f-c452-45d9-b468-6eb74047d90b",
   "metadata": {},
   "outputs": [],
   "source": [
    "from math import *"
   ]
  },
  {
   "cell_type": "code",
   "execution_count": 5,
   "id": "19a34e4e-7e6c-4d28-bcb6-e2c0d3d89b68",
   "metadata": {},
   "outputs": [
    {
     "data": {
      "text/plain": [
       "3.141592653589793"
      ]
     },
     "execution_count": 5,
     "metadata": {},
     "output_type": "execute_result"
    }
   ],
   "source": [
    "pi"
   ]
  },
  {
   "cell_type": "code",
   "execution_count": 3,
   "id": "f66c4ce5-26be-4179-995d-52520a96c398",
   "metadata": {},
   "outputs": [
    {
     "data": {
      "text/plain": [
       "['__doc__',\n",
       " '__loader__',\n",
       " '__name__',\n",
       " '__package__',\n",
       " '__spec__',\n",
       " 'acos',\n",
       " 'acosh',\n",
       " 'asin',\n",
       " 'asinh',\n",
       " 'atan',\n",
       " 'atan2',\n",
       " 'atanh',\n",
       " 'cbrt',\n",
       " 'ceil',\n",
       " 'comb',\n",
       " 'copysign',\n",
       " 'cos',\n",
       " 'cosh',\n",
       " 'degrees',\n",
       " 'dist',\n",
       " 'e',\n",
       " 'erf',\n",
       " 'erfc',\n",
       " 'exp',\n",
       " 'exp2',\n",
       " 'expm1',\n",
       " 'fabs',\n",
       " 'factorial',\n",
       " 'floor',\n",
       " 'fmod',\n",
       " 'frexp',\n",
       " 'fsum',\n",
       " 'gamma',\n",
       " 'gcd',\n",
       " 'hypot',\n",
       " 'inf',\n",
       " 'isclose',\n",
       " 'isfinite',\n",
       " 'isinf',\n",
       " 'isnan',\n",
       " 'isqrt',\n",
       " 'lcm',\n",
       " 'ldexp',\n",
       " 'lgamma',\n",
       " 'log',\n",
       " 'log10',\n",
       " 'log1p',\n",
       " 'log2',\n",
       " 'modf',\n",
       " 'nan',\n",
       " 'nextafter',\n",
       " 'perm',\n",
       " 'pi',\n",
       " 'pow',\n",
       " 'prod',\n",
       " 'radians',\n",
       " 'remainder',\n",
       " 'sin',\n",
       " 'sinh',\n",
       " 'sqrt',\n",
       " 'sumprod',\n",
       " 'tan',\n",
       " 'tanh',\n",
       " 'tau',\n",
       " 'trunc',\n",
       " 'ulp']"
      ]
     },
     "execution_count": 3,
     "metadata": {},
     "output_type": "execute_result"
    }
   ],
   "source": [
    "import math\n",
    "\n",
    "dir(math)"
   ]
  },
  {
   "cell_type": "code",
   "execution_count": 5,
   "id": "ba8f9cde-15d4-41c5-818e-045b17f12aad",
   "metadata": {},
   "outputs": [
    {
     "name": "stdout",
     "output_type": "stream",
     "text": [
      "__doc__\t__loader__\t__name__\t__package__\t__spec__\tacos\tacosh\tasin\tasinh\tatan\tatan2\tatanh\tcbrt\tceil\tcomb\tcopysign\tcos\tcosh\tdegrees\tdist\te\terf\terfc\texp\texp2\texpm1\tfabs\tfactorial\tfloor\tfmod\tfrexp\tfsum\tgamma\tgcd\thypot\tinf\tisclose\tisfinite\tisinf\tisnan\tisqrt\tlcm\tldexp\tlgamma\tlog\tlog10\tlog1p\tlog2\tmodf\tnan\tnextafter\tperm\tpi\tpow\tprod\tradians\tremainder\tsin\tsinh\tsqrt\tsumprod\ttan\ttanh\ttau\ttrunc\tulp\t"
     ]
    }
   ],
   "source": [
    "import math\n",
    "\n",
    "for name in dir(math):\n",
    "    print(name, end=\"\\t\")"
   ]
  },
  {
   "cell_type": "code",
   "execution_count": 12,
   "id": "ba41ba2e-bdaa-48b9-b401-6f1960b8550a",
   "metadata": {},
   "outputs": [
    {
     "name": "stdout",
     "output_type": "stream",
     "text": [
      "True\n",
      "True\n",
      "True\n",
      "True\n"
     ]
    }
   ],
   "source": [
    "from math import pi, radians, degrees, sin, cos, tan, asin\n",
    "\n",
    "ad = 90\n",
    "ar = radians(ad)\n",
    "ad = degrees(ar)\n",
    "\n",
    "print(ad == 90.)\n",
    "print(ar == pi / 2.)\n",
    "print(sin(ar) / cos(ar) == tan(ar))\n",
    "print(asin(sin(ar)) == ar)"
   ]
  },
  {
   "cell_type": "code",
   "execution_count": 9,
   "id": "9eed223e-0f40-4b2e-ab03-925bb40f02c5",
   "metadata": {},
   "outputs": [
    {
     "name": "stdout",
     "output_type": "stream",
     "text": [
      "51.222235723088794\n"
     ]
    }
   ],
   "source": [
    "from math import sin,degrees\n",
    "print(degrees(sin(90.0)))"
   ]
  },
  {
   "cell_type": "code",
   "execution_count": 19,
   "id": "6abf4e9f-463a-4afb-b983-17ee5fcabb53",
   "metadata": {},
   "outputs": [
    {
     "name": "stdout",
     "output_type": "stream",
     "text": [
      "True\n",
      "True\n",
      "True\n",
      "120\n"
     ]
    }
   ],
   "source": [
    "from math import e, exp, log, factorial\n",
    "\n",
    "print(pow(e, 1) == exp(log(e)))\n",
    "print(pow(2, 2) == exp(2 * log(2)))\n",
    "print(log(e, e) == exp(0))\n",
    "print(factorial(5))"
   ]
  },
  {
   "cell_type": "code",
   "execution_count": 13,
   "id": "d49ae039-70b7-46b6-84ea-ebfccc8ef59c",
   "metadata": {},
   "outputs": [
    {
     "name": "stdout",
     "output_type": "stream",
     "text": [
      "16\n"
     ]
    }
   ],
   "source": [
    "print(pow(4,2))"
   ]
  },
  {
   "cell_type": "code",
   "execution_count": 21,
   "id": "e2eebfcd-260f-4c42-aa15-7f087af30bfe",
   "metadata": {},
   "outputs": [
    {
     "name": "stdout",
     "output_type": "stream",
     "text": [
      "1 2\n",
      "-2 -3\n",
      "2 3\n",
      "-1 -2\n",
      "1 2\n",
      "-1 -2\n"
     ]
    }
   ],
   "source": [
    "from math import ceil, floor, trunc\n",
    "\n",
    "x = 1.4    \n",
    "y = 2.6\n",
    "\n",
    "print(floor(x), floor(y))\n",
    "print(floor(-x), floor(-y))\n",
    "print(ceil(x), ceil(y))\n",
    "print(ceil(-x), ceil(-y))\n",
    "print(trunc(x), trunc(y))\n",
    "print(trunc(-x), trunc(-y))\n",
    "    "
   ]
  },
  {
   "cell_type": "code",
   "execution_count": 37,
   "id": "62b09865-d3e2-48a8-89ab-dd518da33496",
   "metadata": {},
   "outputs": [
    {
     "name": "stdout",
     "output_type": "stream",
     "text": [
      "0.7493079943532662\n",
      "0.2382589336862233\n",
      "0.9412083982227268\n",
      "0.8570298782361825\n",
      "0.7990139598352471\n"
     ]
    }
   ],
   "source": [
    "from random import random\n",
    "\n",
    "for i in range(5):\n",
    "    print(random())\n",
    "\n"
   ]
  },
  {
   "cell_type": "code",
   "execution_count": 58,
   "id": "ef34e4c0-5cd3-4f97-b76f-ef9c03b53cdc",
   "metadata": {},
   "outputs": [
    {
     "name": "stdout",
     "output_type": "stream",
     "text": [
      "0.8444218515250481\n",
      "0.7579544029403025\n",
      "0.420571580830845\n",
      "0.25891675029296335\n",
      "0.5112747213686085\n",
      "0.4049341374504143\n"
     ]
    }
   ],
   "source": [
    "from random import random, seed\n",
    "\n",
    "seed(0)\n",
    "\n",
    "for i in range(6):\n",
    "    print(random())"
   ]
  },
  {
   "cell_type": "code",
   "execution_count": 65,
   "id": "c1277ad1-70d7-4a4c-ac00-404ef9218cb2",
   "metadata": {},
   "outputs": [
    {
     "name": "stdout",
     "output_type": "stream",
     "text": [
      "0 1 0 1\n"
     ]
    }
   ],
   "source": [
    "from random import randrange, randint\n",
    "\n",
    "print(randrange(1), end=' ')\n",
    "print(randrange(0, 2), end=' ')\n",
    "print(randrange(0, 1, 3), end=' ')\n",
    "print(randint(0, 3))"
   ]
  },
  {
   "cell_type": "code",
   "execution_count": 103,
   "id": "3da13d7e-c6f7-46ab-b4a5-d110e89b719d",
   "metadata": {},
   "outputs": [
    {
     "name": "stdout",
     "output_type": "stream",
     "text": [
      "0\n",
      "0\n",
      "40\n",
      "1\n"
     ]
    }
   ],
   "source": [
    "from random import randrange, randint\n",
    "\n",
    "print(randrange(1))\n",
    "print(randrange(0, 1))\n",
    "print(randrange(40, 45, 4))\n",
    "print(randint(0, 1))\n"
   ]
  },
  {
   "cell_type": "code",
   "execution_count": 9,
   "id": "6dee282a-ae98-433f-9855-cd6bd50cc1b9",
   "metadata": {},
   "outputs": [
    {
     "name": "stdout",
     "output_type": "stream",
     "text": [
      "[]\n",
      "[9, 2, 6, 5, 1]\n",
      "[9, 8, 6, 3, 7, 10, 1, 2, 4, 5]\n"
     ]
    }
   ],
   "source": [
    "from random import choice, sample\n",
    "\n",
    "my_list = [1, 2, 3, 4, 5, 6, 7, 8, 9, 10]\n",
    "\n",
    "print(sample(my_list,0))\n",
    "print(sample(my_list, 5))\n",
    "print(sample(my_list, 10))"
   ]
  },
  {
   "cell_type": "code",
   "execution_count": 25,
   "id": "9934e12d-f228-4f9f-9768-367c0447444e",
   "metadata": {},
   "outputs": [
    {
     "name": "stdout",
     "output_type": "stream",
     "text": [
      "Windows-11-10.0.22000-SP0\n",
      "Windows-11-10.0.22000-SP0\n",
      "Windows-11\n"
     ]
    }
   ],
   "source": [
    "from platform import platform\n",
    "\n",
    "print(platform())\n",
    "print(platform(1))\n",
    "print(platform(0, 1))"
   ]
  },
  {
   "cell_type": "code",
   "execution_count": 19,
   "id": "9f871bbe-d5c7-460f-920b-334feac47bd5",
   "metadata": {},
   "outputs": [
    {
     "data": {
      "text/plain": [
       "['_Processor',\n",
       " '_WIN32_CLIENT_RELEASES',\n",
       " '_WIN32_SERVER_RELEASES',\n",
       " '__builtins__',\n",
       " '__cached__',\n",
       " '__copyright__',\n",
       " '__doc__',\n",
       " '__file__',\n",
       " '__loader__',\n",
       " '__name__',\n",
       " '__package__',\n",
       " '__spec__',\n",
       " '__version__',\n",
       " '_comparable_version',\n",
       " '_default_architecture',\n",
       " '_follow_symlinks',\n",
       " '_get_machine_win32',\n",
       " '_java_getprop',\n",
       " '_mac_ver_xml',\n",
       " '_node',\n",
       " '_norm_version',\n",
       " '_os_release_cache',\n",
       " '_os_release_candidates',\n",
       " '_parse_os_release',\n",
       " '_platform',\n",
       " '_platform_cache',\n",
       " '_sys_version',\n",
       " '_sys_version_cache',\n",
       " '_syscmd_file',\n",
       " '_syscmd_ver',\n",
       " '_uname_cache',\n",
       " '_unknown_as_blank',\n",
       " '_ver_stages',\n",
       " '_win32_ver',\n",
       " '_wmi',\n",
       " '_wmi_query',\n",
       " 'architecture',\n",
       " 'collections',\n",
       " 'freedesktop_os_release',\n",
       " 'functools',\n",
       " 'itertools',\n",
       " 'java_ver',\n",
       " 'libc_ver',\n",
       " 'mac_ver',\n",
       " 'machine',\n",
       " 'node',\n",
       " 'os',\n",
       " 'platform',\n",
       " 'processor',\n",
       " 'python_branch',\n",
       " 'python_build',\n",
       " 'python_compiler',\n",
       " 'python_implementation',\n",
       " 'python_revision',\n",
       " 'python_version',\n",
       " 'python_version_tuple',\n",
       " 're',\n",
       " 'release',\n",
       " 'sys',\n",
       " 'system',\n",
       " 'system_alias',\n",
       " 'uname',\n",
       " 'uname_result',\n",
       " 'version',\n",
       " 'win32_edition',\n",
       " 'win32_is_iot',\n",
       " 'win32_ver']"
      ]
     },
     "execution_count": 19,
     "metadata": {},
     "output_type": "execute_result"
    }
   ],
   "source": [
    "import platform\n",
    "dir(platform)"
   ]
  },
  {
   "cell_type": "code",
   "execution_count": 35,
   "id": "0877dce9-e68f-40e6-8450-dd2bcd144c6d",
   "metadata": {},
   "outputs": [
    {
     "data": {
      "text/plain": [
       "'Windows-11'"
      ]
     },
     "execution_count": 35,
     "metadata": {},
     "output_type": "execute_result"
    }
   ],
   "source": [
    "platform(aliased = True, terse = True)\n"
   ]
  },
  {
   "cell_type": "code",
   "execution_count": 37,
   "id": "29333287-f065-48f6-bee6-ad85915037a8",
   "metadata": {},
   "outputs": [
    {
     "name": "stdout",
     "output_type": "stream",
     "text": [
      "AMD64\n"
     ]
    }
   ],
   "source": [
    "from platform import machine\n",
    "\n",
    "print(machine())"
   ]
  },
  {
   "cell_type": "code",
   "execution_count": 39,
   "id": "ec6dc853-f2d4-45f1-890f-1ea9aa919eb6",
   "metadata": {},
   "outputs": [
    {
     "name": "stdout",
     "output_type": "stream",
     "text": [
      "Intel64 Family 6 Model 190 Stepping 0, GenuineIntel\n"
     ]
    }
   ],
   "source": [
    "from platform import processor\n",
    "\n",
    "print(processor())\n"
   ]
  },
  {
   "cell_type": "code",
   "execution_count": 41,
   "id": "040280ce-3b3f-4bbd-9af2-87f7cab7327c",
   "metadata": {},
   "outputs": [
    {
     "name": "stdout",
     "output_type": "stream",
     "text": [
      "Windows\n"
     ]
    }
   ],
   "source": [
    "from platform import system\n",
    "\n",
    "print(system())"
   ]
  },
  {
   "cell_type": "code",
   "execution_count": 43,
   "id": "52230cfa-8bf1-4a28-b99f-7d5a9c53d4a8",
   "metadata": {},
   "outputs": [
    {
     "name": "stdout",
     "output_type": "stream",
     "text": [
      "10.0.22000\n"
     ]
    }
   ],
   "source": [
    "from platform import version\n",
    "\n",
    "print(version())"
   ]
  },
  {
   "cell_type": "code",
   "execution_count": 48,
   "id": "d0fc6a11-e596-4754-b03b-4e9ae059fc10",
   "metadata": {},
   "outputs": [
    {
     "name": "stdout",
     "output_type": "stream",
     "text": [
      "CPython\n",
      "3\n",
      "12\n",
      "4\n"
     ]
    }
   ],
   "source": [
    "from platform import python_implementation, python_version_tuple\n",
    "\n",
    "print(python_implementation())\n",
    "\n",
    "for atr in python_version_tuple():\n",
    "    print(atr)\n"
   ]
  },
  {
   "cell_type": "code",
   "execution_count": 50,
   "id": "025dda9a-c8bb-4b95-a0d2-e1f7e12564a0",
   "metadata": {},
   "outputs": [
    {
     "data": {
      "text/plain": [
       "['DirEntry',\n",
       " 'EX_OK',\n",
       " 'F_OK',\n",
       " 'GenericAlias',\n",
       " 'Mapping',\n",
       " 'MutableMapping',\n",
       " 'O_APPEND',\n",
       " 'O_BINARY',\n",
       " 'O_CREAT',\n",
       " 'O_EXCL',\n",
       " 'O_NOINHERIT',\n",
       " 'O_RANDOM',\n",
       " 'O_RDONLY',\n",
       " 'O_RDWR',\n",
       " 'O_SEQUENTIAL',\n",
       " 'O_SHORT_LIVED',\n",
       " 'O_TEMPORARY',\n",
       " 'O_TEXT',\n",
       " 'O_TRUNC',\n",
       " 'O_WRONLY',\n",
       " 'P_DETACH',\n",
       " 'P_NOWAIT',\n",
       " 'P_NOWAITO',\n",
       " 'P_OVERLAY',\n",
       " 'P_WAIT',\n",
       " 'PathLike',\n",
       " 'R_OK',\n",
       " 'SEEK_CUR',\n",
       " 'SEEK_END',\n",
       " 'SEEK_SET',\n",
       " 'TMP_MAX',\n",
       " 'W_OK',\n",
       " 'X_OK',\n",
       " '_AddedDllDirectory',\n",
       " '_Environ',\n",
       " '__all__',\n",
       " '__builtins__',\n",
       " '__doc__',\n",
       " '__file__',\n",
       " '__loader__',\n",
       " '__name__',\n",
       " '__package__',\n",
       " '__spec__',\n",
       " '_check_methods',\n",
       " '_execvpe',\n",
       " '_exists',\n",
       " '_exit',\n",
       " '_fspath',\n",
       " '_get_exports_list',\n",
       " '_walk_symlinks_as_files',\n",
       " '_wrap_close',\n",
       " 'abc',\n",
       " 'abort',\n",
       " 'access',\n",
       " 'add_dll_directory',\n",
       " 'altsep',\n",
       " 'chdir',\n",
       " 'chmod',\n",
       " 'close',\n",
       " 'closerange',\n",
       " 'cpu_count',\n",
       " 'curdir',\n",
       " 'defpath',\n",
       " 'device_encoding',\n",
       " 'devnull',\n",
       " 'dup',\n",
       " 'dup2',\n",
       " 'environ',\n",
       " 'error',\n",
       " 'execl',\n",
       " 'execle',\n",
       " 'execlp',\n",
       " 'execlpe',\n",
       " 'execv',\n",
       " 'execve',\n",
       " 'execvp',\n",
       " 'execvpe',\n",
       " 'extsep',\n",
       " 'fdopen',\n",
       " 'fsdecode',\n",
       " 'fsencode',\n",
       " 'fspath',\n",
       " 'fstat',\n",
       " 'fsync',\n",
       " 'ftruncate',\n",
       " 'get_blocking',\n",
       " 'get_exec_path',\n",
       " 'get_handle_inheritable',\n",
       " 'get_inheritable',\n",
       " 'get_terminal_size',\n",
       " 'getcwd',\n",
       " 'getcwdb',\n",
       " 'getenv',\n",
       " 'getlogin',\n",
       " 'getpid',\n",
       " 'getppid',\n",
       " 'isatty',\n",
       " 'kill',\n",
       " 'linesep',\n",
       " 'link',\n",
       " 'listdir',\n",
       " 'listdrives',\n",
       " 'listmounts',\n",
       " 'listvolumes',\n",
       " 'lseek',\n",
       " 'lstat',\n",
       " 'makedirs',\n",
       " 'mkdir',\n",
       " 'name',\n",
       " 'open',\n",
       " 'pardir',\n",
       " 'path',\n",
       " 'pathsep',\n",
       " 'pipe',\n",
       " 'popen',\n",
       " 'putenv',\n",
       " 'read',\n",
       " 'readlink',\n",
       " 'remove',\n",
       " 'removedirs',\n",
       " 'rename',\n",
       " 'renames',\n",
       " 'replace',\n",
       " 'rmdir',\n",
       " 'scandir',\n",
       " 'sep',\n",
       " 'set_blocking',\n",
       " 'set_handle_inheritable',\n",
       " 'set_inheritable',\n",
       " 'spawnl',\n",
       " 'spawnle',\n",
       " 'spawnv',\n",
       " 'spawnve',\n",
       " 'st',\n",
       " 'startfile',\n",
       " 'stat',\n",
       " 'stat_result',\n",
       " 'statvfs_result',\n",
       " 'strerror',\n",
       " 'supports_bytes_environ',\n",
       " 'supports_dir_fd',\n",
       " 'supports_effective_ids',\n",
       " 'supports_fd',\n",
       " 'supports_follow_symlinks',\n",
       " 'symlink',\n",
       " 'sys',\n",
       " 'system',\n",
       " 'terminal_size',\n",
       " 'times',\n",
       " 'times_result',\n",
       " 'truncate',\n",
       " 'umask',\n",
       " 'uname_result',\n",
       " 'unlink',\n",
       " 'unsetenv',\n",
       " 'urandom',\n",
       " 'utime',\n",
       " 'waitpid',\n",
       " 'waitstatus_to_exitcode',\n",
       " 'walk',\n",
       " 'write']"
      ]
     },
     "execution_count": 50,
     "metadata": {},
     "output_type": "execute_result"
    }
   ],
   "source": [
    "import os\n",
    "dir(os)"
   ]
  },
  {
   "cell_type": "code",
   "execution_count": 35,
   "id": "86bd6278-4aef-4d12-a191-7f39455372d0",
   "metadata": {},
   "outputs": [
    {
     "name": "stdout",
     "output_type": "stream",
     "text": [
      "Abcd\n"
     ]
    }
   ],
   "source": [
    "print('aBcd'.capitalize())"
   ]
  },
  {
   "cell_type": "code",
   "execution_count": 9,
   "id": "41869d4c-7d4f-4f6e-940f-b0862757f4d4",
   "metadata": {},
   "outputs": [
    {
     "name": "stdout",
     "output_type": "stream",
     "text": [
      "Abcd\n"
     ]
    }
   ],
   "source": [
    "print('aBCd'.capitalize())"
   ]
  },
  {
   "cell_type": "code",
   "execution_count": 3,
   "id": "a8d89391-2bce-4494-8a97-49859e21c735",
   "metadata": {},
   "outputs": [
    {
     "name": "stdout",
     "output_type": "stream",
     "text": [
      "Alpha\n",
      "Alpha\n",
      " alpha\n",
      "123\n",
      "Αβγδ\n"
     ]
    }
   ],
   "source": [
    "print(\"Alpha\".capitalize())\n",
    "print('ALPHA'.capitalize())\n",
    "print(' Alpha'.capitalize())\n",
    "print('123'.capitalize())\n",
    "print(\"αβγδ\".capitalize())"
   ]
  },
  {
   "cell_type": "code",
   "execution_count": 31,
   "id": "345e675f-bf22-4d0c-9bda-1ee683d5b8dc",
   "metadata": {},
   "outputs": [
    {
     "name": "stdout",
     "output_type": "stream",
     "text": [
      "[  alpha   ]\n"
     ]
    }
   ],
   "source": [
    "# Demonstrating the center() method:\n",
    "print('[' + 'alpha'.center(10) + ']')"
   ]
  },
  {
   "cell_type": "code",
   "execution_count": 27,
   "id": "5564c588-e94c-4849-bb62-a0240c0d4f79",
   "metadata": {},
   "outputs": [
    {
     "name": "stdout",
     "output_type": "stream",
     "text": [
      "[Beta]\n",
      "[Beta]\n",
      "[ Beta ]\n"
     ]
    }
   ],
   "source": [
    "print('[' + 'Beta'.center(2) + ']')\n",
    "print('[' + 'Beta'.center(4) + ']')\n",
    "print('[' + 'Beta'.center(6) + ']')"
   ]
  },
  {
   "cell_type": "code",
   "execution_count": 37,
   "id": "b2729a07-4fa5-4ee5-8b4b-e25daf6f5b32",
   "metadata": {},
   "outputs": [
    {
     "name": "stdout",
     "output_type": "stream",
     "text": [
      "[*******gamma*******]\n"
     ]
    }
   ],
   "source": [
    "print('[' + 'gamma'.center(19, '*') + ']')"
   ]
  },
  {
   "cell_type": "code",
   "execution_count": 43,
   "id": "dbe01a82-4e08-4e11-8815-a15c2daf9ffa",
   "metadata": {},
   "outputs": [
    {
     "name": "stdout",
     "output_type": "stream",
     "text": [
      "[ all ]\n"
     ]
    }
   ],
   "source": [
    "print('[' + 'all'.center(5) + ']')"
   ]
  },
  {
   "cell_type": "code",
   "execution_count": 58,
   "id": "f7066fa1-8187-4fa3-93c5-86901e9febdb",
   "metadata": {},
   "outputs": [
    {
     "name": "stdout",
     "output_type": "stream",
     "text": [
      "yes\n"
     ]
    }
   ],
   "source": [
    "# Demonstrating the endswith() method:\n",
    "if \"epsilon\".endswith(\"on\"):\n",
    "    print(\"yes\")\n",
    "else:\n",
    "    print(\"no\")"
   ]
  },
  {
   "cell_type": "code",
   "execution_count": 68,
   "id": "3139482b-21e1-4694-9953-4a44bd8725e6",
   "metadata": {},
   "outputs": [
    {
     "name": "stdout",
     "output_type": "stream",
     "text": [
      "yes\n"
     ]
    }
   ],
   "source": [
    "# Demonstrating the endswith() method:\n",
    "if \"epsilon\".endswith(\"on\"):\n",
    "    print(\"yes\")\n",
    "else:\n",
    "    print(\"no\")"
   ]
  },
  {
   "cell_type": "code",
   "execution_count": 70,
   "id": "1649481e-82c3-4350-8366-e8f9f4c66a13",
   "metadata": {},
   "outputs": [
    {
     "name": "stdout",
     "output_type": "stream",
     "text": [
      "True\n",
      "False\n",
      "False\n",
      "True\n"
     ]
    }
   ],
   "source": [
    "t = \"zeta\"\n",
    "print(t.endswith(\"a\"))\n",
    "print(t.endswith(\"A\"))\n",
    "print(t.endswith(\"et\"))\n",
    "print(t.endswith(\"eta\"))"
   ]
  },
  {
   "cell_type": "code",
   "execution_count": 7,
   "id": "dda74884-b35e-4ca3-a983-572d2b621f88",
   "metadata": {},
   "outputs": [
    {
     "name": "stdout",
     "output_type": "stream",
     "text": [
      "1\n",
      "-1\n"
     ]
    }
   ],
   "source": [
    "# Demonstrating the find() method:\n",
    "print(\"Eta\".find(\"ta\"))\n",
    "print(\"Eta\".find(\"tah\"))"
   ]
  },
  {
   "cell_type": "code",
   "execution_count": 91,
   "id": "942de99e-032a-4816-8123-9a90126cf4e4",
   "metadata": {},
   "outputs": [
    {
     "name": "stdout",
     "output_type": "stream",
     "text": [
      "15\n",
      "80\n",
      "198\n",
      "221\n",
      "238\n"
     ]
    }
   ],
   "source": [
    "the_text = \"\"\"A variation of the ordinary lorem ipsum\n",
    "text has been used in typesetting since the 1960s \n",
    "or earlier, when it was popularized by advertisements \n",
    "for Letraset transfer sheets. It was introduced to \n",
    "the Information Age in the mid-1980s by the Aldus Corporation, \n",
    "which employed it in graphics and word-processing templates\n",
    "for its desktop publishing program PageMaker (from Wikipedia)\"\"\"\n",
    "\n",
    "fnd = the_text.find('the')\n",
    "while fnd != -1:\n",
    "    print(fnd)\n",
    "    fnd = the_text.find('the', fnd + 1)"
   ]
  },
  {
   "cell_type": "code",
   "execution_count": 35,
   "id": "0d38c138-011c-4842-9235-4a7966ca6f55",
   "metadata": {},
   "outputs": [
    {
     "name": "stdout",
     "output_type": "stream",
     "text": [
      "1\n",
      "5\n"
     ]
    }
   ],
   "source": [
    "print('kappa'.find('a', 1, 4))\n",
    "print('kapppaapa'.find('a', 2, 6))"
   ]
  },
  {
   "cell_type": "code",
   "execution_count": 17,
   "id": "a25113be-5400-4dc9-a42a-2a8494283786",
   "metadata": {},
   "outputs": [
    {
     "name": "stdout",
     "output_type": "stream",
     "text": [
      "0\n",
      "14\n",
      "25\n"
     ]
    }
   ],
   "source": [
    "the_text = \"the sister of the boy is the boy's sister\"\n",
    "fnd = the_text.find('the')\n",
    "while fnd != -1:\n",
    "    print(fnd)\n",
    "    fnd = the_text.find('the', fnd + 1)"
   ]
  },
  {
   "cell_type": "code",
   "execution_count": 99,
   "id": "39915fd1-bd20-4716-bf50-4e5d8b0d5070",
   "metadata": {},
   "outputs": [
    {
     "name": "stdout",
     "output_type": "stream",
     "text": [
      "2\n",
      "2\n",
      "0\n",
      "-1\n"
     ]
    }
   ],
   "source": [
    "t = 'theta'\n",
    "print(t.find('eta'))\n",
    "print(t.find('et'))\n",
    "print(t.find('the'))\n",
    "print(t.find('ha'))"
   ]
  },
  {
   "cell_type": "code",
   "execution_count": 5,
   "id": "95f90351-5895-4a70-a055-b7ffdf166f5c",
   "metadata": {},
   "outputs": [
    {
     "name": "stdout",
     "output_type": "stream",
     "text": [
      "4\n"
     ]
    }
   ],
   "source": [
    "print('kappa'.find('a',2))"
   ]
  },
  {
   "cell_type": "code",
   "execution_count": 11,
   "id": "4f924ea5-4dd0-4ee7-94dc-330456ae6965",
   "metadata": {},
   "outputs": [
    {
     "name": "stdout",
     "output_type": "stream",
     "text": [
      "True\n"
     ]
    }
   ],
   "source": [
    "print(\"i\" in \"rip\")"
   ]
  },
  {
   "cell_type": "code",
   "execution_count": 13,
   "id": "ae3c3812-8003-4e98-9102-eee1bc6a266f",
   "metadata": {},
   "outputs": [
    {
     "name": "stdout",
     "output_type": "stream",
     "text": [
      "4\n"
     ]
    }
   ],
   "source": [
    "print('kappa'.find('a', 2))"
   ]
  },
  {
   "cell_type": "code",
   "execution_count": 67,
   "id": "05084353-fb26-41f6-9785-463ab3aaa029",
   "metadata": {},
   "outputs": [
    {
     "name": "stdout",
     "output_type": "stream",
     "text": [
      "True\n",
      "True\n",
      "True\n",
      "False\n",
      "False\n",
      "False\n"
     ]
    }
   ],
   "source": [
    "# Demonstrating the isalnum() method:\n",
    "print('lambda30'.isalnum())\n",
    "print('1ambda'.isalnum())\n",
    "print('30'.isalnum())\n",
    "print('@'.isalnum())\n",
    "print('lambda_30'.isalnum())\n",
    "print(''.isalnum())"
   ]
  },
  {
   "cell_type": "code",
   "execution_count": 61,
   "id": "7ecf2ab5-a5f1-4925-bb45-408779f5d9e9",
   "metadata": {},
   "outputs": [
    {
     "name": "stdout",
     "output_type": "stream",
     "text": [
      "False\n",
      "True\n",
      "True\n"
     ]
    }
   ],
   "source": [
    "t = 'Six lambdas'\n",
    "print(t.isalnum())\n",
    "\n",
    "t = 'ΑβΓδ'\n",
    "print(t.isalnum())\n",
    "\n",
    "t = '20E1'\n",
    "print(t.isalnum())"
   ]
  },
  {
   "cell_type": "code",
   "execution_count": 69,
   "id": "8570ac5e-6d3c-4310-8f0a-ae35b723f865",
   "metadata": {},
   "outputs": [
    {
     "name": "stdout",
     "output_type": "stream",
     "text": [
      "True\n",
      "False\n",
      "True\n",
      "False\n"
     ]
    }
   ],
   "source": [
    "# Example 1: Demonstrating the isapha() method:\n",
    "print(\"Moooo\".isalpha())\n",
    "print('Mu40'.isalpha())\n",
    "\n",
    "# Example 2: Demonstrating the isdigit() method:\n",
    "print('2018'.isdigit())\n",
    "print(\"Year2019\".isdigit())\n"
   ]
  },
  {
   "cell_type": "code",
   "execution_count": 71,
   "id": "41bcdfd3-6f0c-4bad-bacc-a358c07994fa",
   "metadata": {},
   "outputs": [
    {
     "name": "stdout",
     "output_type": "stream",
     "text": [
      "False\n",
      "True\n",
      "True\n",
      "True\n",
      "False\n",
      "False\n",
      "False\n",
      "True\n"
     ]
    }
   ],
   "source": [
    "# Example 1: Demonstrating the islower() method:\n",
    "print(\"Moooo\".islower())\n",
    "print('moooo'.islower())\n",
    "\n",
    "# Example 2: Demonstrating the isspace() method:\n",
    "print(' \\n '.isspace())\n",
    "print(\" \".isspace())\n",
    "print(\"mooo mooo mooo\".isspace())\n",
    "\n",
    "# Example 3: Demonstrating the isupper() method:\n",
    "print(\"Moooo\".isupper())\n",
    "print('moooo'.isupper())\n",
    "print('MOOOO'.isupper())"
   ]
  },
  {
   "cell_type": "code",
   "execution_count": 101,
   "id": "47e6e58b-1271-4138-a167-a20bcdaf80aa",
   "metadata": {},
   "outputs": [
    {
     "name": "stdout",
     "output_type": "stream",
     "text": [
      "omicron,pi,2,rho\n"
     ]
    }
   ],
   "source": [
    "# Demonstrating the join() method:\n",
    "print(\",\".join([\"omicron\", \"pi\", \"2\", \"rho\"]))"
   ]
  },
  {
   "cell_type": "code",
   "execution_count": 75,
   "id": "6eae6b78-d517-4785-a4dc-f59dc5fb7349",
   "metadata": {},
   "outputs": [
    {
     "name": "stdout",
     "output_type": "stream",
     "text": [
      "['omicron', 'pi', 'rho']\n"
     ]
    }
   ],
   "source": [
    "print([\"omicron\", \"pi\", \"rho\"])"
   ]
  },
  {
   "cell_type": "code",
   "execution_count": 103,
   "id": "ef886222-113a-4cba-8590-f7a8d879f5dd",
   "metadata": {},
   "outputs": [
    {
     "name": "stdout",
     "output_type": "stream",
     "text": [
      "sigma=60\n"
     ]
    }
   ],
   "source": [
    "print(\"SiGmA=60\".lower())"
   ]
  },
  {
   "cell_type": "code",
   "execution_count": 105,
   "id": "2660b63b-8dad-459b-bd8c-0bf182680963",
   "metadata": {},
   "outputs": [
    {
     "name": "stdout",
     "output_type": "stream",
     "text": [
      "value\n"
     ]
    }
   ],
   "source": [
    "print(\"VALue\".lower())"
   ]
  },
  {
   "cell_type": "code",
   "execution_count": 15,
   "id": "4aa3b556-51e8-40d0-ac72-721049761a67",
   "metadata": {},
   "outputs": [
    {
     "name": "stdout",
     "output_type": "stream",
     "text": [
      "[tau ]\n"
     ]
    }
   ],
   "source": [
    "# Demonstrating the lstrip() method:\n",
    "print(\"[\" + \" tau \".lstrip() + \"]\")"
   ]
  },
  {
   "cell_type": "code",
   "execution_count": 113,
   "id": "809e4e06-c564-4e63-9019-5a4be716033a",
   "metadata": {},
   "outputs": [
    {
     "name": "stdout",
     "output_type": "stream",
     "text": [
      "[ tau ]\n"
     ]
    }
   ],
   "source": [
    "# Demonstrating the lstrip() method:\n",
    "print(\"[\" + \" tau \" + \"]\")"
   ]
  },
  {
   "cell_type": "code",
   "execution_count": 17,
   "id": "1334192f-b093-426d-9715-f6c8876063fc",
   "metadata": {},
   "outputs": [
    {
     "name": "stdout",
     "output_type": "stream",
     "text": [
      "www.cisco.com\n"
     ]
    }
   ],
   "source": [
    "print(\"www.cisco.com\".lstrip(\".com\"))"
   ]
  },
  {
   "cell_type": "code",
   "execution_count": 11,
   "id": "03c6f8fa-c754-4bce-bcf8-9a549a0e47ae",
   "metadata": {},
   "outputs": [
    {
     "name": "stdout",
     "output_type": "stream",
     "text": [
      "pythoninstitute.org\n"
     ]
    }
   ],
   "source": [
    "print(\"pythoninstitute.org\".lstrip(\".org\"))"
   ]
  },
  {
   "cell_type": "code",
   "execution_count": 19,
   "id": "61edc3aa-9d4d-4879-a272-01362fcb2b67",
   "metadata": {},
   "outputs": [
    {
     "name": "stdout",
     "output_type": "stream",
     "text": [
      "cisco.com\n"
     ]
    }
   ],
   "source": [
    "print(\"www.cisco.com\".lstrip(\"w.\"))"
   ]
  },
  {
   "cell_type": "code",
   "execution_count": 39,
   "id": "ff6bc38c-a12e-43cb-b2b6-6d369b12096b",
   "metadata": {},
   "outputs": [
    {
     "name": "stdout",
     "output_type": "stream",
     "text": [
      "www.pythoninstitute.org\n",
      "Thare are it!\n",
      "Apple \n",
      "fishpie!\n"
     ]
    }
   ],
   "source": [
    "# Demonstrating the replace() method:\n",
    "print(\"www.netacad.com\".replace(\"netacad.com\", \"pythoninstitute.org\"))\n",
    "print(\"This is it!\".replace(\"is\", \"are\"))\n",
    "print(\"Apple juice\".replace(\"juice\", \"\"))\n",
    "print(\"fish \".replace(\" \",\"pie!\"))"
   ]
  },
  {
   "cell_type": "code",
   "execution_count": 29,
   "id": "def094c3-c2ed-495c-b6a1-b53d8ef6d02a",
   "metadata": {},
   "outputs": [
    {
     "name": "stdout",
     "output_type": "stream",
     "text": [
      "Thare is it!\n",
      "Thare are it!\n"
     ]
    }
   ],
   "source": [
    "print(\"This is it!\".replace(\"is\", \"are\", 1))\n",
    "print(\"This is it!\".replace(\"is\", \"are\", 2))\n"
   ]
  },
  {
   "cell_type": "code",
   "execution_count": 34,
   "id": "d38c373c-9ddc-4122-ad36-eb7ff92170f1",
   "metadata": {},
   "outputs": [
    {
     "name": "stdout",
     "output_type": "stream",
     "text": [
      "8\n",
      "-1\n",
      "4\n"
     ]
    }
   ],
   "source": [
    "# Demonstrating the rfind() method:\n",
    "print(\"tau tau tau\".rfind(\"ta\"))\n",
    "print(\"tau tau tau\".rfind(\"ta\", 9))\n",
    "print(\"tau tau tau\".rfind(\"ta\", 3, 9))"
   ]
  },
  {
   "cell_type": "code",
   "execution_count": 38,
   "id": "f59dc591-9d5b-4671-9987-8a1cfd015f54",
   "metadata": {},
   "outputs": [
    {
     "name": "stdout",
     "output_type": "stream",
     "text": [
      "8\n",
      "-1\n",
      "4\n"
     ]
    }
   ],
   "source": [
    "# Demonstrating the rfind() method:\n",
    "print(\"tau tau tau\".find(\"ta\"))\n",
    "print(\"tau tau tau\".find(\"ta\", 9))\n",
    "print(\"tau tau tau\".find(\"ta\", 3, 9))"
   ]
  },
  {
   "cell_type": "code",
   "execution_count": 61,
   "id": "f13bb504-b825-4a82-8af6-087a7204b140",
   "metadata": {},
   "outputs": [
    {
     "name": "stdout",
     "output_type": "stream",
     "text": [
      "[ upsilon]\n",
      "cis\n"
     ]
    }
   ],
   "source": [
    "# Demonstrating the rstrip() method:\n",
    "print(\"[\" + \" upsilon \".rstrip() + \"]\")\n",
    "print(\"cisco.com\".rstrip(\".com\"))"
   ]
  },
  {
   "cell_type": "code",
   "execution_count": 69,
   "id": "727cff67-89a2-444d-8535-2d133ede0cd5",
   "metadata": {},
   "outputs": [
    {
     "name": "stdout",
     "output_type": "stream",
     "text": [
      "[ upsilon]\n",
      "cis\n"
     ]
    }
   ],
   "source": [
    "# Demonstrating the rstrip() method:\n",
    "print(\"[\" + \" upsilon \".rstrip() + \"]\")\n",
    "print(\"cisco.com\".rstrip(\".com\"))"
   ]
  },
  {
   "cell_type": "code",
   "execution_count": 1,
   "id": "7a05ab10-5def-48af-a478-6bf72abef693",
   "metadata": {},
   "outputs": [
    {
     "name": "stdout",
     "output_type": "stream",
     "text": [
      "['phi', 'chi', 'psi']\n"
     ]
    }
   ],
   "source": [
    "# Demonstrating the split() method:\n",
    "print(\"phi       chi\\npsi\".split())"
   ]
  },
  {
   "cell_type": "code",
   "execution_count": 14,
   "id": "fd50aba7-7387-4a51-89e6-b8d2ef9558fc",
   "metadata": {},
   "outputs": [
    {
     "name": "stdout",
     "output_type": "stream",
     "text": [
      "['phi', 'chi', 'psi']\n"
     ]
    }
   ],
   "source": [
    "print(\"phi chi psi\".split())"
   ]
  },
  {
   "cell_type": "code",
   "execution_count": 9,
   "id": "406112ff-7c92-4d9f-adc2-431e1ff8e541",
   "metadata": {},
   "outputs": [
    {
     "name": "stdout",
     "output_type": "stream",
     "text": [
      "[aleph]\n"
     ]
    }
   ],
   "source": [
    "# Demonstrating the strip() method:\n",
    "print(\"[\" + \"    aleph    \".strip() + \"]\")"
   ]
  },
  {
   "cell_type": "code",
   "execution_count": 15,
   "id": "0d50acf5-d60f-44db-bb9d-5b0241bf5749",
   "metadata": {},
   "outputs": [
    {
     "name": "stdout",
     "output_type": "stream",
     "text": [
      "i KNOW THAT i KNOW NOTHING.\n",
      "\n",
      "I Know That I Know Nothing. Part 1.\n",
      "\n",
      "I KNOW THAT I KNOW NOTHING. PART 2.\n"
     ]
    }
   ],
   "source": [
    "# Demonstrating the swapcase() method:\n",
    "print(\"I know that I know nothing.\".swapcase())\n",
    "\n",
    "print()\n",
    "\n",
    "# Demonstrating the title() method:\n",
    "print(\"I know that I know nothing. Part 1.\".title())\n",
    "\n",
    "print()\n",
    "\n",
    "# Demonstrating the upper() method:\n",
    "print(\"I know that I know nothing. Part 2.\".upper())\n"
   ]
  },
  {
   "cell_type": "code",
   "execution_count": 41,
   "id": "71719dba-29fd-486a-b265-b2c5cf0b9ddd",
   "metadata": {},
   "outputs": [
    {
     "name": "stdout",
     "output_type": "stream",
     "text": [
      "the\n"
     ]
    }
   ],
   "source": [
    "s1 = 'Where are the snows of yesteryear?'\n",
    "s2 = s1.split()\n",
    "print(s2[-4])"
   ]
  },
  {
   "cell_type": "code",
   "execution_count": 31,
   "id": "cf4fcc3e-ced5-45d0-a8ec-902e2256ac1a",
   "metadata": {},
   "outputs": [
    {
     "ename": "SyntaxError",
     "evalue": "invalid syntax (2488605374.py, line 4)",
     "output_type": "error",
     "traceback": [
      "\u001b[1;36m  Cell \u001b[1;32mIn[31], line 4\u001b[1;36m\u001b[0m\n\u001b[1;33m    return string.strip().(''.join(let))\u001b[0m\n\u001b[1;37m                          ^\u001b[0m\n\u001b[1;31mSyntaxError\u001b[0m\u001b[1;31m:\u001b[0m invalid syntax\n"
     ]
    }
   ],
   "source": [
    "def mysplit(string):\n",
    "    let = []\n",
    "    if \" \" in string:\n",
    "        return string.strip().(''.join(let))\n",
    "    else:\n",
    "        return \"[]\"\n",
    "    #\n",
    "    # put your code here\n",
    "    #\n",
    "\n",
    "\n",
    "print(mysplit(\"To be or not to be, that is the question\"))\n",
    "print(mysplit(\"To be or not to be,that is the question\"))\n",
    "print(mysplit(\"   \"))\n",
    "print(mysplit(\" abc \"))\n",
    "print(mysplit(\"\"))\n"
   ]
  },
  {
   "cell_type": "code",
   "execution_count": 87,
   "id": "317c4bb3-e597-480d-8297-2e877bb297c1",
   "metadata": {},
   "outputs": [
    {
     "name": "stdout",
     "output_type": "stream",
     "text": [
      "True\n",
      "True\n"
     ]
    }
   ],
   "source": [
    "print('alpha' == 'alpha')\n",
    "print('alpha' != 'Alpha')"
   ]
  },
  {
   "cell_type": "code",
   "execution_count": 89,
   "id": "7389ebe5-440c-497f-aa81-71a5e58df022",
   "metadata": {},
   "outputs": [
    {
     "name": "stdout",
     "output_type": "stream",
     "text": [
      "True\n"
     ]
    }
   ],
   "source": [
    "print('alpha' < 'alphabet')"
   ]
  },
  {
   "cell_type": "code",
   "execution_count": 95,
   "id": "206f1650-ac44-4d57-a074-cae71c83c97c",
   "metadata": {},
   "outputs": [
    {
     "data": {
      "text/plain": [
       "True"
      ]
     },
     "execution_count": 95,
     "metadata": {},
     "output_type": "execute_result"
    }
   ],
   "source": [
    "'beta' > 'Beta'"
   ]
  },
  {
   "cell_type": "code",
   "execution_count": 107,
   "id": "5c40d679-74dc-46b7-ae74-163d0284a91d",
   "metadata": {},
   "outputs": [
    {
     "name": "stdout",
     "output_type": "stream",
     "text": [
      "False\n",
      "True\n",
      "False\n",
      "True\n",
      "True\n"
     ]
    }
   ],
   "source": [
    "print('10' == '010')\n",
    "print('10' > '010')\n",
    "print('10' > '8')\n",
    "print('20' < '8')\n",
    "print('20' < '80')"
   ]
  },
  {
   "cell_type": "code",
   "execution_count": 111,
   "id": "550584ef-ad9a-417d-afd8-16a9ac514ca8",
   "metadata": {},
   "outputs": [
    {
     "name": "stdout",
     "output_type": "stream",
     "text": [
      "False\n",
      "True\n",
      "False\n",
      "True\n"
     ]
    },
    {
     "ename": "TypeError",
     "evalue": "'>' not supported between instances of 'str' and 'int'",
     "output_type": "error",
     "traceback": [
      "\u001b[1;31m---------------------------------------------------------------------------\u001b[0m",
      "\u001b[1;31mTypeError\u001b[0m                                 Traceback (most recent call last)",
      "Cell \u001b[1;32mIn[111], line 5\u001b[0m\n\u001b[0;32m      3\u001b[0m \u001b[38;5;28mprint\u001b[39m(\u001b[38;5;124m'\u001b[39m\u001b[38;5;124m10\u001b[39m\u001b[38;5;124m'\u001b[39m \u001b[38;5;241m==\u001b[39m \u001b[38;5;241m1\u001b[39m)\n\u001b[0;32m      4\u001b[0m \u001b[38;5;28mprint\u001b[39m(\u001b[38;5;124m'\u001b[39m\u001b[38;5;124m10\u001b[39m\u001b[38;5;124m'\u001b[39m \u001b[38;5;241m!=\u001b[39m \u001b[38;5;241m1\u001b[39m)\n\u001b[1;32m----> 5\u001b[0m \u001b[38;5;28mprint\u001b[39m(\u001b[38;5;124m'\u001b[39m\u001b[38;5;124m10\u001b[39m\u001b[38;5;124m'\u001b[39m \u001b[38;5;241m>\u001b[39m \u001b[38;5;241m10\u001b[39m)\n",
      "\u001b[1;31mTypeError\u001b[0m: '>' not supported between instances of 'str' and 'int'"
     ]
    }
   ],
   "source": [
    "print('10' == 10)\n",
    "print('10' != 10)\n",
    "print('10' == 1)\n",
    "print('10' != 1)\n",
    "print('10' > 10)"
   ]
  },
  {
   "cell_type": "code",
   "execution_count": 113,
   "id": "dfefb9f0-f367-42ef-b4a2-240abfff19a7",
   "metadata": {},
   "outputs": [
    {
     "name": "stdout",
     "output_type": "stream",
     "text": [
      "['omega', 'alpha', 'pi', 'gamma']\n",
      "['alpha', 'gamma', 'omega', 'pi']\n",
      "\n",
      "['omega', 'alpha', 'pi', 'gamma']\n",
      "['alpha', 'gamma', 'omega', 'pi']\n"
     ]
    }
   ],
   "source": [
    "# Demonstrating the sorted() function:\n",
    "first_greek = ['omega', 'alpha', 'pi', 'gamma']\n",
    "first_greek_2 = sorted(first_greek)\n",
    "\n",
    "print(first_greek)\n",
    "print(first_greek_2)\n",
    "\n",
    "print()\n",
    "\n",
    "# Demonstrating the sort() method:\n",
    "second_greek = ['omega', 'alpha', 'pi', 'gamma']\n",
    "print(second_greek)\n",
    "\n",
    "second_greek.sort()\n",
    "print(second_greek)\n"
   ]
  },
  {
   "cell_type": "code",
   "execution_count": 3,
   "id": "908a6c5c-7cda-4f9c-8d61-6b5cbe7846bb",
   "metadata": {},
   "outputs": [
    {
     "name": "stdout",
     "output_type": "stream",
     "text": [
      "13 1.3\n"
     ]
    }
   ],
   "source": [
    "itg = 13\n",
    "flt = 1.3\n",
    "si = str(itg)\n",
    "sf = str(flt)\n",
    "\n",
    "print(si + ' ' + sf)\n",
    "\n"
   ]
  },
  {
   "cell_type": "code",
   "execution_count": 5,
   "id": "84c50eac-194f-4969-9879-5d889dc38d04",
   "metadata": {},
   "outputs": [
    {
     "name": "stdout",
     "output_type": "stream",
     "text": [
      "14.3\n"
     ]
    }
   ],
   "source": [
    "si = '13'\n",
    "sf = '1.3'\n",
    "itg = int(si)\n",
    "flt = float(sf)\n",
    "\n",
    "print(itg + flt)\n",
    "\n"
   ]
  },
  {
   "cell_type": "code",
   "execution_count": 7,
   "id": "6988e52e-ba2a-4692-b91c-00d077fde6f1",
   "metadata": {},
   "outputs": [
    {
     "name": "stdout",
     "output_type": "stream",
     "text": [
      "True\n",
      "False\n",
      "True\n",
      "True\n"
     ]
    }
   ],
   "source": [
    "print('smith' > 'Smith')\n",
    "\n",
    "print('Smiths' < 'Smith')\n",
    "\n",
    "print('Smith' > '1000')\n",
    "\n",
    "print('11' < '8')"
   ]
  },
  {
   "cell_type": "code",
   "execution_count": 31,
   "id": "036ee846-4c02-45e7-ae67-539669ac6431",
   "metadata": {},
   "outputs": [
    {
     "name": "stdout",
     "output_type": "stream",
     "text": [
      "['Where', 'are', 'of', 'snows', 'the', 'yesteryear']\n"
     ]
    }
   ],
   "source": [
    "s1 = 'Where are the snows of yesteryear'\n",
    "s2 = s1.split()\n",
    "s3 = sorted(s2)\n",
    "print(s3)"
   ]
  },
  {
   "cell_type": "code",
   "execution_count": 19,
   "id": "7ecdd39c-57c4-4e8a-aaa3-eddf82615077",
   "metadata": {},
   "outputs": [
    {
     "ename": "ValueError",
     "evalue": "invalid literal for int() with base 10: '12.8'",
     "output_type": "error",
     "traceback": [
      "\u001b[1;31m---------------------------------------------------------------------------\u001b[0m",
      "\u001b[1;31mValueError\u001b[0m                                Traceback (most recent call last)",
      "Cell \u001b[1;32mIn[19], line 2\u001b[0m\n\u001b[0;32m      1\u001b[0m s1 \u001b[38;5;241m=\u001b[39m \u001b[38;5;124m'\u001b[39m\u001b[38;5;124m12.8\u001b[39m\u001b[38;5;124m'\u001b[39m\n\u001b[1;32m----> 2\u001b[0m i \u001b[38;5;241m=\u001b[39m \u001b[38;5;28mint\u001b[39m(s1)\n\u001b[0;32m      3\u001b[0m s2 \u001b[38;5;241m=\u001b[39m \u001b[38;5;28mstr\u001b[39m(i)\n\u001b[0;32m      4\u001b[0m f \u001b[38;5;241m=\u001b[39m \u001b[38;5;28mfloat\u001b[39m(s2)\n",
      "\u001b[1;31mValueError\u001b[0m: invalid literal for int() with base 10: '12.8'"
     ]
    }
   ],
   "source": [
    "s1 = '12.8'\n",
    "i = int(s1)\n",
    "s2 = str(i)\n",
    "f = float(s2)\n",
    "print(s1 == s2)"
   ]
  },
  {
   "cell_type": "code",
   "execution_count": 27,
   "id": "7bd9f2a3-4dcc-4bf2-b3a5-af591ed485ad",
   "metadata": {},
   "outputs": [
    {
     "name": "stdout",
     "output_type": "stream",
     "text": [
      "['a', 'string', 'you']\n"
     ]
    }
   ],
   "source": [
    "a = 'you a string'\n",
    "t = a.split()\n",
    "b = sorted(t)\n",
    "print(b)"
   ]
  },
  {
   "cell_type": "code",
   "execution_count": 33,
   "id": "3f3945f5-9056-4fb3-ac73-d871e5816d6e",
   "metadata": {},
   "outputs": [
    {
     "name": "stdout",
     "output_type": "stream",
     "text": [
      "['are', 'of', 'snows', 'the', 'where', 'yesterday']\n"
     ]
    }
   ],
   "source": [
    "s1 = 'where are the snows of yesterday'\n",
    "s2 = s1.split()\n",
    "s3 = sorted(s2)\n",
    "print(s3)"
   ]
  },
  {
   "cell_type": "code",
   "execution_count": 69,
   "id": "ede83841-6625-4be4-b9c5-9c812a405604",
   "metadata": {},
   "outputs": [
    {
     "name": "stdin",
     "output_type": "stream",
     "text": [
      "Enter a non-negative integer:  850\n"
     ]
    },
    {
     "name": "stdout",
     "output_type": "stream",
     "text": [
      " ###    ###    ###   \n",
      "#   #  #      #   #  \n",
      " ###    ###   #   #  \n",
      "#   #      #  #   #  \n",
      " ###    ###    ###   \n"
     ]
    }
   ],
   "source": [
    "def display_digit(digit):\n",
    "    patterns = [\n",
    "        # 0\n",
    "        [\" ### \", \"#   #\", \"#   #\", \"#   #\", \" ### \"],\n",
    "        # 1\n",
    "        [\"  #  \", \"  #  \", \"  #  \", \"  #  \", \"  #  \"],\n",
    "        # 2\n",
    "        [\" ### \", \"    #\", \" ### \", \"#    \", \" ### \"],\n",
    "        # 3\n",
    "        [\" ### \", \"    #\", \" ### \", \"    #\", \" ### \"],\n",
    "        # 4\n",
    "        [\"#   #\", \"#   #\", \" ### \", \"    #\", \"    #\"],\n",
    "        # 5\n",
    "        [\" ### \", \"#    \", \" ### \", \"    #\", \" ### \"],\n",
    "        # 6\n",
    "        [\" ### \", \"#    \", \" ### \", \"#   #\", \" ### \"],\n",
    "        # 7\n",
    "        [\" ### \", \"    #\", \"   # \", \"  #  \", \"  #  \"],\n",
    "        # 8\n",
    "        [\" ### \", \"#   #\", \" ### \", \"#   #\", \" ### \"],\n",
    "        # 9\n",
    "        [\" ### \", \"#   #\", \" ### \", \"    #\", \" ### \"]\n",
    "    ]\n",
    "    return patterns[digit]\n",
    "\n",
    "def display_number(number):\n",
    "    # Convert the number to a string to iterate over each digit\n",
    "    number_str = str(number)\n",
    "    \n",
    "    # Prepare a list to hold the lines of the final display\n",
    "    output_lines = [\"\", \"\", \"\", \"\", \"\"]\n",
    "        \n",
    "    # Loop through each digit in the number\n",
    "    for digit in number_str:\n",
    "        digit = int(digit)  # Convert character back to integer\n",
    "        digit_pattern = display_digit(digit)\n",
    "        \n",
    "        # Add the digit pattern to the output lines\n",
    "        for i in range(5):\n",
    "            output_lines[i] += digit_pattern[i] + \"  \"  # Add space between digits\n",
    "\n",
    "    # Print the output lines\n",
    "    for line in output_lines:\n",
    "        print(line)\n",
    "\n",
    "# Main execution\n",
    "if __name__ == \"__main__\":\n",
    "    user_input = input(\"Enter a non-negative integer: \")\n",
    "    \n",
    "    # Validate the input\n",
    "    if user_input.isdigit():\n",
    "        display_number(user_input)\n",
    "    else:\n",
    "        print(\"Invalid input. Please enter a non-negative integer.\")"
   ]
  },
  {
   "cell_type": "code",
   "execution_count": 71,
   "id": "1a2bd10d-2931-4c0c-9dd1-ed50f587e0a9",
   "metadata": {},
   "outputs": [],
   "source": [
    "def display_digit(digit):\n",
    "    patterns = [\n",
    "        # 0\n",
    "        [\" ### \", \"#   #\", \"#   #\", \"#   #\", \" ### \"],\n",
    "        # 1\n",
    "        [\"  #  \", \"  #  \", \"  #  \", \"  #  \", \"  #  \"],\n",
    "        # 2\n",
    "        [\" ### \", \"    #\", \" ### \", \"#    \", \" ### \"],\n",
    "        # 3\n",
    "        [\" ### \", \"    #\", \" ### \", \"    #\", \" ### \"],\n",
    "        # 4\n",
    "        [\"#   #\", \"#   #\", \" ### \", \"    #\", \"    #\"],\n",
    "        # 5\n",
    "        [\" ### \", \"#    \", \" ### \", \"    #\", \" ### \"],\n",
    "        # 6\n",
    "        [\" ### \", \"#    \", \" ### \", \"#   #\", \" ### \"],\n",
    "        # 7\n",
    "        [\" ### \", \"    #\", \"   # \", \"  #  \", \"  #  \"],\n",
    "        # 8\n",
    "        [\" ### \", \"#   #\", \" ### \", \"#   #\", \" ### \"],\n",
    "        # 9\n",
    "        [\" ### \", \"#   #\", \" ### \", \"    #\", \" ### \"]\n",
    "    ]\n",
    "    return patterns[digit]\n"
   ]
  },
  {
   "cell_type": "code",
   "execution_count": 83,
   "id": "9528b4cd-94ec-4abe-8a32-3989f92c17af",
   "metadata": {},
   "outputs": [
    {
     "data": {
      "text/plain": [
       "[' ### ', '    #', ' ### ', '#    ', ' ### ']"
      ]
     },
     "execution_count": 83,
     "metadata": {},
     "output_type": "execute_result"
    }
   ],
   "source": [
    "display_digit(2)"
   ]
  },
  {
   "cell_type": "code",
   "execution_count": 11,
   "id": "c5b16fdb-9f9c-44be-b4e6-ddc54a511f9d",
   "metadata": {},
   "outputs": [
    {
     "name": "stdin",
     "output_type": "stream",
     "text": [
      "Enter your message:  AVE CAESAR\n"
     ]
    },
    {
     "name": "stdout",
     "output_type": "stream",
     "text": [
      "BWFDBFTBS\n"
     ]
    }
   ],
   "source": [
    "# Caesar cipher.\n",
    "text = input(\"Enter your message: \")\n",
    "cipher = ''\n",
    "for char in text:\n",
    "    if not char.isalpha():\n",
    "        continue\n",
    "    char = char.upper()\n",
    "    code = ord(char) + 1\n",
    "    if code > ord('Z'):\n",
    "        code = ord('A')\n",
    "    cipher += chr(code)\n",
    "\n",
    "print(cipher)\n"
   ]
  },
  {
   "cell_type": "code",
   "execution_count": 17,
   "id": "c90a1b31-17dd-4f27-8934-2bdf0855c0eb",
   "metadata": {},
   "outputs": [
    {
     "name": "stdin",
     "output_type": "stream",
     "text": [
      "Enter your cryptogram:  bot\n"
     ]
    },
    {
     "name": "stdout",
     "output_type": "stream",
     "text": [
      "ANS\n"
     ]
    }
   ],
   "source": [
    "# Caesar cipher - decrypting a message.\n",
    "cipher = input('Enter your cryptogram: ')\n",
    "text = ''\n",
    "for char in cipher:\n",
    "    if not char.isalpha():\n",
    "        continue\n",
    "    char = char.upper()\n",
    "    code = ord(char) - 1\n",
    "    if code < ord('A'):\n",
    "        code = ord('Z')\n",
    "    text += chr(code)\n",
    "\n",
    "print(text)\n"
   ]
  },
  {
   "cell_type": "code",
   "execution_count": 33,
   "id": "c57f791b-aba2-4c62-b451-518b647f0117",
   "metadata": {},
   "outputs": [
    {
     "name": "stdin",
     "output_type": "stream",
     "text": [
      "Enter a line of numbers - separate them with spaces:  -\n"
     ]
    },
    {
     "name": "stdout",
     "output_type": "stream",
     "text": [
      "- is not a number.\n"
     ]
    }
   ],
   "source": [
    "# Numbers Processor.\n",
    "\n",
    "line = input(\"Enter a line of numbers - separate them with spaces: \")\n",
    "strings = line.split()\n",
    "total = 0\n",
    "try:\n",
    "    for substr in strings:\n",
    "        total += int(substr)\n",
    "    print(\"The total is:\", total)\n",
    "except:\n",
    "    print(substr, \"is not a number.\")\n"
   ]
  },
  {
   "cell_type": "code",
   "execution_count": 55,
   "id": "0de845bc-b28a-4fa7-aaa8-e27eced67564",
   "metadata": {},
   "outputs": [
    {
     "name": "stdin",
     "output_type": "stream",
     "text": [
      "Enter IBAN, please:  FR76 30003 03620 00020216907 50\n"
     ]
    },
    {
     "name": "stdout",
     "output_type": "stream",
     "text": [
      "IBAN entered is valid.\n"
     ]
    }
   ],
   "source": [
    "# IBAN Validator.\n",
    "\n",
    "iban = input(\"Enter IBAN, please: \")\n",
    "iban = iban.replace(' ','')\n",
    "\n",
    "if not iban.isalnum():\n",
    "    print(\"You have entered invalid characters.\")\n",
    "elif len(iban) < 15:\n",
    "    print(\"IBAN entered is too short.\")\n",
    "elif len(iban) > 31:\n",
    "    print(\"IBAN entered is too long.\")\n",
    "else:\n",
    "    iban = (iban[4:] + iban[0:4]).upper()\n",
    "    iban2 = ''\n",
    "    for ch in iban:\n",
    "        if ch.isdigit():\n",
    "            iban2 += ch\n",
    "        else:\n",
    "            iban2 += str(10 + ord(ch) - ord('A'))\n",
    "    iban = int(iban2)\n",
    "    if iban % 97 == 1:\n",
    "        print(\"IBAN entered is valid.\")\n",
    "    else:\n",
    "        print(\"IBAN entered is invalid.\")\n"
   ]
  },
  {
   "cell_type": "code",
   "execution_count": 41,
   "id": "d619a9ea-4c1a-4081-bac4-280056191c61",
   "metadata": {},
   "outputs": [
    {
     "name": "stdin",
     "output_type": "stream",
     "text": [
      "Enter your message: ma dam\n"
     ]
    },
    {
     "name": "stdout",
     "output_type": "stream",
     "text": [
      "It's a palindrome\n"
     ]
    }
   ],
   "source": [
    "pali = input(\"Enter your message:\")\n",
    "pal = ''.join(wor.lower() for wor in pali if wor.isalpha())    \n",
    "if pali.isspace():\n",
    "    print(\"It's not a palindrome\")\n",
    "elif pal == pal[::-1]:\n",
    "    print(\"It's a palindrome\")\n",
    "else:\n",
    "    print(\"It's not a palindromes\")"
   ]
  },
  {
   "cell_type": "code",
   "execution_count": null,
   "id": "4ef1cab0-86aa-4e85-a717-e51f27b9e8d6",
   "metadata": {},
   "outputs": [],
   "source": [
    "pali = input(\"Enter your message:\")\n",
    "if pali.isspace():\n",
    "    print(\"It's not a palindrome\")\n",
    "else:\n",
    "    pal = ''.join(wor.lower() for wor in pali if wor.isalpha())\n",
    "    if pal == pal[::-1]:\n",
    "        print(\"It's a palindrome\")\n",
    "    else:\n",
    "        print(\"It's not a palindromes\")"
   ]
  },
  {
   "cell_type": "markdown",
   "id": "300ead40-da4e-4160-a0d5-db9a3f107485",
   "metadata": {},
   "source": [
    "vir = \"jbnndncb\"\n",
    "vic = vir[::-1]\n",
    "print(vic)"
   ]
  },
  {
   "cell_type": "code",
   "execution_count": 11,
   "id": "f933ac77-abf2-4562-afba-509d3c13d2ad",
   "metadata": {},
   "outputs": [
    {
     "name": "stdout",
     "output_type": "stream",
     "text": [
      "coal\n"
     ]
    }
   ],
   "source": [
    "pali = \"cOAL\"\n",
    "pal = pali.lower()\n",
    "print(pal)"
   ]
  },
  {
   "cell_type": "code",
   "execution_count": 11,
   "id": "22fdf586-97ae-45cc-9f16-9f2123ab8543",
   "metadata": {},
   "outputs": [
    {
     "name": "stdin",
     "output_type": "stream",
     "text": [
      "Enter the first number:  90\n",
      "Enter the second number:  9\n"
     ]
    },
    {
     "name": "stdout",
     "output_type": "stream",
     "text": [
      "10.0\n",
      "THE END.\n"
     ]
    }
   ],
   "source": [
    "first_number = int(input(\"Enter the first number: \"))\n",
    "second_number = int(input(\"Enter the second number: \"))\n",
    "\n",
    "if second_number != 0:\n",
    "    print(first_number / second_number)\n",
    "else:\n",
    "    print(\"This operation cannot be done.\")\n",
    "\n",
    "print(\"THE END.\")"
   ]
  },
  {
   "cell_type": "code",
   "execution_count": 21,
   "id": "a0df002c-fc97-4753-8b86-4960fd55ca9a",
   "metadata": {},
   "outputs": [
    {
     "name": "stdin",
     "output_type": "stream",
     "text": [
      "Enter the first number:  8\n",
      "Enter the second number:  4\n"
     ]
    },
    {
     "name": "stdout",
     "output_type": "stream",
     "text": [
      "2.0\n",
      "THE END.\n"
     ]
    }
   ],
   "source": [
    "first_number = int(input(\"Enter the first number: \"))\n",
    "second_number = int(input(\"Enter the second number: \"))\n",
    "\n",
    "try:\n",
    "    print(first_number / second_number)\n",
    "except:\n",
    "    print(\"This operation cannot be done.\")\n",
    "\n",
    "print(\"THE END.\")"
   ]
  },
  {
   "cell_type": "code",
   "execution_count": 53,
   "id": "1ec04448-f56c-4271-b4eb-81f95d16ea27",
   "metadata": {},
   "outputs": [
    {
     "name": "stdin",
     "output_type": "stream",
     "text": [
      "Enter your first word: rail safety\n",
      "Enter your second word: fairy tales\n"
     ]
    },
    {
     "name": "stdout",
     "output_type": "stream",
     "text": [
      "Anagrams\n"
     ]
    }
   ],
   "source": [
    "word1 = input(\"Enter your first word:\")\n",
    "word2 = input(\"Enter your second word:\")\n",
    "if word1.isspace() and word2.isspace():\n",
    "    print(\"Not anagrams\")\n",
    "elif sorted(word1.lower()) == sorted(word2.lower()):\n",
    "    print(\"Anagrams\")\n",
    "else:\n",
    "    print(\"Not anagrams\")"
   ]
  },
  {
   "cell_type": "code",
   "execution_count": 32,
   "id": "9ed5e678-38ec-4596-b3da-f9c70ffa51e8",
   "metadata": {},
   "outputs": [
    {
     "name": "stdin",
     "output_type": "stream",
     "text": [
      "Enter your DOB in the format DDMMYYYY: 11223344\n"
     ]
    },
    {
     "name": "stdout",
     "output_type": "stream",
     "text": [
      "The digit of life for your DOB is 2\n"
     ]
    }
   ],
   "source": [
    "dob = input(\"Enter your DOB in the format DDMMYYYY:\")\n",
    "if len(dob) != 8 or not dob.isdigit():\n",
    "    print(\"Invalid\")\n",
    "else:\n",
    "    total = sum(int(num) for num in dob)\n",
    "    while len(str(total)) != 1:\n",
    "        total = sum(int(digit) for digit in str(total))\n",
    "    print(\"The digit of life for your DOB is\", total)"
   ]
  },
  {
   "cell_type": "code",
   "execution_count": 78,
   "id": "ec3ddd04-f580-4ccb-ba50-8549979f92f1",
   "metadata": {},
   "outputs": [
    {
     "name": "stdin",
     "output_type": "stream",
     "text": [
      "Enter your first word: donor\n",
      "Enter your word search: Nabucodonor\n"
     ]
    },
    {
     "name": "stdout",
     "output_type": "stream",
     "text": [
      "Yes\n"
     ]
    }
   ],
   "source": [
    "word1 = input(\"Enter your first word:\")\n",
    "word2= input(\"Enter your word search:\")\n",
    "if word2.find(word1) != -1:\n",
    "    print(\"Yes\")\n",
    "else:\n",
    "    print(\"No\")"
   ]
  },
  {
   "cell_type": "code",
   "execution_count": 40,
   "id": "0631f95e-09c6-4e1e-9313-1cbfbd03a80e",
   "metadata": {},
   "outputs": [
    {
     "name": "stdout",
     "output_type": "stream",
     "text": [
      "5\n"
     ]
    }
   ],
   "source": [
    "print(\"very good\".find(\"g\"))"
   ]
  },
  {
   "cell_type": "code",
   "execution_count": 52,
   "id": "0632669c-1d08-4284-b286-bde982bfd6ab",
   "metadata": {},
   "outputs": [
    {
     "name": "stdout",
     "output_type": "stream",
     "text": [
      "1\n"
     ]
    }
   ],
   "source": [
    "word1 = \"i\"\n",
    "word2 = \"fishpie\"\n",
    "print(word2.find(word1))"
   ]
  },
  {
   "cell_type": "code",
   "execution_count": 72,
   "id": "89e3f4c8-7123-44d7-8554-f9187fc65bcb",
   "metadata": {},
   "outputs": [
    {
     "name": "stdin",
     "output_type": "stream",
     "text": [
      "Enter your first word:  donor\n",
      "Enter your word search:  Nabucodonosor\n"
     ]
    },
    {
     "name": "stdout",
     "output_type": "stream",
     "text": [
      "No, the word is not found.\n"
     ]
    }
   ],
   "source": [
    "word1 = input(\"Enter your first word: \").strip()\n",
    "word2 = input(\"Enter your word search: \").strip()\n",
    "\n",
    "# Convert both words to lower case for case insensitive search\n",
    "if word2.lower().find(word1.lower()) != -1:\n",
    "    position = word2.lower().find(word1.lower())\n",
    "    print(f\"Yes, '{word1}' is found at position {position}.\")\n",
    "else:\n",
    "    print(\"No, the word is not found.\")\n"
   ]
  },
  {
   "cell_type": "code",
   "execution_count": 86,
   "id": "7869092b-2e11-4780-b928-c28cc6045d8a",
   "metadata": {},
   "outputs": [
    {
     "name": "stdin",
     "output_type": "stream",
     "text": [
      "Enter the first number:  0\n",
      "Enter the second number:  0\n"
     ]
    },
    {
     "name": "stdout",
     "output_type": "stream",
     "text": [
      "This operation cannot be done.\n",
      "THE END.\n"
     ]
    }
   ],
   "source": [
    "first_number = int(input(\"Enter the first number: \"))\n",
    "second_number = int(input(\"Enter the second number: \"))\n",
    "\n",
    "try:\n",
    "    print(first_number / second_number)\n",
    "except:\n",
    "    print(\"This operation cannot be done.\")\n",
    "\n",
    "print(\"THE END.\")"
   ]
  },
  {
   "cell_type": "code",
   "execution_count": 92,
   "id": "88cc7050-09de-4c01-beec-92eec7365aae",
   "metadata": {},
   "outputs": [
    {
     "name": "stdout",
     "output_type": "stream",
     "text": [
      "1\n",
      "Oh dear, something went wrong...\n",
      "3\n"
     ]
    }
   ],
   "source": [
    "try:\n",
    "    print(\"1\")\n",
    "    x = 1 / 0\n",
    "    print(\"2\")\n",
    "except:\n",
    "    print(\"Oh dear, something went wrong...\")\n",
    "\n",
    "print(\"3\")\n"
   ]
  },
  {
   "cell_type": "code",
   "execution_count": 102,
   "id": "40929122-f0c2-4b73-8c52-5a82c855126d",
   "metadata": {},
   "outputs": [
    {
     "name": "stdin",
     "output_type": "stream",
     "text": [
      "Enter a number:  -8\n"
     ]
    },
    {
     "name": "stdout",
     "output_type": "stream",
     "text": [
      "THE END.\n"
     ]
    }
   ],
   "source": [
    "try:\n",
    "    x = int(input(\"Enter a number: \"))\n",
    "    y = 1 / x\n",
    "except:\n",
    "    print(\"Oh dear, something went wrong...\")\n",
    "\n",
    "print(\"THE END.\")"
   ]
  },
  {
   "cell_type": "code",
   "execution_count": 118,
   "id": "d4e064ed-5fbb-4461-b2be-0315d5c86fce",
   "metadata": {},
   "outputs": [
    {
     "name": "stdin",
     "output_type": "stream",
     "text": [
      "Enter a number:  jkm\n"
     ]
    },
    {
     "name": "stdout",
     "output_type": "stream",
     "text": [
      "You must enter an integer value.\n",
      "THE END.\n"
     ]
    }
   ],
   "source": [
    "try:\n",
    "    x = float(input(\"Enter a number: \"))\n",
    "    y = 1 / x\n",
    "    print(y)\n",
    "except ZeroDivisionError:\n",
    "    print(\"You cannot divide by zero, sorry.\")\n",
    "except ValueError:\n",
    "    print(\"You must enter an integer value.\")\n",
    "except:\n",
    "    print(\"Oh dear, something went wrong...\")\n",
    "\n",
    "print(\"THE END.\")"
   ]
  },
  {
   "cell_type": "code",
   "execution_count": 122,
   "id": "cbf84404-f8eb-4024-98f4-eb9735d51acf",
   "metadata": {},
   "outputs": [
    {
     "name": "stdin",
     "output_type": "stream",
     "text": [
      "Enter a number:  hghb\n"
     ]
    },
    {
     "name": "stdout",
     "output_type": "stream",
     "text": [
      "You must enter an integer value.\n",
      "THE END.\n"
     ]
    }
   ],
   "source": [
    "try:\n",
    "    x = int(input(\"Enter a number: \"))\n",
    "    y = 1 / x\n",
    "    print(y)\n",
    "except ValueError:\n",
    "    print(\"You must enter an integer value.\")\n",
    "except:\n",
    "    print(\"Oh dear, something went wrong...\")\n",
    "\n",
    "print(\"THE END.\")"
   ]
  },
  {
   "cell_type": "code",
   "execution_count": 136,
   "id": "7ad2c388-1c5d-45c2-8174-e7dbe51df1b2",
   "metadata": {},
   "outputs": [
    {
     "name": "stdin",
     "output_type": "stream",
     "text": [
      "Enter a number:  0\n"
     ]
    },
    {
     "ename": "ZeroDivisionError",
     "evalue": "division by zero",
     "output_type": "error",
     "traceback": [
      "\u001b[1;31m---------------------------------------------------------------------------\u001b[0m",
      "\u001b[1;31mZeroDivisionError\u001b[0m                         Traceback (most recent call last)",
      "Cell \u001b[1;32mIn[136], line 3\u001b[0m\n\u001b[0;32m      1\u001b[0m \u001b[38;5;28;01mtry\u001b[39;00m:\n\u001b[0;32m      2\u001b[0m     x \u001b[38;5;241m=\u001b[39m \u001b[38;5;28mint\u001b[39m(\u001b[38;5;28minput\u001b[39m(\u001b[38;5;124m\"\u001b[39m\u001b[38;5;124mEnter a number: \u001b[39m\u001b[38;5;124m\"\u001b[39m))\n\u001b[1;32m----> 3\u001b[0m     y \u001b[38;5;241m=\u001b[39m \u001b[38;5;241m1\u001b[39m \u001b[38;5;241m/\u001b[39m x\n\u001b[0;32m      4\u001b[0m     \u001b[38;5;28mprint\u001b[39m(y)\n\u001b[0;32m      5\u001b[0m \u001b[38;5;28;01mexcept\u001b[39;00m \u001b[38;5;167;01mValueError\u001b[39;00m:\n",
      "\u001b[1;31mZeroDivisionError\u001b[0m: division by zero"
     ]
    }
   ],
   "source": [
    "try:\n",
    "    x = int(input(\"Enter a number: \"))\n",
    "    y = 1 / x\n",
    "    print(y)\n",
    "except ValueError:\n",
    "    print(\"You must enter an integer value.\")\n",
    "\n",
    "print(\"THE END.\")"
   ]
  },
  {
   "cell_type": "code",
   "execution_count": 150,
   "id": "7bdc72fc-d1e7-4b62-940c-5d27a05ace03",
   "metadata": {},
   "outputs": [
    {
     "name": "stdout",
     "output_type": "stream",
     "text": [
      "a\n"
     ]
    }
   ],
   "source": [
    "print(\"alpha\"[0//1])"
   ]
  },
  {
   "cell_type": "code",
   "execution_count": 169,
   "id": "0e8afa40-2b28-48c5-80f0-5cac1a00469a",
   "metadata": {},
   "outputs": [
    {
     "name": "stdout",
     "output_type": "stream",
     "text": [
      "Oooppsss...\n",
      "THE END.\n"
     ]
    }
   ],
   "source": [
    "try:\n",
    "    y = 1 / 0\n",
    "except ArithmeticError:\n",
    "    print(\"Oooppsss...\")\n",
    "\n",
    "print(\"THE END.\")\n"
   ]
  },
  {
   "cell_type": "code",
   "execution_count": 171,
   "id": "f7d01204-5cf5-47e0-aafc-df2f7aef5acc",
   "metadata": {},
   "outputs": [
    {
     "name": "stdout",
     "output_type": "stream",
     "text": [
      "Arithmetic Problem!\n",
      "THE END.\n"
     ]
    }
   ],
   "source": [
    "def bad_fun(n):\n",
    "    try:\n",
    "        return 1 / n\n",
    "    except ArithmeticError:\n",
    "        print(\"Arithmetic Problem!\")\n",
    "    return None\n",
    "\n",
    "bad_fun(0)\n",
    "\n",
    "print(\"THE END.\")"
   ]
  },
  {
   "cell_type": "code",
   "execution_count": 173,
   "id": "eb56efe1-f4b9-46ab-9e3c-2c4249a6a90e",
   "metadata": {},
   "outputs": [
    {
     "name": "stdout",
     "output_type": "stream",
     "text": [
      "What happened? An exception was raised!\n",
      "THE END.\n"
     ]
    }
   ],
   "source": [
    "def bad_fun(n):\n",
    "    return 1 / n\n",
    "\n",
    "try:\n",
    "    bad_fun(0)\n",
    "except ArithmeticError:\n",
    "    print(\"What happened? An exception was raised!\")\n",
    "\n",
    "print(\"THE END.\")\n",
    "\n"
   ]
  },
  {
   "cell_type": "code",
   "execution_count": 177,
   "id": "ca11a866-dd39-4cfd-8980-5326e1071dda",
   "metadata": {},
   "outputs": [
    {
     "name": "stdout",
     "output_type": "stream",
     "text": [
      "What happened? An error?\n",
      "THE END.\n"
     ]
    }
   ],
   "source": [
    "def bad_fun(n):\n",
    "    raise ZeroDivisionError\n",
    "\n",
    "\n",
    "try:\n",
    "    bad_fun(0)\n",
    "except ArithmeticError:\n",
    "    print(\"What happened? An error?\")\n",
    "\n",
    "print(\"THE END.\")\n"
   ]
  },
  {
   "cell_type": "code",
   "execution_count": 1,
   "id": "248277ce-d4f7-4e8d-9b2e-5a3d4e250390",
   "metadata": {},
   "outputs": [
    {
     "name": "stdout",
     "output_type": "stream",
     "text": [
      "I did it again!\n",
      "I see!\n",
      "THE END.\n"
     ]
    }
   ],
   "source": [
    "def bad_fun(n):\n",
    "    try:\n",
    "        return n / 0\n",
    "    except:\n",
    "        print(\"I did it again!\")\n",
    "        raise\n",
    "\n",
    "\n",
    "try:\n",
    "    bad_fun(0)\n",
    "except ArithmeticError:\n",
    "    print(\"I see!\")\n",
    "\n",
    "print(\"THE END.\")"
   ]
  },
  {
   "cell_type": "code",
   "execution_count": 19,
   "id": "fff849db-7d65-43db-8303-10aa4bb50c30",
   "metadata": {},
   "outputs": [
    {
     "name": "stdin",
     "output_type": "stream",
     "text": [
      "Enter a number:  9\n"
     ]
    },
    {
     "name": "stdout",
     "output_type": "stream",
     "text": [
      "3.0\n"
     ]
    }
   ],
   "source": [
    "import math\n",
    "\n",
    "x = float(input(\"Enter a number: \"))\n",
    "assert x >= 0.0\n",
    "\n",
    "x = math.sqrt(x)\n",
    "\n",
    "print(x)"
   ]
  },
  {
   "cell_type": "code",
   "execution_count": 23,
   "id": "56faeaaa-c53e-4249-aaf1-a942c9c36f09",
   "metadata": {},
   "outputs": [
    {
     "name": "stdin",
     "output_type": "stream",
     "text": [
      "Enter a number:  25\n"
     ]
    },
    {
     "name": "stdout",
     "output_type": "stream",
     "text": [
      "5.0\n"
     ]
    }
   ],
   "source": [
    "import math\n",
    "\n",
    "x = float(input(\"Enter a number: \"))\n",
    "assert x >= 0.0\n",
    "\n",
    "x = math.sqrt(x)\n",
    "\n",
    "print(x)\n"
   ]
  },
  {
   "cell_type": "code",
   "execution_count": 25,
   "id": "47bb3dc1-533f-448e-8c19-8db80197fbcd",
   "metadata": {},
   "outputs": [
    {
     "name": "stdout",
     "output_type": "stream",
     "text": [
      "Caught a division by zero!\n",
      "Error: division by zero\n"
     ]
    }
   ],
   "source": [
    "def divide(a, b):\n",
    "    try:\n",
    "        result = a / b\n",
    "    except ZeroDivisionError as e:\n",
    "        print(\"Caught a division by zero!\")\n",
    "        raise  # Re-raises the caught exception\n",
    "    return result\n",
    "\n",
    "try:\n",
    "    divide(10, 0)\n",
    "except ZeroDivisionError as e:\n",
    "    print(f\"Error: {e}\")\n"
   ]
  },
  {
   "cell_type": "code",
   "execution_count": 27,
   "id": "db539b38-9d48-48ac-a668-210446b76dec",
   "metadata": {},
   "outputs": [
    {
     "name": "stdout",
     "output_type": "stream",
     "text": [
      "Caught a division by zero!\n"
     ]
    },
    {
     "ename": "ZeroDivisionError",
     "evalue": "division by zero",
     "output_type": "error",
     "traceback": [
      "\u001b[1;31m---------------------------------------------------------------------------\u001b[0m",
      "\u001b[1;31mZeroDivisionError\u001b[0m                         Traceback (most recent call last)",
      "Cell \u001b[1;32mIn[27], line 1\u001b[0m\n\u001b[1;32m----> 1\u001b[0m divide(\u001b[38;5;241m5\u001b[39m,\u001b[38;5;241m0\u001b[39m)\n",
      "Cell \u001b[1;32mIn[25], line 3\u001b[0m, in \u001b[0;36mdivide\u001b[1;34m(a, b)\u001b[0m\n\u001b[0;32m      1\u001b[0m \u001b[38;5;28;01mdef\u001b[39;00m \u001b[38;5;21mdivide\u001b[39m(a, b):\n\u001b[0;32m      2\u001b[0m     \u001b[38;5;28;01mtry\u001b[39;00m:\n\u001b[1;32m----> 3\u001b[0m         result \u001b[38;5;241m=\u001b[39m a \u001b[38;5;241m/\u001b[39m b\n\u001b[0;32m      4\u001b[0m     \u001b[38;5;28;01mexcept\u001b[39;00m \u001b[38;5;167;01mZeroDivisionError\u001b[39;00m \u001b[38;5;28;01mas\u001b[39;00m e:\n\u001b[0;32m      5\u001b[0m         \u001b[38;5;28mprint\u001b[39m(\u001b[38;5;124m\"\u001b[39m\u001b[38;5;124mCaught a division by zero!\u001b[39m\u001b[38;5;124m\"\u001b[39m)\n",
      "\u001b[1;31mZeroDivisionError\u001b[0m: division by zero"
     ]
    }
   ],
   "source": [
    "divide(5,0)"
   ]
  },
  {
   "cell_type": "code",
   "execution_count": 45,
   "id": "9bca56c4-d89d-4f38-8ee2-c5b55c475e44",
   "metadata": {},
   "outputs": [
    {
     "ename": "AssertionError",
     "evalue": "",
     "output_type": "error",
     "traceback": [
      "\u001b[1;31m---------------------------------------------------------------------------\u001b[0m",
      "\u001b[1;31mAssertionError\u001b[0m                            Traceback (most recent call last)",
      "Cell \u001b[1;32mIn[45], line 5\u001b[0m\n\u001b[0;32m      2\u001b[0m     \u001b[38;5;28;01massert\u001b[39;00m x\n\u001b[0;32m      3\u001b[0m     \u001b[38;5;28;01mreturn\u001b[39;00m \u001b[38;5;241m1\u001b[39m\u001b[38;5;241m/\u001b[39mx\n\u001b[1;32m----> 5\u001b[0m foo(\u001b[38;5;241m0\u001b[39m)\n",
      "Cell \u001b[1;32mIn[45], line 2\u001b[0m, in \u001b[0;36mfoo\u001b[1;34m(x)\u001b[0m\n\u001b[0;32m      1\u001b[0m \u001b[38;5;28;01mdef\u001b[39;00m \u001b[38;5;21mfoo\u001b[39m(x):\n\u001b[1;32m----> 2\u001b[0m     \u001b[38;5;28;01massert\u001b[39;00m x\n\u001b[0;32m      3\u001b[0m     \u001b[38;5;28;01mreturn\u001b[39;00m \u001b[38;5;241m1\u001b[39m\u001b[38;5;241m/\u001b[39mx\n",
      "\u001b[1;31mAssertionError\u001b[0m: "
     ]
    }
   ],
   "source": [
    "def foo(x):\n",
    "    assert x\n",
    "    return 1/x\n",
    "\n",
    "foo(0)"
   ]
  },
  {
   "cell_type": "code",
   "execution_count": 75,
   "id": "ad38c483-42cb-4739-aca8-c9f144824409",
   "metadata": {},
   "outputs": [
    {
     "name": "stdin",
     "output_type": "stream",
     "text": [
      "Enter integral angle in degrees:  60\n"
     ]
    },
    {
     "name": "stdout",
     "output_type": "stream",
     "text": [
      "1.7320508075688767\n"
     ]
    }
   ],
   "source": [
    "from math import tan, radians\n",
    "angle = int(input('Enter integral angle in degrees: '))\n",
    "\n",
    "# We must be sure that angle != 90 + k * 180\n",
    "assert angle % 180 != 90\n",
    "print(tan(radians(angle)))"
   ]
  },
  {
   "cell_type": "code",
   "execution_count": 1,
   "id": "4a7ca9e2-56cc-4dda-bb75-f285a0e3d76e",
   "metadata": {},
   "outputs": [
    {
     "name": "stdout",
     "output_type": "stream",
     "text": [
      "1\n",
      "2\n",
      "3\n",
      "4\n",
      "5\n",
      "Done\n"
     ]
    }
   ],
   "source": [
    "# The code shows an extravagant way\n",
    "# of leaving the loop.\n",
    "\n",
    "the_list = [1, 2, 3, 4, 5]\n",
    "ix = 0\n",
    "do_it = True\n",
    "\n",
    "while do_it:\n",
    "    try:\n",
    "        print(the_list[ix])\n",
    "        ix += 1\n",
    "    except IndexError:\n",
    "        do_it = False\n",
    "\n",
    "print('Done')"
   ]
  },
  {
   "cell_type": "code",
   "execution_count": 5,
   "id": "a8c38b16-00ff-44b0-af92-c3774f6cc04f",
   "metadata": {},
   "outputs": [
    {
     "name": "stdout",
     "output_type": "stream",
     "text": [
      "0\n",
      "1\n",
      "2\n",
      "3\n",
      "4\n",
      "Don't do that!\n"
     ]
    }
   ],
   "source": [
    "# This code cannot be terminated\n",
    "# by pressing Ctrl-C.\n",
    "\n",
    "from time import sleep\n",
    "\n",
    "seconds = 0\n",
    "running = True\n",
    "while running:\n",
    "    try:\n",
    "        print(seconds)\n",
    "        seconds += 1\n",
    "        sleep(1)\n",
    "    except KeyboardInterrupt:\n",
    "        print(\"Don't do that!\")\n",
    "        running = False"
   ]
  },
  {
   "cell_type": "code",
   "execution_count": 7,
   "id": "a39254f9-b1a5-40c9-b070-73d9d3d10707",
   "metadata": {},
   "outputs": [
    {
     "name": "stdout",
     "output_type": "stream",
     "text": [
      "2.718281828459045\n",
      "7.38905609893065\n",
      "54.598150033144236\n",
      "2980.9579870417283\n",
      "8886110.520507872\n",
      "78962960182680.69\n",
      "6.235149080811617e+27\n",
      "3.8877084059945954e+55\n",
      "1.5114276650041035e+111\n",
      "2.2844135865397565e+222\n",
      "The number is too big.\n"
     ]
    }
   ],
   "source": [
    "# The code prints subsequent\n",
    "# values of exp(k), k = 1, 2, 4, 8, 16, ...\n",
    "\n",
    "from math import exp\n",
    "\n",
    "ex = 1\n",
    "\n",
    "try:\n",
    "    while True:\n",
    "        print(exp(ex))\n",
    "        ex *= 2\n",
    "except OverflowError:\n",
    "    print('The number is too big.')"
   ]
  },
  {
   "cell_type": "code",
   "execution_count": 13,
   "id": "c8589a3d-c802-499d-a4a2-01a6e2e4fc92",
   "metadata": {},
   "outputs": [
    {
     "name": "stdout",
     "output_type": "stream",
     "text": [
      "One of your imports has failed.\n"
     ]
    }
   ],
   "source": [
    "# One of these imports will fail - which one?\n",
    "\n",
    "try:\n",
    "    import math\n",
    "    import time\n",
    "    import abracadabra\n",
    "\n",
    "except:\n",
    "    print('One of your imports has failed.')\n"
   ]
  },
  {
   "cell_type": "code",
   "execution_count": 17,
   "id": "0faccdcd-fcac-4b16-b899-c51e9b1e7dd1",
   "metadata": {},
   "outputs": [
    {
     "name": "stdout",
     "output_type": "stream",
     "text": [
      "1\n",
      "No such key: 1\n"
     ]
    }
   ],
   "source": [
    "# How to abuse the dictionary\n",
    "# and how to deal with it?\n",
    "\n",
    "dictionary = { 'a': '1', 'b': '2', 'c': '3' }\n",
    "ch = 'a'\n",
    "\n",
    "try:\n",
    "    while True:\n",
    "        ch = dictionary[ch]\n",
    "        print(ch)\n",
    "except KeyError:\n",
    "    print('No such key:', ch)\n",
    "\n"
   ]
  },
  {
   "cell_type": "code",
   "execution_count": 33,
   "id": "9686d548-1e19-4c62-a4f9-2fea68db61c9",
   "metadata": {},
   "outputs": [
    {
     "name": "stdout",
     "output_type": "stream",
     "text": [
      "d\n",
      "No such key: d\n"
     ]
    }
   ],
   "source": [
    "dictionary = { 'a': 'b', 'b': 'c', 'c': 'd' }\n",
    "ch = 'c'\n",
    "\n",
    "try:\n",
    "    while True:\n",
    "        ch = dictionary[ch]\n",
    "        print(ch)\n",
    "except KeyError:\n",
    "    print('No such key:', ch)"
   ]
  },
  {
   "cell_type": "code",
   "execution_count": null,
   "id": "978e1426-4baf-4939-ba76-f73eb86c431e",
   "metadata": {},
   "outputs": [],
   "source": []
  },
  {
   "cell_type": "code",
   "execution_count": null,
   "id": "6efd79de-f815-45ab-a7cf-47f3b8aa8b1f",
   "metadata": {},
   "outputs": [],
   "source": []
  },
  {
   "cell_type": "code",
   "execution_count": null,
   "id": "bc7b3302-ae5f-4b20-94ce-22cd08ae0e2b",
   "metadata": {},
   "outputs": [],
   "source": []
  },
  {
   "cell_type": "code",
   "execution_count": null,
   "id": "b5fea497-567b-4b0a-9cc2-7b1af052c70c",
   "metadata": {},
   "outputs": [],
   "source": []
  },
  {
   "cell_type": "code",
   "execution_count": null,
   "id": "a0d07596-2794-4a53-ae40-a7878852dc83",
   "metadata": {},
   "outputs": [],
   "source": []
  },
  {
   "cell_type": "code",
   "execution_count": null,
   "id": "484a754f-513d-4ed4-8eb8-673bac4d231f",
   "metadata": {},
   "outputs": [],
   "source": []
  }
 ],
 "metadata": {
  "kernelspec": {
   "display_name": "Python 3 (ipykernel)",
   "language": "python",
   "name": "python3"
  },
  "language_info": {
   "codemirror_mode": {
    "name": "ipython",
    "version": 3
   },
   "file_extension": ".py",
   "mimetype": "text/x-python",
   "name": "python",
   "nbconvert_exporter": "python",
   "pygments_lexer": "ipython3",
   "version": "3.12.4"
  }
 },
 "nbformat": 4,
 "nbformat_minor": 5
}
