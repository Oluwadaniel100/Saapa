{
 "cells": [
  {
   "cell_type": "code",
   "execution_count": 42,
   "id": "c9a3aea4-81bf-4e3d-8fe7-35b1f6fb7902",
   "metadata": {},
   "outputs": [
    {
     "name": "stdout",
     "output_type": "stream",
     "text": [
      "4.0\n",
      "14.696938456699069\n",
      "16.0\n",
      "3.141592653589793\n",
      "8\n",
      "60\n",
      "10\n"
     ]
    }
   ],
   "source": [
    "import math\n",
    "print(math.sqrt(16))\n",
    "print(math.sqrt(216))\n",
    "print(math.pow(2,4))\n",
    "print(math.pi)\n",
    "print(math.ceil(7.9))\n",
    "print(math.perm(5, 3))\n",
    "print(math.comb(5, 3))"
   ]
  },
  {
   "cell_type": "code",
   "execution_count": 23,
   "id": "64c51a9f-604f-43fe-a2ac-8d8ceeb0cc00",
   "metadata": {},
   "outputs": [
    {
     "name": "stdout",
     "output_type": "stream",
     "text": [
      "Welcome back Silver. You have 22 messages John\n"
     ]
    }
   ],
   "source": [
    "first = \"John\"\n",
    "second = \"Silver\"\n",
    "unread_messages = 22\n",
    "print(f\"Welcome back %s. You have %d messages\" %(second,unread_messages), first)"
   ]
  },
  {
   "cell_type": "code",
   "execution_count": 39,
   "id": "4ef0745d-dd8f-4179-94b9-2f9f18120f5e",
   "metadata": {},
   "outputs": [
    {
     "name": "stdout",
     "output_type": "stream",
     "text": [
      "pto \n",
      "21\n",
      "Python is so much fun\n",
      "PYTHON IS SO MUCH FUN\n",
      "2\n"
     ]
    }
   ],
   "source": [
    "str1 = \"python is so much fun\"\n",
    "print(str1[0:8:2])\n",
    "print(len(str1))\n",
    "print(str1.capitalize())\n",
    "print(str1.upper())\n",
    "print(str1.count('o'))"
   ]
  },
  {
   "cell_type": "code",
   "execution_count": null,
   "id": "045667bb-eab2-42c6-9bcc-8d1f6cf7256d",
   "metadata": {},
   "outputs": [],
   "source": [
    "first = \"John\"\n",
    "second = \"Silver\"\n",
    "unread_messages = 22\n",
    "print(f\"Welcome back {first} {second}. You have {unread_messages} unread messages\")"
   ]
  },
  {
   "cell_type": "code",
   "execution_count": null,
   "id": "cec22e3c-3306-4119-8af7-4cd31db6189c",
   "metadata": {},
   "outputs": [],
   "source": [
    "birth_year = int(input(\"Enter the year you were born: \")\n",
    "                 "
   ]
  },
  {
   "cell_type": "code",
   "execution_count": 53,
   "id": "90864ea6-832c-468c-81af-b74fa0b5b9cb",
   "metadata": {},
   "outputs": [
    {
     "name": "stdin",
     "output_type": "stream",
     "text": [
      "Enter the year you were born:  2008\n",
      "Enter the current year:  2024\n"
     ]
    },
    {
     "name": "stdout",
     "output_type": "stream",
     "text": [
      "Your age is 16\n"
     ]
    }
   ],
   "source": [
    "birth_year = int(input(\"Enter the year you were born: \"))\n",
    "current_year = int(input(\"Enter the current year: \"))\n",
    "age = current_year - birth_year\n",
    "print(\"Your age is\", age)"
   ]
  },
  {
   "cell_type": "code",
   "execution_count": 61,
   "id": "e0a5b508-4e08-445c-a98f-46b635af96d5",
   "metadata": {},
   "outputs": [
    {
     "name": "stdin",
     "output_type": "stream",
     "text": [
      "Enter your favourite animal name:  crocodile\n",
      "Enter a secret word:  vistalog\n"
     ]
    },
    {
     "name": "stdout",
     "output_type": "stream",
     "text": [
      "Your favourite animal is crocodile and your secret word ***** is 8 letters long \n"
     ]
    }
   ],
   "source": [
    "ani_name = input(\"Enter your favourite animal name: \")\n",
    "secret_word = input(\"Enter a secret word: \")\n",
    "num = len(secret_word)\n",
    "print(f\"Your favourite animal is {ani_name} and your secret word ***** is {num} letters long \")"
   ]
  },
  {
   "cell_type": "code",
   "execution_count": 87,
   "id": "601aefa5-53aa-4ee5-9996-4303d6bfd214",
   "metadata": {},
   "outputs": [
    {
     "name": "stdin",
     "output_type": "stream",
     "text": [
      "Enter the cost of your first item 10\n",
      "Enter the cost of your second item 20\n",
      "Enter the cost of your third item 30\n",
      "Enter your percentage discount:  10\n",
      "Enter your percentage sales tax:  10\n"
     ]
    },
    {
     "name": "stdout",
     "output_type": "stream",
     "text": [
      "Your total payment is #59.4\n"
     ]
    }
   ],
   "source": [
    "cost1 = int(input(\"Enter the cost of your first item\"))\n",
    "cost2 = int(input(\"Enter the cost of your second item\"))\n",
    "cost3 = int(input(\"Enter the cost of your third item\"))\n",
    "total1 = cost1 + cost2 + cost3\n",
    "discount_percent = float(input(\"Enter your percentage discount: \"))\n",
    "sales_tax_percent = float(input(\"Enter your percentage sales tax: \"))\n",
    "total2 = total1 - int(total1*(discount_percent/100))\n",
    "final_total = total2 + float(total2*(sales_tax_percent/100))\n",
    "print(f\"Your total payment is #{final_total}\")"
   ]
  },
  {
   "cell_type": "code",
   "execution_count": 21,
   "id": "5c2df619-6071-453e-b696-09899ded27da",
   "metadata": {},
   "outputs": [
    {
     "name": "stdout",
     "output_type": "stream",
     "text": [
      "-5\n",
      "36\n",
      "-2\n",
      "-2\n",
      "[-2]\n",
      "-2\n",
      "-2\n",
      "[-5, 7, 19, 36]\n"
     ]
    }
   ],
   "source": [
    "list1 = [-5,-2,7,12,19,27,36]\n",
    "print(list1[0])\n",
    "print(list1[-1])\n",
    "print(list1[1])\n",
    "print(list1[-6])\n",
    "print(list1[1:2])\n",
    "print(list1[len(list1)-6])\n",
    "print(list1[1-len(list1)])\n",
    "print(list1[0::2])"
   ]
  },
  {
   "cell_type": "code",
   "execution_count": 8,
   "id": "51eddb61-56e7-479c-b3c0-f689e90f9ef2",
   "metadata": {},
   "outputs": [
    {
     "name": "stdout",
     "output_type": "stream",
     "text": [
      "caesar\n",
      "['starters', ['salads', ['caesar', 'soup'], 'caprese']]\n",
      "None\n",
      "[['salads', ['caesar', 'soup'], 'caprese']]\n"
     ]
    }
   ],
   "source": [
    "menu = ['starters',['salads',['caesar','soup'],'caprese']]\n",
    "print(menu[1][1][0])\n",
    "me = menu.copy()\n",
    "print(me)\n",
    "print(menu.reverse())\n",
    "menu.pop(1)\n",
    "print(menu)"
   ]
  },
  {
   "cell_type": "code",
   "execution_count": 4,
   "id": "654665a8-c351-49e8-bb92-adf9ff16ad2b",
   "metadata": {},
   "outputs": [
    {
     "name": "stdout",
     "output_type": "stream",
     "text": [
      "None\n"
     ]
    }
   ],
   "source": [
    "mee = ['f','e','u','t','q','i']\n",
    "print(mee.sort())"
   ]
  },
  {
   "cell_type": "code",
   "execution_count": 18,
   "id": "42621bce-e176-49de-ba1f-df365c2e6016",
   "metadata": {},
   "outputs": [
    {
     "name": "stdout",
     "output_type": "stream",
     "text": [
      "[1, 2, 3, 4, 5, 6, 7, 8, 9, 10, 11, 12, 13, 14, 15, 16, 17, 18, 19, 20, 21, 22, 23, 24, 25, 26, 27, 28, 29, 30, 31, 32, 33, 34, 35, 36, 37, 38, 39, 40, 41, 42, 43, 44, 45, 46, 47, 48, 49, 50, 51, 52, 53, 54, 55, 56, 57, 58, 59, 60, 61, 62, 63, 64, 65, 66, 67, 68, 69, 70, 71, 72, 73, 74, 75, 76, 77, 78, 79, 80, 81, 82, 83, 84, 85, 86, 87, 88, 89, 90, 91, 92, 93, 94, 95, 96, 97, 98, 99, 100]\n"
     ]
    }
   ],
   "source": [
    "print(list(range(1,101)))"
   ]
  },
  {
   "cell_type": "code",
   "execution_count": 28,
   "id": "b522c433-0509-4ed5-9520-731eb39cef6c",
   "metadata": {},
   "outputs": [
    {
     "name": "stdout",
     "output_type": "stream",
     "text": [
      "file\n"
     ]
    }
   ],
   "source": [
    "list_names = 'file.png' \n",
    "print(list_names[:-4])"
   ]
  },
  {
   "cell_type": "code",
   "execution_count": 32,
   "id": "7ef5e0f2-41af-42fb-a8a2-3a0bc4276f43",
   "metadata": {},
   "outputs": [
    {
     "name": "stdout",
     "output_type": "stream",
     "text": [
      "1\n",
      "2\n",
      "3\n",
      "[4, 5, 6, 7, 8]\n",
      "9\n"
     ]
    }
   ],
   "source": [
    "a,b,c,*other,d = [1,2,3,4,5,6,7,8,9]\n",
    "print(a)\n",
    "print(b)\n",
    "print(c)\n",
    "print(other)\n",
    "print(d)"
   ]
  },
  {
   "cell_type": "code",
   "execution_count": 16,
   "id": "52f9dacd-9719-4c38-863a-1bd9d23fbf10",
   "metadata": {},
   "outputs": [
    {
     "name": "stdout",
     "output_type": "stream",
     "text": [
      "9\n",
      "{1, 2, 3, 4}\n"
     ]
    }
   ],
   "source": [
    "tuple = (1,2,2,3,3,3,4,4,4)\n",
    "print(len(tuple))\n",
    "print(set(tuple))"
   ]
  },
  {
   "cell_type": "code",
   "execution_count": 28,
   "id": "2af3045e-2243-45c9-bf30-c007ba26d186",
   "metadata": {},
   "outputs": [
    {
     "name": "stdout",
     "output_type": "stream",
     "text": [
      "welcome to VIP lounge\n",
      "This will always be executed\n"
     ]
    }
   ],
   "source": [
    "is_member = True\n",
    "if is_member:\n",
    "    print(\"welcome to VIP lounge\")\n",
    "else:\n",
    "    print(\"This is else statement\")\n",
    "print(\"This will always be executed\")"
   ]
  },
  {
   "cell_type": "code",
   "execution_count": 44,
   "id": "e22e1dc6-9302-4cc8-8f5e-deedbfb34cfa",
   "metadata": {},
   "outputs": [
    {
     "name": "stdin",
     "output_type": "stream",
     "text": [
      "Enter a number 2\n"
     ]
    },
    {
     "name": "stdout",
     "output_type": "stream",
     "text": [
      "Even number\n"
     ]
    }
   ],
   "source": [
    "user = int(input(\"Enter a number\"))\n",
    "if user % 2 == 0:\n",
    "    print(\"Even number\")\n",
    "elif user % 2 == 1:\n",
    "    print(\"Odd number\")\n",
    "else:\n",
    "    print(\"Not a number\")"
   ]
  },
  {
   "cell_type": "code",
   "execution_count": 48,
   "id": "9d869c48-640d-4253-bca1-69f68d5a0b52",
   "metadata": {},
   "outputs": [
    {
     "name": "stdin",
     "output_type": "stream",
     "text": [
      "Input for number 1:  4\n",
      "Input for number 2:  2\n",
      "select 1 for + 2 for - 3 for * 4 for / and 5 for % 3\n"
     ]
    },
    {
     "name": "stdout",
     "output_type": "stream",
     "text": [
      "Multiplication of numbers is :  8\n"
     ]
    }
   ],
   "source": [
    "input1 = int(input(\"Input for number 1: \"))\n",
    "input2 = int(input(\"Input for number 2: \"))\n",
    "input3 = int(input(\"select 1 for + 2 for - 3 for * 4 for / and 5 for %\"))\n",
    "\n",
    "if input3 == 1:\n",
    "    print(\"Addition of numbers is : \", input1+input2)\n",
    "elif input3 == 2:\n",
    "    print(\"subtaction of numbers is : \", input1-input2)  \n",
    "elif input3 == 3:\n",
    "    print(\"Multiplication of numbers is : \", input1*input2)\n",
    "elif input3 == 4:\n",
    "    print(\"Addition of numbers is : \", input1/input2)\n",
    "elif input3 == 5:\n",
    "    print(\"Addition of numbers is : \", input1%input2)\n",
    "else:\n",
    "    print(\"Wrong choice\")"
   ]
  },
  {
   "cell_type": "code",
   "execution_count": null,
   "id": "e09b3eff-00d6-4cca-a045-d606cfb65714",
   "metadata": {},
   "outputs": [],
   "source": [
    "list1 = [2,3,4,5,6]\n",
    "if 7 in list1:\n",
    "    "
   ]
  },
  {
   "cell_type": "code",
   "execution_count": 54,
   "id": "702f0891-284a-4907-a260-89b2d38902a8",
   "metadata": {},
   "outputs": [
    {
     "name": "stdout",
     "output_type": "stream",
     "text": [
      "Both aren't true\n"
     ]
    }
   ],
   "source": [
    "a = 4\n",
    "b = 2\n",
    "if a==5 and b==3:\n",
    "    print('Both are true')\n",
    "elif a==5 or b==3:\n",
    "    print('Atleast one of them is true')\n",
    "else:\n",
    "    print(\"Both aren't true\")"
   ]
  },
  {
   "cell_type": "code",
   "execution_count": null,
   "id": "d0accb0e-f509-498f-8208-ca652947649d",
   "metadata": {},
   "outputs": [],
   "source": []
  },
  {
   "cell_type": "code",
   "execution_count": null,
   "id": "1f860c42-e6a2-43d7-86a9-65ab3a80b528",
   "metadata": {},
   "outputs": [],
   "source": []
  },
  {
   "cell_type": "code",
   "execution_count": null,
   "id": "4b70d8d2-8acf-4d02-8851-4e004304d0b5",
   "metadata": {},
   "outputs": [],
   "source": []
  },
  {
   "cell_type": "code",
   "execution_count": null,
   "id": "3f6ba9fd-bdcf-43c3-a718-2b69c7d16db5",
   "metadata": {},
   "outputs": [],
   "source": []
  }
 ],
 "metadata": {
  "kernelspec": {
   "display_name": "Python 3 (ipykernel)",
   "language": "python",
   "name": "python3"
  },
  "language_info": {
   "codemirror_mode": {
    "name": "ipython",
    "version": 3
   },
   "file_extension": ".py",
   "mimetype": "text/x-python",
   "name": "python",
   "nbconvert_exporter": "python",
   "pygments_lexer": "ipython3",
   "version": "3.12.4"
  }
 },
 "nbformat": 4,
 "nbformat_minor": 5
}
