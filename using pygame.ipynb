{
 "cells": [
  {
   "cell_type": "code",
   "execution_count": 7,
   "id": "b704acf1-09f2-4da4-8ea3-aae670d9b4f2",
   "metadata": {},
   "outputs": [
    {
     "ename": "SystemExit",
     "evalue": "",
     "output_type": "error",
     "traceback": [
      "An exception has occurred, use %tb to see the full traceback.\n",
      "\u001b[1;31mSystemExit\u001b[0m\n"
     ]
    }
   ],
   "source": [
    "import pygame\n",
    "import sys\n",
    "import numpy as np\n",
    "\n",
    "# Initialize Pygame\n",
    "pygame.init()\n",
    "\n",
    "# Constants\n",
    "WIDTH, HEIGHT = 300, 300\n",
    "LINE_WIDTH = 10\n",
    "BOARD_ROWS, BOARD_COLS = 3, 3\n",
    "SQUARE_SIZE = WIDTH // BOARD_COLS\n",
    "CIRCLE_RADIUS = SQUARE_SIZE // 3\n",
    "CIRCLE_WIDTH = 15\n",
    "CROSS_WIDTH = 25\n",
    "SPACE = SQUARE_SIZE // 4\n",
    "WHITE = (255, 255, 255)\n",
    "LINE_COLOR = (0, 0, 0)\n",
    "CIRCLE_COLOR = (240, 240, 240)\n",
    "CROSS_COLOR = (255, 0, 0)\n",
    "\n",
    "# Initialize the screen\n",
    "screen = pygame.display.set_mode((WIDTH, HEIGHT))\n",
    "pygame.display.set_caption('Tic Tac Toe')\n",
    "\n",
    "# Initialize the board\n",
    "board = np.zeros((BOARD_ROWS, BOARD_COLS))\n",
    "\n",
    "# Functions to draw the game\n",
    "def draw_lines():\n",
    "    pygame.draw.line(screen, LINE_COLOR, (0, SQUARE_SIZE), (WIDTH, SQUARE_SIZE), LINE_WIDTH)\n",
    "    pygame.draw.line(screen, LINE_COLOR, (0, SQUARE_SIZE * 2), (WIDTH, SQUARE_SIZE * 2), LINE_WIDTH)\n",
    "    pygame.draw.line(screen, LINE_COLOR, (SQUARE_SIZE, 0), (SQUARE_SIZE, HEIGHT), LINE_WIDTH)\n",
    "    pygame.draw.line(screen, LINE_COLOR, (SQUARE_SIZE * 2, 0), (SQUARE_SIZE * 2, HEIGHT), LINE_WIDTH)\n",
    "\n",
    "def draw_figures():\n",
    "    for row in range(BOARD_ROWS):\n",
    "        for col in range(BOARD_COLS):\n",
    "            if board[row][col] == 1:\n",
    "                pygame.draw.circle(screen, CIRCLE_COLOR, (int(col * SQUARE_SIZE + SQUARE_SIZE // 2), int(row * SQUARE_SIZE + SQUARE_SIZE // 2)), CIRCLE_RADIUS, CIRCLE_WIDTH)\n",
    "            elif board[row][col] == 2:\n",
    "                pygame.draw.line(screen, CROSS_COLOR, (col * SQUARE_SIZE + SPACE, row * SQUARE_SIZE + SQUARE_SIZE - SPACE), (col * SQUARE_SIZE + SQUARE_SIZE - SPACE, row * SQUARE_SIZE + SPACE), CROSS_WIDTH)\n",
    "                pygame.draw.line(screen, CROSS_COLOR, (col * SQUARE_SIZE + SPACE, row * SQUARE_SIZE + SPACE), (col * SQUARE_SIZE + SQUARE_SIZE - SPACE, row * SQUARE_SIZE + SQUARE_SIZE - SPACE), CROSS_WIDTH)\n",
    "\n",
    "def mark_square(row, col, player):\n",
    "    board[row][col] = player\n",
    "\n",
    "def available_square(row, col):\n",
    "    return board[row][col] == 0\n",
    "\n",
    "def is_board_full():\n",
    "    return not np.any(board == 0)\n",
    "\n",
    "def check_win(player):\n",
    "    # Check horizontal, vertical, and diagonal wins\n",
    "    for col in range(BOARD_COLS):\n",
    "        if np.all(board[:, col] == player):\n",
    "            return True\n",
    "    for row in range(BOARD_ROWS):\n",
    "        if np.all(board[row, :] == player):\n",
    "            return True\n",
    "    if np.all(np.diag(board) == player) or np.all(np.diag(np.fliplr(board)) == player):\n",
    "        return True\n",
    "    return False\n",
    "\n",
    "def restart_game():\n",
    "    global board\n",
    "    board = np.zeros((BOARD_ROWS, BOARD_COLS))\n",
    "\n",
    "# Main loop\n",
    "player = 2\n",
    "game_over = False\n",
    "\n",
    "while True:\n",
    "    for event in pygame.event.get():\n",
    "        if event.type == pygame.QUIT:\n",
    "            pygame.quit()\n",
    "            sys.exit()\n",
    "        if event.type == pygame.MOUSEBUTTONDOWN and not game_over:\n",
    "            mouseX = event.pos[0]\n",
    "            mouseY = event.pos[1]\n",
    "\n",
    "            clicked_row = mouseY // SQUARE_SIZE\n",
    "            clicked_col = mouseX // SQUARE_SIZE\n",
    "\n",
    "            if available_square(clicked_row, clicked_col):\n",
    "                mark_square(clicked_row, clicked_col, player)\n",
    "                if check_win(player):\n",
    "                    game_over = True\n",
    "                player = player % 2 + 1\n",
    "\n",
    "        if event.type == pygame.KEYDOWN:\n",
    "            if event.key == pygame.K_r:\n",
    "                restart_game()\n",
    "                game_over = False\n",
    "                player = 1\n",
    "\n",
    "    screen.fill(WHITE)\n",
    "    draw_lines()\n",
    "    draw_figures()\n",
    "    \n",
    "    if game_over:\n",
    "        font = pygame.font.Font(None, 74)\n",
    "        text = font.render(f'Player {player} Wins!', True, (0, 0, 0))\n",
    "        screen.blit(text, (WIDTH // 2 - text.get_width() // 2, HEIGHT // 2 - text.get_height() // 2))\n",
    "\n",
    "    pygame.display.update()\n"
   ]
  },
  {
   "cell_type": "code",
   "execution_count": null,
   "id": "9acdb15d-fc5b-49be-849d-6cbbfade52fa",
   "metadata": {},
   "outputs": [],
   "source": []
  },
  {
   "cell_type": "code",
   "execution_count": null,
   "id": "6ed93e09-3702-42f0-985e-443e57bfdad7",
   "metadata": {},
   "outputs": [],
   "source": []
  },
  {
   "cell_type": "code",
   "execution_count": null,
   "id": "520d6e56-2d48-48fb-84e1-653e950b107c",
   "metadata": {},
   "outputs": [],
   "source": []
  },
  {
   "cell_type": "code",
   "execution_count": null,
   "id": "c44d0204-7afe-4a98-8de4-8b133da5c5e6",
   "metadata": {},
   "outputs": [],
   "source": []
  },
  {
   "cell_type": "code",
   "execution_count": null,
   "id": "8abd8d3c-8cbd-4205-8c83-c0a3dc2024be",
   "metadata": {},
   "outputs": [],
   "source": []
  },
  {
   "cell_type": "code",
   "execution_count": null,
   "id": "7b53fafd-7559-494b-8d13-d7638516aa10",
   "metadata": {},
   "outputs": [],
   "source": []
  },
  {
   "cell_type": "code",
   "execution_count": null,
   "id": "42a78f30-1743-4294-9a59-046162c23768",
   "metadata": {},
   "outputs": [],
   "source": []
  },
  {
   "cell_type": "code",
   "execution_count": null,
   "id": "9f79a39b-f969-4928-af40-ae8ecc1f588a",
   "metadata": {},
   "outputs": [],
   "source": []
  },
  {
   "cell_type": "code",
   "execution_count": null,
   "id": "422bc043-e1ea-4333-a6fe-981aceaec5ae",
   "metadata": {},
   "outputs": [],
   "source": []
  },
  {
   "cell_type": "code",
   "execution_count": null,
   "id": "a088743d-d818-42fa-8c37-2b57ee913f4d",
   "metadata": {},
   "outputs": [],
   "source": []
  },
  {
   "cell_type": "code",
   "execution_count": null,
   "id": "ba2eeaa6-cd58-41dd-83ee-68b03d9c2ca2",
   "metadata": {},
   "outputs": [],
   "source": []
  },
  {
   "cell_type": "code",
   "execution_count": null,
   "id": "245b14dd-8d4a-40ac-ba88-5b9c2c5e28d1",
   "metadata": {},
   "outputs": [],
   "source": []
  },
  {
   "cell_type": "code",
   "execution_count": null,
   "id": "a5bf2f09-6932-4fac-bed1-cfbed5f6a156",
   "metadata": {},
   "outputs": [],
   "source": []
  },
  {
   "cell_type": "code",
   "execution_count": null,
   "id": "1a69bacd-c5d5-4a51-9d0e-9665763a7f0d",
   "metadata": {},
   "outputs": [],
   "source": []
  },
  {
   "cell_type": "code",
   "execution_count": null,
   "id": "cca38565-ec86-41b4-9c78-9b9b29f1a3c7",
   "metadata": {},
   "outputs": [],
   "source": []
  },
  {
   "cell_type": "code",
   "execution_count": null,
   "id": "356b17ca-263a-4f00-9115-8d5534d305cd",
   "metadata": {},
   "outputs": [],
   "source": []
  },
  {
   "cell_type": "code",
   "execution_count": null,
   "id": "1d5def32-cd12-4a20-846b-d0aec4bd6b2f",
   "metadata": {},
   "outputs": [],
   "source": []
  }
 ],
 "metadata": {
  "kernelspec": {
   "display_name": "Python 3 (ipykernel)",
   "language": "python",
   "name": "python3"
  },
  "language_info": {
   "codemirror_mode": {
    "name": "ipython",
    "version": 3
   },
   "file_extension": ".py",
   "mimetype": "text/x-python",
   "name": "python",
   "nbconvert_exporter": "python",
   "pygments_lexer": "ipython3",
   "version": "3.12.4"
  }
 },
 "nbformat": 4,
 "nbformat_minor": 5
}
