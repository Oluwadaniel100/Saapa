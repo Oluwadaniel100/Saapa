{
 "cells": [
  {
   "cell_type": "code",
   "execution_count": 22,
   "id": "e6841fb4-8bb3-41fc-a300-a118a44b656a",
   "metadata": {},
   "outputs": [
    {
     "data": {
      "text/plain": [
       "4"
      ]
     },
     "execution_count": 22,
     "metadata": {},
     "output_type": "execute_result"
    }
   ],
   "source": [
    "2+2"
   ]
  },
  {
   "cell_type": "code",
   "execution_count": 24,
   "id": "7c198cfa-b5c8-478d-8564-f198b40bcf63",
   "metadata": {},
   "outputs": [
    {
     "data": {
      "text/plain": [
       "4"
      ]
     },
     "execution_count": 24,
     "metadata": {},
     "output_type": "execute_result"
    }
   ],
   "source": [
    "2**2"
   ]
  },
  {
   "cell_type": "code",
   "execution_count": 26,
   "id": "55ad3bde-6719-40e9-829f-56ba976a1ca6",
   "metadata": {},
   "outputs": [],
   "source": [
    "a = 5 "
   ]
  },
  {
   "cell_type": "code",
   "execution_count": 28,
   "id": "43bf536e-be3b-44af-921b-2f40a572529b",
   "metadata": {},
   "outputs": [
    {
     "data": {
      "text/plain": [
       "10"
      ]
     },
     "execution_count": 28,
     "metadata": {},
     "output_type": "execute_result"
    }
   ],
   "source": [
    "a+a"
   ]
  },
  {
   "cell_type": "code",
   "execution_count": 30,
   "id": "14966592-4f08-48bd-9c9a-bbc49575a4fe",
   "metadata": {},
   "outputs": [],
   "source": [
    "#reassignment"
   ]
  },
  {
   "cell_type": "code",
   "execution_count": 32,
   "id": "06c28d5c-193f-4d77-8048-ef37478bb3ec",
   "metadata": {},
   "outputs": [],
   "source": [
    "a=10"
   ]
  },
  {
   "cell_type": "code",
   "execution_count": 36,
   "id": "f834380c-900a-409b-b640-c492e36be459",
   "metadata": {},
   "outputs": [
    {
     "data": {
      "text/plain": [
       "10"
      ]
     },
     "execution_count": 36,
     "metadata": {},
     "output_type": "execute_result"
    }
   ],
   "source": [
    "#check\n",
    "a"
   ]
  },
  {
   "cell_type": "code",
   "execution_count": 62,
   "id": "bf0223a6-a5cf-4e5d-a693-b5c93300e3e6",
   "metadata": {},
   "outputs": [
    {
     "data": {
      "text/plain": [
       "-6"
      ]
     },
     "execution_count": 62,
     "metadata": {},
     "output_type": "execute_result"
    }
   ],
   "source": [
    "2-8"
   ]
  },
  {
   "cell_type": "code",
   "execution_count": 66,
   "id": "12f22d25-e7aa-49a5-8dd8-d4f4609497a2",
   "metadata": {},
   "outputs": [
    {
     "data": {
      "text/plain": [
       "'hello'"
      ]
     },
     "execution_count": 66,
     "metadata": {},
     "output_type": "execute_result"
    }
   ],
   "source": [
    "#single word\n",
    "'hello'"
   ]
  },
  {
   "cell_type": "code",
   "execution_count": 70,
   "id": "24d7afdd-00af-4840-a474-4a47a2d9e51e",
   "metadata": {},
   "outputs": [
    {
     "data": {
      "text/plain": [
       "'my cat is nice'"
      ]
     },
     "execution_count": 70,
     "metadata": {},
     "output_type": "execute_result"
    }
   ],
   "source": [
    "#single word\n",
    "'my cat is nice'"
   ]
  },
  {
   "cell_type": "code",
   "execution_count": 86,
   "id": "7181a4e1-b4c8-4706-9b81-448b0ac69867",
   "metadata": {},
   "outputs": [
    {
     "name": "stdout",
     "output_type": "stream",
     "text": [
      "hello world\n"
     ]
    }
   ],
   "source": [
    "print(\"hello world\")"
   ]
  },
  {
   "cell_type": "code",
   "execution_count": 98,
   "id": "05f81ae7-f9e1-47d6-88f3-adbe1945c384",
   "metadata": {},
   "outputs": [],
   "source": [
    "my_dogs = ('bill, nill')"
   ]
  },
  {
   "cell_type": "code",
   "execution_count": 102,
   "id": "19b7f9c2-0143-4f14-8d0d-82a89f24b919",
   "metadata": {},
   "outputs": [
    {
     "data": {
      "text/plain": [
       "'bill, nill'"
      ]
     },
     "execution_count": 102,
     "metadata": {},
     "output_type": "execute_result"
    }
   ],
   "source": [
    "my_dogs"
   ]
  },
  {
   "cell_type": "code",
   "execution_count": 106,
   "id": "c01280e7-fed6-4b4e-8a7c-fde7398a0665",
   "metadata": {},
   "outputs": [],
   "source": [
    "my_dogs = 3"
   ]
  },
  {
   "cell_type": "code",
   "execution_count": 108,
   "id": "6f111796-0983-4e33-a148-e4cd41cde7c8",
   "metadata": {},
   "outputs": [
    {
     "data": {
      "text/plain": [
       "3"
      ]
     },
     "execution_count": 108,
     "metadata": {},
     "output_type": "execute_result"
    }
   ],
   "source": [
    "my_dogs"
   ]
  },
  {
   "cell_type": "code",
   "execution_count": null,
   "id": "5ef5c3b0-b7db-42b2-a50b-0537849880d2",
   "metadata": {},
   "outputs": [],
   "source": []
  }
 ],
 "metadata": {
  "kernelspec": {
   "display_name": "Python 3 (ipykernel)",
   "language": "python",
   "name": "python3"
  },
  "language_info": {
   "codemirror_mode": {
    "name": "ipython",
    "version": 3
   },
   "file_extension": ".py",
   "mimetype": "text/x-python",
   "name": "python",
   "nbconvert_exporter": "python",
   "pygments_lexer": "ipython3",
   "version": "3.12.4"
  }
 },
 "nbformat": 4,
 "nbformat_minor": 5
}
