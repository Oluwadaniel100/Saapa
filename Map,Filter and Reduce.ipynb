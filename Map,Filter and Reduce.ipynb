{
 "cells": [
  {
   "cell_type": "code",
   "execution_count": 9,
   "id": "c98305d7-4e05-42bb-9ea5-04466b46a126",
   "metadata": {},
   "outputs": [],
   "source": [
    "def add(a):\n",
    "    return a+a"
   ]
  },
  {
   "cell_type": "code",
   "execution_count": 11,
   "id": "2de0bf4d-c444-4332-bcd9-126614ee7187",
   "metadata": {},
   "outputs": [],
   "source": [
    "numbers = [2,3,4,5,6]"
   ]
  },
  {
   "cell_type": "code",
   "execution_count": 13,
   "id": "425984ea-19da-4280-a5b5-adbd800b4f9f",
   "metadata": {},
   "outputs": [],
   "source": [
    "out = map(add,numbers)"
   ]
  },
  {
   "cell_type": "code",
   "execution_count": 15,
   "id": "01c9a9d6-40f0-451c-8b54-6dbd2381f722",
   "metadata": {},
   "outputs": [
    {
     "name": "stdout",
     "output_type": "stream",
     "text": [
      "<map object at 0x000001AB2CBAFEE0>\n"
     ]
    }
   ],
   "source": [
    "print(out)"
   ]
  },
  {
   "cell_type": "code",
   "execution_count": 17,
   "id": "b83f9c30-aa58-438d-90dc-575e04230b8a",
   "metadata": {},
   "outputs": [
    {
     "data": {
      "text/plain": [
       "<map at 0x1ab2cbafee0>"
      ]
     },
     "execution_count": 17,
     "metadata": {},
     "output_type": "execute_result"
    }
   ],
   "source": [
    "out"
   ]
  },
  {
   "cell_type": "code",
   "execution_count": 19,
   "id": "078d45f6-0438-4c01-b171-45de6524790b",
   "metadata": {},
   "outputs": [],
   "source": [
    "sub = list(out)"
   ]
  },
  {
   "cell_type": "code",
   "execution_count": 23,
   "id": "a75a82f3-2e8e-4b5c-9bed-97e3a3c6722b",
   "metadata": {},
   "outputs": [
    {
     "name": "stdout",
     "output_type": "stream",
     "text": [
      "[4, 6, 8, 10, 12]\n"
     ]
    }
   ],
   "source": [
    "print(sub)"
   ]
  },
  {
   "cell_type": "code",
   "execution_count": 33,
   "id": "68cf6af9-08ec-4930-a01f-7a5517405022",
   "metadata": {},
   "outputs": [],
   "source": []
  },
  {
   "cell_type": "code",
   "execution_count": 87,
   "id": "ec35ee85-fead-4a79-a23b-d77f0e4f9003",
   "metadata": {},
   "outputs": [],
   "source": [
    "out = map(lambda a : a*a, numbers)"
   ]
  },
  {
   "cell_type": "code",
   "execution_count": 89,
   "id": "35af3684-99fb-4821-bfd2-7b4dd967bbd8",
   "metadata": {},
   "outputs": [
    {
     "name": "stdout",
     "output_type": "stream",
     "text": [
      "[4, 9, 16, 25, 36]\n"
     ]
    }
   ],
   "source": [
    "print(list(out))"
   ]
  },
  {
   "cell_type": "code",
   "execution_count": 59,
   "id": "8c79f92c-4c57-4123-92f3-afad61056396",
   "metadata": {},
   "outputs": [
    {
     "name": "stdout",
     "output_type": "stream",
     "text": [
      "[4, 9, 16, 25, 36]\n"
     ]
    }
   ],
   "source": [
    "print(multiply)"
   ]
  },
  {
   "cell_type": "code",
   "execution_count": 69,
   "id": "7486f616-0bea-4145-a4dd-f3fdcc630f7c",
   "metadata": {},
   "outputs": [],
   "source": [
    "map_obj = map(str.upper,['pen','book','shoe','cone'])"
   ]
  },
  {
   "cell_type": "code",
   "execution_count": 71,
   "id": "1bbf1589-65a6-4710-b5f3-bee1345c56de",
   "metadata": {},
   "outputs": [
    {
     "name": "stdout",
     "output_type": "stream",
     "text": [
      "['PEN', 'BOOK', 'SHOE', 'CONE']\n"
     ]
    }
   ],
   "source": [
    "print(list(map_obj))"
   ]
  },
  {
   "cell_type": "code",
   "execution_count": 81,
   "id": "0ecec080-b952-4bbf-8cd0-06c5880b8c9c",
   "metadata": {},
   "outputs": [],
   "source": [
    "map_obj = map(lambda x : len(list(x)),['pen','book','shoes','cone'])"
   ]
  },
  {
   "cell_type": "code",
   "execution_count": 83,
   "id": "eea54c7e-737c-4784-bd09-13aadc67b59a",
   "metadata": {},
   "outputs": [
    {
     "name": "stdout",
     "output_type": "stream",
     "text": [
      "[3, 4, 5, 4]\n"
     ]
    }
   ],
   "source": [
    "print(list(map_obj))"
   ]
  },
  {
   "cell_type": "code",
   "execution_count": 115,
   "id": "68f54f1b-879b-4d8f-bc25-01cefa231ade",
   "metadata": {},
   "outputs": [],
   "source": [
    "def fil(a):\n",
    "    if a > 5:\n",
    "        return a"
   ]
  },
  {
   "cell_type": "code",
   "execution_count": 119,
   "id": "7b6e8f46-4371-4c6d-8b5d-7e27ad6fb458",
   "metadata": {},
   "outputs": [],
   "source": [
    "sub = filter(fil, (3,7,4,2,9,11))"
   ]
  },
  {
   "cell_type": "code",
   "execution_count": 121,
   "id": "dcb78c1b-5036-4e95-a756-691aa308e0ce",
   "metadata": {},
   "outputs": [
    {
     "name": "stdout",
     "output_type": "stream",
     "text": [
      "[7, 9, 11]\n"
     ]
    }
   ],
   "source": [
    "print(list(sub))"
   ]
  },
  {
   "cell_type": "code",
   "execution_count": 131,
   "id": "095e10bc-b95a-45e5-8247-600494944bd1",
   "metadata": {},
   "outputs": [],
   "source": [
    "sub = filter(lambda a : a>5,(3,7,4,2,9,11))"
   ]
  },
  {
   "cell_type": "code",
   "execution_count": 133,
   "id": "f287463a-1af6-470b-8c05-ac4c7511969c",
   "metadata": {},
   "outputs": [
    {
     "name": "stdout",
     "output_type": "stream",
     "text": [
      "[7, 9, 11]\n"
     ]
    }
   ],
   "source": [
    "print(list(sub))"
   ]
  },
  {
   "cell_type": "code",
   "execution_count": 141,
   "id": "7d056336-8dc0-41b0-be78-9a5adfff293b",
   "metadata": {},
   "outputs": [],
   "source": [
    "def veggies(x):\n",
    "    return 'i' in x"
   ]
  },
  {
   "cell_type": "code",
   "execution_count": 143,
   "id": "1933a9d2-c1cc-4268-a3af-7c34f2147a6e",
   "metadata": {},
   "outputs": [],
   "source": [
    "map_obj = filter(veggies,['pepper','ginger','lettuce'])"
   ]
  },
  {
   "cell_type": "code",
   "execution_count": 145,
   "id": "b1d07155-ca33-4378-879b-a94e880d7246",
   "metadata": {},
   "outputs": [
    {
     "name": "stdout",
     "output_type": "stream",
     "text": [
      "['ginger']\n"
     ]
    }
   ],
   "source": [
    "print(list(map_obj))"
   ]
  },
  {
   "cell_type": "code",
   "execution_count": 151,
   "id": "5312400e-a97d-46d6-b402-286c4c26f94c",
   "metadata": {},
   "outputs": [],
   "source": [
    "map_obj = filter(lambda x: 'i' in x,['rope','fish','gig','burst'])"
   ]
  },
  {
   "cell_type": "code",
   "execution_count": 153,
   "id": "1f0acf0b-abea-4269-b6be-b2f1700a5ec2",
   "metadata": {},
   "outputs": [
    {
     "name": "stdout",
     "output_type": "stream",
     "text": [
      "['fish', 'gig']\n"
     ]
    }
   ],
   "source": [
    "print(list(map_obj))"
   ]
  },
  {
   "cell_type": "code",
   "execution_count": 7,
   "id": "63cbaaec-eea0-46a2-83d3-9fa5561624b6",
   "metadata": {},
   "outputs": [],
   "source": [
    "from functools import reduce"
   ]
  },
  {
   "cell_type": "code",
   "execution_count": 9,
   "id": "9af84810-19b8-4d3c-889e-3b8b9afb11fb",
   "metadata": {},
   "outputs": [
    {
     "data": {
      "text/plain": [
       "110"
      ]
     },
     "execution_count": 9,
     "metadata": {},
     "output_type": "execute_result"
    }
   ],
   "source": [
    "reduce(lambda a,b: a+b,[10,25,30,45])"
   ]
  },
  {
   "cell_type": "code",
   "execution_count": 11,
   "id": "0a5e1f93-c906-470a-8766-c7e4b761f0ba",
   "metadata": {},
   "outputs": [
    {
     "data": {
      "text/plain": [
       "210"
      ]
     },
     "execution_count": 11,
     "metadata": {},
     "output_type": "execute_result"
    }
   ],
   "source": [
    "reduce(lambda a,b: a*b,[3,5,7,2])"
   ]
  },
  {
   "cell_type": "code",
   "execution_count": null,
   "id": "3351ee76-1d6c-4bd2-bdcd-095b7251b79d",
   "metadata": {},
   "outputs": [],
   "source": []
  },
  {
   "cell_type": "code",
   "execution_count": 14,
   "id": "1f884668-007f-4251-aeba-82d416719d21",
   "metadata": {},
   "outputs": [],
   "source": [
    "num = [3,6,21,13,30]"
   ]
  },
  {
   "cell_type": "code",
   "execution_count": 20,
   "id": "56075975-8923-42e5-bee9-897d5d4638b1",
   "metadata": {},
   "outputs": [],
   "source": [
    "def custom_sum(first,second):\n",
    "    return first+second"
   ]
  },
  {
   "cell_type": "code",
   "execution_count": 22,
   "id": "c123e1b3-7c57-4571-a7db-8b7b9ab21974",
   "metadata": {},
   "outputs": [
    {
     "name": "stdout",
     "output_type": "stream",
     "text": [
      "73\n"
     ]
    }
   ],
   "source": [
    "result = reduce(custom_sum, num)\n",
    "print(result)"
   ]
  },
  {
   "cell_type": "code",
   "execution_count": 52,
   "id": "d05fe6d3-c15f-4294-9d85-94b01056458f",
   "metadata": {},
   "outputs": [],
   "source": [
    "list1 = [15,25,35,45,55,65,75]\n",
    "double_the_num = list(map(lambda x : x*2,list1))"
   ]
  },
  {
   "cell_type": "code",
   "execution_count": 54,
   "id": "abe909c6-aae6-4431-b7c1-3e9c4fd5c741",
   "metadata": {},
   "outputs": [
    {
     "name": "stdout",
     "output_type": "stream",
     "text": [
      "[30, 50, 70, 90, 110, 130, 150]\n"
     ]
    }
   ],
   "source": [
    "print(double_the_num)"
   ]
  },
  {
   "cell_type": "code",
   "execution_count": 56,
   "id": "efe3b40a-fed8-4d31-9be3-c960592f9df1",
   "metadata": {},
   "outputs": [],
   "source": [
    "list2 = [2,5,10,6,4,12]"
   ]
  },
  {
   "cell_type": "code",
   "execution_count": 58,
   "id": "efb903e9-dd84-4522-be21-250d4d5c5b68",
   "metadata": {},
   "outputs": [],
   "source": [
    "cube = map(lambda x: pow(x,3),list2)"
   ]
  },
  {
   "cell_type": "code",
   "execution_count": 63,
   "id": "a9569767-c3bb-4127-ab4b-5c4c819f01f9",
   "metadata": {},
   "outputs": [
    {
     "name": "stdout",
     "output_type": "stream",
     "text": [
      "[8, 125, 1000, 216, 64, 1728]\n"
     ]
    }
   ],
   "source": [
    "print(list(cube))"
   ]
  },
  {
   "cell_type": "code",
   "execution_count": 65,
   "id": "e760ff0f-2a14-4780-b6a2-482a623ba6dc",
   "metadata": {},
   "outputs": [
    {
     "name": "stdout",
     "output_type": "stream",
     "text": [
      "[4, 25, 100, 36, 16, 144]\n"
     ]
    }
   ],
   "source": [
    "square = map(lambda x: pow(x,2),list2)\n",
    "print(list(square))"
   ]
  },
  {
   "cell_type": "code",
   "execution_count": 67,
   "id": "0abe9e8e-7322-45fb-ac7c-2b22371d8773",
   "metadata": {},
   "outputs": [],
   "source": [
    "def quadratic(a,b,c):\n",
    "    return lambda x : a*x**2 + b*x + c"
   ]
  },
  {
   "cell_type": "code",
   "execution_count": 71,
   "id": "16c7bc6d-6e8f-4b1c-98c6-f51ae12f164a",
   "metadata": {},
   "outputs": [],
   "source": [
    "f = quadratic(2,3,5)"
   ]
  },
  {
   "cell_type": "code",
   "execution_count": 73,
   "id": "0e2d9f2e-e4a4-42b2-9605-444b69128b6a",
   "metadata": {},
   "outputs": [
    {
     "data": {
      "text/plain": [
       "19"
      ]
     },
     "execution_count": 73,
     "metadata": {},
     "output_type": "execute_result"
    }
   ],
   "source": [
    "f(2)"
   ]
  },
  {
   "cell_type": "code",
   "execution_count": 75,
   "id": "c04474bd-3982-4605-b9dd-42184edc5497",
   "metadata": {},
   "outputs": [
    {
     "data": {
      "text/plain": [
       "13"
      ]
     },
     "execution_count": 75,
     "metadata": {},
     "output_type": "execute_result"
    }
   ],
   "source": [
    "quadratic(1,1,1)(3)"
   ]
  },
  {
   "cell_type": "code",
   "execution_count": null,
   "id": "b42ab4dc-efdc-4aa9-972e-1d0cc10bac9f",
   "metadata": {},
   "outputs": [],
   "source": []
  },
  {
   "cell_type": "code",
   "execution_count": null,
   "id": "6faaaa2c-3d29-42c5-8b20-2f18832cbcd9",
   "metadata": {},
   "outputs": [],
   "source": []
  },
  {
   "cell_type": "code",
   "execution_count": null,
   "id": "0156106c-7370-4eda-b2b2-432099f325d5",
   "metadata": {},
   "outputs": [],
   "source": []
  },
  {
   "cell_type": "code",
   "execution_count": null,
   "id": "1dc54b39-1ec2-497d-a52a-475588e30935",
   "metadata": {},
   "outputs": [],
   "source": []
  }
 ],
 "metadata": {
  "kernelspec": {
   "display_name": "Python 3 (ipykernel)",
   "language": "python",
   "name": "python3"
  },
  "language_info": {
   "codemirror_mode": {
    "name": "ipython",
    "version": 3
   },
   "file_extension": ".py",
   "mimetype": "text/x-python",
   "name": "python",
   "nbconvert_exporter": "python",
   "pygments_lexer": "ipython3",
   "version": "3.12.4"
  }
 },
 "nbformat": 4,
 "nbformat_minor": 5
}
