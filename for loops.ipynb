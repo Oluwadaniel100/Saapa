{
 "cells": [
  {
   "cell_type": "code",
   "execution_count": 1,
   "id": "d81a272e-f5c0-4d77-bf78-a539a86f4d02",
   "metadata": {},
   "outputs": [
    {
     "name": "stdin",
     "output_type": "stream",
     "text": [
      " g\n"
     ]
    },
    {
     "name": "stdout",
     "output_type": "stream",
     "text": [
      "spathiphyllum! Not g\n"
     ]
    }
   ],
   "source": [
    "stuff = input()\n",
    "if stuff == 'SPATHIPHYLLUM':\n",
    "    print(\"Yes - spathiphyllum is the best plant ever!\")\n",
    "elif stuff == 'spathiphyllum':\n",
    "    print(\"No, I want a big spathiphyllum!\")\n",
    "else:\n",
    "    print(\"spathiphyllum! Not\", stuff)"
   ]
  },
  {
   "cell_type": "code",
   "execution_count": 2,
   "id": "92fe2622-ba68-461a-95b2-490117a41303",
   "metadata": {},
   "outputs": [],
   "source": [
    "list1 = [1, 2, 3, 4, 5,6, 7, 8, 9, 10, 11, 12,]\n"
   ]
  },
  {
   "cell_type": "code",
   "execution_count": 3,
   "id": "98c1fec3-4e74-4146-aa95-5a23e904e61c",
   "metadata": {},
   "outputs": [
    {
     "name": "stdout",
     "output_type": "stream",
     "text": [
      "odd number\n",
      "2\n",
      "odd number\n",
      "4\n",
      "odd number\n",
      "6\n",
      "odd number\n",
      "8\n",
      "odd number\n",
      "10\n",
      "odd number\n",
      "12\n"
     ]
    }
   ],
   "source": [
    "for num in list1:\n",
    "    if num % 2 == 0:\n",
    "        print(num)\n",
    "    else:\n",
    "        print(\"odd number\")"
   ]
  },
  {
   "cell_type": "code",
   "execution_count": 4,
   "id": "91fbceae-3234-416b-8a7f-a8c730320a2b",
   "metadata": {},
   "outputs": [],
   "source": [
    "list2 = ['car', 'dog', 'key']"
   ]
  },
  {
   "cell_type": "code",
   "execution_count": 5,
   "id": "3dcdf546-7e69-4fc4-a3f8-de729c69514c",
   "metadata": {},
   "outputs": [
    {
     "name": "stdout",
     "output_type": "stream",
     "text": [
      "car\n",
      "dog\n",
      "key\n"
     ]
    }
   ],
   "source": [
    "for words in list2:\n",
    "    print(words)"
   ]
  },
  {
   "cell_type": "code",
   "execution_count": 6,
   "id": "3a7d6e64-59f1-49ad-9891-bb6b095abe14",
   "metadata": {},
   "outputs": [
    {
     "name": "stdout",
     "output_type": "stream",
     "text": [
      "1\n",
      "3\n",
      "6\n",
      "10\n",
      "15\n",
      "21\n",
      "28\n",
      "36\n",
      "45\n",
      "55\n",
      "66\n",
      "78\n"
     ]
    }
   ],
   "source": [
    "list_sum = 0\n",
    "\n",
    "for num in list1:\n",
    "    list_sum = list_sum + num\n",
    "    print(list_sum)\n"
   ]
  },
  {
   "cell_type": "code",
   "execution_count": 7,
   "id": "11a74bd4-3fb4-45db-8ad5-a9a5f2e63c10",
   "metadata": {},
   "outputs": [
    {
     "name": "stdout",
     "output_type": "stream",
     "text": [
      "1\n",
      "3\n",
      "6\n",
      "10\n",
      "15\n",
      "21\n",
      "28\n",
      "36\n",
      "45\n",
      "55\n",
      "66\n",
      "78\n"
     ]
    }
   ],
   "source": [
    "list_sum = 0\n",
    "\n",
    "for num in list1:\n",
    "    list_sum += num\n",
    "    print(list_sum)"
   ]
  },
  {
   "cell_type": "code",
   "execution_count": 8,
   "id": "0943183d-fca7-4487-b089-6fea7d69096b",
   "metadata": {},
   "outputs": [
    {
     "name": "stdout",
     "output_type": "stream",
     "text": [
      "T\n",
      "h\n",
      "i\n",
      "s\n",
      " \n",
      "i\n",
      "s\n",
      " \n",
      "m\n",
      "y\n",
      " \n",
      "c\n",
      "a\n",
      "r\n",
      ".\n"
     ]
    }
   ],
   "source": [
    "for a in 'This is my car.':\n",
    "    print(a)"
   ]
  },
  {
   "cell_type": "code",
   "execution_count": 9,
   "id": "d36b47d2-251c-4121-9ecd-4034b06a26ae",
   "metadata": {},
   "outputs": [
    {
     "name": "stdout",
     "output_type": "stream",
     "text": [
      "1\n",
      "2\n",
      "3\n",
      "4\n",
      "5\n"
     ]
    }
   ],
   "source": [
    "tup = (1, 2, 3, 4, 5)\n",
    "for num in tup:\n",
    "    print(num)"
   ]
  },
  {
   "cell_type": "code",
   "execution_count": 10,
   "id": "cd9f0790-71b8-4819-bcde-d36f2684c65c",
   "metadata": {},
   "outputs": [],
   "source": [
    "list3 = [(1,2,3), (4,5,6), (7,8,9)]"
   ]
  },
  {
   "cell_type": "code",
   "execution_count": 11,
   "id": "79b42f45-165b-4d97-ab76-8ca9f8226c70",
   "metadata": {},
   "outputs": [
    {
     "name": "stdout",
     "output_type": "stream",
     "text": [
      "(1, 2, 3)\n",
      "(4, 5, 6)\n",
      "(7, 8, 9)\n"
     ]
    }
   ],
   "source": [
    "for pop in list3:\n",
    "    print(pop)"
   ]
  },
  {
   "cell_type": "code",
   "execution_count": 12,
   "id": "17bb633c-7a17-481c-b7c3-07e8bc89fe24",
   "metadata": {},
   "outputs": [
    {
     "name": "stdout",
     "output_type": "stream",
     "text": [
      "1\n",
      "4\n",
      "7\n"
     ]
    }
   ],
   "source": [
    "for (t1, t2, t3) in list3:\n",
    "    print(t1)"
   ]
  },
  {
   "cell_type": "code",
   "execution_count": 13,
   "id": "8e90a559-765e-4e95-b1a0-79405d358870",
   "metadata": {},
   "outputs": [],
   "source": [
    "d = {'k1':1, 'k2':2, 'k3':3}\n"
   ]
  },
  {
   "cell_type": "code",
   "execution_count": 14,
   "id": "2adb324f-0e72-4ec1-a9ff-3ad924adbcfc",
   "metadata": {},
   "outputs": [
    {
     "name": "stdout",
     "output_type": "stream",
     "text": [
      "k1\n",
      "k2\n",
      "k3\n"
     ]
    }
   ],
   "source": [
    "for item in d:\n",
    "    print(item)"
   ]
  },
  {
   "cell_type": "code",
   "execution_count": 15,
   "id": "fb54bdfb-4bcc-4448-9028-2b75eecd15bb",
   "metadata": {},
   "outputs": [
    {
     "data": {
      "text/plain": [
       "dict_items([('k1', 1), ('k2', 2), ('k3', 3)])"
      ]
     },
     "execution_count": 15,
     "metadata": {},
     "output_type": "execute_result"
    }
   ],
   "source": [
    "d.items()"
   ]
  },
  {
   "cell_type": "code",
   "execution_count": 16,
   "id": "a5d6c5a1-bfc2-40e4-ad07-3f7407acb78c",
   "metadata": {},
   "outputs": [
    {
     "data": {
      "text/plain": [
       "dict_keys(['k1', 'k2', 'k3'])"
      ]
     },
     "execution_count": 16,
     "metadata": {},
     "output_type": "execute_result"
    }
   ],
   "source": [
    "d.keys()"
   ]
  },
  {
   "cell_type": "code",
   "execution_count": 17,
   "id": "5a8104d9-e3f4-4092-9a4d-587f206f111c",
   "metadata": {},
   "outputs": [
    {
     "data": {
      "text/plain": [
       "dict_values([1, 2, 3])"
      ]
     },
     "execution_count": 17,
     "metadata": {},
     "output_type": "execute_result"
    }
   ],
   "source": [
    "d.values()"
   ]
  },
  {
   "cell_type": "code",
   "execution_count": 18,
   "id": "d129aa5f-f910-46d3-a15a-c47f1db5e6a8",
   "metadata": {},
   "outputs": [
    {
     "name": "stdout",
     "output_type": "stream",
     "text": [
      "k1\n",
      "1\n",
      "k2\n",
      "2\n",
      "k3\n",
      "3\n"
     ]
    }
   ],
   "source": [
    "for a,b in d.items():\n",
    "    print(a)\n",
    "    print(b)"
   ]
  },
  {
   "cell_type": "code",
   "execution_count": 19,
   "id": "78287380-08c0-473b-b6d4-557f4022224f",
   "metadata": {},
   "outputs": [
    {
     "data": {
      "text/plain": [
       "['k1', 'k2', 'k3']"
      ]
     },
     "execution_count": 19,
     "metadata": {},
     "output_type": "execute_result"
    }
   ],
   "source": [
    "list(d.keys())"
   ]
  },
  {
   "cell_type": "code",
   "execution_count": 20,
   "id": "965a0b16-b25a-4277-a106-902c7c179d90",
   "metadata": {},
   "outputs": [
    {
     "data": {
      "text/plain": [
       "[1, 2, 3]"
      ]
     },
     "execution_count": 20,
     "metadata": {},
     "output_type": "execute_result"
    }
   ],
   "source": [
    "sorted(d.values())"
   ]
  },
  {
   "cell_type": "code",
   "execution_count": 21,
   "id": "bed306df-7252-4d6b-82f7-2c72d95590d3",
   "metadata": {},
   "outputs": [
    {
     "data": {
      "text/plain": [
       "['k1', 'k2', 'k3']"
      ]
     },
     "execution_count": 21,
     "metadata": {},
     "output_type": "execute_result"
    }
   ],
   "source": [
    "sorted(d.keys())"
   ]
  },
  {
   "cell_type": "code",
   "execution_count": 135,
   "id": "b7357cc9-8814-4a8c-a25a-e589f097884a",
   "metadata": {},
   "outputs": [
    {
     "name": "stdout",
     "output_type": "stream",
     "text": [
      "x is currently:  0\n",
      "x is still less than 10, adding 1 to x\n",
      "x is currently:  1\n",
      "x is still less than 10, adding 1 to x\n",
      "x is currently:  2\n",
      "x is still less than 10, adding 1 to x\n",
      "x is currently:  3\n",
      "x is still less than 10, adding 1 to x\n",
      "x is currently:  4\n",
      "x is still less than 10, adding 1 to x\n",
      "x is currently:  5\n",
      "x is still less than 10, adding 1 to x\n",
      "x is currently:  6\n",
      "x is still less than 10, adding 1 to x\n",
      "x is currently:  7\n",
      "x is still less than 10, adding 1 to x\n",
      "x is currently:  8\n",
      "x is still less than 10, adding 1 to x\n",
      "x is currently:  9\n",
      "x is still less than 10, adding 1 to x\n"
     ]
    }
   ],
   "source": [
    "x = 0\n",
    "while x < 10:\n",
    "    print('x is currently: ', x)\n",
    "    print('x is still less than 10, adding 1 to x')\n",
    "    x+=1"
   ]
  },
  {
   "cell_type": "code",
   "execution_count": 23,
   "id": "1ec9fe6c-b17d-4ddb-8196-84e3f3af23d5",
   "metadata": {},
   "outputs": [
    {
     "name": "stdout",
     "output_type": "stream",
     "text": [
      "x is currently:  0\n",
      " x is still less than 5, adding 1 to x\n",
      "x is currently:  1\n",
      " x is still less than 5, adding 1 to x\n",
      "x is currently:  2\n",
      " x is still less than 5, adding 1 to x\n",
      "x is currently:  3\n",
      " x is still less than 5, adding 1 to x\n",
      "x is currently:  4\n",
      " x is still less than 5, adding 1 to x\n"
     ]
    }
   ],
   "source": [
    "x = 0\n",
    "while x < 5:\n",
    "    print('x is currently: ', x)\n",
    "    print(' x is still less than 5, adding 1 to x')\n",
    "    x+=1"
   ]
  },
  {
   "cell_type": "code",
   "execution_count": 24,
   "id": "19695425-e579-44bf-9a04-193528091bcd",
   "metadata": {},
   "outputs": [
    {
     "name": "stdout",
     "output_type": "stream",
     "text": [
      "x is currently: 0\n",
      " x is still less than 8, adding 2 to x\n",
      "x is currently: 2\n",
      " x is still less than 8, adding 2 to x\n",
      "x is currently: 4\n",
      " x is still less than 8, adding 2 to x\n",
      "x is currently: 6\n",
      " x is still less than 8, adding 2 to x\n",
      "x is currently: 8\n",
      " x is still less than 8, adding 2 to x\n",
      "done!\n"
     ]
    }
   ],
   "source": [
    "x = 0\n",
    "while x < 10:\n",
    "    print(\"x is currently:\", x)\n",
    "    print(\" x is still less than 8, adding 2 to x\")\n",
    "    x+=2\n",
    "else:\n",
    "    print(\"done!\")"
   ]
  },
  {
   "cell_type": "code",
   "execution_count": 25,
   "id": "4a1a531f-2c40-4346-ad0f-cba373ac8fdf",
   "metadata": {},
   "outputs": [
    {
     "name": "stdout",
     "output_type": "stream",
     "text": [
      "x is currently:  0\n",
      " x is still less than 5, adding 1 to x\n",
      "contiinuing...\n",
      "x is currently:  1\n",
      " x is still less than 5, adding 1 to x\n",
      "contiinuing...\n",
      "x is currently:  2\n",
      " x is still less than 5, adding 1 to x\n",
      "x==3\n",
      "x is currently:  3\n",
      " x is still less than 5, adding 1 to x\n",
      "contiinuing...\n",
      "x is currently:  4\n",
      " x is still less than 5, adding 1 to x\n",
      "contiinuing...\n"
     ]
    }
   ],
   "source": [
    "x = 0\n",
    "while x < 5:\n",
    "    print('x is currently: ',x)\n",
    "    print(' x is still less than 5, adding 1 to x')\n",
    "    x+=1\n",
    "    if x==3:\n",
    "        print('x==3')\n",
    "    else:\n",
    "        print('contiinuing...')\n",
    "        continue"
   ]
  },
  {
   "cell_type": "code",
   "execution_count": 26,
   "id": "9212e342-3615-4913-8b70-21880f1ea31b",
   "metadata": {},
   "outputs": [
    {
     "name": "stdout",
     "output_type": "stream",
     "text": [
      "x is currently:  0\n",
      " x is still less than 5, adding 1 to x\n",
      "continuing...\n",
      "x is currently:  1\n",
      " x is still less than 5, adding 1 to x\n",
      "continuing...\n",
      "x is currently:  2\n",
      " x is still less than 5, adding 1 to x\n",
      "continuing...\n",
      "x is currently:  3\n",
      " x is still less than 5, adding 1 to x\n",
      "breaking because x==4\n"
     ]
    }
   ],
   "source": [
    "x = 0\n",
    "\n",
    "while x < 5:\n",
    "    print('x is currently: ',x)\n",
    "    print(' x is still less than 5, adding 1 to x')\n",
    "    x+=1\n",
    "    if x==4:\n",
    "        print('breaking because x==4')\n",
    "        break\n",
    "    else:\n",
    "        print('continuing...')\n",
    "        continue"
   ]
  },
  {
   "cell_type": "code",
   "execution_count": 78,
   "id": "ae231523-20f8-42e9-a886-116fe49f1c56",
   "metadata": {},
   "outputs": [
    {
     "name": "stdout",
     "output_type": "stream",
     "text": [
      "s t a n d a r d i z a t i o n "
     ]
    }
   ],
   "source": [
    "s = 'standardization'\n",
    "for i in s:\n",
    "    print(i, end=' ')"
   ]
  },
  {
   "cell_type": "code",
   "execution_count": 28,
   "id": "bbc7c846-f48b-4bcf-9001-a0155dcacd6a",
   "metadata": {},
   "outputs": [
    {
     "name": "stdout",
     "output_type": "stream",
     "text": [
      "standardization*standardization*standardization*standardization*standardization*standardization*standardization*standardization*standardization*standardization*standardization*standardization*standardization*standardization*standardization*"
     ]
    }
   ],
   "source": [
    "s = 'standardization'\n",
    "for i in s:\n",
    "    print(s, end='*')"
   ]
  },
  {
   "cell_type": "code",
   "execution_count": 29,
   "id": "d6c94f25-ef54-41a4-87d6-421f735e1fd1",
   "metadata": {},
   "outputs": [
    {
     "name": "stdout",
     "output_type": "stream",
     "text": [
      "sum = 150\n",
      "Average = 30.0\n"
     ]
    }
   ],
   "source": [
    "list_num = [20,25,10,50,45]\n",
    "sum = 0\n",
    "for i in list_num:\n",
    "    sum = sum + i\n",
    "print(\"sum =\", sum)\n",
    "print(\"Average =\", sum/len(list_num))"
   ]
  },
  {
   "cell_type": "code",
   "execution_count": 137,
   "id": "5e18a34a-a384-4092-9250-b8dcb6972f57",
   "metadata": {},
   "outputs": [
    {
     "name": "stdout",
     "output_type": "stream",
     "text": [
      "0 times 2 is 0\n",
      "1 times 2 is 2\n",
      "2 times 2 is 4\n",
      "3 times 2 is 6\n",
      "4 times 2 is 8\n",
      "5 times 2 is 10\n",
      "6 times 2 is 12\n",
      "7 times 2 is 14\n",
      "8 times 2 is 16\n",
      "9 times 2 is 18\n",
      "10 times 2 is 20\n",
      "11 times 2 is 22\n"
     ]
    }
   ],
   "source": [
    "a = 0\n",
    "while a < 12:\n",
    "    print(a, \"times 2 is\", a*2)\n",
    "    a+=1"
   ]
  },
  {
   "cell_type": "code",
   "execution_count": 31,
   "id": "80a4ef86-d9ff-42a4-8925-897fad684d9a",
   "metadata": {},
   "outputs": [
    {
     "name": "stdout",
     "output_type": "stream",
     "text": [
      "1 times 3 is 3\n",
      "3 times 3 is 9\n"
     ]
    }
   ],
   "source": [
    "for i in range (1, 5, 2):\n",
    "    g = i*3\n",
    "    print(i, 'times 3 is', g)"
   ]
  },
  {
   "cell_type": "code",
   "execution_count": 32,
   "id": "057872ef-ca34-4afc-9a0d-e790f0be2d99",
   "metadata": {},
   "outputs": [
    {
     "name": "stdout",
     "output_type": "stream",
     "text": [
      "1\n",
      "3\n"
     ]
    }
   ],
   "source": [
    "for i in range (1, 5, 2):\n",
    "    print(i)"
   ]
  },
  {
   "cell_type": "code",
   "execution_count": 33,
   "id": "65864349-6d0e-4596-90d4-6a0ba66805a5",
   "metadata": {},
   "outputs": [
    {
     "name": "stdout",
     "output_type": "stream",
     "text": [
      "1\n",
      "9\n",
      "25\n",
      "49\n",
      "81\n"
     ]
    }
   ],
   "source": [
    "for i in range (1, 10, 2):\n",
    "    g = i**2\n",
    "    print(g)"
   ]
  },
  {
   "cell_type": "code",
   "execution_count": 34,
   "id": "4559dc56-8d23-4c35-a7ce-cc8f520be13a",
   "metadata": {},
   "outputs": [
    {
     "name": "stdout",
     "output_type": "stream",
     "text": [
      "The square of the odd number betweeen 1 and 10 is:\n",
      "1\n",
      "9\n",
      "25\n",
      "49\n",
      "81\n"
     ]
    }
   ],
   "source": [
    "print('The square of the odd number betweeen 1 and 10 is:')\n",
    "for i in range (1, 10, 2):\n",
    "    i = i**2\n",
    "    print(i)"
   ]
  },
  {
   "cell_type": "code",
   "execution_count": 35,
   "id": "35586343-3031-4c18-9292-bc937108aa5f",
   "metadata": {},
   "outputs": [
    {
     "name": "stdout",
     "output_type": "stream",
     "text": [
      "1 raised to the power of 2 is 1\n",
      "3 raised to the power of 2 is 9\n",
      "5 raised to the power of 2 is 25\n",
      "7 raised to the power of 2 is 49\n",
      "9 raised to the power of 2 is 81\n"
     ]
    }
   ],
   "source": [
    "for i in range (1,10):\n",
    "    if i % 2 == 1:\n",
    "        a = i**2\n",
    "        print(i, \"raised to the power of 2 is\", a)"
   ]
  },
  {
   "cell_type": "code",
   "execution_count": 36,
   "id": "fa19548c-4bdb-4c1a-9a86-3fd0c7daf28c",
   "metadata": {},
   "outputs": [
    {
     "name": "stdin",
     "output_type": "stream",
     "text": [
      "Enter a number or type -1 to stop:  5\n",
      "Enter a number or type -1 to stop:  7\n",
      "Enter a number or type -1 to stop:  7\n",
      "Enter a number or type -1 to stop:  -1\n"
     ]
    },
    {
     "name": "stdout",
     "output_type": "stream",
     "text": [
      "The largest number is: 7\n"
     ]
    }
   ],
   "source": [
    "largest_number = -999999999\n",
    "\n",
    "number = int(input(\"Enter a number or type -1 to stop: \"))\n",
    "\n",
    "while number != -1:\n",
    "    if number > largest_number:\n",
    "        largest_number = number\n",
    "    number = int(input(\"Enter a number or type -1 to stop: \"))\n",
    "\n",
    "print(\"The largest number is:\", largest_number)"
   ]
  },
  {
   "cell_type": "code",
   "execution_count": 37,
   "id": "0d1b7bc3-c01a-4680-9460-b8ece0064baa",
   "metadata": {},
   "outputs": [
    {
     "name": "stdout",
     "output_type": "stream",
     "text": [
      "4\n",
      "9\n",
      "16\n",
      "25\n",
      "36\n",
      "49\n",
      "64\n",
      "81\n",
      "100\n",
      "121\n",
      "144\n"
     ]
    }
   ],
   "source": [
    "a = 2\n",
    "for i in range(2,13):\n",
    "    print(i*a)\n",
    "    a+=1"
   ]
  },
  {
   "cell_type": "code",
   "execution_count": 38,
   "id": "1d6d101d-2902-45fa-9be6-0a76cc54a463",
   "metadata": {},
   "outputs": [
    {
     "name": "stdin",
     "output_type": "stream",
     "text": [
      "Enter the number  4\n"
     ]
    },
    {
     "name": "stdout",
     "output_type": "stream",
     "text": [
      "4 * 1 = 4\n",
      "4 * 2 = 8\n",
      "4 * 3 = 12\n",
      "4 * 4 = 16\n",
      "4 * 5 = 20\n",
      "4 * 6 = 24\n",
      "4 * 7 = 28\n",
      "4 * 8 = 32\n",
      "4 * 9 = 36\n",
      "4 * 10 = 40\n",
      "4 * 11 = 44\n",
      "4 * 12 = 48\n"
     ]
    }
   ],
   "source": [
    "a = int(input('Enter the number '))\n",
    "for i in range(1,13):\n",
    "    mul = a*i\n",
    "    print(a,\"*\",i,\"=\",mul) "
   ]
  },
  {
   "cell_type": "code",
   "execution_count": 39,
   "id": "c377eca5-96ea-4ef1-8990-45ac64407a48",
   "metadata": {},
   "outputs": [
    {
     "name": "stdout",
     "output_type": "stream",
     "text": [
      "2 * 1 = 2\n",
      "2 * 2 = 4\n",
      "2 * 3 = 6\n",
      "2 * 4 = 8\n",
      "2 * 5 = 10\n",
      "2 * 6 = 12\n",
      "2 * 7 = 14\n",
      "2 * 8 = 16\n",
      "2 * 9 = 18\n",
      "2 * 10 = 20\n",
      "2 * 11 = 22\n",
      "2 * 12 = 24\n"
     ]
    }
   ],
   "source": [
    "a = 2\n",
    "for i in range(1,13):\n",
    "    g = a*i\n",
    "    print(a,\"*\",i,\"=\",g)"
   ]
  },
  {
   "cell_type": "code",
   "execution_count": 40,
   "id": "cd946a0e-64f2-4673-9194-f3ac3664b022",
   "metadata": {},
   "outputs": [
    {
     "name": "stdout",
     "output_type": "stream",
     "text": [
      "Display each letter of Google\n",
      "G\n",
      "o\n",
      "o\n",
      "g\n",
      "l\n",
      "e\n",
      "Display each letter of Apple\n",
      "A\n",
      "p\n",
      "p\n",
      "l\n",
      "e\n",
      "Display each letter of Microsoft\n",
      "M\n",
      "i\n",
      "c\n",
      "r\n",
      "o\n",
      "s\n",
      "o\n",
      "f\n",
      "t\n",
      "Display each letter of Meta\n",
      "M\n",
      "e\n",
      "t\n",
      "a\n"
     ]
    }
   ],
   "source": [
    "comp = ['Google', 'Apple', 'Microsoft', 'Meta']\n",
    "for i in comp:\n",
    "    print('Display each letter of '+i)\n",
    "    for letter in i:\n",
    "        print(letter)"
   ]
  },
  {
   "cell_type": "code",
   "execution_count": 41,
   "id": "f83ac689-3967-4fac-8c9d-9b1daf16d868",
   "metadata": {},
   "outputs": [
    {
     "name": "stdout",
     "output_type": "stream",
     "text": [
      "0\n",
      "3\n",
      "6\n",
      "9\n",
      "Loop has been completely executed\n"
     ]
    }
   ],
   "source": [
    "for i in range(0,10,3):\n",
    "     print(i)\n",
    "else:\n",
    "    print(\"Loop has been completely executed\")"
   ]
  },
  {
   "cell_type": "code",
   "execution_count": 42,
   "id": "38cbdbf6-e80d-4910-864b-6eebd6af05b2",
   "metadata": {},
   "outputs": [
    {
     "name": "stdout",
     "output_type": "stream",
     "text": [
      "1\n",
      "2\n",
      "3\n",
      "4\n",
      "5\n",
      "6\n"
     ]
    }
   ],
   "source": [
    "for i in range(1,10):\n",
    "    if (i==7):\n",
    "        break\n",
    "    print(i)"
   ]
  },
  {
   "cell_type": "code",
   "execution_count": 43,
   "id": "771ef730-4d06-4320-b26f-abf4bae9617d",
   "metadata": {},
   "outputs": [
    {
     "name": "stdout",
     "output_type": "stream",
     "text": [
      "1\n",
      "2\n",
      "3\n",
      "4\n",
      "5\n",
      "7\n",
      "8\n",
      "9\n"
     ]
    }
   ],
   "source": [
    "for i in range(1,10):\n",
    "    if (i==6):\n",
    "        continue\n",
    "    print(i)"
   ]
  },
  {
   "cell_type": "code",
   "execution_count": 44,
   "id": "1a45c63b-7a7f-4b5b-9335-5fb8f9d7caae",
   "metadata": {},
   "outputs": [
    {
     "name": "stdout",
     "output_type": "stream",
     "text": [
      "21\n"
     ]
    }
   ],
   "source": [
    "player_name = 'messi'\n",
    "goals = {'Edison':15,'Bernat':12,'Carmelo':14,'messi':21}\n",
    "\n",
    "for player in goals:\n",
    "    if player == player_name:\n",
    "        print(goals[player])\n",
    "        break\n",
    "else:\n",
    "    print('player not found')\n"
   ]
  },
  {
   "cell_type": "code",
   "execution_count": 45,
   "id": "c3e030ac-440b-48a5-864e-6c0bb97c2f72",
   "metadata": {},
   "outputs": [
    {
     "name": "stdin",
     "output_type": "stream",
     "text": [
      " 7\n"
     ]
    }
   ],
   "source": [
    "n = int(input())\n"
   ]
  },
  {
   "cell_type": "code",
   "execution_count": 1,
   "id": "94dd88d3-b56d-40b4-8568-55548d2d3098",
   "metadata": {},
   "outputs": [
    {
     "name": "stdin",
     "output_type": "stream",
     "text": [
      " 13\n"
     ]
    },
    {
     "name": "stdout",
     "output_type": "stream",
     "text": [
      "Ha ha! You're stuck in my loop!\n"
     ]
    },
    {
     "name": "stdin",
     "output_type": "stream",
     "text": [
      " 15\n"
     ]
    },
    {
     "name": "stdout",
     "output_type": "stream",
     "text": [
      "Ha ha! You're stuck in my loop!\n"
     ]
    },
    {
     "name": "stdin",
     "output_type": "stream",
     "text": [
      " 65\n"
     ]
    },
    {
     "name": "stdout",
     "output_type": "stream",
     "text": [
      "Ha ha! You're stuck in my loop!\n"
     ]
    },
    {
     "name": "stdin",
     "output_type": "stream",
     "text": [
      " 98\n"
     ]
    },
    {
     "name": "stdout",
     "output_type": "stream",
     "text": [
      "Ha ha! You're stuck in my loop!\n"
     ]
    },
    {
     "name": "stdin",
     "output_type": "stream",
     "text": [
      " 77\n"
     ]
    },
    {
     "name": "stdout",
     "output_type": "stream",
     "text": [
      "Well done, muggle! You are free now.\n"
     ]
    }
   ],
   "source": [
    "secret_number = 77\n",
    "\n",
    "num = int(input())\n",
    "while num != secret_number:\n",
    "    print(\"Ha ha! You're stuck in my loop!\")\n",
    "    num = int(input())\n",
    "else:\n",
    "    print(\"Well done, muggle! You are free now.\")\n",
    "    "
   ]
  },
  {
   "cell_type": "code",
   "execution_count": 34,
   "id": "1c0cb157-90da-4e1d-bb12-a83dfa8e0574",
   "metadata": {},
   "outputs": [
    {
     "name": "stdin",
     "output_type": "stream",
     "text": [
      " cat\n",
      " chupacabra\n"
     ]
    },
    {
     "name": "stdout",
     "output_type": "stream",
     "text": [
      "You've successfully left the loop.\n"
     ]
    }
   ],
   "source": [
    "secret_word = 'chupacabra'\n",
    "\n",
    "word = input()\n",
    "while word != secret_word:\n",
    "    word = input()\n",
    "else:\n",
    "    print(\"You've successfully left the loop.\")"
   ]
  },
  {
   "cell_type": "code",
   "execution_count": 59,
   "id": "6da4dc10-2dae-4e60-a2bd-578d6e73a287",
   "metadata": {},
   "outputs": [
    {
     "name": "stdout",
     "output_type": "stream",
     "text": [
      "[8, 125, 343, 64, 512, 216]\n"
     ]
    }
   ],
   "source": [
    "num = [2,5,7,4,8,6]\n",
    "cube = []\n",
    "for i in num:\n",
    "    cube.append(i**3)\n",
    "print(cube)"
   ]
  },
  {
   "cell_type": "code",
   "execution_count": 69,
   "id": "a78397ac-97ee-4ed2-800d-35f6a96750c2",
   "metadata": {},
   "outputs": [
    {
     "name": "stdout",
     "output_type": "stream",
     "text": [
      "[216, 512, 64, 343, 125, 8]\n"
     ]
    }
   ],
   "source": [
    "num = [2,5,7,4,8,6]\n",
    "cube = []\n",
    "for i in num:\n",
    "    cube.insert(0, i**3)\n",
    "print(cube)"
   ]
  },
  {
   "cell_type": "code",
   "execution_count": null,
   "id": "4c9f3c16-8b4e-4e30-9434-c16906e9c03a",
   "metadata": {},
   "outputs": [],
   "source": [
    "n = int(input(\"Enter a number of rows \"))\n",
    "for i in range(0,n):\n",
    "    for j in range(0,i+1):\n",
    "        print(\"*\",end=\"\")\n",
    "    print()"
   ]
  },
  {
   "cell_type": "code",
   "execution_count": null,
   "id": "96349249-75f0-48d4-84f8-f2f8127656aa",
   "metadata": {},
   "outputs": [],
   "source": [
    "while True:\n",
    "    print(\"Enter your name\")\n",
    "    name = input()\n",
    "    if name in ('Tom','Sam','Jerry','Dan'):\n",
    "        break\n",
    "print('Name Authenticated.')"
   ]
  },
  {
   "cell_type": "code",
   "execution_count": null,
   "id": "760086a4-88e2-4954-84b8-f8fc432a43d1",
   "metadata": {},
   "outputs": [],
   "source": [
    "# finding L.C.M of numbers\n",
    "x = 0\n",
    "while True:\n",
    "    x = x + 1\n",
    "    if not(x % 4 or x % 9):\n",
    "        break\n",
    "print(\"The L.C.M of 4 and 9 is\", x)  "
   ]
  },
  {
   "cell_type": "code",
   "execution_count": 27,
   "id": "5c796d6f-7d69-4ea9-a2fa-02d9b63041a2",
   "metadata": {},
   "outputs": [
    {
     "name": "stdin",
     "output_type": "stream",
     "text": [
      " abstemious\n"
     ]
    },
    {
     "name": "stdout",
     "output_type": "stream",
     "text": [
      "B\n",
      "S\n",
      "T\n",
      "M\n",
      "S\n"
     ]
    }
   ],
   "source": [
    "user_word = input()\n",
    "user_word = user_word.upper()\n",
    "for letter in user_word:\n",
    "    if letter in ('A','E','I','O','U'):\n",
    "        continue\n",
    "    print(letter)"
   ]
  },
  {
   "cell_type": "code",
   "execution_count": null,
   "id": "3600c291-39a8-44ec-b3b6-6deeeb2f5e0f",
   "metadata": {},
   "outputs": [],
   "source": [
    "blocks = int(input(\"Enter the number of blocks: \"))"
   ]
  },
  {
   "cell_type": "code",
   "execution_count": 42,
   "id": "dc905330-9d71-4015-a01b-fd0368a1dcfb",
   "metadata": {},
   "outputs": [
    {
     "name": "stdout",
     "output_type": "stream",
     "text": [
      "5\n",
      "[1, 3, 7, 9]\n"
     ]
    }
   ],
   "source": [
    "x = [1,3,5,7,9]\n",
    "print(x.pop(2))\n",
    "print(x)"
   ]
  },
  {
   "cell_type": "code",
   "execution_count": 58,
   "id": "f2568c1f-3c81-4c50-ba12-b787b5b09825",
   "metadata": {},
   "outputs": [
    {
     "name": "stdout",
     "output_type": "stream",
     "text": [
      "9\n",
      "7\n",
      "5\n",
      "3\n",
      "1\n",
      "No more elements in the list\n"
     ]
    }
   ],
   "source": [
    "p = [1,3,5,7,9]\n",
    "while p:\n",
    "    print(p.pop())\n",
    "else:\n",
    "    print('No more elements in the list')"
   ]
  },
  {
   "cell_type": "code",
   "execution_count": 143,
   "id": "d874d357-b4ff-4779-9719-dfc5ced1cd21",
   "metadata": {},
   "outputs": [
    {
     "name": "stdout",
     "output_type": "stream",
     "text": [
      "9\n",
      "7\n",
      "5\n",
      "3\n",
      "1\n",
      "No more elements in the list\n"
     ]
    }
   ],
   "source": [
    "p = [1,3,5,7,9]\n",
    "while p:\n",
    "    print(p.pop())\n",
    "else:\n",
    "    print('No more elements in the list')"
   ]
  },
  {
   "cell_type": "code",
   "execution_count": 62,
   "id": "ccefaca8-11e5-4f2e-8137-9920ce8fd477",
   "metadata": {},
   "outputs": [
    {
     "data": {
      "text/plain": [
       "[]"
      ]
     },
     "execution_count": 62,
     "metadata": {},
     "output_type": "execute_result"
    }
   ],
   "source": [
    "p"
   ]
  },
  {
   "cell_type": "code",
   "execution_count": 70,
   "id": "839e99d4-9292-4f6b-a704-9d7729009729",
   "metadata": {},
   "outputs": [
    {
     "name": "stdin",
     "output_type": "stream",
     "text": [
      "Enter a positive number  24\n",
      "Enter a positive number  14\n",
      "Enter a positive number  -1\n"
     ]
    },
    {
     "name": "stdout",
     "output_type": "stream",
     "text": [
      "sum: 38\n",
      "Average: 19.0\n"
     ]
    }
   ],
   "source": [
    "num = 0\n",
    "count = 0\n",
    "sum = 0\n",
    "\n",
    "while num >= 0:\n",
    "    num = int(input('Enter a positive number '))\n",
    "    if num >= 0:\n",
    "        count+=1\n",
    "        sum+=num\n",
    "avg = sum/count\n",
    "print('sum:', sum) \n",
    "print('Average:', avg)"
   ]
  },
  {
   "cell_type": "code",
   "execution_count": 93,
   "id": "77053a74-6c4a-4034-9b93-e9f07222a257",
   "metadata": {},
   "outputs": [
    {
     "name": "stdout",
     "output_type": "stream",
     "text": [
      "red apple\n",
      "red veggies\n",
      "red spices\n",
      "\n",
      "green apple\n",
      "green veggies\n",
      "green spices\n",
      "\n",
      "blue apple\n",
      "blue veggies\n",
      "blue spices\n",
      "\n"
     ]
    }
   ],
   "source": [
    "color = ['red', 'green', 'blue']\n",
    "items = ['apple', 'veggies', 'spices']\n",
    "for a in color:\n",
    "    for b in items:\n",
    "        print(a,b)\n",
    "    print('')"
   ]
  },
  {
   "cell_type": "code",
   "execution_count": 99,
   "id": "0ddce8f9-aa4b-45ee-a6d8-61f9660e17d5",
   "metadata": {},
   "outputs": [
    {
     "name": "stdout",
     "output_type": "stream",
     "text": [
      "[70, 25, 60]\n",
      "[70, 25, 60, 85, 40, 75]\n",
      "[70, 25, 60, 85, 40, 75, 90, 45, 80]\n"
     ]
    }
   ],
   "source": [
    "list1 = [10,25,30]\n",
    "list2 = [60,15,50]\n",
    "result = []\n",
    "for i in list1:\n",
    "    for j in list2:\n",
    "        result.append(i+j)\n",
    "    print(result)"
   ]
  },
  {
   "cell_type": "code",
   "execution_count": 101,
   "id": "e567dbf5-de29-41bb-a887-92a22d1bb9c8",
   "metadata": {},
   "outputs": [
    {
     "name": "stdout",
     "output_type": "stream",
     "text": [
      "2 * 1 = 2\n",
      "2 * 3 = 6\n",
      "2 * 5 = 10\n",
      "4 * 1 = 4\n",
      "4 * 3 = 12\n",
      "4 * 5 = 20\n",
      "6 * 1 = 6\n",
      "6 * 3 = 18\n",
      "6 * 5 = 30\n"
     ]
    }
   ],
   "source": [
    "list1 = [2,4,6]\n",
    "list2 = [1,3,5]\n",
    "for i in list1:\n",
    "    for j in list2:\n",
    "        if i==j:\n",
    "            continue\n",
    "        print(i, \"*\", j, \"=\", i*j)"
   ]
  },
  {
   "cell_type": "code",
   "execution_count": 23,
   "id": "6e3a9c15-beb3-4ca4-92ae-dc6feb9e2c09",
   "metadata": {},
   "outputs": [
    {
     "name": "stdout",
     "output_type": "stream",
     "text": [
      "[1, 3]\n"
     ]
    }
   ],
   "source": [
    "list_1 = [1,2,3]\n",
    "del list_1[1]\n",
    "print(list_1)"
   ]
  },
  {
   "cell_type": "code",
   "execution_count": 65,
   "id": "de7472bb-0719-4f83-8cad-78aef372d561",
   "metadata": {},
   "outputs": [
    {
     "name": "stdout",
     "output_type": "stream",
     "text": [
      "[10, 2]\n"
     ]
    }
   ],
   "source": [
    "my_list = [10, 8, 6, 4, 2]\n",
    "del my_list[1:4]\n",
    "print(my_list)"
   ]
  },
  {
   "cell_type": "code",
   "execution_count": 33,
   "id": "8dac01e4-68c6-41d4-b1a8-39e025e1ed71",
   "metadata": {},
   "outputs": [
    {
     "name": "stdout",
     "output_type": "stream",
     "text": [
      "21\n"
     ]
    }
   ],
   "source": [
    "my_list = [14, 3, 21, 5, 1, 9, 7, 15, 13]\n",
    "largest = my_list[0]\n",
    "\n",
    "for i in range(1, len(my_list)):\n",
    "    if my_list[i] > largest:\n",
    "        largest = my_list[i]\n",
    "\n",
    "print(largest)"
   ]
  },
  {
   "cell_type": "code",
   "execution_count": 37,
   "id": "00081cf8-a667-4b5a-9728-257f065f4a33",
   "metadata": {},
   "outputs": [
    {
     "name": "stdout",
     "output_type": "stream",
     "text": [
      "largest number is 21\n"
     ]
    }
   ],
   "source": [
    "my_list = [14, 3, 21, 5, 1, 9, 7, 15, 13]\n",
    "largest = my_list[0]\n",
    "for i in my_list:\n",
    "    if i > largest:\n",
    "        largest = i \n",
    "print(\"largest number is\", largest)"
   ]
  },
  {
   "cell_type": "code",
   "execution_count": 43,
   "id": "684e190d-3f32-4b4b-a9b2-ae233e2f7f4f",
   "metadata": {},
   "outputs": [
    {
     "name": "stdout",
     "output_type": "stream",
     "text": [
      "absent\n"
     ]
    }
   ],
   "source": [
    "my_list = [1, 2, 3, 4, 5, 6, 7, 8, 9, 10]\n",
    "to_find = 14\n",
    "found = False\n",
    "\n",
    "for i in range(len(my_list)):\n",
    "    found = my_list[i] == to_find\n",
    "    if found:\n",
    "        break\n",
    "\n",
    "if found:\n",
    "    print(\"Element found at index\", i)\n",
    "else:\n",
    "    print(\"absent\")"
   ]
  },
  {
   "cell_type": "code",
   "execution_count": 45,
   "id": "0c3bf6c2-afeb-482a-a33b-c0a948595486",
   "metadata": {},
   "outputs": [
    {
     "name": "stdout",
     "output_type": "stream",
     "text": [
      "4\n"
     ]
    }
   ],
   "source": [
    "drawn = [5, 11, 9, 42, 3, 49]\n",
    "bets = [3, 7, 11, 42, 34, 49]\n",
    "hits = 0\n",
    "\n",
    "for number in bets:\n",
    "    if number in drawn:\n",
    "        hits += 1\n",
    "\n",
    "print(hits)"
   ]
  },
  {
   "cell_type": "code",
   "execution_count": 57,
   "id": "c040e6a6-5742-4b88-b35b-a6e455b6854d",
   "metadata": {},
   "outputs": [
    {
     "name": "stdout",
     "output_type": "stream",
     "text": [
      "['orange', 'apple']\n"
     ]
    }
   ],
   "source": [
    "colors = ['red', 'green', 'orange', 'apple']\n",
    "copy_part_colors = colors[-2:]\n",
    "print(copy_part_colors)"
   ]
  },
  {
   "cell_type": "code",
   "execution_count": 61,
   "id": "191f41ff-7144-46e1-b3c2-f5d4c31ff32a",
   "metadata": {},
   "outputs": [
    {
     "name": "stdout",
     "output_type": "stream",
     "text": [
      "['B', 'C']\n"
     ]
    }
   ],
   "source": [
    "list_1 = [\"A\", \"B\", \"C\"]\n",
    "list_2 = list_1\n",
    "list_3 = list_2\n",
    "\n",
    "del list_1[0]\n",
    "del list_2\n",
    "\n",
    "print(list_3)"
   ]
  },
  {
   "cell_type": "code",
   "execution_count": 67,
   "id": "9cc93f0d-8a6f-4a25-be40-17abbb449661",
   "metadata": {},
   "outputs": [
    {
     "ename": "NameError",
     "evalue": "name 'WHITE_PAWN' is not defined",
     "output_type": "error",
     "traceback": [
      "\u001b[1;31m---------------------------------------------------------------------------\u001b[0m",
      "\u001b[1;31mNameError\u001b[0m                                 Traceback (most recent call last)",
      "Cell \u001b[1;32mIn[67], line 4\u001b[0m\n\u001b[0;32m      1\u001b[0m row \u001b[38;5;241m=\u001b[39m []\n\u001b[0;32m      3\u001b[0m \u001b[38;5;28;01mfor\u001b[39;00m i \u001b[38;5;129;01min\u001b[39;00m \u001b[38;5;28mrange\u001b[39m(\u001b[38;5;241m8\u001b[39m):\n\u001b[1;32m----> 4\u001b[0m     row\u001b[38;5;241m.\u001b[39mappend(WHITE_PAWN)\n",
      "\u001b[1;31mNameError\u001b[0m: name 'WHITE_PAWN' is not defined"
     ]
    }
   ],
   "source": [
    "row = []\n",
    "\n",
    "for i in range(8):\n",
    "    row.append(WHITE_PAWN)"
   ]
  },
  {
   "cell_type": "code",
   "execution_count": null,
   "id": "57b9c680-0942-4d8c-abcf-210f5fdd4fdc",
   "metadata": {},
   "outputs": [],
   "source": [
    "row = [WHITE_PAWN for i in range(8)]"
   ]
  },
  {
   "cell_type": "code",
   "execution_count": 83,
   "id": "a6896b38-bdb3-450b-999e-ab818ebc0f88",
   "metadata": {},
   "outputs": [
    {
     "name": "stdout",
     "output_type": "stream",
     "text": [
      "[0, 1, 8, 27, 64, 125, 216, 343, 512, 729]\n"
     ]
    }
   ],
   "source": [
    "cubes = [x ** 3 for x in range(10)]\n",
    "print(cubes)"
   ]
  },
  {
   "cell_type": "code",
   "execution_count": 87,
   "id": "40c74dff-a769-4d91-872a-d69ff430f8b6",
   "metadata": {},
   "outputs": [
    {
     "name": "stdout",
     "output_type": "stream",
     "text": [
      "[0, 8, 64, 216, 512]\n"
     ]
    }
   ],
   "source": [
    "even = [x for x in cubes if x % 2 == 0 ]\n",
    "print(even)"
   ]
  },
  {
   "cell_type": "code",
   "execution_count": 89,
   "id": "de186aa0-c96b-4f77-8791-23cdc87faa2d",
   "metadata": {},
   "outputs": [
    {
     "name": "stdout",
     "output_type": "stream",
     "text": [
      "[0, 1, 4, 9, 16, 25, 36, 49, 64, 81]\n"
     ]
    }
   ],
   "source": [
    "squares = [x ** 2 for x in range(10)]\n",
    "print(squares)"
   ]
  },
  {
   "cell_type": "code",
   "execution_count": 91,
   "id": "d49d0ea0-e1b7-4eb7-8b30-d8153013a357",
   "metadata": {},
   "outputs": [
    {
     "name": "stdout",
     "output_type": "stream",
     "text": [
      "[1, 9, 25, 49, 81]\n"
     ]
    }
   ],
   "source": [
    "odds = [x for x in squares if x % 2 != 0 ]\n",
    "print(odds)"
   ]
  },
  {
   "cell_type": "code",
   "execution_count": 15,
   "id": "e7b5e55a-bda5-48c8-9287-157f0f71d6b1",
   "metadata": {},
   "outputs": [],
   "source": [
    "board = []\n",
    "EMPTY = \"*\"\n",
    "for i in range(8):\n",
    "    row = [EMPTY for i in range(8)]\n",
    "    board.append(row)"
   ]
  },
  {
   "cell_type": "code",
   "execution_count": 19,
   "id": "0fe219a0-a78e-436c-babd-135a04cba292",
   "metadata": {},
   "outputs": [
    {
     "name": "stdout",
     "output_type": "stream",
     "text": [
      "['a', 'b', 'c', 'd', 'e', 'f', 'g']\n"
     ]
    }
   ],
   "source": [
    "list1 = ['a','b','c','d','e','f','g','h']\n",
    "print(list1[:-1])"
   ]
  },
  {
   "cell_type": "code",
   "execution_count": 25,
   "id": "d4e44b9f-29de-4ee0-b397-8c08c71f0a14",
   "metadata": {},
   "outputs": [
    {
     "name": "stdout",
     "output_type": "stream",
     "text": [
      "[2, 3, 4]\n"
     ]
    }
   ],
   "source": [
    "list1 = [1,2,3,4,5,6,7,8]\n",
    "print(list1[1:4])"
   ]
  },
  {
   "cell_type": "code",
   "execution_count": 29,
   "id": "69a2f901-d042-4a69-84b5-bcdba57a33b6",
   "metadata": {},
   "outputs": [],
   "source": [
    "board = [[EMPTY for i in range(8)] for j in range(8)]"
   ]
  },
  {
   "cell_type": "code",
   "execution_count": 7,
   "id": "33681f27-fbf1-4e4d-9722-5322acf3f313",
   "metadata": {},
   "outputs": [
    {
     "name": "stdout",
     "output_type": "stream",
     "text": [
      "[['ROOK', '-', '-', '-', '-', '-', '-', 'ROOK'], ['-', '-', '-', '-', '-', '-', '-', '-'], ['-', '-', '-', '-', '-', '-', '-', '-'], ['-', '-', '-', '-', 'PAWN', '-', '-', '-'], ['-', '-', ' KNIGHT', '-', '-', '-', '-', '-'], ['-', '-', '-', '-', '-', '-', '-', '-'], ['-', '-', '-', '-', '-', '-', '-', '-'], ['ROOK', '-', '-', '-', '-', '-', '-', 'ROOK']]\n"
     ]
    }
   ],
   "source": [
    "EMPTY = \"-\"\n",
    "ROOK = \"ROOK\"\n",
    "KNIGHT = \" KNIGHT\"\n",
    "pawn = \"PAWN\"\n",
    "board = []\n",
    "\n",
    "for i in range(8):\n",
    "    row = [EMPTY for i in range(8)]\n",
    "    board.append(row)\n",
    "\n",
    "board[0][0] = ROOK\n",
    "board[0][7] = ROOK\n",
    "board[7][0] = ROOK\n",
    "board[7][7] = ROOK\n",
    "board[4][2] = KNIGHT\n",
    "board[3][4] = pawn\n",
    "print(board)"
   ]
  },
  {
   "cell_type": "code",
   "execution_count": 11,
   "id": "71adbe6b-f27a-423b-9ad6-484728120f31",
   "metadata": {},
   "outputs": [
    {
     "name": "stdout",
     "output_type": "stream",
     "text": [
      "505 505\n"
     ]
    }
   ],
   "source": [
    "x = 505\n",
    "y = 500 + 5\n",
    "print(x,y)"
   ]
  },
  {
   "cell_type": "code",
   "execution_count": 13,
   "id": "9e6f933e-0763-4636-9237-d5fedc9d5334",
   "metadata": {},
   "outputs": [
    {
     "data": {
      "text/plain": [
       "2507170069392"
      ]
     },
     "execution_count": 13,
     "metadata": {},
     "output_type": "execute_result"
    }
   ],
   "source": [
    "id(x)"
   ]
  },
  {
   "cell_type": "code",
   "execution_count": 15,
   "id": "2df6b7de-697f-4215-b881-2813280a5357",
   "metadata": {},
   "outputs": [
    {
     "data": {
      "text/plain": [
       "2507170069456"
      ]
     },
     "execution_count": 15,
     "metadata": {},
     "output_type": "execute_result"
    }
   ],
   "source": [
    "id(y)"
   ]
  },
  {
   "cell_type": "code",
   "execution_count": 35,
   "id": "378ea89a-c908-4d39-a5cc-5bc4529f9f60",
   "metadata": {},
   "outputs": [
    {
     "name": "stdout",
     "output_type": "stream",
     "text": [
      "[5, 6, 3, 7, 1, 9] [4, 'python', 2, 7, 'tutorial', 9]\n"
     ]
    }
   ],
   "source": [
    "a = [5,6,3,7,1,9]\n",
    "b = [4, 'python', 2,7, 'tutorial', 9]\n",
    "print(a,b)"
   ]
  },
  {
   "cell_type": "code",
   "execution_count": 19,
   "id": "71b96633-e063-49cf-a9f3-07c9b9dc1c0b",
   "metadata": {},
   "outputs": [
    {
     "data": {
      "text/plain": [
       "True"
      ]
     },
     "execution_count": 19,
     "metadata": {},
     "output_type": "execute_result"
    }
   ],
   "source": [
    "4 in b"
   ]
  },
  {
   "cell_type": "code",
   "execution_count": 29,
   "id": "8de31a01-d88d-40d7-a657-21e9ffb5b358",
   "metadata": {},
   "outputs": [
    {
     "data": {
      "text/plain": [
       "True"
      ]
     },
     "execution_count": 29,
     "metadata": {},
     "output_type": "execute_result"
    }
   ],
   "source": [
    "1 in b or 1 in a"
   ]
  },
  {
   "cell_type": "code",
   "execution_count": 37,
   "id": "0cd90ebc-c94f-40de-a758-67f7e636de52",
   "metadata": {},
   "outputs": [],
   "source": [
    "x = {1:'nigeria', 2:'USA'}"
   ]
  },
  {
   "cell_type": "code",
   "execution_count": 55,
   "id": "fc57d824-ced2-47f9-bde4-ec244bb30ffc",
   "metadata": {},
   "outputs": [
    {
     "data": {
      "text/plain": [
       "True"
      ]
     },
     "execution_count": 55,
     "metadata": {},
     "output_type": "execute_result"
    }
   ],
   "source": [
    "'USA' in x.values()"
   ]
  },
  {
   "cell_type": "code",
   "execution_count": 45,
   "id": "6269d119-9660-4ac9-88e6-96c9eac5f332",
   "metadata": {},
   "outputs": [
    {
     "data": {
      "text/plain": [
       "True"
      ]
     },
     "execution_count": 45,
     "metadata": {},
     "output_type": "execute_result"
    }
   ],
   "source": [
    "2 in x"
   ]
  },
  {
   "cell_type": "code",
   "execution_count": 53,
   "id": "10b360a2-0006-4a9f-acc4-a5e36c8c3c50",
   "metadata": {},
   "outputs": [
    {
     "data": {
      "text/plain": [
       "True"
      ]
     },
     "execution_count": 53,
     "metadata": {},
     "output_type": "execute_result"
    }
   ],
   "source": [
    "'nigeria' in x.values()"
   ]
  },
  {
   "cell_type": "code",
   "execution_count": 49,
   "id": "22448b15-ba6a-4639-b9c2-a62017cc1355",
   "metadata": {},
   "outputs": [
    {
     "data": {
      "text/plain": [
       "True"
      ]
     },
     "execution_count": 49,
     "metadata": {},
     "output_type": "execute_result"
    }
   ],
   "source": [
    "1 in x"
   ]
  },
  {
   "cell_type": "code",
   "execution_count": 75,
   "id": "867fa8fc-dc04-4ed4-aec5-2cfdcee50c7e",
   "metadata": {},
   "outputs": [
    {
     "name": "stdout",
     "output_type": "stream",
     "text": [
      "['p', 'y', 't', 'h', 'o', 'n', 'p', 'r', 'o', 'g', 'r', 'a', 'm', 'm', 'i', 'n', 'g']\n"
     ]
    }
   ],
   "source": [
    "n_letters = []\n",
    "for letter in 'pythonprogramming':\n",
    "    n_letters.append(letter)\n",
    "print(n_letters)"
   ]
  },
  {
   "cell_type": "code",
   "execution_count": 77,
   "id": "f7b29367-dd1a-4fe3-bb69-1d43824f7a57",
   "metadata": {},
   "outputs": [
    {
     "name": "stdout",
     "output_type": "stream",
     "text": [
      "['p', 'y', 't', 'h', 'o', 'n', 'p', 'r', 'o', 'g', 'r', 'a', 'm', 'm', 'i', 'n', 'g']\n"
     ]
    }
   ],
   "source": [
    "n_letters = [letter for letter in 'pythonprogramming']\n",
    "print(n_letters)"
   ]
  },
  {
   "cell_type": "code",
   "execution_count": 83,
   "id": "63defa13-fae4-4a8e-b616-e59016497526",
   "metadata": {},
   "outputs": [
    {
     "name": "stdout",
     "output_type": "stream",
     "text": [
      "['p', 'y', 't', 'h', 'o', 'n', 'p', 'r', 'o', 'g', 'r', 'a', 'm', 'm', 'i', 'n', 'g']\n"
     ]
    }
   ],
   "source": [
    "print(n_letters)"
   ]
  },
  {
   "cell_type": "code",
   "execution_count": 93,
   "id": "00d68099-f8e1-4bc3-9885-0e5682efb064",
   "metadata": {},
   "outputs": [
    {
     "name": "stdout",
     "output_type": "stream",
     "text": [
      "['Land Rover', 'Toyota']\n"
     ]
    }
   ],
   "source": [
    "cars = ['Jaguar', 'Land Rover', 'Tesla', 'Toyota']\n",
    "newlist = []\n",
    "for b in cars:\n",
    "    if 'o' in b:\n",
    "        newlist.append(b)\n",
    "print(newlist)"
   ]
  },
  {
   "cell_type": "code",
   "execution_count": 105,
   "id": "d372cf36-31b8-43c8-a0c6-629bd777be2b",
   "metadata": {},
   "outputs": [
    {
     "name": "stdout",
     "output_type": "stream",
     "text": [
      "['Land Rover', 'Tesla', 'Mercedes']\n"
     ]
    }
   ],
   "source": [
    "cars = ['Jaguar', 'Land Rover', 'Tesla', 'Toyota', 'Mercedes']\n",
    "newlist = [b for b in cars if 'e' in b]  \n",
    "print(newlist)"
   ]
  },
  {
   "cell_type": "code",
   "execution_count": 119,
   "id": "09026550-9af0-4a43-85ef-c07e3ea3b3c5",
   "metadata": {},
   "outputs": [
    {
     "name": "stdout",
     "output_type": "stream",
     "text": [
      "[1, 2, 3, 4, 5]\n",
      "[1, 2, 3, 4, 5]\n",
      "[1, 2, 3, 4, 5]\n"
     ]
    }
   ],
   "source": [
    "num = [1,2,3,4,5]\n",
    "for i in range(3):\n",
    "    print(num)"
   ]
  },
  {
   "cell_type": "code",
   "execution_count": 9,
   "id": "cf947061-1b56-4d65-8a6a-cebae1f31fcb",
   "metadata": {},
   "outputs": [
    {
     "name": "stdout",
     "output_type": "stream",
     "text": [
      "[2, 3]\n"
     ]
    }
   ],
   "source": [
    "a = [1,2,3,4,5]\n",
    "b = a[-4:-2]\n",
    "print(b)"
   ]
  },
  {
   "cell_type": "code",
   "execution_count": 154,
   "id": "4718d98a-b065-42da-bce2-e432de8b5b7a",
   "metadata": {},
   "outputs": [
    {
     "data": {
      "text/plain": [
       "[1, 2, 3]"
      ]
     },
     "execution_count": 154,
     "metadata": {},
     "output_type": "execute_result"
    }
   ],
   "source": [
    "t1 = [1,2]\n",
    "t1.append(3)\n",
    "t1"
   ]
  },
  {
   "cell_type": "code",
   "execution_count": 7,
   "id": "d3416218-8846-43e1-be23-079430ddf264",
   "metadata": {},
   "outputs": [
    {
     "name": "stdout",
     "output_type": "stream",
     "text": [
      "1\n",
      "2\n",
      "3\n"
     ]
    }
   ],
   "source": [
    "my_list = [1,2,3]\n",
    "for v in my_list:\n",
    "    print(v)"
   ]
  },
  {
   "cell_type": "code",
   "execution_count": 6,
   "id": "856fe9bc-4ac6-439f-a2b2-9304afdebea1",
   "metadata": {},
   "outputs": [
    {
     "ename": "TypeError",
     "evalue": "'int' object is not iterable",
     "output_type": "error",
     "traceback": [
      "\u001b[1;31m---------------------------------------------------------------------------\u001b[0m",
      "\u001b[1;31mTypeError\u001b[0m                                 Traceback (most recent call last)",
      "Cell \u001b[1;32mIn[6], line 3\u001b[0m\n\u001b[0;32m      1\u001b[0m x \u001b[38;5;241m=\u001b[39m \u001b[38;5;241m0\u001b[39m\n\u001b[0;32m      2\u001b[0m \u001b[38;5;28;01mwhile\u001b[39;00m x \u001b[38;5;241m<\u001b[39m \u001b[38;5;241m10\u001b[39m:\n\u001b[1;32m----> 3\u001b[0m     \u001b[38;5;28;01mfor\u001b[39;00m i \u001b[38;5;129;01min\u001b[39;00m x:\n\u001b[0;32m      4\u001b[0m         \u001b[38;5;28mprint\u001b[39m(i)\n\u001b[0;32m      5\u001b[0m         x\u001b[38;5;241m+\u001b[39m\u001b[38;5;241m=\u001b[39m\u001b[38;5;241m1\u001b[39m\n",
      "\u001b[1;31mTypeError\u001b[0m: 'int' object is not iterable"
     ]
    }
   ],
   "source": [
    "x = 0\n",
    "while x < 10:\n",
    "    for i in x:\n",
    "        print(i)\n",
    "        x+=1\n",
    "        print('#')"
   ]
  },
  {
   "cell_type": "code",
   "execution_count": 18,
   "id": "85563190-9bbb-44ba-aef4-732f9e4a4dc8",
   "metadata": {},
   "outputs": [
    {
     "name": "stdout",
     "output_type": "stream",
     "text": [
      "We start here.\n",
      "Enter a value: \n",
      "We end here.\n"
     ]
    }
   ],
   "source": [
    "def message():\n",
    "    print(\"Enter a value: \")\n",
    "print(\"We start here.\")\n",
    "message()\n",
    "print(\"We end here.\")"
   ]
  },
  {
   "cell_type": "code",
   "execution_count": 20,
   "id": "c8bff8b5-6d77-4ee3-b79e-14dc801fbb7c",
   "metadata": {},
   "outputs": [
    {
     "name": "stdout",
     "output_type": "stream",
     "text": [
      "Enter a value: \n"
     ]
    },
    {
     "name": "stdin",
     "output_type": "stream",
     "text": [
      " 4\n"
     ]
    },
    {
     "name": "stdout",
     "output_type": "stream",
     "text": [
      "Enter a value: \n"
     ]
    },
    {
     "name": "stdin",
     "output_type": "stream",
     "text": [
      " 3\n"
     ]
    },
    {
     "name": "stdout",
     "output_type": "stream",
     "text": [
      "Enter a value: \n"
     ]
    },
    {
     "name": "stdin",
     "output_type": "stream",
     "text": [
      " 2\n"
     ]
    }
   ],
   "source": [
    "def message():\n",
    "    print(\"Enter a value: \")\n",
    "\n",
    "message()\n",
    "a = int(input())\n",
    "message()\n",
    "b = int(input())\n",
    "message()\n",
    "c = int(input())"
   ]
  },
  {
   "cell_type": "code",
   "execution_count": 34,
   "id": "cced8e33-aa9a-4863-9661-9533ec71b0d0",
   "metadata": {},
   "outputs": [
    {
     "name": "stdin",
     "output_type": "stream",
     "text": [
      "Enter your name:  sam\n"
     ]
    },
    {
     "name": "stdout",
     "output_type": "stream",
     "text": [
      "Hello, sam\n"
     ]
    }
   ],
   "source": [
    "def hello(name):    # defining a function\n",
    "    print(\"Hello,\", name)    # body of the function\n",
    "\n",
    "\n",
    "name = input(\"Enter your name: \")\n",
    "\n",
    "hello(name)"
   ]
  },
  {
   "cell_type": "code",
   "execution_count": 30,
   "id": "4456e15e-8647-4422-9016-1737e2c77589",
   "metadata": {},
   "outputs": [
    {
     "data": {
      "text/plain": [
       "str"
      ]
     },
     "execution_count": 30,
     "metadata": {},
     "output_type": "execute_result"
    }
   ],
   "source": [
    "type(name)"
   ]
  },
  {
   "cell_type": "code",
   "execution_count": 38,
   "id": "43409c83-2700-4203-8302-2a60f3c5ba0f",
   "metadata": {},
   "outputs": [
    {
     "name": "stdout",
     "output_type": "stream",
     "text": [
      "Enter a number: 2\n",
      "505\n"
     ]
    }
   ],
   "source": [
    "def message(number):\n",
    "    print(\"Enter a number:\", number)\n",
    "\n",
    "number = 505\n",
    "message(2)\n",
    "print(number)"
   ]
  },
  {
   "cell_type": "code",
   "execution_count": 46,
   "id": "28dfb1c2-7bca-4833-aa46-e032855be00f",
   "metadata": {},
   "outputs": [
    {
     "name": "stdout",
     "output_type": "stream",
     "text": [
      "Enter telephone number 11\n",
      "Enter price number 5\n",
      "Enter number number 12\n"
     ]
    }
   ],
   "source": [
    "def message(what, number):\n",
    "    print(\"Enter\", what, \"number\", number)\n",
    "\n",
    "message(\"telephone\", 11)\n",
    "message(\"price\", 5)\n",
    "message(\"number\", 12)"
   ]
  },
  {
   "cell_type": "code",
   "execution_count": null,
   "id": "f53bd9dc-6519-41e2-9468-9f4a2e8afa0c",
   "metadata": {},
   "outputs": [],
   "source": []
  },
  {
   "cell_type": "code",
   "execution_count": null,
   "id": "5aac1d03-3eab-4906-9c0c-6c1b44cdb687",
   "metadata": {},
   "outputs": [],
   "source": []
  }
 ],
 "metadata": {
  "kernelspec": {
   "display_name": "Python 3 (ipykernel)",
   "language": "python",
   "name": "python3"
  },
  "language_info": {
   "codemirror_mode": {
    "name": "ipython",
    "version": 3
   },
   "file_extension": ".py",
   "mimetype": "text/x-python",
   "name": "python",
   "nbconvert_exporter": "python",
   "pygments_lexer": "ipython3",
   "version": "3.12.4"
  }
 },
 "nbformat": 4,
 "nbformat_minor": 5
}
