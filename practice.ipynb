{
 "cells": [
  {
   "cell_type": "code",
   "execution_count": 19,
   "id": "b707a69c-c986-4c4c-b986-c12e5c3ce500",
   "metadata": {},
   "outputs": [
    {
     "name": "stdout",
     "output_type": "stream",
     "text": [
      "my name is python\n",
      "monty python\n"
     ]
    }
   ],
   "source": [
    "print(\"my name is python\")\n",
    "print(\"monty python\")"
   ]
  },
  {
   "cell_type": "code",
   "execution_count": 5,
   "id": "ec507358-0abe-420f-8d5d-78b9a33e8860",
   "metadata": {},
   "outputs": [
    {
     "name": "stdout",
     "output_type": "stream",
     "text": [
      "monty python\n"
     ]
    }
   ],
   "source": [
    "print(\"monty python\")"
   ]
  },
  {
   "cell_type": "code",
   "execution_count": 17,
   "id": "bdc6a571-586b-4bcc-a962-c8d0d9c2a366",
   "metadata": {},
   "outputs": [
    {
     "name": "stdout",
     "output_type": "stream",
     "text": [
      "my name is python\n"
     ]
    }
   ],
   "source": [
    "print(\"my name is\", \"python\")"
   ]
  },
  {
   "cell_type": "code",
   "execution_count": 15,
   "id": "40c2c685-4a32-4a59-acbc-97973b3d0e57",
   "metadata": {},
   "outputs": [],
   "source": [
    "#create a tuple\n",
    "t = (1,2,3)"
   ]
  },
  {
   "cell_type": "code",
   "execution_count": 17,
   "id": "663ee9cd-887c-4997-bad1-e0042409eed8",
   "metadata": {},
   "outputs": [
    {
     "data": {
      "text/plain": [
       "3"
      ]
     },
     "execution_count": 17,
     "metadata": {},
     "output_type": "execute_result"
    }
   ],
   "source": [
    "len(t)"
   ]
  },
  {
   "cell_type": "code",
   "execution_count": 19,
   "id": "1660a9f7-f689-436c-b7d6-951ff5b8db23",
   "metadata": {},
   "outputs": [
    {
     "data": {
      "text/plain": [
       "2"
      ]
     },
     "execution_count": 19,
     "metadata": {},
     "output_type": "execute_result"
    }
   ],
   "source": [
    "t[1]"
   ]
  },
  {
   "cell_type": "code",
   "execution_count": 21,
   "id": "884713c1-2069-4607-a93c-190bf55efafe",
   "metadata": {},
   "outputs": [
    {
     "data": {
      "text/plain": [
       "3"
      ]
     },
     "execution_count": 21,
     "metadata": {},
     "output_type": "execute_result"
    }
   ],
   "source": [
    "t[2]"
   ]
  },
  {
   "cell_type": "code",
   "execution_count": 43,
   "id": "a9e40881-f583-4bc3-a88e-c5a893f493b8",
   "metadata": {},
   "outputs": [
    {
     "name": "stdout",
     "output_type": "stream",
     "text": [
      "He said his name is bill.\n"
     ]
    }
   ],
   "source": [
    "name = 'bill'\n",
    "print(f\"He said his name is {name}.\")"
   ]
  },
  {
   "cell_type": "code",
   "execution_count": null,
   "id": "340de312-c4c2-4e36-97c3-54e5f62baaa6",
   "metadata": {},
   "outputs": [],
   "source": [
    "#set an object to be a boolean \n",
    "a = True"
   ]
  },
  {
   "cell_type": "code",
   "execution_count": 53,
   "id": "d6aba5f7-3a47-447a-8be8-e7b3604a8851",
   "metadata": {},
   "outputs": [
    {
     "data": {
      "text/plain": [
       "False"
      ]
     },
     "execution_count": 53,
     "metadata": {},
     "output_type": "execute_result"
    }
   ],
   "source": [
    "#output is boolean\n",
    "1>2"
   ]
  },
  {
   "cell_type": "code",
   "execution_count": 5,
   "id": "b1f1d234-9a7f-4cde-9658-385ad8f3c3ba",
   "metadata": {},
   "outputs": [
    {
     "name": "stdout",
     "output_type": "stream",
     "text": [
      "my dog\n",
      "is big\n"
     ]
    }
   ],
   "source": [
    "print(\"my dog\\nis big\")"
   ]
  },
  {
   "cell_type": "code",
   "execution_count": 59,
   "id": "fb73c7bf-ed9c-452f-b202-cc3308f0ea88",
   "metadata": {},
   "outputs": [
    {
     "name": "stdout",
     "output_type": "stream",
     "text": [
      "\n"
     ]
    }
   ],
   "source": [
    "print()"
   ]
  },
  {
   "cell_type": "code",
   "execution_count": 3,
   "id": "7c536ca8-7989-4c7f-b628-bda22b8377bf",
   "metadata": {},
   "outputs": [
    {
     "name": "stdout",
     "output_type": "stream",
     "text": [
      "e-l-e-v-a-t-e\n"
     ]
    }
   ],
   "source": [
    "print(\"e\", \"l\", \"e\", \"v\", \"a\", \"t\", \"e\", sep= \"-\")"
   ]
  },
  {
   "cell_type": "code",
   "execution_count": 89,
   "id": "b6c62b65-0664-4daa-8cf9-ea1abcb2c33e",
   "metadata": {},
   "outputs": [],
   "source": [
    "b = 0x129\n",
    "p = 0o126"
   ]
  },
  {
   "cell_type": "code",
   "execution_count": 94,
   "id": "322dde79-c431-430d-afe4-9bae88afe70d",
   "metadata": {},
   "outputs": [
    {
     "name": "stdout",
     "output_type": "stream",
     "text": [
      "383\n"
     ]
    }
   ],
   "source": [
    "n = b+p\n",
    "print(n)"
   ]
  },
  {
   "cell_type": "code",
   "execution_count": 96,
   "id": "afdd0eb6-99dc-4c39-bca7-7c43272067fc",
   "metadata": {},
   "outputs": [],
   "source": [
    "b = 0x129\n",
    "p = 0o126"
   ]
  },
  {
   "cell_type": "code",
   "execution_count": 98,
   "id": "ab8bd5f6-d75b-4ba0-9f5f-ea35bb65e492",
   "metadata": {},
   "outputs": [
    {
     "name": "stdout",
     "output_type": "stream",
     "text": [
      "383\n"
     ]
    }
   ],
   "source": [
    "n = b+p\n",
    "print(n)"
   ]
  },
  {
   "cell_type": "code",
   "execution_count": 1,
   "id": "2662a957-c745-43cd-ad03-492987aaa57c",
   "metadata": {},
   "outputs": [
    {
     "data": {
      "text/plain": [
       "83"
      ]
     },
     "execution_count": 1,
     "metadata": {},
     "output_type": "execute_result"
    }
   ],
   "source": [
    "0o123"
   ]
  },
  {
   "cell_type": "code",
   "execution_count": 3,
   "id": "56329a76-4c03-4898-aca9-02a605da6f85",
   "metadata": {},
   "outputs": [
    {
     "name": "stdout",
     "output_type": "stream",
     "text": [
      "83\n"
     ]
    }
   ],
   "source": [
    "print(0o123)"
   ]
  },
  {
   "cell_type": "code",
   "execution_count": 5,
   "id": "a8342530-7fdc-44f3-b260-04f10790a1d5",
   "metadata": {},
   "outputs": [
    {
     "name": "stdout",
     "output_type": "stream",
     "text": [
      "291\n"
     ]
    }
   ],
   "source": [
    "print(0x123)"
   ]
  },
  {
   "cell_type": "code",
   "execution_count": 7,
   "id": "f80e3f4d-16c6-41ab-bafb-6764889d90c5",
   "metadata": {},
   "outputs": [
    {
     "data": {
      "text/plain": [
       "374"
      ]
     },
     "execution_count": 7,
     "metadata": {},
     "output_type": "execute_result"
    }
   ],
   "source": [
    "0o123+0x123"
   ]
  },
  {
   "cell_type": "code",
   "execution_count": 9,
   "id": "d85eb511-6198-4430-b7e2-ec06a6d8dc53",
   "metadata": {},
   "outputs": [
    {
     "data": {
      "text/plain": [
       "'C:\\\\Windows\\\\system32'"
      ]
     },
     "execution_count": 9,
     "metadata": {},
     "output_type": "execute_result"
    }
   ],
   "source": [
    "pwd"
   ]
  },
  {
   "cell_type": "code",
   "execution_count": 11,
   "id": "b79d047d-7e1e-44b3-a10a-173f1b59e274",
   "metadata": {},
   "outputs": [
    {
     "data": {
      "text/plain": [
       "int"
      ]
     },
     "execution_count": 11,
     "metadata": {},
     "output_type": "execute_result"
    }
   ],
   "source": [
    "type(2)"
   ]
  },
  {
   "cell_type": "code",
   "execution_count": 15,
   "id": "2c61890d-6a0c-43bc-85da-94fbc38b123f",
   "metadata": {},
   "outputs": [
    {
     "data": {
      "text/plain": [
       "str"
      ]
     },
     "execution_count": 15,
     "metadata": {},
     "output_type": "execute_result"
    }
   ],
   "source": [
    "type(\"he\")"
   ]
  },
  {
   "cell_type": "code",
   "execution_count": 17,
   "id": "cc670a99-9ec2-49ad-a9f9-aa29bc30bc44",
   "metadata": {},
   "outputs": [
    {
     "data": {
      "text/plain": [
       "float"
      ]
     },
     "execution_count": 17,
     "metadata": {},
     "output_type": "execute_result"
    }
   ],
   "source": [
    "type(42.0)"
   ]
  },
  {
   "cell_type": "code",
   "execution_count": 36,
   "id": "d8698fd9-1fed-4769-bc6d-42be9a3df09f",
   "metadata": {},
   "outputs": [],
   "source": [
    "x = set ()"
   ]
  },
  {
   "cell_type": "code",
   "execution_count": 38,
   "id": "bd0429f7-dcc9-40cb-87f2-75dca006c048",
   "metadata": {},
   "outputs": [],
   "source": [
    "# we add to the sets with the add () method\n",
    "x.add(1)"
   ]
  },
  {
   "cell_type": "code",
   "execution_count": 40,
   "id": "2f13abca-6b8d-48b9-821b-70fb7348fb09",
   "metadata": {},
   "outputs": [
    {
     "data": {
      "text/plain": [
       "{1}"
      ]
     },
     "execution_count": 40,
     "metadata": {},
     "output_type": "execute_result"
    }
   ],
   "source": [
    "#show\n",
    "x"
   ]
  },
  {
   "cell_type": "code",
   "execution_count": 44,
   "id": "011b1caa-639b-454e-aceb-ac58027d420f",
   "metadata": {},
   "outputs": [],
   "source": [
    "p = set ()"
   ]
  },
  {
   "cell_type": "code",
   "execution_count": 46,
   "id": "fd98fd02-b792-4232-b045-097f7d4dcaba",
   "metadata": {},
   "outputs": [],
   "source": [
    "p.add(7)"
   ]
  },
  {
   "cell_type": "code",
   "execution_count": 48,
   "id": "36d36ac0-4928-4bff-ba63-388d74a36c84",
   "metadata": {},
   "outputs": [
    {
     "data": {
      "text/plain": [
       "{7}"
      ]
     },
     "execution_count": 48,
     "metadata": {},
     "output_type": "execute_result"
    }
   ],
   "source": [
    "p"
   ]
  },
  {
   "cell_type": "code",
   "execution_count": 50,
   "id": "42cba67b-22b9-4455-88e1-69106cb8026d",
   "metadata": {},
   "outputs": [],
   "source": [
    "p.add(9)"
   ]
  },
  {
   "cell_type": "code",
   "execution_count": 52,
   "id": "b3c11309-4da5-49de-b7a3-db5172b84124",
   "metadata": {},
   "outputs": [
    {
     "data": {
      "text/plain": [
       "{7, 9}"
      ]
     },
     "execution_count": 52,
     "metadata": {},
     "output_type": "execute_result"
    }
   ],
   "source": [
    "p"
   ]
  },
  {
   "cell_type": "code",
   "execution_count": 54,
   "id": "b2cfb34c-7a86-43ed-afe8-e7b635b6ffe8",
   "metadata": {},
   "outputs": [],
   "source": [
    "p.add(5)"
   ]
  },
  {
   "cell_type": "code",
   "execution_count": 56,
   "id": "ea95d73f-0c35-49c0-a435-90007e94c05d",
   "metadata": {},
   "outputs": [
    {
     "data": {
      "text/plain": [
       "{5, 7, 9}"
      ]
     },
     "execution_count": 56,
     "metadata": {},
     "output_type": "execute_result"
    }
   ],
   "source": [
    "p"
   ]
  },
  {
   "cell_type": "code",
   "execution_count": 58,
   "id": "c31f71dc-77d7-4a2d-8dbb-650a8521149a",
   "metadata": {},
   "outputs": [],
   "source": [
    "p.add(1)"
   ]
  },
  {
   "cell_type": "code",
   "execution_count": 60,
   "id": "81869e02-5293-4e2a-b187-c849147d231f",
   "metadata": {},
   "outputs": [
    {
     "data": {
      "text/plain": [
       "{1, 5, 7, 9}"
      ]
     },
     "execution_count": 60,
     "metadata": {},
     "output_type": "execute_result"
    }
   ],
   "source": [
    "p"
   ]
  },
  {
   "cell_type": "code",
   "execution_count": 62,
   "id": "d26bf929-c7a4-4d7b-a29c-5d3d94fcb1a2",
   "metadata": {},
   "outputs": [],
   "source": [
    "p.add(34)"
   ]
  },
  {
   "cell_type": "code",
   "execution_count": 64,
   "id": "5ce009f0-e158-42f4-bc9a-992382c326fb",
   "metadata": {},
   "outputs": [
    {
     "data": {
      "text/plain": [
       "{1, 5, 7, 9, 34}"
      ]
     },
     "execution_count": 64,
     "metadata": {},
     "output_type": "execute_result"
    }
   ],
   "source": [
    "p"
   ]
  },
  {
   "cell_type": "code",
   "execution_count": 66,
   "id": "eb5c6849-9255-4d04-b38d-356e05e53f27",
   "metadata": {},
   "outputs": [
    {
     "data": {
      "text/plain": [
       "'C:\\\\Windows\\\\system32'"
      ]
     },
     "execution_count": 66,
     "metadata": {},
     "output_type": "execute_result"
    }
   ],
   "source": [
    "pwd"
   ]
  },
  {
   "cell_type": "code",
   "execution_count": 68,
   "id": "0c73facf-a80b-4360-8af4-e57172d2fdf4",
   "metadata": {},
   "outputs": [
    {
     "data": {
      "text/plain": [
       "1e-17"
      ]
     },
     "execution_count": 68,
     "metadata": {},
     "output_type": "execute_result"
    }
   ],
   "source": [
    "0.00000000000000001"
   ]
  },
  {
   "cell_type": "code",
   "execution_count": 70,
   "id": "d5ac6383-d767-4c77-bdb0-693c2042d622",
   "metadata": {},
   "outputs": [
    {
     "data": {
      "text/plain": [
       "1e-17"
      ]
     },
     "execution_count": 70,
     "metadata": {},
     "output_type": "execute_result"
    }
   ],
   "source": [
    "0.00000000000000001"
   ]
  },
  {
   "cell_type": "code",
   "execution_count": 72,
   "id": "1e22ab81-fc7d-439f-9c51-4f201d691443",
   "metadata": {},
   "outputs": [
    {
     "data": {
      "text/plain": [
       "0.1"
      ]
     },
     "execution_count": 72,
     "metadata": {},
     "output_type": "execute_result"
    }
   ],
   "source": [
    "0.1"
   ]
  },
  {
   "cell_type": "code",
   "execution_count": 74,
   "id": "67e9bf01-9253-45c4-acbd-ac1f27298897",
   "metadata": {},
   "outputs": [
    {
     "data": {
      "text/plain": [
       "1.27e-13"
      ]
     },
     "execution_count": 74,
     "metadata": {},
     "output_type": "execute_result"
    }
   ],
   "source": [
    "0.000000000000127"
   ]
  },
  {
   "cell_type": "code",
   "execution_count": 88,
   "id": "4f692424-b51a-4f99-b53d-2048fcb17a80",
   "metadata": {},
   "outputs": [],
   "source": [
    "cheese = ['cheddar', 'Edam', 'gouda']\n",
    "numbers = 1,2,3\n",
    "games = ['football', 'golf', 'badminton']"
   ]
  },
  {
   "cell_type": "code",
   "execution_count": 90,
   "id": "2ff4a379-5449-467a-9a04-69cca4495cf0",
   "metadata": {},
   "outputs": [
    {
     "name": "stdout",
     "output_type": "stream",
     "text": [
      "['cheddar', 'Edam', 'gouda'] (1, 2, 3) ['football', 'golf', 'badminton']\n"
     ]
    }
   ],
   "source": [
    "print(cheese, numbers, games)"
   ]
  },
  {
   "cell_type": "code",
   "execution_count": 3,
   "id": "61c56fae-e5bd-4f2e-beb0-a7389025d23f",
   "metadata": {},
   "outputs": [
    {
     "name": "stdout",
     "output_type": "stream",
     "text": [
      "john\n",
      "james\n"
     ]
    }
   ],
   "source": [
    "print(\"john\\njames\")"
   ]
  },
  {
   "cell_type": "code",
   "execution_count": 15,
   "id": "03d25659-3fa2-4516-b36a-2e18fd1aabdd",
   "metadata": {},
   "outputs": [
    {
     "name": "stdout",
     "output_type": "stream",
     "text": [
      "programming***essential***in...python\n"
     ]
    }
   ],
   "source": [
    "print(\"programming\", \"essential\", \"in\", sep = \"***\", end = \"...\")\n",
    "print(\"python\")"
   ]
  },
  {
   "cell_type": "code",
   "execution_count": 19,
   "id": "eadacac5-b67b-412f-b8df-72d60c1ee646",
   "metadata": {},
   "outputs": [
    {
     "name": "stdout",
     "output_type": "stream",
     "text": [
      "adam-john\n"
     ]
    }
   ],
   "source": [
    "print(\"adam\", end = \"-\")\n",
    "print(\"john\")"
   ]
  },
  {
   "cell_type": "code",
   "execution_count": 21,
   "id": "5e1f8123-f800-45b2-b6ce-45e4b3798a47",
   "metadata": {},
   "outputs": [
    {
     "name": "stdout",
     "output_type": "stream",
     "text": [
      "2\n"
     ]
    }
   ],
   "source": [
    "print(\"2\")"
   ]
  },
  {
   "cell_type": "code",
   "execution_count": 25,
   "id": "fe4e6bf9-3536-42dc-84fa-a98ac8337ebb",
   "metadata": {},
   "outputs": [
    {
     "name": "stdout",
     "output_type": "stream",
     "text": [
      "2\n"
     ]
    }
   ],
   "source": [
    "print (2)"
   ]
  },
  {
   "cell_type": "code",
   "execution_count": 27,
   "id": "1c5527ce-6914-4568-badc-2bc09cc07437",
   "metadata": {},
   "outputs": [
    {
     "data": {
      "text/plain": [
       "76212"
      ]
     },
     "execution_count": 27,
     "metadata": {},
     "output_type": "execute_result"
    }
   ],
   "source": [
    "0x129b4"
   ]
  },
  {
   "cell_type": "code",
   "execution_count": 29,
   "id": "74af37d1-cf17-4c82-a734-9639e3fef42c",
   "metadata": {},
   "outputs": [
    {
     "data": {
      "text/plain": [
       "27"
      ]
     },
     "execution_count": 29,
     "metadata": {},
     "output_type": "execute_result"
    }
   ],
   "source": [
    "0x1b"
   ]
  },
  {
   "cell_type": "code",
   "execution_count": 31,
   "id": "1756ee3b-bf75-457b-bc32-876e2ca510b8",
   "metadata": {},
   "outputs": [
    {
     "data": {
      "text/plain": [
       "0.8"
      ]
     },
     "execution_count": 31,
     "metadata": {},
     "output_type": "execute_result"
    }
   ],
   "source": [
    ".4*2"
   ]
  },
  {
   "cell_type": "code",
   "execution_count": 33,
   "id": "9ebda032-f76a-4307-8546-07b6d89fd25c",
   "metadata": {},
   "outputs": [
    {
     "data": {
      "text/plain": [
       "300000.0"
      ]
     },
     "execution_count": 33,
     "metadata": {},
     "output_type": "execute_result"
    }
   ],
   "source": [
    "3E5"
   ]
  },
  {
   "cell_type": "code",
   "execution_count": 37,
   "id": "81664917-a3b6-4b0c-be1b-2beb9e37802c",
   "metadata": {},
   "outputs": [
    {
     "data": {
      "text/plain": [
       "0.2"
      ]
     },
     "execution_count": 37,
     "metadata": {},
     "output_type": "execute_result"
    }
   ],
   "source": [
    "2e-1"
   ]
  },
  {
   "cell_type": "code",
   "execution_count": 41,
   "id": "2c3ca2e9-c955-4065-9c26-c32ec31fd5f8",
   "metadata": {},
   "outputs": [
    {
     "data": {
      "text/plain": [
       "200.0"
      ]
     },
     "execution_count": 41,
     "metadata": {},
     "output_type": "execute_result"
    }
   ],
   "source": [
    "2e2"
   ]
  },
  {
   "cell_type": "code",
   "execution_count": 51,
   "id": "48283ffa-0e69-4dc3-b892-0bfc3b009a94",
   "metadata": {},
   "outputs": [],
   "source": [
    "a = 5 \n",
    "b = 2"
   ]
  },
  {
   "cell_type": "code",
   "execution_count": 55,
   "id": "ab2c4184-76c6-48f8-819c-c81655d77aa3",
   "metadata": {},
   "outputs": [
    {
     "data": {
      "text/plain": [
       "25"
      ]
     },
     "execution_count": 55,
     "metadata": {},
     "output_type": "execute_result"
    }
   ],
   "source": [
    "a**b"
   ]
  },
  {
   "cell_type": "code",
   "execution_count": 59,
   "id": "d0d1d824-bf47-4ca1-bd0e-49b217e57fa9",
   "metadata": {},
   "outputs": [
    {
     "data": {
      "text/plain": [
       "4.0"
      ]
     },
     "execution_count": 59,
     "metadata": {},
     "output_type": "execute_result"
    }
   ],
   "source": [
    "8/2"
   ]
  },
  {
   "cell_type": "code",
   "execution_count": 61,
   "id": "5ffaed8b-2f2b-4b84-b81c-248abb754f28",
   "metadata": {},
   "outputs": [],
   "source": [
    "a = \"5\"\n",
    "b = 6"
   ]
  },
  {
   "cell_type": "code",
   "execution_count": 67,
   "id": "19aea621-4774-45a1-adb1-ddb3030c21ea",
   "metadata": {},
   "outputs": [
    {
     "name": "stdout",
     "output_type": "stream",
     "text": [
      "11\n"
     ]
    }
   ],
   "source": [
    "print(int(a)+b)"
   ]
  },
  {
   "cell_type": "code",
   "execution_count": 73,
   "id": "130fd075-cf87-40db-b3f1-f1e13b24f9b4",
   "metadata": {},
   "outputs": [
    {
     "name": "stdout",
     "output_type": "stream",
     "text": [
      "johnjohn\n"
     ]
    }
   ],
   "source": [
    "print(\"john\"*2)"
   ]
  },
  {
   "cell_type": "code",
   "execution_count": 75,
   "id": "0f4c6f72-d209-4928-bcfe-d19bd6d500c5",
   "metadata": {},
   "outputs": [
    {
     "data": {
      "text/plain": [
       "1"
      ]
     },
     "execution_count": 75,
     "metadata": {},
     "output_type": "execute_result"
    }
   ],
   "source": [
    "6//4"
   ]
  },
  {
   "cell_type": "code",
   "execution_count": 77,
   "id": "b91cf122-1b5a-431f-bb74-a3d76b0e9b76",
   "metadata": {},
   "outputs": [
    {
     "data": {
      "text/plain": [
       "-2"
      ]
     },
     "execution_count": 77,
     "metadata": {},
     "output_type": "execute_result"
    }
   ],
   "source": [
    "-6//4"
   ]
  },
  {
   "cell_type": "code",
   "execution_count": 79,
   "id": "e28643bd-5787-4262-bc7f-49b8d3931e60",
   "metadata": {},
   "outputs": [
    {
     "data": {
      "text/plain": [
       "1.5"
      ]
     },
     "execution_count": 79,
     "metadata": {},
     "output_type": "execute_result"
    }
   ],
   "source": [
    "6/4"
   ]
  },
  {
   "cell_type": "code",
   "execution_count": 83,
   "id": "55c13207-b4f9-4bba-bc01-b85f9e8d8450",
   "metadata": {},
   "outputs": [
    {
     "data": {
      "text/plain": [
       "-15"
      ]
     },
     "execution_count": 83,
     "metadata": {},
     "output_type": "execute_result"
    }
   ],
   "source": [
    "-7 - 8"
   ]
  },
  {
   "cell_type": "code",
   "execution_count": 85,
   "id": "837c2ea5-accc-4ac5-8b56-d8972de8a7c9",
   "metadata": {},
   "outputs": [
    {
     "data": {
      "text/plain": [
       "14.0"
      ]
     },
     "execution_count": 85,
     "metadata": {},
     "output_type": "execute_result"
    }
   ],
   "source": [
    "7*4/2"
   ]
  },
  {
   "cell_type": "code",
   "execution_count": 87,
   "id": "90703faa-398a-4f55-b653-f891fa2c5855",
   "metadata": {},
   "outputs": [
    {
     "data": {
      "text/plain": [
       "43046721"
      ]
     },
     "execution_count": 87,
     "metadata": {},
     "output_type": "execute_result"
    }
   ],
   "source": [
    "3**2**4"
   ]
  },
  {
   "cell_type": "code",
   "execution_count": 89,
   "id": "c3c6432e-b755-4ba9-be44-b74b0c7998b9",
   "metadata": {},
   "outputs": [
    {
     "data": {
      "text/plain": [
       "43046721"
      ]
     },
     "execution_count": 89,
     "metadata": {},
     "output_type": "execute_result"
    }
   ],
   "source": [
    "3**16"
   ]
  },
  {
   "cell_type": "code",
   "execution_count": 3,
   "id": "7c02d73d-4484-4b95-adb4-d7e1dd9c4bba",
   "metadata": {},
   "outputs": [
    {
     "name": "stdout",
     "output_type": "stream",
     "text": [
      "johnjohn\n"
     ]
    }
   ],
   "source": [
    "print(2 * 'john')"
   ]
  },
  {
   "cell_type": "code",
   "execution_count": 15,
   "id": "f64eb6e4-601b-480b-8f9f-de3b7863cf67",
   "metadata": {},
   "outputs": [
    {
     "name": "stdin",
     "output_type": "stream",
     "text": [
      "may i have your first name:  sam\n",
      "may i have your last name:  larry\n"
     ]
    },
    {
     "name": "stdout",
     "output_type": "stream",
     "text": [
      "Your name is sam larry.\n"
     ]
    }
   ],
   "source": [
    "name1 = input(\"may i have your first name: \")\n",
    "name2 = input(\"may i have your last name: \")\n",
    "\n",
    "print( \"Your name is\" + \" \"+ name1 + \" \" + name2 + \".\")"
   ]
  },
  {
   "cell_type": "code",
   "execution_count": 25,
   "id": "cbe1e428-a39e-4326-a220-ab0454a085c1",
   "metadata": {},
   "outputs": [
    {
     "name": "stdin",
     "output_type": "stream",
     "text": [
      " 2\n"
     ]
    },
    {
     "data": {
      "text/plain": [
       "2"
      ]
     },
     "execution_count": 25,
     "metadata": {},
     "output_type": "execute_result"
    }
   ],
   "source": [
    "int(input())"
   ]
  },
  {
   "cell_type": "code",
   "execution_count": 23,
   "id": "0fe2e930-8b07-4e1f-8183-0d1cc90646fe",
   "metadata": {},
   "outputs": [
    {
     "ename": "SyntaxError",
     "evalue": "incomplete input (613308972.py, line 3)",
     "output_type": "error",
     "traceback": [
      "\u001b[1;36m  Cell \u001b[1;32mIn[23], line 3\u001b[1;36m\u001b[0m\n\u001b[1;33m    print(\"Hypotenuse length is \" + str((leg_a**2 + leg_b**2) ** .5)\u001b[0m\n\u001b[1;37m                                                                    ^\u001b[0m\n\u001b[1;31mSyntaxError\u001b[0m\u001b[1;31m:\u001b[0m incomplete input\n"
     ]
    }
   ],
   "source": [
    "leg_a = float(input(\"Input first leg length: \"))\n",
    "leg_b = float(input(\"Input second leg length: \"))\n",
    "print(\"Hypotenuse length is \" + str((leg_a**2 + leg_b**2) ** .5)"
   ]
  },
  {
   "cell_type": "code",
   "execution_count": 11,
   "id": "e5a812b4-f804-42eb-9811-a30767a5983a",
   "metadata": {},
   "outputs": [
    {
     "name": "stdout",
     "output_type": "stream",
     "text": [
      "6\n"
     ]
    }
   ],
   "source": [
    "a = 4\n",
    "b = 2\n",
    "print(a+b)"
   ]
  },
  {
   "cell_type": "code",
   "execution_count": 13,
   "id": "ff22f973-898a-44f4-99c5-d6aae808de3a",
   "metadata": {},
   "outputs": [
    {
     "data": {
      "text/plain": [
       "int"
      ]
     },
     "execution_count": 13,
     "metadata": {},
     "output_type": "execute_result"
    }
   ],
   "source": [
    "type(a)"
   ]
  },
  {
   "cell_type": "code",
   "execution_count": 21,
   "id": "5e407276-270d-4aee-b3f0-78c6cd69c936",
   "metadata": {},
   "outputs": [
    {
     "data": {
      "text/plain": [
       "True"
      ]
     },
     "execution_count": 21,
     "metadata": {},
     "output_type": "execute_result"
    }
   ],
   "source": [
    "type(a) is int"
   ]
  },
  {
   "cell_type": "code",
   "execution_count": 23,
   "id": "1d6f0924-8639-41ce-98cc-2f50954c5547",
   "metadata": {},
   "outputs": [
    {
     "ename": "SyntaxError",
     "evalue": "unterminated string literal (detected at line 1) (1520555421.py, line 1)",
     "output_type": "error",
     "traceback": [
      "\u001b[1;36m  Cell \u001b[1;32mIn[23], line 1\u001b[1;36m\u001b[0m\n\u001b[1;33m    print(\"Hello, World!)\u001b[0m\n\u001b[1;37m          ^\u001b[0m\n\u001b[1;31mSyntaxError\u001b[0m\u001b[1;31m:\u001b[0m unterminated string literal (detected at line 1)\n"
     ]
    }
   ],
   "source": [
    "print(\"Hello, World!)"
   ]
  },
  {
   "cell_type": "code",
   "execution_count": 25,
   "id": "f5c02a8d-328b-48b7-8034-a4d77d949ec5",
   "metadata": {},
   "outputs": [
    {
     "ename": "ZeroDivisionError",
     "evalue": "division by zero",
     "output_type": "error",
     "traceback": [
      "\u001b[1;31m---------------------------------------------------------------------------\u001b[0m",
      "\u001b[1;31mZeroDivisionError\u001b[0m                         Traceback (most recent call last)",
      "Cell \u001b[1;32mIn[25], line 1\u001b[0m\n\u001b[1;32m----> 1\u001b[0m \u001b[38;5;28mprint\u001b[39m(\u001b[38;5;241m1\u001b[39m\u001b[38;5;241m/\u001b[39m\u001b[38;5;241m0\u001b[39m)\n",
      "\u001b[1;31mZeroDivisionError\u001b[0m: division by zero"
     ]
    }
   ],
   "source": [
    "print(1/0)"
   ]
  },
  {
   "cell_type": "code",
   "execution_count": 1,
   "id": "33c8203d-fb64-4635-bc92-73fcda5a93d3",
   "metadata": {},
   "outputs": [
    {
     "name": "stdin",
     "output_type": "stream",
     "text": [
      "Enter an integer number:  4\n"
     ]
    },
    {
     "name": "stdout",
     "output_type": "stream",
     "text": [
      "2.0\n"
     ]
    }
   ],
   "source": [
    "while True:\n",
    "    try:\n",
    "        number = int(input(\"Enter an integer number: \"))\n",
    "        print(number/2)\n",
    "        break\n",
    "    except:\n",
    "        print(\"Warning: the value entered is not a valid number. Try again...\")"
   ]
  },
  {
   "cell_type": "code",
   "execution_count": 5,
   "id": "25b23b0c-7cf6-4102-93dd-46dfe1ec90d9",
   "metadata": {},
   "outputs": [
    {
     "name": "stdin",
     "output_type": "stream",
     "text": [
      "Enter an int number:  5\n"
     ]
    },
    {
     "name": "stdout",
     "output_type": "stream",
     "text": [
      "1.0\n"
     ]
    }
   ],
   "source": [
    "while True:\n",
    "    try:\n",
    "        number = int(input(\"Enter an int number: \"))\n",
    "        print(5/number)\n",
    "        break\n",
    "    except ValueError:\n",
    "        print(\"Wrong value.\")\n",
    "    except ZeroDivisionError:\n",
    "        print(\"Sorry. I cannot divide by zero.\")\n",
    "    except:\n",
    "        print(\"I don't know what to do...\")"
   ]
  },
  {
   "cell_type": "code",
   "execution_count": 1,
   "id": "c51f6eb6-6921-42c6-a8d4-c5385d9a91ad",
   "metadata": {},
   "outputs": [
    {
     "name": "stdin",
     "output_type": "stream",
     "text": [
      "Enter an int number:  6\n"
     ]
    },
    {
     "name": "stdout",
     "output_type": "stream",
     "text": [
      "0.8333333333333334\n"
     ]
    }
   ],
   "source": [
    "while True:\n",
    "    try:\n",
    "        number = int(input(\"Enter an int number: \"))\n",
    "        print(5/number)\n",
    "        break\n",
    "    except (ValueError, ZeroDivisionError):\n",
    "        print(\"Wrong value or No division by zero rule broken.\")\n",
    "    except:\n",
    "        print(\"Sorry, something went wrong...\")"
   ]
  },
  {
   "cell_type": "code",
   "execution_count": 31,
   "id": "1d500daf-cc89-4bf2-b06a-1898cfd4af4d",
   "metadata": {},
   "outputs": [
    {
     "name": "stdin",
     "output_type": "stream",
     "text": [
      "Enter a value:  u\n"
     ]
    },
    {
     "name": "stdout",
     "output_type": "stream",
     "text": [
      "Bad input...\n"
     ]
    },
    {
     "name": "stdin",
     "output_type": "stream",
     "text": [
      "Enter a value:  0\n"
     ]
    },
    {
     "name": "stdout",
     "output_type": "stream",
     "text": [
      "Very bad input...\n"
     ]
    },
    {
     "name": "stdin",
     "output_type": "stream",
     "text": [
      "Enter a value:  7\n"
     ]
    },
    {
     "name": "stdout",
     "output_type": "stream",
     "text": [
      "1.0\n"
     ]
    }
   ],
   "source": [
    "while True:\n",
    "    try:\n",
    "        value = int(input(\"Enter a value: \"))\n",
    "        print(value/value)\n",
    "        break\n",
    "    except ValueError:\n",
    "        print(\"Bad input...\")\n",
    "    except ZeroDivisionError:\n",
    "        print(\"Very bad input...\")\n",
    "    except:\n",
    "        print(\"Booo!\")"
   ]
  },
  {
   "cell_type": "code",
   "execution_count": null,
   "id": "1e4cdd75-3d15-474e-aab3-4b91c8b0380b",
   "metadata": {},
   "outputs": [],
   "source": []
  }
 ],
 "metadata": {
  "kernelspec": {
   "display_name": "Python 3 (ipykernel)",
   "language": "python",
   "name": "python3"
  },
  "language_info": {
   "codemirror_mode": {
    "name": "ipython",
    "version": 3
   },
   "file_extension": ".py",
   "mimetype": "text/x-python",
   "name": "python",
   "nbconvert_exporter": "python",
   "pygments_lexer": "ipython3",
   "version": "3.12.4"
  }
 },
 "nbformat": 4,
 "nbformat_minor": 5
}
