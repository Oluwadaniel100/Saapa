{
 "cells": [
  {
   "cell_type": "code",
   "execution_count": 5,
   "id": "fb77acfc-cc3a-4b56-935f-48dff43e81bd",
   "metadata": {},
   "outputs": [
    {
     "name": "stdin",
     "output_type": "stream",
     "text": [
      " beans\n"
     ]
    },
    {
     "name": "stdout",
     "output_type": "stream",
     "text": [
      "my favourite food is beans\n"
     ]
    }
   ],
   "source": [
    "stuff = input()\n",
    "\n",
    "if stuff == 'beans':\n",
    "    print('my favourite food is beans')\n",
    "elif stuff == 'rice':\n",
    "     print('my favourite food is rice')\n",
    "else:\n",
    "    print('okay, so your favourite food is', stuff)\n",
    "\n"
   ]
  },
  {
   "cell_type": "code",
   "execution_count": 17,
   "id": "c129e4cf-e2ff-4b8b-a16a-af21a46cb5bb",
   "metadata": {},
   "outputs": [
    {
     "name": "stdout",
     "output_type": "stream",
     "text": [
      "welcome to the Autoshop!\n"
     ]
    }
   ],
   "source": [
    "loc = 'Bank'\n",
    "\n",
    "if loc != 'Autoshop':\n",
    "    print('welcome to the Autoshop!')\n",
    "elif loc != 'Bank':\n",
    "    print('welcome to the bank!')\n",
    "else:\n",
    "    print('where are you')"
   ]
  },
  {
   "cell_type": "code",
   "execution_count": null,
   "id": "f2c1820c-e7e3-461b-85b2-39e4cbb42f16",
   "metadata": {},
   "outputs": [],
   "source": [
    "person = 'james'\n",
    "if person == 'sammy':\n",
    "    print('welcome sammy!')\n",
    "else:\n",
    "    print(\"welcome, what's your name?\")\n",
    "    print(\"how can we help you\")"
   ]
  },
  {
   "cell_type": "code",
   "execution_count": null,
   "id": "e62ff124-effb-4b94-8d0a-f23bf92fbfb4",
   "metadata": {},
   "outputs": [],
   "source": [
    "num = 18\n",
    "\n",
    "if num % 3 == 0:\n",
    "    print(f\"{num} is a multiple of 3.\")\n",
    "else:\n",
    "    print(f\"{num} is not a multiple of 3.\")"
   ]
  },
  {
   "cell_type": "code",
   "execution_count": null,
   "id": "34d4586d-f0b8-4f0c-92e4-1e0b98032a1e",
   "metadata": {},
   "outputs": [],
   "source": [
    "num = -3\n",
    "if num < 0:\n",
    "    print(\"negative number\")\n",
    "elif num > 0:\n",
    "    print(\" positive number\")\n",
    "else: \n",
    "    print(\"zero\")"
   ]
  },
  {
   "cell_type": "code",
   "execution_count": null,
   "id": "f0930fab-5b79-4d78-bc3f-14dc14604b13",
   "metadata": {},
   "outputs": [],
   "source": [
    "let = \"p\"\n",
    "if let in ['a','e', 'i', 'o', 'u']:\n",
    "    print(\"it a vowel leter\")\n",
    "else:\n",
    "    print(\"it ia a consonant letter\")"
   ]
  },
  {
   "cell_type": "code",
   "execution_count": null,
   "id": "05d3bf1f-4f86-4169-b90e-09f9a20e1d4c",
   "metadata": {},
   "outputs": [],
   "source": [
    "day = 'saturday'\n",
    "if day in ['monday', 'tuesday', 'wednesday', 'thursday', 'friday']:\n",
    "    print(\"it is a weekday\")\n",
    "else:\n",
    "    print(\"it is a weekend\")"
   ]
  },
  {
   "cell_type": "code",
   "execution_count": null,
   "id": "349ae075-8b30-4f9c-96ab-77ddea8b92e0",
   "metadata": {},
   "outputs": [],
   "source": [
    "hour = 18\n",
    "if 0 <= hour <12:\n",
    "    print(\"Good morning\")\n",
    "elif 12 <= hour < 18 :\n",
    "    print(\"Good afternoon\")\n",
    "elif 18 <= hour < 24:\n",
    "    print(\"Good evening\")\n",
    "else:\n",
    "    print(\"Hello!\")"
   ]
  },
  {
   "cell_type": "code",
   "execution_count": null,
   "id": "8bfa1f8d-e563-4298-a363-6eb3690e6bfb",
   "metadata": {},
   "outputs": [],
   "source": [
    "num1 = int(input(\"enter the first number\"))\n",
    "num2 = int(input(\"enter the second number\"))\n",
    "num3 = int(input(\"enter the third number\"))\n",
    "\n",
    "if num1 < num2 and num1 < num3:\n",
    "    print(f\"{num1} is the smallest number.\")\n",
    "elif num2 < num1 and num2 < num3:\n",
    "    print(f\"{num2} is the smallest number.\")\n",
    "else:\n",
    "    print(f\"{num3} is the smallest number.\")"
   ]
  },
  {
   "cell_type": "code",
   "execution_count": 1,
   "id": "c3903697-e8fe-4783-aad9-9df7de9965f8",
   "metadata": {},
   "outputs": [
    {
     "name": "stdout",
     "output_type": "stream",
     "text": [
      "2023 is not a leap year but an ordinary year.\n"
     ]
    }
   ],
   "source": [
    "year = 2023\n",
    "if (year % 4 == 0 and year % 100 != 0) or (year % 400 == 0):\n",
    "    print(f\"{year} is a leap year.\")\n",
    "else:\n",
    "    print(f\"{year} is not a leap year but an ordinary year.\")"
   ]
  },
  {
   "cell_type": "code",
   "execution_count": null,
   "id": "b79ac2a0-c2b0-4578-9d7a-c79a98dc19e8",
   "metadata": {},
   "outputs": [],
   "source": [
    "day_num = 5\n",
    "if day_num == 1:\n",
    "    print(\"monday\")\n",
    "elif day_num == 2:\n",
    "    print(\"tuesday\")\n",
    "elif day_num == 3:\n",
    "    print(\"wednesday\")\n",
    "elif day_num == 4:\n",
    "    print(\"thursday\")\n",
    "elif day_num == 5:\n",
    "    print(\"friday\")\n",
    "elif day_num == 6:\n",
    "    print(\"saturday\")\n",
    "elif day_num == 7:\n",
    "    print(\"sunday\")\n",
    "else:\n",
    "    print(\"invalid number\")"
   ]
  },
  {
   "cell_type": "code",
   "execution_count": 41,
   "id": "03228828-b5de-454c-a0ca-dd960ea15b0d",
   "metadata": {},
   "outputs": [
    {
     "name": "stdout",
     "output_type": "stream",
     "text": [
      "welcome to the leap year checker\n"
     ]
    },
    {
     "name": "stdin",
     "output_type": "stream",
     "text": [
      "Enter the year you want to check: 1582\n"
     ]
    },
    {
     "name": "stdout",
     "output_type": "stream",
     "text": [
      "not a leap year\n"
     ]
    }
   ],
   "source": [
    "print(\"welcome to the leap year checker\")\n",
    "year = int(input(\"Enter the year you want to check:\"))\n",
    "if (year % 4 == 0 and year % 100 != 0) or (year % 400 == 0):\n",
    "    print(f\"{year} is a leap year.\")\n",
    "else:\n",
    "    print(\"not a leap year\")\n"
   ]
  },
  {
   "cell_type": "code",
   "execution_count": 11,
   "id": "a8db3261-8f06-4ba6-bd2c-d97da97689bf",
   "metadata": {},
   "outputs": [
    {
     "name": "stdin",
     "output_type": "stream",
     "text": [
      " 87\n"
     ]
    },
    {
     "name": "stdout",
     "output_type": "stream",
     "text": [
      "not eligible for the ticket\n"
     ]
    }
   ],
   "source": [
    "age = int(input())\n",
    "if age < 5:\n",
    "    print(\"ticket is free\")\n",
    "elif 5 <= age <= 12:\n",
    "    print(\"ticket price is #10\")\n",
    "elif 12 < age <= 59:\n",
    "    print(\"ticket price is #15\")\n",
    "elif age >= 60:\n",
    "    print(\"not eligible for the ticket\")\n",
    "else:\n",
    "    print(\"ticket price is #12 for senior citizens\")"
   ]
  },
  {
   "cell_type": "code",
   "execution_count": null,
   "id": "6a461a3e-fed5-4e75-8f9a-1fed65d8fdf0",
   "metadata": {},
   "outputs": [],
   "source": [
    "students = ['Alice', 'Charles', 'Bob', 'Daniel']\n",
    "name_check = 'Daniel'\n",
    "if name_check in students:\n",
    "    print(f\"{name_check} is a student of the school\")\n",
    "else:\n",
    "    print(f\"{name_check} is not a student of the school\")\n",
    "    "
   ]
  },
  {
   "cell_type": "code",
   "execution_count": null,
   "id": "59062b46-6672-46c9-b644-be41cd2dd361",
   "metadata": {},
   "outputs": [],
   "source": [
    "# Nested if to determine Age group and activity\n",
    "age = 14\n",
    "day = \"Wednesday\"\n",
    "if day in [\"monday\", \"Tuesday\", \"Wednesday\", \"Thursday\", \"Friday\"]:\n",
    "    if age < 13:\n",
    "        print(\"school\")\n",
    "    elif 13 <= age <= 19:\n",
    "        print(\"college\")\n",
    "    else:\n",
    "        print(\"work\")\n",
    "else:\n",
    "    print(\"holiday\")\n"
   ]
  },
  {
   "cell_type": "code",
   "execution_count": null,
   "id": "91ee4378-49d5-46dc-b85b-9aa7b3187755",
   "metadata": {},
   "outputs": [],
   "source": [
    "# Nested elif for assigning grades\n",
    "\n",
    "mark = 75\n",
    "if mark >= 90:\n",
    "    print('Grade A')\n",
    "elif 90 >= mark >= 70:\n",
    "    print('Grade B')\n",
    "else \n"
   ]
  },
  {
   "cell_type": "code",
   "execution_count": null,
   "id": "379b65fa-ff84-4cdb-9698-e33aaae9dd26",
   "metadata": {},
   "outputs": [],
   "source": [
    "var = 0\n",
    "print(var == 0)"
   ]
  },
  {
   "cell_type": "code",
   "execution_count": null,
   "id": "f75d7fed-a052-4f30-8f1e-460ef4d464b0",
   "metadata": {},
   "outputs": [],
   "source": [
    "2 > 4"
   ]
  },
  {
   "cell_type": "code",
   "execution_count": null,
   "id": "1edc4547-00fa-4e47-8a4d-a683b6ace5fa",
   "metadata": {},
   "outputs": [],
   "source": [
    "n = 55\n",
    "n > 100"
   ]
  },
  {
   "cell_type": "code",
   "execution_count": null,
   "id": "a26751c3-2260-46b4-bdcc-9dc96217c1c7",
   "metadata": {},
   "outputs": [],
   "source": [
    "n = int(input())\n",
    "n >= 100"
   ]
  },
  {
   "cell_type": "code",
   "execution_count": 17,
   "id": "e42512df-d8d7-4db8-9a9b-86a8d2408539",
   "metadata": {},
   "outputs": [
    {
     "name": "stdin",
     "output_type": "stream",
     "text": [
      "Enter the first number:  1\n",
      "Enter the second number:  2\n",
      "Enter the third number:  3\n"
     ]
    },
    {
     "name": "stdout",
     "output_type": "stream",
     "text": [
      "The larger number is: 3\n"
     ]
    }
   ],
   "source": [
    "number1 = int(input(\"Enter the first number: \"))\n",
    "number2 = int(input(\"Enter the second number: \"))\n",
    "number3 = int(input(\"Enter the third number: \"))\n",
    "\n",
    "if number1 > number2 and number1 > number3:\n",
    "    print(\"The larger number is:\", number1)\n",
    "elif number2 > number1 and number2 > number3:\n",
    "    print(\"The larger number is:\", number2)\n",
    "    \n",
    "else:\n",
    "    print(\"The larger number is:\", number3)"
   ]
  },
  {
   "cell_type": "code",
   "execution_count": null,
   "id": "0bc33e5b-fcb6-4577-ab5f-b7ff73e33933",
   "metadata": {},
   "outputs": [],
   "source": [
    "# Read three numbers.\n",
    "number1 = int(input(\"Enter the first number: \"))\n",
    "number2 = int(input(\"Enter the second number: \"))\n",
    "number3 = int(input(\"Enter the third number: \"))\n",
    "\n",
    "largest_number = max(number1, number2, number3)\n",
    "\n",
    "print(\"The largest number is:\", largest_number)"
   ]
  },
  {
   "cell_type": "code",
   "execution_count": 15,
   "id": "1349c21b-a7b1-4cdb-89bd-cdfc0dd4e288",
   "metadata": {},
   "outputs": [
    {
     "name": "stdin",
     "output_type": "stream",
     "text": [
      "Enter the first number:  2\n",
      "Enter the second number:  4\n",
      "Enter the third number:  6\n"
     ]
    },
    {
     "name": "stdout",
     "output_type": "stream",
     "text": [
      "The smallest number is  2\n"
     ]
    }
   ],
   "source": [
    "num1 = int(input(\"Enter the first number: \"))\n",
    "num2 = int(input(\"Enter the second number: \"))\n",
    "num3 = int(input(\"Enter the third number: \"))\n",
    "smallest_number = min(num1, num2, num3)\n",
    "print(\"The smallest number is \", smallest_number)"
   ]
  },
  {
   "cell_type": "code",
   "execution_count": 11,
   "id": "ddfecafd-f366-466d-8044-7544934c43b8",
   "metadata": {},
   "outputs": [
    {
     "name": "stdin",
     "output_type": "stream",
     "text": [
      " waterlily\n"
     ]
    },
    {
     "name": "stdout",
     "output_type": "stream",
     "text": [
      "spathiphyllum! Not waterlily\n"
     ]
    }
   ],
   "source": [
    "stuff = input()\n",
    "if stuff == 'SPATHIPHYLLUM':\n",
    "    print(\"Yes - spathiphyllum is the best plant ever!\")\n",
    "elif stuff == 'spathiphyllum':\n",
    "    print(\"No, I want a big spathiphyllum!\")\n",
    "    input()\n",
    "    print(\"Yes - spathiphyllum is the best plant ever!\")\n",
    "else:\n",
    "    print(\"spathiphyllum! Not\", stuff)\n"
   ]
  },
  {
   "cell_type": "code",
   "execution_count": 1,
   "id": "90bf1ca1-f296-484f-b7e0-0bfdcf2fd443",
   "metadata": {},
   "outputs": [
    {
     "name": "stdout",
     "output_type": "stream",
     "text": [
      "[1, 2, 3, 4, 5, 6, 7, 8]\n"
     ]
    }
   ],
   "source": [
    "list1 = [1, 2, 3, 4, 5, 6, 7, 8]\n",
    "print(list1)"
   ]
  },
  {
   "cell_type": "code",
   "execution_count": 19,
   "id": "0ba5201e-abac-4433-81a7-0ca55cd753b9",
   "metadata": {},
   "outputs": [
    {
     "name": "stdin",
     "output_type": "stream",
     "text": [
      "Enter the first number:  2\n",
      "Enter the second number:  3\n",
      "Enter the third number:  5\n"
     ]
    },
    {
     "name": "stdout",
     "output_type": "stream",
     "text": [
      "The largest number is: 5\n"
     ]
    }
   ],
   "source": [
    "number1 = int(input(\"Enter the first number: \"))\n",
    "number2 = int(input(\"Enter the second number: \"))\n",
    "number3 = int(input(\"Enter the third number: \"))\n",
    "\n",
    "largest_number = number1\n",
    "\n",
    "\n",
    "if number2 > largest_number:\n",
    "    largest_number = number2\n",
    "\n",
    "if number3 > largest_number:\n",
    "    largest_number = number3\n",
    "\n",
    "print(\"The largest number is:\", largest_number)"
   ]
  },
  {
   "cell_type": "code",
   "execution_count": 1,
   "id": "ed9b2d7b-95ab-4188-9c6b-4a23df4d6cba",
   "metadata": {},
   "outputs": [
    {
     "name": "stdin",
     "output_type": "stream",
     "text": [
      " 78\n"
     ]
    }
   ],
   "source": [
    "largest_number = -999999999\n",
    "number = int(input())\n",
    "if number == -1:\n",
    "    print(largest_number)\n",
    "    exit()\n",
    "if number > largest_number:\n",
    "    largest_number = number"
   ]
  },
  {
   "cell_type": "code",
   "execution_count": 13,
   "id": "bf329a58-7eb0-4997-a430-5a31bfbf0e87",
   "metadata": {},
   "outputs": [
    {
     "data": {
      "text/plain": [
       "0.0273972602739726"
      ]
     },
     "execution_count": 13,
     "metadata": {},
     "output_type": "execute_result"
    }
   ],
   "source": [
    "2/73"
   ]
  },
  {
   "cell_type": "code",
   "execution_count": null,
   "id": "097965b1-74c8-4a00-836f-17bbd8491cf5",
   "metadata": {},
   "outputs": [],
   "source": [
    "\n",
    "               "
   ]
  },
  {
   "cell_type": "code",
   "execution_count": 39,
   "id": "42cd6afc-bde7-43e6-9435-480ae1ab1a12",
   "metadata": {},
   "outputs": [
    {
     "name": "stdin",
     "output_type": "stream",
     "text": [
      "Enter the annual income:  -100\n"
     ]
    },
    {
     "name": "stdout",
     "output_type": "stream",
     "text": [
      "The tax is: -574.0 thalers\n"
     ]
    }
   ],
   "source": [
    "income = float(input(\"Enter the annual income: \"))\n",
    "tax = 0        \n",
    "if income < 85528:\n",
    "    tax = ((18/100) * income) - 556.2\n",
    "else:\n",
    "    tax = 14839.2 + ((32/100) * (income - 85528))\n",
    "\n",
    "tax = round(tax, 0)\n",
    "print(\"The tax is:\", tax, \"thalers\")"
   ]
  },
  {
   "cell_type": "code",
   "execution_count": null,
   "id": "50030218-44a0-4fe8-9fb2-542e076286a6",
   "metadata": {},
   "outputs": [],
   "source": [
    "year = int(input(\"Enter a year:\"))\n",
    "if year % 4 != 0:\n",
    "    \n",
    "    and year % 100 != 0) or (year % 400 == 0):\n",
    "         print(\"Leap year\")\n",
    "else:\n",
    "    print(\"common year\")"
   ]
  },
  {
   "cell_type": "code",
   "execution_count": 133,
   "id": "59a44a6f-0ef9-4cce-9bdf-a9525885fbb2",
   "metadata": {},
   "outputs": [
    {
     "name": "stdin",
     "output_type": "stream",
     "text": [
      "Enter a year: 2024\n"
     ]
    }
   ],
   "source": [
    "year = int(input(\"Enter a year:\"))\n",
    "if year % 4 == \n",
    "if year % 100 != o\n",
    "    print(\"common year\")"
   ]
  },
  {
   "cell_type": "code",
   "execution_count": 135,
   "id": "2e015e92-d936-44e0-ab40-d01762f5cfd8",
   "metadata": {},
   "outputs": [
    {
     "name": "stdin",
     "output_type": "stream",
     "text": [
      "Enter the first number:  2\n",
      "Enter the second number:  4\n",
      "Enter the third number:  6\n"
     ]
    },
    {
     "name": "stdout",
     "output_type": "stream",
     "text": [
      "The largest number is 6\n"
     ]
    }
   ],
   "source": [
    "number1 = int(input(\"Enter the first number: \"))\n",
    "number2 = int(input(\"Enter the second number: \"))\n",
    "number3 = int(input(\"Enter the third number: \"))\n",
    "\n",
    "largest_number = number1\n",
    "if number2 > largest_number:\n",
    "    largest_number = number2\n",
    "if number3 > largest_number:\n",
    "    largest_number = number3\n",
    "    print('The largest number is', largest_number)"
   ]
  },
  {
   "cell_type": "code",
   "execution_count": 3,
   "id": "94e95e7f-ce93-44e6-a208-9fcfd57ac596",
   "metadata": {},
   "outputs": [
    {
     "name": "stdin",
     "output_type": "stream",
     "text": [
      "Enter a year: 1540\n"
     ]
    },
    {
     "name": "stdout",
     "output_type": "stream",
     "text": [
      "Not within the Gregorian calendar period\n"
     ]
    }
   ],
   "source": [
    "year = int(input(\"Enter a year:\"))\n",
    "if year > 1582:\n",
    "    if year % 4 == 0:\n",
    "        print('leap year')\n",
    "    elif year % 400 == 0:\n",
    "        print('leap year')\n",
    "    elif year % 100 == 0:\n",
    "        print('common year')\n",
    "    elif year % 4 != 0:\n",
    "        print('common year')\n",
    "else:\n",
    "    print('Not within the Gregorian calendar period')\n",
    "    "
   ]
  },
  {
   "cell_type": "code",
   "execution_count": null,
   "id": "2d5ac748-2286-4987-b7c1-a955e11cc8a0",
   "metadata": {},
   "outputs": [],
   "source": []
  },
  {
   "cell_type": "code",
   "execution_count": null,
   "id": "67a91632-3635-4468-babf-8b766d1db8aa",
   "metadata": {},
   "outputs": [],
   "source": []
  }
 ],
 "metadata": {
  "kernelspec": {
   "display_name": "Python 3 (ipykernel)",
   "language": "python",
   "name": "python3"
  },
  "language_info": {
   "codemirror_mode": {
    "name": "ipython",
    "version": 3
   },
   "file_extension": ".py",
   "mimetype": "text/x-python",
   "name": "python",
   "nbconvert_exporter": "python",
   "pygments_lexer": "ipython3",
   "version": "3.12.4"
  }
 },
 "nbformat": 4,
 "nbformat_minor": 5
}
